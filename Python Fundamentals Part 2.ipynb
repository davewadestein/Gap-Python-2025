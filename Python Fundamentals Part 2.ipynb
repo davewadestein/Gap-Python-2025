{
  "cells": [
    {
      "cell_type": "markdown",
      "metadata": {
        "id": "P-7WM9sPljs0"
      },
      "source": [
        "## \"Pythonic\" ... redux"
      ]
    },
    {
      "cell_type": "code",
      "execution_count": null,
      "metadata": {
        "id": "yYsaNBAMljs0"
      },
      "outputs": [],
      "source": [
        "cars = ['Tesla', 'Rivian', 'Lucid', 'Polestar', 'Aptera']"
      ]
    },
    {
      "cell_type": "code",
      "execution_count": null,
      "metadata": {
        "tags": [],
        "id": "0CLdHbOiljs1"
      },
      "outputs": [],
      "source": [
        "index = 0\n",
        "for car in cars: # for thing in container\n",
        "    print('index', index, 'is', car)\n",
        "    index += 1"
      ]
    },
    {
      "cell_type": "markdown",
      "metadata": {
        "id": "-91Qg6jGljs1"
      },
      "source": [
        "## __`enumerate()`__\n",
        "* a builtin function which associates an index with each item in an container\n",
        "* returns a special object that \"gives up\" the index and item at that index...\n",
        "    * ...each time we \"knock on its door\""
      ]
    },
    {
      "cell_type": "code",
      "execution_count": null,
      "metadata": {
        "tags": [],
        "id": "dkmFeYhVljs1"
      },
      "outputs": [],
      "source": [
        "for index, car in enumerate(cars):\n",
        "    print('car maker', index, 'is', car)"
      ]
    },
    {
      "cell_type": "code",
      "execution_count": null,
      "metadata": {
        "id": "O-kq0z-Wljs1"
      },
      "outputs": [],
      "source": [
        "for index, car in enumerate(cars, start=1):\n",
        "    print('car maker', index, 'is', car)"
      ]
    },
    {
      "cell_type": "markdown",
      "metadata": {
        "id": "4SoPZTtTljs1"
      },
      "source": [
        "## __`zip(*iterables)`__\n",
        "* __*iterables__ means \"0+ iterables (containers)\"\n",
        "* builtin function which matches up each item in an iterable with the corresponding item in the other iterable(s)\n",
        "* why is it called __`zip`__?"
      ]
    },
    {
      "cell_type": "code",
      "execution_count": null,
      "metadata": {
        "id": "3mnkUerBljs1"
      },
      "outputs": [],
      "source": [
        "first_names = ['Katherine', 'Bruce', 'Taylor']\n",
        "last_names = ['Johnson', 'Lee', 'Swift']\n",
        "\n",
        "for first, last in zip(first_names, last_names):\n",
        "    print(first, last)"
      ]
    },
    {
      "cell_type": "code",
      "execution_count": null,
      "metadata": {
        "tags": [],
        "id": "pnjV1F2iljs2"
      },
      "outputs": [],
      "source": [
        "first_names = ['Katherine', 'Bruce', 'Taylor']\n",
        "last_names = ['Johnson', 'Lee', 'Swift']\n",
        "employee_nums = [3456, 1234, 2468]\n",
        "\n",
        "for first, last, num in zip(first_names, last_names, employee_nums):\n",
        "    print(first, last, num)"
      ]
    },
    {
      "cell_type": "code",
      "execution_count": null,
      "metadata": {
        "tags": [],
        "id": "ABV9CGpVljs2"
      },
      "outputs": [],
      "source": [
        "first_names = ['Katherine', 'Bruce', 'Taylor']\n",
        "last_names = ['Johnson', 'Lee', 'Swift', 'Frost']\n",
        "\n",
        "for first, last in zip(first_names, last_names):\n",
        "    print(first, last)"
      ]
    },
    {
      "cell_type": "code",
      "execution_count": null,
      "metadata": {
        "tags": [],
        "id": "BI7zyOB4ljs2"
      },
      "outputs": [],
      "source": [
        "import itertools # module that helps with iteration\n",
        "\n",
        "first_names = ['Katherine', 'Bruce', 'Taylor']\n",
        "last_names = ['Johnson', 'Lee', 'Swift', 'Frost']\n",
        "\n",
        "for first, last in itertools.zip_longest(first_names, last_names, fillvalue='***'):\n",
        "    print(first, last)"
      ]
    },
    {
      "cell_type": "code",
      "execution_count": null,
      "metadata": {
        "id": "9Hy2MxMfljs2"
      },
      "outputs": [],
      "source": [
        "first_names = ['Katherine', 'Bruce', 'Taylor']\n",
        "last_names = ['Johnson', 'Lee', 'Swift', 'Frost']\n",
        "\n",
        "for first, last in zip(first_names, last_names, strict=True):\n",
        "    print(first, last)"
      ]
    },
    {
      "cell_type": "markdown",
      "metadata": {
        "id": "NhRQWIZaljs2"
      },
      "source": [
        "## List Comprehensions (\"listcomps\")\n",
        "* quick/compact way to build a list\n",
        "* \"more readable\"/faster\n",
        "* which is easier to read?\n",
        "  * your answer will change over time..."
      ]
    },
    {
      "cell_type": "code",
      "execution_count": null,
      "metadata": {
        "id": "djcpogveljs2"
      },
      "outputs": [],
      "source": [
        "# suppose we have a list of fruits\n",
        "# rather than typing it in the \"standard\" way, we'll use a Pythonic shortcut\n",
        "fruits = 'apple lemon cherry fig lime watermelon'.split()\n",
        "fruits"
      ]
    },
    {
      "cell_type": "markdown",
      "metadata": {
        "id": "2AuqhNu7ljs2"
      },
      "source": [
        "#### Now suppose we want a \"parallel\" list containing the lengths of each fruit string\n",
        "* first we'll create that list the standard way..."
      ]
    },
    {
      "cell_type": "code",
      "execution_count": null,
      "metadata": {
        "id": "0LvPT0FKljs2"
      },
      "outputs": [],
      "source": [
        "fruit_lengths = []\n",
        "\n",
        "for fruit in fruits:\n",
        "    fruit_lengths.append()\n",
        "\n",
        "print(fruit_lengths)"
      ]
    },
    {
      "cell_type": "markdown",
      "metadata": {
        "id": "hhdXCDZiljs2"
      },
      "source": [
        "* and now with a list comprehension..."
      ]
    },
    {
      "cell_type": "code",
      "execution_count": null,
      "metadata": {
        "scrolled": true,
        "id": "T8Cih6scljs2"
      },
      "outputs": [],
      "source": [
        "fruit_lengths = [len(fruit) for fruit in fruits]\n",
        "\n",
        "print(fruit_lengths)"
      ]
    },
    {
      "cell_type": "markdown",
      "metadata": {
        "id": "ieQfQB2fljs2"
      },
      "source": [
        "## List Comprehensions (cont'd)\n",
        "* listcomps can generate a list from the Cartesian product of two or more iterables"
      ]
    },
    {
      "cell_type": "code",
      "execution_count": null,
      "metadata": {
        "id": "GFyBKPwVljs2"
      },
      "outputs": [],
      "source": [
        "colors = ['black', 'white']\n",
        "sizes = ['S', 'M', 'L', 'XL']"
      ]
    },
    {
      "cell_type": "code",
      "execution_count": null,
      "metadata": {
        "id": "Zis07REzljs2"
      },
      "outputs": [],
      "source": [
        "tshirts = [[color, size] for size in sizes\n",
        "                             for color in colors]\n",
        "tshirts"
      ]
    },
    {
      "cell_type": "markdown",
      "metadata": {
        "id": "PWX7ZFMcljs2"
      },
      "source": [
        "* we can also use list comprehensions to *filter* one list into another"
      ]
    },
    {
      "cell_type": "code",
      "execution_count": null,
      "metadata": {
        "id": "QtBvwR7-ljs3"
      },
      "outputs": [],
      "source": [
        "string = 'alphabet soup tastes great!'"
      ]
    },
    {
      "cell_type": "code",
      "execution_count": null,
      "metadata": {
        "id": "0_jAHk0Jljs3"
      },
      "outputs": [],
      "source": [
        "print(list(string))"
      ]
    },
    {
      "cell_type": "markdown",
      "metadata": {
        "id": "_Ryl2chWljs3"
      },
      "source": [
        "#### suppose we wanted to generate a list of all the consonants in a string, discarding vowels and spaces..."
      ]
    },
    {
      "cell_type": "code",
      "execution_count": null,
      "metadata": {
        "id": "uGEdPCZPljs3"
      },
      "outputs": [],
      "source": [
        "consonants = [char for char in string\n",
        "                          if char not in 'aeiou! ']\n",
        "print(consonants)"
      ]
    },
    {
      "cell_type": "markdown",
      "metadata": {
        "id": "zUxR4ZM_ljs3"
      },
      "source": [
        "## Lab: List Comprehensions\n",
        "*  Start with Cartesian product example (colors x sizes of t-shirts) and a\n",
        "*  add a third list, __`sleeves = ['short', 'long']`__ then write a new listcomp which generates the Cartesian product __`colors x sizes x sleeves`__. __`tshirts`__ should look like this:<pre><b>\n",
        "    [['black', 'S', 'short'],\n",
        "     ['black', 'S', 'long'],\n",
        "     ['black', 'M', 'short'],\n",
        "     ['black', 'M', 'long'],\n",
        "     ['black', 'L', 'short'],\n",
        "     ['black', 'L', 'long'],\n",
        "     ['white', 'S', 'short'],\n",
        "     ['white', 'S', 'long'],\n",
        "     ['white', 'M', 'short'],\n",
        "     ['white', 'M', 'long'],\n",
        "     ['white', 'L', 'short'],\n",
        "     ['white', 'L', 'long']]\n",
        "     \n",
        " </b></pre>\n",
        "* Use a list comprehension to create a list of the squares of the integers from 1 to 25 (i.e, 1, 4, 9, 16, …, 625)\n",
        "* Given a list of words, create a second list which contains all the words from the first list which do not end with a vowel\n",
        "* Use a list comprehension to create a list of the integers from 1 to 100 which are not divisible by 5\n",
        "* Use a list comprehension and __`zip()`__ to create a list of lists, where the list items are name and ID number that you grabbed from separate lists of names and ID numbers\n",
        "  * start with a list of, say, 5 names ['John', 'Mary', 'Edward', 'Linda', 'Dinesh']\n",
        "  * and a list of, say, 5 ID numbers [1003, 2043, 8762, 7862, 1093]\n",
        "  * additional wrinkle: do not include any names whose corresponding ID is -1"
      ]
    },
    {
      "cell_type": "markdown",
      "metadata": {
        "id": "Lu2t0wPZljs3"
      },
      "source": [
        "## listcomps recap\n",
        "* keep them short\n",
        "* they are not _list incomprehensions_, so keep them simple\n",
        "* use line breaks since they are ignored inside [] (and (), {}) and you therefore don't need the ugly '\\\\' line continuation character\n",
        "* note that __`for`__ loops do many things (e.g., scan a sequence to count or select items), computing aggregates (sum, averages) or any number of other processing tasks\n",
        "  * in contrast, listcomps do ONE thing–generate lists!"
      ]
    },
    {
      "cell_type": "markdown",
      "metadata": {
        "id": "jlf1ImkRljs3"
      },
      "source": [
        "## Tuples\n",
        "* immutable data type\n",
        "* typically heterogeneous (cf. lists)\n",
        "* generally imply some structure\n",
        " * tuples typically represent a single object, but multiple aspects/attributes of it\n",
        " * if lists are typically used like the __columns__ of a spreadsheet...\n",
        "   * then tuples are typically the __rows__..."
      ]
    },
    {
      "cell_type": "code",
      "execution_count": null,
      "metadata": {
        "id": "AoKF1lNhljs3"
      },
      "outputs": [],
      "source": [
        "t = () # empty tuple (cf. empty list...[])\n",
        "t"
      ]
    },
    {
      "cell_type": "code",
      "execution_count": null,
      "metadata": {
        "id": "SAo-zcLLljs3"
      },
      "outputs": [],
      "source": [
        "type(t)"
      ]
    },
    {
      "cell_type": "code",
      "execution_count": null,
      "metadata": {
        "id": "3X-eSTPTljs3"
      },
      "outputs": [],
      "source": [
        "t = (3,) # \"singleton tuple\""
      ]
    },
    {
      "cell_type": "code",
      "execution_count": null,
      "metadata": {
        "scrolled": true,
        "id": "Zvt8Zxo_ljs3"
      },
      "outputs": [],
      "source": [
        "t"
      ]
    },
    {
      "cell_type": "code",
      "execution_count": null,
      "metadata": {
        "id": "B3noiW03ljs3"
      },
      "outputs": [],
      "source": [
        "t = 'Jones', 'John', 1023, True # no parens\n",
        "t"
      ]
    },
    {
      "cell_type": "code",
      "execution_count": null,
      "metadata": {
        "id": "H6dhe5iVljs3"
      },
      "outputs": [],
      "source": [
        "# tuple unpacking\n",
        "last_name, first_name, employee_num, full_time = t"
      ]
    },
    {
      "cell_type": "code",
      "execution_count": null,
      "metadata": {
        "id": "Ss8yPgealjs4"
      },
      "outputs": [],
      "source": [
        "employee_num # type(employee_num)"
      ]
    },
    {
      "cell_type": "code",
      "execution_count": null,
      "metadata": {
        "id": "kNuaiiTVljs4"
      },
      "outputs": [],
      "source": [
        "something = input('Enter something: ')\n",
        "as_a_list = something.split() # split() always returns a list\n",
        "as_a_tuple = tuple(as_a_list) # tuple() always returns a tuple"
      ]
    },
    {
      "cell_type": "code",
      "execution_count": null,
      "metadata": {
        "id": "U64QdmKgljs4"
      },
      "outputs": [],
      "source": [
        "print(as_a_list, as_a_tuple, sep='\\n')"
      ]
    },
    {
      "cell_type": "code",
      "execution_count": null,
      "metadata": {
        "id": "2B4c8UAVljs4"
      },
      "outputs": [],
      "source": [
        "person = 'Sara Breedlove', 1867, 'Louisiana'"
      ]
    },
    {
      "cell_type": "code",
      "execution_count": null,
      "metadata": {
        "id": "vZHQ3jFtljs4"
      },
      "outputs": [],
      "source": [
        "person[-1]"
      ]
    },
    {
      "cell_type": "code",
      "execution_count": null,
      "metadata": {
        "id": "prB-uDwtljs4"
      },
      "outputs": [],
      "source": [
        "person[1] = 1868"
      ]
    },
    {
      "cell_type": "markdown",
      "metadata": {
        "id": "3y-wSC2eljs4"
      },
      "source": [
        "## Lab: Tuples\n",
        "* We don't really know enough yet to use a tuple in interesting ways, so instead let's just tinker around with tuples here in the notebook...\n",
        "  * Create a tuple representing a city w/fields of your own choosing (e.g., city name, state/country, population, elevation, etc.)\n",
        "  * \"Add\" a field to the tuple–since tuples are immutable, you will have to do this by concatenating tuples\n",
        "  * Using the _in_ operator, check to see if a particular value is in the tuple\n",
        "  * Using the __`.index()`__ method, find the position of a particular value in the tuple"
      ]
    },
    {
      "cell_type": "markdown",
      "metadata": {
        "id": "tAvkRLTiljs4"
      },
      "source": [
        "## Recap: Tuples\n",
        "* not just \"constant lists\"\n",
        " (see http://jtauber.com/blog/2006/04/15/python_tuples_are_not_just_constant_lists)\n",
        "* remember that lists are (typically) ordered sequences of homogeneous values (i.e., Excel/DB column)\n",
        "* and tuples typically imply some structure and refer to multiple attributes of ONE item (person, country, building, etc.)\n",
        "   * i.e., database/Excel row"
      ]
    },
    {
      "cell_type": "markdown",
      "metadata": {
        "id": "Q6B8HPCyljs4"
      },
      "source": [
        "\n",
        "# Dictionaries\n",
        "* \"unordered\" grouping of key/value pairs\n",
        "* sometimes called a \"map\", \"hashmap\", or \"associative array\""
      ]
    },
    {
      "cell_type": "code",
      "execution_count": null,
      "metadata": {
        "id": "zjqeWF6zljs4"
      },
      "outputs": [],
      "source": [
        "d = {} # empty dict"
      ]
    },
    {
      "cell_type": "code",
      "execution_count": null,
      "metadata": {
        "id": "h-UjTCB7ljs4"
      },
      "outputs": [],
      "source": [
        "d = { 'X': 10, 'V': 5, 'I': 1 } # can be initialized when declared"
      ]
    },
    {
      "cell_type": "code",
      "execution_count": null,
      "metadata": {
        "tags": [],
        "id": "TRUHwCwmljs4"
      },
      "outputs": [],
      "source": [
        "d"
      ]
    },
    {
      "cell_type": "code",
      "execution_count": null,
      "metadata": {
        "scrolled": true,
        "tags": [],
        "id": "mZuvlI4kljs4"
      },
      "outputs": [],
      "source": [
        "d['L'] = 50 # add something to the dict\n",
        "print(d)"
      ]
    },
    {
      "cell_type": "code",
      "execution_count": null,
      "metadata": {
        "tags": [],
        "id": "N-EPBACMljs4"
      },
      "outputs": [],
      "source": [
        "# iterating through a dict iterates through the keys\n",
        "for thing in d: # for thing in container\n",
        "    print(thing, end=' ')"
      ]
    },
    {
      "cell_type": "code",
      "execution_count": null,
      "metadata": {
        "tags": [],
        "id": "yBgQncggljs4"
      },
      "outputs": [],
      "source": [
        "# ...of course we can print the values while iterating\n",
        "for thing in d:\n",
        "    print(thing, d[thing])"
      ]
    },
    {
      "cell_type": "code",
      "execution_count": null,
      "metadata": {
        "tags": [],
        "id": "wci3PLhzljs4"
      },
      "outputs": [],
      "source": [
        "sbux_dict = {'venti': 20, 'tall': 12, 'grande': 16}\n",
        "print(sbux_dict)"
      ]
    },
    {
      "cell_type": "code",
      "execution_count": null,
      "metadata": {
        "scrolled": true,
        "tags": [],
        "id": "aUGnABzNljs5"
      },
      "outputs": [],
      "source": [
        "print(sbux_dict.keys(), sbux_dict.values(), sbux_dict.items(), sep='\\n')"
      ]
    },
    {
      "cell_type": "code",
      "execution_count": null,
      "metadata": {
        "id": "hEWNnFwKljs5"
      },
      "outputs": [],
      "source": [
        "total_ounces = 0\n",
        "for amount in sbux_dict.values():\n",
        "    total_ounces += amount\n",
        "\n",
        "total_ounces"
      ]
    },
    {
      "cell_type": "code",
      "execution_count": null,
      "metadata": {
        "id": "KHYLr-5Gljs5"
      },
      "outputs": [],
      "source": [
        "sum(sbux_dict.values())"
      ]
    },
    {
      "cell_type": "markdown",
      "metadata": {
        "id": "10n1P-qtljs5"
      },
      "source": [
        "## Dictionaries: View Objects\n",
        "* __`keys()`__, __`values()`__, and __`items()`__ are view objects\n",
        "* view objects provide a dynamic window into the dictionary\n",
        "  * these objects change as the dictionary changes!"
      ]
    },
    {
      "cell_type": "code",
      "execution_count": null,
      "metadata": {
        "id": "Zzm9aKmoljs5"
      },
      "outputs": [],
      "source": [
        "keys = sbux_dict.keys()\n",
        "keys"
      ]
    },
    {
      "cell_type": "code",
      "execution_count": null,
      "metadata": {
        "id": "TCU0Q4QYljs5"
      },
      "outputs": [],
      "source": [
        "# keys will change automagically after we add to the dict\n",
        "print(keys)\n",
        "sbux_dict['trenta'] = 31\n",
        "print(keys)"
      ]
    },
    {
      "cell_type": "code",
      "execution_count": null,
      "metadata": {
        "id": "n5by58lZljs5"
      },
      "outputs": [],
      "source": [
        "keys"
      ]
    },
    {
      "cell_type": "markdown",
      "metadata": {
        "id": "tvV4FJX-ljs5"
      },
      "source": [
        "## __`get()`__: Dealing with missing dict values"
      ]
    },
    {
      "cell_type": "code",
      "execution_count": null,
      "metadata": {
        "id": "hSJWxW-Wljs5"
      },
      "outputs": [],
      "source": [
        "d = {'foo': 'bar'}"
      ]
    },
    {
      "cell_type": "code",
      "execution_count": null,
      "metadata": {
        "id": "0cts436nljs5"
      },
      "outputs": [],
      "source": [
        "d['foo']"
      ]
    },
    {
      "cell_type": "code",
      "execution_count": null,
      "metadata": {
        "id": "JgQ1jcl-ljs5"
      },
      "outputs": [],
      "source": [
        "d['food']"
      ]
    },
    {
      "cell_type": "code",
      "execution_count": null,
      "metadata": {
        "id": "309oTaIJljs5"
      },
      "outputs": [],
      "source": [
        "if 'foo' in d: # is 'foot' a key in this dict\n",
        "    print(d['foo'])\n",
        "# or just... d.get('foot')"
      ]
    },
    {
      "cell_type": "code",
      "execution_count": null,
      "metadata": {
        "id": "uYvyWiPMljs5"
      },
      "outputs": [],
      "source": [
        "print(d.get('foot'))"
      ]
    },
    {
      "cell_type": "code",
      "execution_count": null,
      "metadata": {
        "id": "b9HpXp98ljs5"
      },
      "outputs": [],
      "source": [
        "# what if we sort a dict?\n",
        "for key in sorted(sbux_dict):\n",
        "    print(key, sbux_dict[key])"
      ]
    },
    {
      "cell_type": "code",
      "execution_count": null,
      "metadata": {
        "id": "_VI2DUjoljs5"
      },
      "outputs": [],
      "source": [
        "# In order to iterate in order, we have to sort the\n",
        "# dict by value (as opposed to key)\n",
        "# By default, sorted() will sort by key--\n",
        "# usually not what we want!\n",
        "\n",
        "for k in sorted(sbux_dict, key=sbux_dict.get):\n",
        "    print(k, '=>', sbux_dict[k])"
      ]
    },
    {
      "cell_type": "markdown",
      "metadata": {
        "id": "s24R82CFljs5"
      },
      "source": [
        "## Removing items from a dict\n",
        "* __`del`__ = remove an item from the dict\n",
        "* __`dict.pop(key)`__ = remove item and return value\n",
        "* __`dict.clear()`__ = empty out the dict"
      ]
    },
    {
      "cell_type": "code",
      "execution_count": null,
      "metadata": {
        "id": "NMNd4npFljs5"
      },
      "outputs": [],
      "source": [
        "mydict = {'trenta': 31, 'grande': 16, 'venti': 20, 'tall': 12}\n",
        "print(mydict)"
      ]
    },
    {
      "cell_type": "code",
      "execution_count": null,
      "metadata": {
        "id": "dgQuiqwLljs5"
      },
      "outputs": [],
      "source": [
        "del mydict['trenta']\n",
        "print(mydict)"
      ]
    },
    {
      "cell_type": "code",
      "execution_count": null,
      "metadata": {
        "id": "uqCxHoH3ljs5"
      },
      "outputs": [],
      "source": [
        "print(mydict.pop('venti'))"
      ]
    },
    {
      "cell_type": "code",
      "execution_count": null,
      "metadata": {
        "id": "8mS4WbFaljs6"
      },
      "outputs": [],
      "source": [
        "print(mydict)"
      ]
    },
    {
      "cell_type": "code",
      "execution_count": null,
      "metadata": {
        "id": "nzaENF30ljs6"
      },
      "outputs": [],
      "source": [
        "mydict.clear()\n",
        "mydict"
      ]
    },
    {
      "cell_type": "markdown",
      "metadata": {
        "id": "B9p0N67pljs6"
      },
      "source": [
        "## Lab: dictionary\n",
        "* use a dict to translate Roman numerals into their Arabic equivalents\n",
        "1. load the dict with Roman numerals M (1000), D (500), C (100), L (50), X (10), V (5), I (1)\n",
        "2. read in a Roman numeral\n",
        "3. print Arabic equivalent\n",
        "4. try it with MCLX = 1000 + 100 + 50 + 10 = 1160\n",
        "4. __The rest of this could be homework...__\n",
        "4. __Deal with the case where a smaller number precedes a larger number, e.g., XC = 100 - 10 = 90, or MCM = 1000 + (1000-100) = 1900__\n",
        "  * e.g.,  __MCMXCIX = 1999__"
      ]
    },
    {
      "cell_type": "markdown",
      "metadata": {
        "id": "jU1BahhZljs6"
      },
      "source": [
        "## Sets\n",
        "* unordered collection, no duplicates\n",
        "* kind of a one-trick pony–remove duplicates"
      ]
    },
    {
      "cell_type": "code",
      "execution_count": null,
      "metadata": {
        "scrolled": true,
        "id": "qOPxwwuEljs6"
      },
      "outputs": [],
      "source": [
        "s = { 'Annie', 'Betty', 'Cathy', 'Donna' }\n",
        "print(s)"
      ]
    },
    {
      "cell_type": "code",
      "execution_count": null,
      "metadata": {
        "id": "41xIECoSljs6"
      },
      "outputs": [],
      "source": [
        "s.add('Ellen')\n",
        "print(s)"
      ]
    },
    {
      "cell_type": "code",
      "execution_count": null,
      "metadata": {
        "id": "lT1DsLL3ljs6"
      },
      "outputs": [],
      "source": [
        "s.add('Annie')\n",
        "print(s)"
      ]
    },
    {
      "cell_type": "code",
      "execution_count": null,
      "metadata": {
        "id": "a-OfVrwgljs6"
      },
      "outputs": [],
      "source": [
        "# we can use the 'in' operator\n",
        "if 'Annie' in s:\n",
        "    print('Yep!')"
      ]
    },
    {
      "cell_type": "markdown",
      "metadata": {
        "id": "muGBsKZhljs6"
      },
      "source": [
        "## Deleting from a Set\n",
        "* __`remove(item)`__: remove an item if it's in the set\n",
        "* __`discard(item)`__: remove an item whether or not it's in the set\n",
        "* __`pop()`__: pops a random element out of the set"
      ]
    },
    {
      "cell_type": "code",
      "execution_count": null,
      "metadata": {
        "id": "-2gocQvhljs6"
      },
      "outputs": [],
      "source": [
        "print(s)"
      ]
    },
    {
      "cell_type": "code",
      "execution_count": null,
      "metadata": {
        "id": "hyM-DVPTljs6"
      },
      "outputs": [],
      "source": [
        "s.remove('Betty')"
      ]
    },
    {
      "cell_type": "code",
      "execution_count": null,
      "metadata": {
        "id": "aVHhFGGgljs6"
      },
      "outputs": [],
      "source": [
        "print(s)"
      ]
    },
    {
      "cell_type": "code",
      "execution_count": null,
      "metadata": {
        "id": "N7wT57GGljs6"
      },
      "outputs": [],
      "source": [
        "s.discard('Loren')"
      ]
    },
    {
      "cell_type": "code",
      "execution_count": null,
      "metadata": {
        "id": "87bPo_u-ljs6"
      },
      "outputs": [],
      "source": [
        "print(s)"
      ]
    },
    {
      "cell_type": "code",
      "execution_count": null,
      "metadata": {
        "id": "hzemZqiVljs6"
      },
      "outputs": [],
      "source": [
        "print(s.pop())\n",
        "print(s)"
      ]
    },
    {
      "cell_type": "code",
      "execution_count": null,
      "metadata": {
        "id": "lCQorLQTljs6"
      },
      "outputs": [],
      "source": [
        "while s: # while the set is non-empty\n",
        "    print(s.pop())"
      ]
    },
    {
      "cell_type": "markdown",
      "source": [
        "## Quick Lab: Common elements between two sets\n",
        "* Write a program that asks the user to input two lists and then finds and prints the common elements between them\n",
        "Enter a list of items: apple cherry banana lemon\n",
        "Enter a second list of items: apple guava banana lime\n",
        "Common elements: apple banana\n",
        "* Note: this uses a set method we haven't yet learned...how will you find it?"
      ],
      "metadata": {
        "id": "7PC3Bz74m1kg"
      }
    },
    {
      "cell_type": "markdown",
      "metadata": {
        "id": "GOx1iSVBljs6"
      },
      "source": [
        "## Quick Lab: Sets\n",
        "* Use a set to find all of the unique words in the input and print them out in sorted order\n",
        "* If the user entered __There is no there there__, your program should print out\n",
        "   <pre><b>\n",
        "   is\n",
        "   no\n",
        "   there\n",
        "   </b></pre>\n",
        "* Note that `There` and `there` should be counted as the same word."
      ]
    },
    {
      "cell_type": "markdown",
      "metadata": {
        "id": "ZGWkRFL3ljs6"
      },
      "source": [
        "## Sets Recap\n",
        "* unordered\n",
        "* no duplicates\n",
        "* use __`in`__ to test for membership\n"
      ]
    },
    {
      "cell_type": "markdown",
      "metadata": {
        "id": "WLrkaBnuljs6"
      },
      "source": [
        "## File Input/Output (I/O)\n",
        "* we use a built-in function to open files:\n",
        "  * __`fileobj = open(filename, mode)`__\n",
        "  * mode is one or two letters\n",
        "    * r = read\n",
        "    * r+ = open for reading and writing\n",
        "    * w = write (create/overwrite)\n",
        "    * x = write, but only if file does not already exist\n",
        "    * a = append, if file exists (unless a+, then create)\n",
        "  * second letter =\n",
        "    * t = text file (default)\n",
        "    * b = binary\n",
        "* ...but we use a method to close the file (and do everything else)\n",
        "  * __`fileobj.close()`__"
      ]
    },
    {
      "cell_type": "markdown",
      "metadata": {
        "id": "3bLCsTkQljs6"
      },
      "source": [
        "## File I/O: Open/Close"
      ]
    },
    {
      "cell_type": "code",
      "execution_count": null,
      "metadata": {
        "id": "2aKNcgn9ljs7"
      },
      "outputs": [],
      "source": [
        "f = open('test.txt', 'r')"
      ]
    },
    {
      "cell_type": "code",
      "execution_count": null,
      "metadata": {
        "id": "yFyJVdHWljs7"
      },
      "outputs": [],
      "source": [
        "f = open('test.txt', 'w')\n",
        "f.close()"
      ]
    },
    {
      "cell_type": "code",
      "execution_count": null,
      "metadata": {
        "id": "y3EXWSaMljs7"
      },
      "outputs": [],
      "source": [
        "f = open('test.txt', 'x')"
      ]
    },
    {
      "cell_type": "markdown",
      "metadata": {
        "id": "r_Mxfurmljs7"
      },
      "source": [
        "## File I/O: Read/Write"
      ]
    },
    {
      "cell_type": "code",
      "execution_count": null,
      "metadata": {
        "id": "PBVw30BVljs7"
      },
      "outputs": [],
      "source": [
        "poem = \"\"\"TWO roads diverged in a yellow wood,\n",
        "And sorry I could not travel both\n",
        "And be one traveler, long I stood\n",
        "And looked down one as far as I could\n",
        "To where it bent in the undergrowth;\n",
        "\n",
        "Then took the other, as just as fair,\n",
        "And having perhaps the better claim,\n",
        "Because it was grassy and wanted wear;\n",
        "Though as for that the passing there\n",
        "Had worn them really about the same,\n",
        "\n",
        "And both that morning equally lay\n",
        "In leaves no step had trodden black.\n",
        "Oh, I kept the first for another day!\n",
        "Yet knowing how way leads on to way,\n",
        "I doubted if I should ever come back.\n",
        "\n",
        "I shall be telling this with a sigh\n",
        "Somewhere ages and ages hence:\n",
        "Two roads diverged in a wood, and I—\n",
        "I took the one less traveled by,\n",
        "And that has made all the difference.\"\"\"\n",
        "\n",
        "len(poem)"
      ]
    },
    {
      "cell_type": "code",
      "execution_count": null,
      "metadata": {
        "id": "aBoOm0PLljs7"
      },
      "outputs": [],
      "source": [
        "f = open('poem.txt', 'w')\n",
        "f.write(poem)"
      ]
    },
    {
      "cell_type": "code",
      "execution_count": null,
      "metadata": {
        "id": "hfxf3hhfljs7"
      },
      "outputs": [],
      "source": [
        "f.close()"
      ]
    },
    {
      "cell_type": "code",
      "execution_count": null,
      "metadata": {
        "id": "S8nyd3zVljs7"
      },
      "outputs": [],
      "source": [
        "f = open('poem.txt')\n",
        "poem2 = f.read()\n",
        "f.close()"
      ]
    },
    {
      "cell_type": "code",
      "execution_count": null,
      "metadata": {
        "id": "r7t59pkKljs7"
      },
      "outputs": [],
      "source": [
        "poem == poem2"
      ]
    },
    {
      "cell_type": "markdown",
      "metadata": {
        "id": "sKaB0nH9ljs7"
      },
      "source": [
        "## File I/O: __`write()`__ vs. __`print()`__\n"
      ]
    },
    {
      "cell_type": "code",
      "execution_count": null,
      "metadata": {
        "id": "78TVC2cJljs7"
      },
      "outputs": [],
      "source": [
        "f = open('poem.txt', 'w')\n",
        "# another example of why print being a function is good\n",
        "print(poem, file=f, end='')\n",
        "f.close()"
      ]
    },
    {
      "cell_type": "code",
      "execution_count": null,
      "metadata": {
        "id": "eeC1DB1eljs7"
      },
      "outputs": [],
      "source": [
        "f = open('poem.txt')\n",
        "poem2 = f.read()\n",
        "f.close()"
      ]
    },
    {
      "cell_type": "code",
      "execution_count": null,
      "metadata": {
        "id": "v7TyVGPEljs7"
      },
      "outputs": [],
      "source": [
        "poem == poem2"
      ]
    },
    {
      "cell_type": "code",
      "execution_count": null,
      "metadata": {
        "id": "tV5XSOWCljs7"
      },
      "outputs": [],
      "source": [
        "len(poem2)"
      ]
    },
    {
      "cell_type": "markdown",
      "metadata": {
        "id": "m7S4_7S3ljs7"
      },
      "source": [
        "## File I/O: How to Read Data\n",
        "* __`read()`__: slurps up entire file at once\n",
        "  * __`read(x)`__ reads a most __`x`__ bytes\n",
        "* __`readline()`__: reads a line at a time\n",
        "* __`readlines()`__ reads a line at a time and returns the lines as a list of strings\n",
        "* or better yet, just let Python do the work!\n"
      ]
    },
    {
      "cell_type": "code",
      "execution_count": null,
      "metadata": {
        "id": "JnWxWIJQljs7"
      },
      "outputs": [],
      "source": [
        "f = open('poem.txt') # again, for reading because no second arg\n",
        "\n",
        "for line in f: # Python reads each line\n",
        "    print(line)\n",
        "f.close()"
      ]
    },
    {
      "cell_type": "markdown",
      "metadata": {
        "id": "ZhRZL9fXljs7"
      },
      "source": [
        "## File I/O: __`with`__ statement\n",
        "* the __`with`__ statement sets up a temporary \"context\"\n",
        "  * closes the file automatically so we don't have to bother doing it"
      ]
    },
    {
      "cell_type": "code",
      "execution_count": null,
      "metadata": {
        "id": "nf3w5tCjljs7"
      },
      "outputs": [],
      "source": [
        "with open('poem.txt') as inputfile: # ~ inputfile = open('poem.txt')\n",
        "    for line in inputfile:\n",
        "        print(line.strip(), '/', line.strip()[::-1])\n",
        "\n",
        "    # at this point file is open\n",
        "    print('\\nin with block, inputfile.closed =', inputfile.closed)\n",
        "\n",
        "# down here..."
      ]
    },
    {
      "cell_type": "code",
      "execution_count": null,
      "metadata": {
        "id": "YrLtCHoOljs7"
      },
      "outputs": [],
      "source": [
        "poem == poem2"
      ]
    },
    {
      "cell_type": "code",
      "execution_count": null,
      "metadata": {
        "id": "FjTXAF02ljs7"
      },
      "outputs": [],
      "source": [
        "inputfile.closed"
      ]
    },
    {
      "cell_type": "markdown",
      "metadata": {
        "id": "Pputy4Pnljs8"
      },
      "source": [
        "## Quick Lab: Grep Knockoff\n",
        "* __`grep`__ is a Linux program that finds all lines in file that contain a certain pattern, e.g., __`grep Python file.txt`__ will print out any lines of the file file.txt that have the word __`Python`__ in the line\n",
        "* write a version of __`grep`__ in Python\n",
        "  * your program should ask the user for two things:\n",
        "    * a filename\n",
        "    * a pattern to search for\n",
        "  * ...and then will print out all lines containing the pattern, e.g.,\n",
        "\n",
        "<pre>\n",
        "Enter a file name: poem.txt\n",
        "Enter pattern to search for: wood\n"
      ]
    },
    {
      "cell_type": "markdown",
      "metadata": {
        "id": "PvleaQSqljs8"
      },
      "source": [
        "## Group Lab: File I/O + dicts\n",
        "* write a Python program to read a file and count the number of occurrences of each word in the file\n",
        "* use a __`dict`__, indexed by word, to count the occurrences\n",
        "* remember __`d.get(key)`__ will return __`None`__ if there is no such key in the dict (vs. __`d[key]`__ which will throw an exception) and also the __`in`__ operator\n",
        "  * or use a __`collections.defaultdict`__ if we've covered it\n",
        "* treat __The__ and __the__ as the same word when counting\n",
        "* print out words and counts, from most common to least common\n",
        "* __EXTRA:__ remove punctuation, so __Hamlet,__ == __Hamlet__ # refer back to \"import this\"\n",
        "* The Road Not Taken and Hamlet are in your materials"
      ]
    },
    {
      "cell_type": "markdown",
      "metadata": {
        "id": "GND0x5Oxljs8"
      },
      "source": [
        "## File I/O: recap\n",
        "* __`open()`__ returns file object\n",
        "* __`close()`__ closes the file\n",
        "* __`read()`__ reads bytes\n",
        "* __`readline()`__ reads a line at a time\n",
        "* __`readlines()`__ reads all lines–shouldn't be used\n",
        "* can also iterate through a file object a line at a time\n",
        "* __`with`__ statement sets up a temporary context (a separate block) for file I/O and automatically closes file when block is exited"
      ]
    }
  ],
  "metadata": {
    "celltoolbar": "Slideshow",
    "kernelspec": {
      "display_name": "Python 3 (ipykernel)",
      "language": "python",
      "name": "python3"
    },
    "language_info": {
      "codemirror_mode": {
        "name": "ipython",
        "version": 3
      },
      "file_extension": ".py",
      "mimetype": "text/x-python",
      "name": "python",
      "nbconvert_exporter": "python",
      "pygments_lexer": "ipython3",
      "version": "3.12.5"
    },
    "metadata": {
      "interpreter": {
        "hash": "082e9a3bcad0a290d0001e938aa60b99250c6c2ef33a923c00b70f9826caf4b7"
      }
    },
    "colab": {
      "provenance": []
    }
  },
  "nbformat": 4,
  "nbformat_minor": 0
}