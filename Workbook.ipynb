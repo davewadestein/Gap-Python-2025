{
  "nbformat": 4,
  "nbformat_minor": 0,
  "metadata": {
    "colab": {
      "provenance": [],
      "authorship_tag": "ABX9TyNc8ensejP5lVgReQBHIRqJ",
      "include_colab_link": true
    },
    "kernelspec": {
      "name": "python3",
      "display_name": "Python 3"
    },
    "language_info": {
      "name": "python"
    }
  },
  "cells": [
    {
      "cell_type": "markdown",
      "metadata": {
        "id": "view-in-github",
        "colab_type": "text"
      },
      "source": [
        "<a href=\"https://colab.research.google.com/github/davewadestein/Gap-Python-2025/blob/main/Workbook.ipynb\" target=\"_parent\"><img src=\"https://colab.research.google.com/assets/colab-badge.svg\" alt=\"Open In Colab\"/></a>"
      ]
    },
    {
      "cell_type": "code",
      "execution_count": null,
      "metadata": {
        "id": "d7CFUscc2UTP"
      },
      "outputs": [],
      "source": []
    },
    {
      "cell_type": "markdown",
      "source": [
        "# Pythonic\n",
        "* \"My name is Rick and I'm a Java programmer, and I've been teaching myself Python, but my Python looks like Java\"\n",
        "* we want to embrace the idioms of the Python language and write our code such that other programmers recognize it and expect to see it that way\n",
        "* examples:\n",
        "  * __`container[-1]`__ always means the _last_ item of the container\n",
        "  * __`container[-n]`__ always means the _nth_ from the last item\n",
        "  * __`container[:n]`__ always means the first __`n`__ items in the container\n",
        "  * __`container[n:]`__ always means the rest after from __`n`__ onwards\n",
        "  * __`container[-n:]`__ always means the last __`n`__ items in the container\n",
        "  * __`container[::-1]`__ means generate a reversed version of the container\n",
        "  * if a datatype is difficult to work with, consider converting it to some other datatype\n",
        "    * e.g., what's the last digit of a number ... __`str(number)[-1]`__\n",
        "  * function composition, e.g., __`int(input(...))`__\n",
        "  * another e.g., of composition __`words = input(...).split()`__\n",
        "  * do something __`n`__ times ... __`for _ in range(n)`__\n",
        "  * create lists using __`.split()`__, e.g.,\n",
        "     __`fruits = 'apple lemon cherry fig'.split()`__\n",
        "  * don't use indexing when you don't need it\n",
        "  * \"truthiness\" is Pythonic\n",
        "    * in a Boolean context, we can use non-Boolean expressions according to these rules:\n",
        "      * 0 and 0.0 are considered False (in a Boolean context)\n",
        "      * all other numbers are considered True\n",
        "      * empty containers are considered False\n",
        "      * non-empty containers are considered True\n",
        "* PEP-8: Python Style Guide"
      ],
      "metadata": {
        "id": "ThlGa2mc2onD"
      }
    },
    {
      "cell_type": "markdown",
      "source": [],
      "metadata": {
        "id": "_yYbW0Af56Bg"
      }
    },
    {
      "cell_type": "code",
      "source": [],
      "metadata": {
        "id": "Up8Y96krxCWd"
      },
      "execution_count": null,
      "outputs": []
    },
    {
      "cell_type": "markdown",
      "source": [
        "# Python Best Practices\n",
        "* choose good variables names, i.e.,\n",
        "  * the name should indicate what the value inside is, what it's purpose is\n",
        "  * e.g., __`waist_size`__ is better than __`ws`__\n",
        "* containers should have plural names"
      ],
      "metadata": {
        "id": "jIEnKXEj6BRV"
      }
    },
    {
      "cell_type": "markdown",
      "source": [
        "# Important Things to Know About Python\n",
        "* \"batteries included\"\n",
        "  * a lot of good stuff is included\n",
        "* the built-in functions DO NOT CHANGE the objects that are passed into them\n",
        "  * if you want to change an object you must call/invoke/apply a method on/to it\n",
        "    * METHODS can change the objects that they are called/invoked/applied to but they don't have to\n",
        "    * inspector methods just inspect but do not change (e.g., __`.count()`__)\n",
        "    * mutator methods make changes (e.g., __`.append()`__)\n",
        "    * a mutator method MAY return something me, e.g., __`pop()`__)\n",
        "* scalars vs. containers\n",
        "  * scalars = single-valued objects\n",
        "    * int, float, bool\n",
        "  * containers = 0+ objects inside\n",
        "    * str ('', 'hello', 'goodbye'), list, tuple\n",
        "* mutable vs. immutable objects\n",
        "  * immutable: str, tuple\n",
        "  * mutable: list\n",
        "* everything is an object\n",
        "  * every thing we create/manipulate exists in Python's memory\n",
        "  * ...and we can inspect them\n",
        "  * ...and they consist of multiple parts to be discovered/understood"
      ],
      "metadata": {
        "id": "LGa-Ifdr8nEj"
      }
    },
    {
      "cell_type": "markdown",
      "source": [
        "## Programming Principles\n",
        "* “Programs must be written for people to read, and only incidentally for machines to execute.” –Hal Abelson\n",
        "  * Your primary objective as a programmer is to tell a story, so tell a good one, i.e., one that other can understand\n",
        "* Eagleson's Law: Any code you wrote more than 6 month ago might as well have been written by someone else\n",
        "* Be kind to your future self–write clean code!\n",
        "* Have you ever wanted to go back in time and fight with a younger version of yourself? If so, be a programmer!\n",
        "* The three banes of existence of programmers are:\n",
        "  * uninitialized/improperly initialized variables\n",
        "  * off by one errors"
      ],
      "metadata": {
        "id": "w3dR-AoXOnx1"
      }
    },
    {
      "cell_type": "code",
      "source": [
        "dir(math)"
      ],
      "metadata": {
        "colab": {
          "base_uri": "https://localhost:8080/"
        },
        "id": "Evb-jcCt9Oq4",
        "outputId": "8ec1df82-f26a-47e4-90e3-38792f71baf9"
      },
      "execution_count": null,
      "outputs": [
        {
          "output_type": "execute_result",
          "data": {
            "text/plain": [
              "['__doc__',\n",
              " '__loader__',\n",
              " '__name__',\n",
              " '__package__',\n",
              " '__spec__',\n",
              " 'acos',\n",
              " 'acosh',\n",
              " 'asin',\n",
              " 'asinh',\n",
              " 'atan',\n",
              " 'atan2',\n",
              " 'atanh',\n",
              " 'ceil',\n",
              " 'comb',\n",
              " 'copysign',\n",
              " 'cos',\n",
              " 'cosh',\n",
              " 'degrees',\n",
              " 'dist',\n",
              " 'e',\n",
              " 'erf',\n",
              " 'erfc',\n",
              " 'exp',\n",
              " 'expm1',\n",
              " 'fabs',\n",
              " 'factorial',\n",
              " 'floor',\n",
              " 'fmod',\n",
              " 'frexp',\n",
              " 'fsum',\n",
              " 'gamma',\n",
              " 'gcd',\n",
              " 'hypot',\n",
              " 'inf',\n",
              " 'isclose',\n",
              " 'isfinite',\n",
              " 'isinf',\n",
              " 'isnan',\n",
              " 'isqrt',\n",
              " 'lcm',\n",
              " 'ldexp',\n",
              " 'lgamma',\n",
              " 'log',\n",
              " 'log10',\n",
              " 'log1p',\n",
              " 'log2',\n",
              " 'modf',\n",
              " 'nan',\n",
              " 'nextafter',\n",
              " 'perm',\n",
              " 'pi',\n",
              " 'pow',\n",
              " 'prod',\n",
              " 'radians',\n",
              " 'remainder',\n",
              " 'sin',\n",
              " 'sinh',\n",
              " 'sqrt',\n",
              " 'tan',\n",
              " 'tanh',\n",
              " 'tau',\n",
              " 'trunc',\n",
              " 'ulp']"
            ]
          },
          "metadata": {},
          "execution_count": 2
        }
      ]
    },
    {
      "cell_type": "code",
      "source": [
        "help(math)"
      ],
      "metadata": {
        "colab": {
          "base_uri": "https://localhost:8080/"
        },
        "id": "JiK4nigr_c29",
        "outputId": "9602ed42-b9d2-4196-d0a9-46c4c5fdb18b"
      },
      "execution_count": null,
      "outputs": [
        {
          "output_type": "stream",
          "name": "stdout",
          "text": [
            "Help on built-in module math:\n",
            "\n",
            "NAME\n",
            "    math\n",
            "\n",
            "DESCRIPTION\n",
            "    This module provides access to the mathematical functions\n",
            "    defined by the C standard.\n",
            "\n",
            "FUNCTIONS\n",
            "    acos(x, /)\n",
            "        Return the arc cosine (measured in radians) of x.\n",
            "        \n",
            "        The result is between 0 and pi.\n",
            "    \n",
            "    acosh(x, /)\n",
            "        Return the inverse hyperbolic cosine of x.\n",
            "    \n",
            "    asin(x, /)\n",
            "        Return the arc sine (measured in radians) of x.\n",
            "        \n",
            "        The result is between -pi/2 and pi/2.\n",
            "    \n",
            "    asinh(x, /)\n",
            "        Return the inverse hyperbolic sine of x.\n",
            "    \n",
            "    atan(x, /)\n",
            "        Return the arc tangent (measured in radians) of x.\n",
            "        \n",
            "        The result is between -pi/2 and pi/2.\n",
            "    \n",
            "    atan2(y, x, /)\n",
            "        Return the arc tangent (measured in radians) of y/x.\n",
            "        \n",
            "        Unlike atan(y/x), the signs of both x and y are considered.\n",
            "    \n",
            "    atanh(x, /)\n",
            "        Return the inverse hyperbolic tangent of x.\n",
            "    \n",
            "    ceil(x, /)\n",
            "        Return the ceiling of x as an Integral.\n",
            "        \n",
            "        This is the smallest integer >= x.\n",
            "    \n",
            "    comb(n, k, /)\n",
            "        Number of ways to choose k items from n items without repetition and without order.\n",
            "        \n",
            "        Evaluates to n! / (k! * (n - k)!) when k <= n and evaluates\n",
            "        to zero when k > n.\n",
            "        \n",
            "        Also called the binomial coefficient because it is equivalent\n",
            "        to the coefficient of k-th term in polynomial expansion of the\n",
            "        expression (1 + x)**n.\n",
            "        \n",
            "        Raises TypeError if either of the arguments are not integers.\n",
            "        Raises ValueError if either of the arguments are negative.\n",
            "    \n",
            "    copysign(x, y, /)\n",
            "        Return a float with the magnitude (absolute value) of x but the sign of y.\n",
            "        \n",
            "        On platforms that support signed zeros, copysign(1.0, -0.0)\n",
            "        returns -1.0.\n",
            "    \n",
            "    cos(x, /)\n",
            "        Return the cosine of x (measured in radians).\n",
            "    \n",
            "    cosh(x, /)\n",
            "        Return the hyperbolic cosine of x.\n",
            "    \n",
            "    degrees(x, /)\n",
            "        Convert angle x from radians to degrees.\n",
            "    \n",
            "    dist(p, q, /)\n",
            "        Return the Euclidean distance between two points p and q.\n",
            "        \n",
            "        The points should be specified as sequences (or iterables) of\n",
            "        coordinates.  Both inputs must have the same dimension.\n",
            "        \n",
            "        Roughly equivalent to:\n",
            "            sqrt(sum((px - qx) ** 2.0 for px, qx in zip(p, q)))\n",
            "    \n",
            "    erf(x, /)\n",
            "        Error function at x.\n",
            "    \n",
            "    erfc(x, /)\n",
            "        Complementary error function at x.\n",
            "    \n",
            "    exp(x, /)\n",
            "        Return e raised to the power of x.\n",
            "    \n",
            "    expm1(x, /)\n",
            "        Return exp(x)-1.\n",
            "        \n",
            "        This function avoids the loss of precision involved in the direct evaluation of exp(x)-1 for small x.\n",
            "    \n",
            "    fabs(x, /)\n",
            "        Return the absolute value of the float x.\n",
            "    \n",
            "    factorial(x, /)\n",
            "        Find x!.\n",
            "        \n",
            "        Raise a ValueError if x is negative or non-integral.\n",
            "    \n",
            "    floor(x, /)\n",
            "        Return the floor of x as an Integral.\n",
            "        \n",
            "        This is the largest integer <= x.\n",
            "    \n",
            "    fmod(x, y, /)\n",
            "        Return fmod(x, y), according to platform C.\n",
            "        \n",
            "        x % y may differ.\n",
            "    \n",
            "    frexp(x, /)\n",
            "        Return the mantissa and exponent of x, as pair (m, e).\n",
            "        \n",
            "        m is a float and e is an int, such that x = m * 2.**e.\n",
            "        If x is 0, m and e are both 0.  Else 0.5 <= abs(m) < 1.0.\n",
            "    \n",
            "    fsum(seq, /)\n",
            "        Return an accurate floating point sum of values in the iterable seq.\n",
            "        \n",
            "        Assumes IEEE-754 floating point arithmetic.\n",
            "    \n",
            "    gamma(x, /)\n",
            "        Gamma function at x.\n",
            "    \n",
            "    gcd(*integers)\n",
            "        Greatest Common Divisor.\n",
            "    \n",
            "    hypot(...)\n",
            "        hypot(*coordinates) -> value\n",
            "        \n",
            "        Multidimensional Euclidean distance from the origin to a point.\n",
            "        \n",
            "        Roughly equivalent to:\n",
            "            sqrt(sum(x**2 for x in coordinates))\n",
            "        \n",
            "        For a two dimensional point (x, y), gives the hypotenuse\n",
            "        using the Pythagorean theorem:  sqrt(x*x + y*y).\n",
            "        \n",
            "        For example, the hypotenuse of a 3/4/5 right triangle is:\n",
            "        \n",
            "            >>> hypot(3.0, 4.0)\n",
            "            5.0\n",
            "    \n",
            "    isclose(a, b, *, rel_tol=1e-09, abs_tol=0.0)\n",
            "        Determine whether two floating point numbers are close in value.\n",
            "        \n",
            "          rel_tol\n",
            "            maximum difference for being considered \"close\", relative to the\n",
            "            magnitude of the input values\n",
            "          abs_tol\n",
            "            maximum difference for being considered \"close\", regardless of the\n",
            "            magnitude of the input values\n",
            "        \n",
            "        Return True if a is close in value to b, and False otherwise.\n",
            "        \n",
            "        For the values to be considered close, the difference between them\n",
            "        must be smaller than at least one of the tolerances.\n",
            "        \n",
            "        -inf, inf and NaN behave similarly to the IEEE 754 Standard.  That\n",
            "        is, NaN is not close to anything, even itself.  inf and -inf are\n",
            "        only close to themselves.\n",
            "    \n",
            "    isfinite(x, /)\n",
            "        Return True if x is neither an infinity nor a NaN, and False otherwise.\n",
            "    \n",
            "    isinf(x, /)\n",
            "        Return True if x is a positive or negative infinity, and False otherwise.\n",
            "    \n",
            "    isnan(x, /)\n",
            "        Return True if x is a NaN (not a number), and False otherwise.\n",
            "    \n",
            "    isqrt(n, /)\n",
            "        Return the integer part of the square root of the input.\n",
            "    \n",
            "    lcm(*integers)\n",
            "        Least Common Multiple.\n",
            "    \n",
            "    ldexp(x, i, /)\n",
            "        Return x * (2**i).\n",
            "        \n",
            "        This is essentially the inverse of frexp().\n",
            "    \n",
            "    lgamma(x, /)\n",
            "        Natural logarithm of absolute value of Gamma function at x.\n",
            "    \n",
            "    log(...)\n",
            "        log(x, [base=math.e])\n",
            "        Return the logarithm of x to the given base.\n",
            "        \n",
            "        If the base not specified, returns the natural logarithm (base e) of x.\n",
            "    \n",
            "    log10(x, /)\n",
            "        Return the base 10 logarithm of x.\n",
            "    \n",
            "    log1p(x, /)\n",
            "        Return the natural logarithm of 1+x (base e).\n",
            "        \n",
            "        The result is computed in a way which is accurate for x near zero.\n",
            "    \n",
            "    log2(x, /)\n",
            "        Return the base 2 logarithm of x.\n",
            "    \n",
            "    modf(x, /)\n",
            "        Return the fractional and integer parts of x.\n",
            "        \n",
            "        Both results carry the sign of x and are floats.\n",
            "    \n",
            "    nextafter(x, y, /)\n",
            "        Return the next floating-point value after x towards y.\n",
            "    \n",
            "    perm(n, k=None, /)\n",
            "        Number of ways to choose k items from n items without repetition and with order.\n",
            "        \n",
            "        Evaluates to n! / (n - k)! when k <= n and evaluates\n",
            "        to zero when k > n.\n",
            "        \n",
            "        If k is not specified or is None, then k defaults to n\n",
            "        and the function returns n!.\n",
            "        \n",
            "        Raises TypeError if either of the arguments are not integers.\n",
            "        Raises ValueError if either of the arguments are negative.\n",
            "    \n",
            "    pow(x, y, /)\n",
            "        Return x**y (x to the power of y).\n",
            "    \n",
            "    prod(iterable, /, *, start=1)\n",
            "        Calculate the product of all the elements in the input iterable.\n",
            "        \n",
            "        The default start value for the product is 1.\n",
            "        \n",
            "        When the iterable is empty, return the start value.  This function is\n",
            "        intended specifically for use with numeric values and may reject\n",
            "        non-numeric types.\n",
            "    \n",
            "    radians(x, /)\n",
            "        Convert angle x from degrees to radians.\n",
            "    \n",
            "    remainder(x, y, /)\n",
            "        Difference between x and the closest integer multiple of y.\n",
            "        \n",
            "        Return x - n*y where n*y is the closest integer multiple of y.\n",
            "        In the case where x is exactly halfway between two multiples of\n",
            "        y, the nearest even value of n is used. The result is always exact.\n",
            "    \n",
            "    sin(x, /)\n",
            "        Return the sine of x (measured in radians).\n",
            "    \n",
            "    sinh(x, /)\n",
            "        Return the hyperbolic sine of x.\n",
            "    \n",
            "    sqrt(x, /)\n",
            "        Return the square root of x.\n",
            "    \n",
            "    tan(x, /)\n",
            "        Return the tangent of x (measured in radians).\n",
            "    \n",
            "    tanh(x, /)\n",
            "        Return the hyperbolic tangent of x.\n",
            "    \n",
            "    trunc(x, /)\n",
            "        Truncates the Real x to the nearest Integral toward 0.\n",
            "        \n",
            "        Uses the __trunc__ magic method.\n",
            "    \n",
            "    ulp(x, /)\n",
            "        Return the value of the least significant bit of the float x.\n",
            "\n",
            "DATA\n",
            "    e = 2.718281828459045\n",
            "    inf = inf\n",
            "    nan = nan\n",
            "    pi = 3.141592653589793\n",
            "    tau = 6.283185307179586\n",
            "\n",
            "FILE\n",
            "    (built-in)\n",
            "\n",
            "\n"
          ]
        }
      ]
    },
    {
      "cell_type": "code",
      "source": [
        "pi"
      ],
      "metadata": {
        "colab": {
          "base_uri": "https://localhost:8080/",
          "height": 141
        },
        "id": "k82vC6KxAJXv",
        "outputId": "2d36a617-0128-437b-febd-83295faaea40"
      },
      "execution_count": null,
      "outputs": [
        {
          "output_type": "error",
          "ename": "NameError",
          "evalue": "name 'pi' is not defined",
          "traceback": [
            "\u001b[0;31m---------------------------------------------------------------------------\u001b[0m",
            "\u001b[0;31mNameError\u001b[0m                                 Traceback (most recent call last)",
            "\u001b[0;32m<ipython-input-4-f84ab820532c>\u001b[0m in \u001b[0;36m<cell line: 1>\u001b[0;34m()\u001b[0m\n\u001b[0;32m----> 1\u001b[0;31m \u001b[0mpi\u001b[0m\u001b[0;34m\u001b[0m\u001b[0;34m\u001b[0m\u001b[0m\n\u001b[0m",
            "\u001b[0;31mNameError\u001b[0m: name 'pi' is not defined"
          ]
        }
      ]
    },
    {
      "cell_type": "code",
      "source": [
        "math.pi # module.thing_inside_the_module"
      ],
      "metadata": {
        "colab": {
          "base_uri": "https://localhost:8080/"
        },
        "id": "ff2XKF2kALQX",
        "outputId": "0c68702a-3a6f-4c9c-d6a6-c51f2d4c1077"
      },
      "execution_count": null,
      "outputs": [
        {
          "output_type": "execute_result",
          "data": {
            "text/plain": [
              "3.141592653589793"
            ]
          },
          "metadata": {},
          "execution_count": 5
        }
      ]
    },
    {
      "cell_type": "code",
      "source": [
        "id(math)"
      ],
      "metadata": {
        "colab": {
          "base_uri": "https://localhost:8080/"
        },
        "id": "QFOTz7dlARvW",
        "outputId": "337c5fa0-7fe1-4c91-85aa-6c809718aa8f"
      },
      "execution_count": null,
      "outputs": [
        {
          "output_type": "execute_result",
          "data": {
            "text/plain": [
              "140225446915392"
            ]
          },
          "metadata": {},
          "execution_count": 6
        }
      ]
    },
    {
      "cell_type": "code",
      "source": [
        "name = 'Ada Lovelace'"
      ],
      "metadata": {
        "id": "4gYCqcz6BgKp"
      },
      "execution_count": null,
      "outputs": []
    },
    {
      "cell_type": "code",
      "source": [
        "id(name)"
      ],
      "metadata": {
        "colab": {
          "base_uri": "https://localhost:8080/"
        },
        "id": "liQVjPT8Bthm",
        "outputId": "bbaae12b-e1be-460e-b650-454e3053e731"
      },
      "execution_count": null,
      "outputs": [
        {
          "output_type": "execute_result",
          "data": {
            "text/plain": [
              "140224666129904"
            ]
          },
          "metadata": {},
          "execution_count": 8
        }
      ]
    },
    {
      "cell_type": "code",
      "source": [
        "name = 'Dave' # string variable\n",
        "print('My name is', name)"
      ],
      "metadata": {
        "colab": {
          "base_uri": "https://localhost:8080/"
        },
        "id": "lcAfODmmBvVM",
        "outputId": "8341e184-5f83-4cdc-9aab-9abfbd642672"
      },
      "execution_count": null,
      "outputs": [
        {
          "output_type": "stream",
          "name": "stdout",
          "text": [
            "My name is Dave\n"
          ]
        }
      ]
    },
    {
      "cell_type": "code",
      "source": [
        "year ='2025' # normally, something like a year would be in an integer variable"
      ],
      "metadata": {
        "id": "SuDs9xrvGNgd"
      },
      "execution_count": null,
      "outputs": []
    },
    {
      "cell_type": "code",
      "source": [
        "print('The year is', year)"
      ],
      "metadata": {
        "colab": {
          "base_uri": "https://localhost:8080/"
        },
        "id": "v1knHa-UGPv4",
        "outputId": "51c619b8-06eb-4111-9e37-e74626925fb4"
      },
      "execution_count": null,
      "outputs": [
        {
          "output_type": "stream",
          "name": "stdout",
          "text": [
            "The year is 2025\n"
          ]
        }
      ]
    },
    {
      "cell_type": "code",
      "source": [
        "year"
      ],
      "metadata": {
        "colab": {
          "base_uri": "https://localhost:8080/",
          "height": 35
        },
        "id": "K0k1LITuGkKG",
        "outputId": "a119135f-26ac-409f-9824-8f2327b406f7"
      },
      "execution_count": null,
      "outputs": [
        {
          "output_type": "execute_result",
          "data": {
            "text/plain": [
              "'2025'"
            ],
            "application/vnd.google.colaboratory.intrinsic+json": {
              "type": "string"
            }
          },
          "metadata": {},
          "execution_count": 15
        }
      ]
    },
    {
      "cell_type": "code",
      "source": [
        "two_factor_code = '023812'"
      ],
      "metadata": {
        "id": "OOKGrC8CGobP"
      },
      "execution_count": null,
      "outputs": []
    },
    {
      "cell_type": "code",
      "source": [
        "print(two_factor_code)"
      ],
      "metadata": {
        "colab": {
          "base_uri": "https://localhost:8080/"
        },
        "id": "roNeV3yyG1Hu",
        "outputId": "65d7c05e-d763-4ce6-a7ca-ddd8d13c8b2b"
      },
      "execution_count": null,
      "outputs": [
        {
          "output_type": "stream",
          "name": "stdout",
          "text": [
            "023812\n"
          ]
        }
      ]
    },
    {
      "cell_type": "code",
      "source": [
        "number = 0123"
      ],
      "metadata": {
        "colab": {
          "base_uri": "https://localhost:8080/",
          "height": 106
        },
        "id": "yU1f4GPvHH3m",
        "outputId": "1f5b1309-9c6a-4567-8d72-fe7b2e0dc23e"
      },
      "execution_count": null,
      "outputs": [
        {
          "output_type": "error",
          "ename": "SyntaxError",
          "evalue": "leading zeros in decimal integer literals are not permitted; use an 0o prefix for octal integers (<ipython-input-19-fcab15fcdffa>, line 1)",
          "traceback": [
            "\u001b[0;36m  File \u001b[0;32m\"<ipython-input-19-fcab15fcdffa>\"\u001b[0;36m, line \u001b[0;32m1\u001b[0m\n\u001b[0;31m    number = 0123\u001b[0m\n\u001b[0m             ^\u001b[0m\n\u001b[0;31mSyntaxError\u001b[0m\u001b[0;31m:\u001b[0m leading zeros in decimal integer literals are not permitted; use an 0o prefix for octal integers\n"
          ]
        }
      ]
    },
    {
      "cell_type": "code",
      "source": [
        "12 / 108"
      ],
      "metadata": {
        "colab": {
          "base_uri": "https://localhost:8080/"
        },
        "id": "aIcRXyD7HJCg",
        "outputId": "d051ac12-a988-46c7-9206-d8f1d8dba4b1"
      },
      "execution_count": null,
      "outputs": [
        {
          "output_type": "execute_result",
          "data": {
            "text/plain": [
              "0.1111111111111111"
            ]
          },
          "metadata": {},
          "execution_count": 21
        }
      ]
    },
    {
      "cell_type": "code",
      "source": [
        "year = 2025"
      ],
      "metadata": {
        "id": "vtSu_e5_IPd5"
      },
      "execution_count": null,
      "outputs": []
    },
    {
      "cell_type": "code",
      "source": [
        "str(year)"
      ],
      "metadata": {
        "colab": {
          "base_uri": "https://localhost:8080/",
          "height": 35
        },
        "id": "2vXX1ousIQj7",
        "outputId": "b9305948-e71a-4d47-f7e1-37b4cbb3ff30"
      },
      "execution_count": null,
      "outputs": [
        {
          "output_type": "execute_result",
          "data": {
            "text/plain": [
              "'2025'"
            ],
            "application/vnd.google.colaboratory.intrinsic+json": {
              "type": "string"
            }
          },
          "metadata": {},
          "execution_count": 23
        }
      ]
    },
    {
      "cell_type": "code",
      "source": [
        "year"
      ],
      "metadata": {
        "colab": {
          "base_uri": "https://localhost:8080/"
        },
        "id": "d7difdoxIWtA",
        "outputId": "6485aab0-e7a1-4df7-ca52-eb902c697f9b"
      },
      "execution_count": null,
      "outputs": [
        {
          "output_type": "execute_result",
          "data": {
            "text/plain": [
              "2025"
            ]
          },
          "metadata": {},
          "execution_count": 24
        }
      ]
    },
    {
      "cell_type": "code",
      "source": [
        "max(3, 1, 2, 4)"
      ],
      "metadata": {
        "colab": {
          "base_uri": "https://localhost:8080/"
        },
        "id": "CeJf9tGUIuBi",
        "outputId": "e1e8d54a-32d7-4e5f-a7c6-0a222d2b46c0"
      },
      "execution_count": null,
      "outputs": [
        {
          "output_type": "execute_result",
          "data": {
            "text/plain": [
              "4"
            ]
          },
          "metadata": {},
          "execution_count": 25
        }
      ]
    },
    {
      "cell_type": "code",
      "source": [
        "num1 = 3\n",
        "num2 = 4"
      ],
      "metadata": {
        "id": "tio6YIAoIvXg"
      },
      "execution_count": null,
      "outputs": []
    },
    {
      "cell_type": "code",
      "source": [
        "max(num1, num2)"
      ],
      "metadata": {
        "colab": {
          "base_uri": "https://localhost:8080/"
        },
        "id": "RL59nuWfIxyi",
        "outputId": "acc4562d-8d87-4da4-ee78-65c23f789e5c"
      },
      "execution_count": null,
      "outputs": [
        {
          "output_type": "execute_result",
          "data": {
            "text/plain": [
              "4"
            ]
          },
          "metadata": {},
          "execution_count": 27
        }
      ]
    },
    {
      "cell_type": "code",
      "source": [
        "math"
      ],
      "metadata": {
        "colab": {
          "base_uri": "https://localhost:8080/"
        },
        "id": "Y-MnMyK9I2B4",
        "outputId": "e97b2b01-a56c-4979-d8e6-15e676ccd254"
      },
      "execution_count": null,
      "outputs": [
        {
          "output_type": "execute_result",
          "data": {
            "text/plain": [
              "<module 'math' (built-in)>"
            ]
          },
          "metadata": {},
          "execution_count": 28
        }
      ]
    },
    {
      "cell_type": "code",
      "source": [
        "random"
      ],
      "metadata": {
        "colab": {
          "base_uri": "https://localhost:8080/",
          "height": 141
        },
        "id": "Ees_8fKKJeJG",
        "outputId": "a7287630-0418-457c-cb0b-fc2770e2d235"
      },
      "execution_count": null,
      "outputs": [
        {
          "output_type": "error",
          "ename": "NameError",
          "evalue": "name 'random' is not defined",
          "traceback": [
            "\u001b[0;31m---------------------------------------------------------------------------\u001b[0m",
            "\u001b[0;31mNameError\u001b[0m                                 Traceback (most recent call last)",
            "\u001b[0;32m<ipython-input-29-5d64b71392b1>\u001b[0m in \u001b[0;36m<cell line: 1>\u001b[0;34m()\u001b[0m\n\u001b[0;32m----> 1\u001b[0;31m \u001b[0mrandom\u001b[0m\u001b[0;34m\u001b[0m\u001b[0;34m\u001b[0m\u001b[0m\n\u001b[0m",
            "\u001b[0;31mNameError\u001b[0m: name 'random' is not defined"
          ]
        }
      ]
    },
    {
      "cell_type": "code",
      "source": [
        "str(math)"
      ],
      "metadata": {
        "colab": {
          "base_uri": "https://localhost:8080/",
          "height": 35
        },
        "id": "gmP5Jjh6Jn7n",
        "outputId": "36c74fb2-e501-4f43-d4b9-074b37592f0c"
      },
      "execution_count": null,
      "outputs": [
        {
          "output_type": "execute_result",
          "data": {
            "text/plain": [
              "\"<module 'math' (built-in)>\""
            ],
            "application/vnd.google.colaboratory.intrinsic+json": {
              "type": "string"
            }
          },
          "metadata": {},
          "execution_count": 30
        }
      ]
    },
    {
      "cell_type": "code",
      "source": [
        "print(1, 2, 5, 'six', 4 + 5)"
      ],
      "metadata": {
        "colab": {
          "base_uri": "https://localhost:8080/"
        },
        "id": "c9T6V28OVEZ1",
        "outputId": "73bbfcdd-1cec-40e1-d5ca-fbca9b5c53c3"
      },
      "execution_count": null,
      "outputs": [
        {
          "output_type": "stream",
          "name": "stdout",
          "text": [
            "1 2 5 six 9\n"
          ]
        }
      ]
    },
    {
      "cell_type": "code",
      "source": [
        "print()\n",
        "print('something')"
      ],
      "metadata": {
        "colab": {
          "base_uri": "https://localhost:8080/"
        },
        "id": "uIDGN-zqVFx1",
        "outputId": "251049ed-0be3-4d92-b35f-600dbc45dbcc"
      },
      "execution_count": null,
      "outputs": [
        {
          "output_type": "stream",
          "name": "stdout",
          "text": [
            "\n",
            "somethign\n"
          ]
        }
      ]
    },
    {
      "cell_type": "code",
      "source": [
        "\n",
        "str(False)\n"
      ],
      "metadata": {
        "colab": {
          "base_uri": "https://localhost:8080/",
          "height": 35
        },
        "id": "z5vQkrqpVLRV",
        "outputId": "292280c3-ac8d-4a50-cbf4-b2df3a3bdfa6"
      },
      "execution_count": null,
      "outputs": [
        {
          "output_type": "execute_result",
          "data": {
            "text/plain": [
              "'False'"
            ],
            "application/vnd.google.colaboratory.intrinsic+json": {
              "type": "string"
            }
          },
          "metadata": {},
          "execution_count": 35
        }
      ]
    },
    {
      "cell_type": "code",
      "source": [
        "TRUE"
      ],
      "metadata": {
        "colab": {
          "base_uri": "https://localhost:8080/",
          "height": 141
        },
        "id": "1iEs0j-iYm16",
        "outputId": "924b1193-ae97-40f3-8e8f-6501df6cf567"
      },
      "execution_count": null,
      "outputs": [
        {
          "output_type": "error",
          "ename": "NameError",
          "evalue": "name 'TRUE' is not defined",
          "traceback": [
            "\u001b[0;31m---------------------------------------------------------------------------\u001b[0m",
            "\u001b[0;31mNameError\u001b[0m                                 Traceback (most recent call last)",
            "\u001b[0;32m<ipython-input-37-425fdcbd1209>\u001b[0m in \u001b[0;36m<cell line: 1>\u001b[0;34m()\u001b[0m\n\u001b[0;32m----> 1\u001b[0;31m \u001b[0mTRUE\u001b[0m\u001b[0;34m\u001b[0m\u001b[0;34m\u001b[0m\u001b[0m\n\u001b[0m",
            "\u001b[0;31mNameError\u001b[0m: name 'TRUE' is not defined"
          ]
        }
      ]
    },
    {
      "cell_type": "code",
      "source": [
        "false"
      ],
      "metadata": {
        "colab": {
          "base_uri": "https://localhost:8080/",
          "height": 141
        },
        "id": "CoNMNGqnYpYf",
        "outputId": "d8f1c96b-00e5-407b-a29d-f2102f4ef68a"
      },
      "execution_count": null,
      "outputs": [
        {
          "output_type": "error",
          "ename": "NameError",
          "evalue": "name 'false' is not defined",
          "traceback": [
            "\u001b[0;31m---------------------------------------------------------------------------\u001b[0m",
            "\u001b[0;31mNameError\u001b[0m                                 Traceback (most recent call last)",
            "\u001b[0;32m<ipython-input-38-b73d74fcede9>\u001b[0m in \u001b[0;36m<cell line: 1>\u001b[0;34m()\u001b[0m\n\u001b[0;32m----> 1\u001b[0;31m \u001b[0mfalse\u001b[0m\u001b[0;34m\u001b[0m\u001b[0;34m\u001b[0m\u001b[0m\n\u001b[0m",
            "\u001b[0;31mNameError\u001b[0m: name 'false' is not defined"
          ]
        }
      ]
    },
    {
      "cell_type": "code",
      "source": [
        "str(false)"
      ],
      "metadata": {
        "colab": {
          "base_uri": "https://localhost:8080/",
          "height": 141
        },
        "id": "IPc7rGN7Yv_K",
        "outputId": "ecdd1361-f4e7-4596-ea4d-55ffe78cc8a7"
      },
      "execution_count": null,
      "outputs": [
        {
          "output_type": "error",
          "ename": "NameError",
          "evalue": "name 'false' is not defined",
          "traceback": [
            "\u001b[0;31m---------------------------------------------------------------------------\u001b[0m",
            "\u001b[0;31mNameError\u001b[0m                                 Traceback (most recent call last)",
            "\u001b[0;32m<ipython-input-39-8e57d9b5e766>\u001b[0m in \u001b[0;36m<cell line: 1>\u001b[0;34m()\u001b[0m\n\u001b[0;32m----> 1\u001b[0;31m \u001b[0mstr\u001b[0m\u001b[0;34m(\u001b[0m\u001b[0mfalse\u001b[0m\u001b[0;34m)\u001b[0m\u001b[0;34m\u001b[0m\u001b[0;34m\u001b[0m\u001b[0m\n\u001b[0m",
            "\u001b[0;31mNameError\u001b[0m: name 'false' is not defined"
          ]
        }
      ]
    },
    {
      "cell_type": "code",
      "source": [
        "false = 'true'' # DO NOT DO THIS"
      ],
      "metadata": {
        "id": "y8ANdgCZY7Tf"
      },
      "execution_count": null,
      "outputs": []
    },
    {
      "cell_type": "code",
      "source": [
        "str(false)"
      ],
      "metadata": {
        "colab": {
          "base_uri": "https://localhost:8080/",
          "height": 35
        },
        "id": "s3JqoBS4ZANd",
        "outputId": "810a4145-8c2b-4b54-a969-a38e301a187e"
      },
      "execution_count": null,
      "outputs": [
        {
          "output_type": "execute_result",
          "data": {
            "text/plain": [
              "'-3'"
            ],
            "application/vnd.google.colaboratory.intrinsic+json": {
              "type": "string"
            }
          },
          "metadata": {},
          "execution_count": 43
        }
      ]
    },
    {
      "cell_type": "code",
      "source": [
        "if 4 == 2 + 3: # is 4 the same as 2 + 2\n",
        "  print('false')"
      ],
      "metadata": {
        "id": "XtJzFMLkZBE9"
      },
      "execution_count": null,
      "outputs": []
    },
    {
      "cell_type": "code",
      "source": [
        "temp = 72."
      ],
      "metadata": {
        "id": "evmJdIHGZJus"
      },
      "execution_count": null,
      "outputs": []
    },
    {
      "cell_type": "code",
      "source": [
        "type(temp)"
      ],
      "metadata": {
        "colab": {
          "base_uri": "https://localhost:8080/"
        },
        "id": "7ehgVN7Tb40E",
        "outputId": "3aec229d-faa0-4794-93cd-3196dcf9b428"
      },
      "execution_count": null,
      "outputs": [
        {
          "output_type": "execute_result",
          "data": {
            "text/plain": [
              "float"
            ]
          },
          "metadata": {},
          "execution_count": 49
        }
      ]
    },
    {
      "cell_type": "code",
      "source": [
        "import sys\n",
        "sys.version"
      ],
      "metadata": {
        "colab": {
          "base_uri": "https://localhost:8080/",
          "height": 35
        },
        "id": "RNCpuosxb5ov",
        "outputId": "34e03430-6f87-4b3d-fb6b-2bfc52c39a84"
      },
      "execution_count": null,
      "outputs": [
        {
          "output_type": "execute_result",
          "data": {
            "text/plain": [
              "'3.10.12 (main, Nov  6 2024, 20:22:13) [GCC 11.4.0]'"
            ],
            "application/vnd.google.colaboratory.intrinsic+json": {
              "type": "string"
            }
          },
          "metadata": {},
          "execution_count": 50
        }
      ]
    },
    {
      "cell_type": "code",
      "source": [
        "first = 'Margaret'\n",
        "last = 'Hamilton'"
      ],
      "metadata": {
        "id": "F18UcK1ycod3"
      },
      "execution_count": null,
      "outputs": []
    },
    {
      "cell_type": "code",
      "source": [
        "full_name = first + ' ' + last"
      ],
      "metadata": {
        "id": "jNYxhPF2e3xz"
      },
      "execution_count": null,
      "outputs": []
    },
    {
      "cell_type": "code",
      "source": [
        "full_name"
      ],
      "metadata": {
        "colab": {
          "base_uri": "https://localhost:8080/",
          "height": 35
        },
        "id": "cWlQ580we9kg",
        "outputId": "84fdf258-c505-4444-c152-015655757809"
      },
      "execution_count": null,
      "outputs": [
        {
          "output_type": "execute_result",
          "data": {
            "text/plain": [
              "'Margaret Hamilton'"
            ],
            "application/vnd.google.colaboratory.intrinsic+json": {
              "type": "string"
            }
          },
          "metadata": {},
          "execution_count": 55
        }
      ]
    },
    {
      "cell_type": "code",
      "source": [
        "readme = '''To run this code, first\n",
        "type something followed by 5\n",
        "and then do this\n",
        "\n",
        "\n",
        "PLease read the terms and hit 'y' to accept\n",
        "'''"
      ],
      "metadata": {
        "id": "EjAsOo9ufDEu"
      },
      "execution_count": null,
      "outputs": []
    },
    {
      "cell_type": "code",
      "source": [
        "print(readme)"
      ],
      "metadata": {
        "colab": {
          "base_uri": "https://localhost:8080/"
        },
        "id": "tjSX76eXgZKQ",
        "outputId": "29298ae7-eccd-4434-86bd-3c88a600bcdb"
      },
      "execution_count": null,
      "outputs": [
        {
          "output_type": "stream",
          "name": "stdout",
          "text": [
            "To run this code, first\n",
            "type something followed by 5\n",
            "and then do this\n",
            "\n",
            "\n",
            "PLease read the terms and hit 'y' to accept\n",
            "\n"
          ]
        }
      ]
    },
    {
      "cell_type": "code",
      "source": [
        "a, b, o, p = 'b', 'a', 'p', 'o' # very bad form"
      ],
      "metadata": {
        "id": "E-OzWX57gujm"
      },
      "execution_count": null,
      "outputs": []
    },
    {
      "cell_type": "markdown",
      "source": [
        "\\"
      ],
      "metadata": {
        "id": "9z6Bhm__fBH4"
      }
    },
    {
      "cell_type": "code",
      "source": [
        "o + p + o"
      ],
      "metadata": {
        "colab": {
          "base_uri": "https://localhost:8080/",
          "height": 35
        },
        "id": "LZYHHUzCg0sX",
        "outputId": "f04494e0-a7a9-40ed-bcfe-8e2a1aeff640"
      },
      "execution_count": null,
      "outputs": [
        {
          "output_type": "execute_result",
          "data": {
            "text/plain": [
              "'pop'"
            ],
            "application/vnd.google.colaboratory.intrinsic+json": {
              "type": "string"
            }
          },
          "metadata": {},
          "execution_count": 63
        }
      ]
    },
    {
      "cell_type": "code",
      "source": [
        "a + p * 2 + 'k' * 2 + 'e' * 2 + o + 'er'"
      ],
      "metadata": {
        "colab": {
          "base_uri": "https://localhost:8080/",
          "height": 35
        },
        "id": "d65BCDYrhLxy",
        "outputId": "5321889f-e400-43b6-e4a0-b0536b783f66"
      },
      "execution_count": null,
      "outputs": [
        {
          "output_type": "execute_result",
          "data": {
            "text/plain": [
              "'bookkeeper'"
            ],
            "application/vnd.google.colaboratory.intrinsic+json": {
              "type": "string"
            }
          },
          "metadata": {},
          "execution_count": 65
        }
      ]
    },
    {
      "cell_type": "code",
      "source": [
        "a * 3 + b"
      ],
      "metadata": {
        "colab": {
          "base_uri": "https://localhost:8080/",
          "height": 35
        },
        "id": "2wQ8WOWrhE6s",
        "outputId": "377657fe-843d-44fa-9beb-04f6365b7e7f"
      },
      "execution_count": null,
      "outputs": [
        {
          "output_type": "execute_result",
          "data": {
            "text/plain": [
              "'bbba'"
            ],
            "application/vnd.google.colaboratory.intrinsic+json": {
              "type": "string"
            }
          },
          "metadata": {},
          "execution_count": 64
        }
      ]
    },
    {
      "cell_type": "code",
      "source": [
        "len('Python')"
      ],
      "metadata": {
        "colab": {
          "base_uri": "https://localhost:8080/"
        },
        "id": "QXnc2X2NjdP3",
        "outputId": "7a36269d-bf17-4bd5-f9da-4ff8332381d2"
      },
      "execution_count": null,
      "outputs": [
        {
          "output_type": "execute_result",
          "data": {
            "text/plain": [
              "6"
            ]
          },
          "metadata": {},
          "execution_count": 66
        }
      ]
    },
    {
      "cell_type": "code",
      "source": [
        "len(12345) # not a container"
      ],
      "metadata": {
        "colab": {
          "base_uri": "https://localhost:8080/",
          "height": 141
        },
        "id": "gv1SLiJxjfEA",
        "outputId": "2cfe1e3e-71c0-4544-b1d3-144460ed9449"
      },
      "execution_count": null,
      "outputs": [
        {
          "output_type": "error",
          "ename": "TypeError",
          "evalue": "object of type 'int' has no len()",
          "traceback": [
            "\u001b[0;31m---------------------------------------------------------------------------\u001b[0m",
            "\u001b[0;31mTypeError\u001b[0m                                 Traceback (most recent call last)",
            "\u001b[0;32m<ipython-input-67-257449b5fba0>\u001b[0m in \u001b[0;36m<cell line: 1>\u001b[0;34m()\u001b[0m\n\u001b[0;32m----> 1\u001b[0;31m \u001b[0mlen\u001b[0m\u001b[0;34m(\u001b[0m\u001b[0;36m12345\u001b[0m\u001b[0;34m)\u001b[0m\u001b[0;34m\u001b[0m\u001b[0;34m\u001b[0m\u001b[0m\n\u001b[0m",
            "\u001b[0;31mTypeError\u001b[0m: object of type 'int' has no len()"
          ]
        }
      ]
    },
    {
      "cell_type": "code",
      "source": [
        "a = 12345"
      ],
      "metadata": {
        "id": "LNojbFvJjh2x"
      },
      "execution_count": null,
      "outputs": []
    },
    {
      "cell_type": "code",
      "source": [
        "len(a)"
      ],
      "metadata": {
        "colab": {
          "base_uri": "https://localhost:8080/",
          "height": 141
        },
        "id": "YdeLrTZljrcu",
        "outputId": "c3c02ff0-8878-4805-ca74-6217866eae91"
      },
      "execution_count": null,
      "outputs": [
        {
          "output_type": "error",
          "ename": "TypeError",
          "evalue": "object of type 'int' has no len()",
          "traceback": [
            "\u001b[0;31m---------------------------------------------------------------------------\u001b[0m",
            "\u001b[0;31mTypeError\u001b[0m                                 Traceback (most recent call last)",
            "\u001b[0;32m<ipython-input-69-1a2e6ec5f1e3>\u001b[0m in \u001b[0;36m<cell line: 1>\u001b[0;34m()\u001b[0m\n\u001b[0;32m----> 1\u001b[0;31m \u001b[0mlen\u001b[0m\u001b[0;34m(\u001b[0m\u001b[0ma\u001b[0m\u001b[0;34m)\u001b[0m\u001b[0;34m\u001b[0m\u001b[0;34m\u001b[0m\u001b[0m\n\u001b[0m",
            "\u001b[0;31mTypeError\u001b[0m: object of type 'int' has no len()"
          ]
        }
      ]
    },
    {
      "cell_type": "code",
      "source": [
        "if 4 == 2 + 2:\n",
        "  print('yep')\n"
      ],
      "metadata": {
        "colab": {
          "base_uri": "https://localhost:8080/"
        },
        "id": "iXasFcOxjufJ",
        "outputId": "68d85b71-0e30-4d95-cb28-5ddd7a683dab"
      },
      "execution_count": null,
      "outputs": [
        {
          "output_type": "stream",
          "name": "stdout",
          "text": [
            "yep\n"
          ]
        }
      ]
    },
    {
      "cell_type": "code",
      "source": [
        "import keyword\n",
        "keyword.kwlist"
      ],
      "metadata": {
        "colab": {
          "base_uri": "https://localhost:8080/"
        },
        "id": "RjzRm-K4wXDu",
        "outputId": "fec30ff3-68ec-4f8a-8486-880b1577462d"
      },
      "execution_count": null,
      "outputs": [
        {
          "output_type": "execute_result",
          "data": {
            "text/plain": [
              "['False',\n",
              " 'None',\n",
              " 'True',\n",
              " 'and',\n",
              " 'as',\n",
              " 'assert',\n",
              " 'async',\n",
              " 'await',\n",
              " 'break',\n",
              " 'class',\n",
              " 'continue',\n",
              " 'def',\n",
              " 'del',\n",
              " 'elif',\n",
              " 'else',\n",
              " 'except',\n",
              " 'finally',\n",
              " 'for',\n",
              " 'from',\n",
              " 'global',\n",
              " 'if',\n",
              " 'import',\n",
              " 'in',\n",
              " 'is',\n",
              " 'lambda',\n",
              " 'nonlocal',\n",
              " 'not',\n",
              " 'or',\n",
              " 'pass',\n",
              " 'raise',\n",
              " 'return',\n",
              " 'try',\n",
              " 'while',\n",
              " 'with',\n",
              " 'yield']"
            ]
          },
          "metadata": {},
          "execution_count": 78
        }
      ]
    },
    {
      "cell_type": "code",
      "source": [
        "number = 3\n",
        "if number == 1:\n",
        "  print('one')\n",
        "elif number == 2:\n",
        "  print('two')\n",
        "elif number == 3:\n",
        "  print('three')\n",
        "else:\n",
        "  print('too big')"
      ],
      "metadata": {
        "colab": {
          "base_uri": "https://localhost:8080/"
        },
        "id": "pRWd7WupxB82",
        "outputId": "659e57bc-4171-4219-b3ae-bd5a143d2823"
      },
      "execution_count": null,
      "outputs": [
        {
          "output_type": "stream",
          "name": "stdout",
          "text": [
            "three\n"
          ]
        }
      ]
    },
    {
      "cell_type": "code",
      "source": [
        "int(2.5)"
      ],
      "metadata": {
        "colab": {
          "base_uri": "https://localhost:8080/"
        },
        "id": "MpOembosy-Qj",
        "outputId": "50107468-2f73-42e9-b8a7-c19e09628d29"
      },
      "execution_count": null,
      "outputs": [
        {
          "output_type": "execute_result",
          "data": {
            "text/plain": [
              "2"
            ]
          },
          "metadata": {},
          "execution_count": 82
        }
      ]
    },
    {
      "cell_type": "code",
      "source": [
        "int('2.5')"
      ],
      "metadata": {
        "colab": {
          "base_uri": "https://localhost:8080/",
          "height": 141
        },
        "id": "mfUtgYhZzwPA",
        "outputId": "08317841-603a-40d2-8a9e-050697bd49dd"
      },
      "execution_count": null,
      "outputs": [
        {
          "output_type": "error",
          "ename": "ValueError",
          "evalue": "invalid literal for int() with base 10: '2.5'",
          "traceback": [
            "\u001b[0;31m---------------------------------------------------------------------------\u001b[0m",
            "\u001b[0;31mValueError\u001b[0m                                Traceback (most recent call last)",
            "\u001b[0;32m<ipython-input-83-51dfdf260f91>\u001b[0m in \u001b[0;36m<cell line: 1>\u001b[0;34m()\u001b[0m\n\u001b[0;32m----> 1\u001b[0;31m \u001b[0mint\u001b[0m\u001b[0;34m(\u001b[0m\u001b[0;34m'2.5'\u001b[0m\u001b[0;34m)\u001b[0m\u001b[0;34m\u001b[0m\u001b[0;34m\u001b[0m\u001b[0m\n\u001b[0m",
            "\u001b[0;31mValueError\u001b[0m: invalid literal for int() with base 10: '2.5'"
          ]
        }
      ]
    },
    {
      "cell_type": "code",
      "source": [
        "# the in operator checks to see if an object is in a container or not"
      ],
      "metadata": {
        "id": "8TxiSwUGzypM"
      },
      "execution_count": null,
      "outputs": []
    },
    {
      "cell_type": "code",
      "source": [
        "'N' in 'Old Navy'"
      ],
      "metadata": {
        "colab": {
          "base_uri": "https://localhost:8080/"
        },
        "id": "zyIh2eVe1cg6",
        "outputId": "f9b3b278-f1c4-4475-e25e-19d4c88bc512"
      },
      "execution_count": null,
      "outputs": [
        {
          "output_type": "execute_result",
          "data": {
            "text/plain": [
              "True"
            ]
          },
          "metadata": {},
          "execution_count": 85
        }
      ]
    },
    {
      "cell_type": "code",
      "source": [
        "'Navy' in 'Old Navy'"
      ],
      "metadata": {
        "colab": {
          "base_uri": "https://localhost:8080/"
        },
        "id": "YSqCURdM1pm-",
        "outputId": "9dade193-a4ec-4f94-c086-efd402d66ad3"
      },
      "execution_count": null,
      "outputs": [
        {
          "output_type": "execute_result",
          "data": {
            "text/plain": [
              "True"
            ]
          },
          "metadata": {},
          "execution_count": 86
        }
      ]
    },
    {
      "cell_type": "code",
      "source": [
        "'Nv' in 'Old Navy'"
      ],
      "metadata": {
        "colab": {
          "base_uri": "https://localhost:8080/"
        },
        "id": "1a7eH_u11s54",
        "outputId": "1038b262-f5a7-49c6-dccf-53b48e861f7a"
      },
      "execution_count": null,
      "outputs": [
        {
          "output_type": "execute_result",
          "data": {
            "text/plain": [
              "False"
            ]
          },
          "metadata": {},
          "execution_count": 87
        }
      ]
    },
    {
      "cell_type": "code",
      "source": [
        "style = 123456"
      ],
      "metadata": {
        "id": "x6dVkIVt1zO7"
      },
      "execution_count": null,
      "outputs": []
    },
    {
      "cell_type": "code",
      "source": [
        "str(style)"
      ],
      "metadata": {
        "colab": {
          "base_uri": "https://localhost:8080/",
          "height": 35
        },
        "id": "KpRWJY_z2EBK",
        "outputId": "ca9cb1c9-32f1-4f0f-da60-b55d8a364f5a"
      },
      "execution_count": null,
      "outputs": [
        {
          "output_type": "execute_result",
          "data": {
            "text/plain": [
              "'123456'"
            ],
            "application/vnd.google.colaboratory.intrinsic+json": {
              "type": "string"
            }
          },
          "metadata": {},
          "execution_count": 89
        }
      ]
    },
    {
      "cell_type": "code",
      "source": [
        "'4' in str(style)"
      ],
      "metadata": {
        "colab": {
          "base_uri": "https://localhost:8080/"
        },
        "id": "LzcWmXiV2PCe",
        "outputId": "40508825-e549-43f0-e6d6-05b1def5578c"
      },
      "execution_count": null,
      "outputs": [
        {
          "output_type": "execute_result",
          "data": {
            "text/plain": [
              "True"
            ]
          },
          "metadata": {},
          "execution_count": 90
        }
      ]
    },
    {
      "cell_type": "code",
      "source": [
        "style[-1]"
      ],
      "metadata": {
        "colab": {
          "base_uri": "https://localhost:8080/",
          "height": 141
        },
        "id": "-rI_Hn3P2TMK",
        "outputId": "da317e9b-50da-465f-a353-a3f0302ad4d5"
      },
      "execution_count": null,
      "outputs": [
        {
          "output_type": "error",
          "ename": "TypeError",
          "evalue": "'int' object is not subscriptable",
          "traceback": [
            "\u001b[0;31m---------------------------------------------------------------------------\u001b[0m",
            "\u001b[0;31mTypeError\u001b[0m                                 Traceback (most recent call last)",
            "\u001b[0;32m<ipython-input-91-4679195af815>\u001b[0m in \u001b[0;36m<cell line: 1>\u001b[0;34m()\u001b[0m\n\u001b[0;32m----> 1\u001b[0;31m \u001b[0mstyle\u001b[0m\u001b[0;34m[\u001b[0m\u001b[0;34m-\u001b[0m\u001b[0;36m1\u001b[0m\u001b[0;34m]\u001b[0m\u001b[0;34m\u001b[0m\u001b[0;34m\u001b[0m\u001b[0m\n\u001b[0m",
            "\u001b[0;31mTypeError\u001b[0m: 'int' object is not subscriptable"
          ]
        }
      ]
    },
    {
      "cell_type": "code",
      "source": [
        "str(style)[-1]"
      ],
      "metadata": {
        "colab": {
          "base_uri": "https://localhost:8080/",
          "height": 35
        },
        "id": "_SF4G89J2iO9",
        "outputId": "cb2affad-60f2-43a3-a3a4-9facac2c94ef"
      },
      "execution_count": null,
      "outputs": [
        {
          "output_type": "execute_result",
          "data": {
            "text/plain": [
              "'6'"
            ],
            "application/vnd.google.colaboratory.intrinsic+json": {
              "type": "string"
            }
          },
          "metadata": {},
          "execution_count": 92
        }
      ]
    },
    {
      "cell_type": "code",
      "source": [
        "import random"
      ],
      "metadata": {
        "id": "1CgLMl5o2mho"
      },
      "execution_count": null,
      "outputs": []
    },
    {
      "cell_type": "code",
      "source": [
        "dir(random)"
      ],
      "metadata": {
        "colab": {
          "base_uri": "https://localhost:8080/"
        },
        "id": "MO7wW4EU5gev",
        "outputId": "9de735ac-d91b-4d71-9127-1bdd78fccb44"
      },
      "execution_count": null,
      "outputs": [
        {
          "output_type": "execute_result",
          "data": {
            "text/plain": [
              "['BPF',\n",
              " 'LOG4',\n",
              " 'NV_MAGICCONST',\n",
              " 'RECIP_BPF',\n",
              " 'Random',\n",
              " 'SG_MAGICCONST',\n",
              " 'SystemRandom',\n",
              " 'TWOPI',\n",
              " '_ONE',\n",
              " '_Sequence',\n",
              " '_Set',\n",
              " '__all__',\n",
              " '__builtins__',\n",
              " '__cached__',\n",
              " '__doc__',\n",
              " '__file__',\n",
              " '__loader__',\n",
              " '__name__',\n",
              " '__package__',\n",
              " '__spec__',\n",
              " '_accumulate',\n",
              " '_acos',\n",
              " '_bisect',\n",
              " '_ceil',\n",
              " '_cos',\n",
              " '_e',\n",
              " '_exp',\n",
              " '_floor',\n",
              " '_index',\n",
              " '_inst',\n",
              " '_isfinite',\n",
              " '_log',\n",
              " '_os',\n",
              " '_pi',\n",
              " '_random',\n",
              " '_repeat',\n",
              " '_sha512',\n",
              " '_sin',\n",
              " '_sqrt',\n",
              " '_test',\n",
              " '_test_generator',\n",
              " '_urandom',\n",
              " '_warn',\n",
              " 'betavariate',\n",
              " 'choice',\n",
              " 'choices',\n",
              " 'expovariate',\n",
              " 'gammavariate',\n",
              " 'gauss',\n",
              " 'getrandbits',\n",
              " 'getstate',\n",
              " 'lognormvariate',\n",
              " 'normalvariate',\n",
              " 'paretovariate',\n",
              " 'randbytes',\n",
              " 'randint',\n",
              " 'random',\n",
              " 'randrange',\n",
              " 'sample',\n",
              " 'seed',\n",
              " 'setstate',\n",
              " 'shuffle',\n",
              " 'triangular',\n",
              " 'uniform',\n",
              " 'vonmisesvariate',\n",
              " 'weibullvariate']"
            ]
          },
          "metadata": {},
          "execution_count": 94
        }
      ]
    },
    {
      "cell_type": "code",
      "source": [
        "help(random.randint)"
      ],
      "metadata": {
        "colab": {
          "base_uri": "https://localhost:8080/"
        },
        "id": "wp_cE4r25iJg",
        "outputId": "7849e544-8282-4655-947f-4afc6cfb2335"
      },
      "execution_count": null,
      "outputs": [
        {
          "output_type": "stream",
          "name": "stdout",
          "text": [
            "Help on method randint in module random:\n",
            "\n",
            "randint(a, b) method of random.Random instance\n",
            "    Return random integer in range [a, b], including both end points.\n",
            "\n"
          ]
        }
      ]
    },
    {
      "cell_type": "code",
      "source": [
        "input?"
      ],
      "metadata": {
        "id": "qN9PYRjk5qcL"
      },
      "execution_count": null,
      "outputs": []
    },
    {
      "cell_type": "code",
      "source": [
        "random.seed(3)\n",
        "random.randint(1, 100)"
      ],
      "metadata": {
        "colab": {
          "base_uri": "https://localhost:8080/"
        },
        "id": "i9sHAs1p-X9c",
        "outputId": "3bb05bff-0136-4adc-9019-a8ae05560676"
      },
      "execution_count": null,
      "outputs": [
        {
          "output_type": "execute_result",
          "data": {
            "text/plain": [
              "31"
            ]
          },
          "metadata": {},
          "execution_count": 107
        }
      ]
    },
    {
      "cell_type": "code",
      "source": [
        "for number in range(10, 0): # empty range, nothing to print\n",
        "  print(number)"
      ],
      "metadata": {
        "id": "MNjZBHYR-ZUM"
      },
      "execution_count": null,
      "outputs": []
    },
    {
      "cell_type": "code",
      "source": [
        "for letter in 'Python':\n",
        "    print(letter)"
      ],
      "metadata": {
        "colab": {
          "base_uri": "https://localhost:8080/"
        },
        "id": "_VlBqx-tq3uw",
        "outputId": "d975a8d7-344f-4d84-f168-d54d16d89dfe"
      },
      "execution_count": null,
      "outputs": [
        {
          "output_type": "stream",
          "name": "stdout",
          "text": [
            "P\n",
            "y\n",
            "t\n",
            "h\n",
            "o\n",
            "n\n"
          ]
        }
      ]
    },
    {
      "cell_type": "code",
      "source": [
        "for letter in '': # empty string, nothing to print\n",
        "    print(letter)"
      ],
      "metadata": {
        "id": "7MgbWNXwrg4J"
      },
      "execution_count": null,
      "outputs": []
    },
    {
      "cell_type": "code",
      "source": [
        "for number in range(10, 11):\n",
        "    print(number)"
      ],
      "metadata": {
        "colab": {
          "base_uri": "https://localhost:8080/"
        },
        "id": "jz8ifXdrr6XP",
        "outputId": "5683b7a7-1e7a-4fab-f428-f043d1ff8e22"
      },
      "execution_count": null,
      "outputs": [
        {
          "output_type": "stream",
          "name": "stdout",
          "text": [
            "10\n"
          ]
        }
      ]
    },
    {
      "cell_type": "code",
      "source": [
        "for number in range(10, 10):\n",
        "    print(number)"
      ],
      "metadata": {
        "id": "Atdvwwe9sDFB"
      },
      "execution_count": null,
      "outputs": []
    },
    {
      "cell_type": "markdown",
      "source": [
        "## Quick Lab: Loops/Strings\n",
        "* have the user enter a string, then loop through the string to generate (or print) a new string in which every character is doubled, e.g., \"Python\" => \"PPyytthhoonn\""
      ],
      "metadata": {
        "id": "_sS_1dAZtGr_"
      }
    },
    {
      "cell_type": "code",
      "source": [
        "# 1. get a string from the user and store it\n",
        "# 2. for each character in the string:\n",
        "# 3.     print it out twice\n",
        "\n",
        "text = input('some prompt') # 1\n",
        "for  character in text: # 2\n",
        "  print(character + character, end='') # 3"
      ],
      "metadata": {
        "colab": {
          "base_uri": "https://localhost:8080/"
        },
        "id": "wv9YdfpgtHYf",
        "outputId": "2f7ade1e-ceb7-4fb8-bbad-bf59e3060c57"
      },
      "execution_count": null,
      "outputs": [
        {
          "output_type": "stream",
          "name": "stdout",
          "text": [
            "some prompthello\n",
            "hheelllloo"
          ]
        }
      ]
    },
    {
      "cell_type": "code",
      "source": [
        "text = input('Enter some text: ')\n",
        "text_new = ''\n",
        "for char in text:\n",
        "    print('before concatenation, text_new =', text_new)\n",
        "    text_new += char * 3 # text_new = text_new + char * 3\n",
        "    print('after concatenation, text_new =', text_new, end='\\n\\n')\n",
        "print('final version:', text_new)"
      ],
      "metadata": {
        "colab": {
          "base_uri": "https://localhost:8080/"
        },
        "id": "z_G79iaPtj9C",
        "outputId": "eea1bfb8-837a-4791-d5b6-7606ecffcac4"
      },
      "execution_count": null,
      "outputs": [
        {
          "output_type": "stream",
          "name": "stdout",
          "text": [
            "Enter some text: Output\n",
            "before concatenation, text_new = OOO\n",
            "after concatenation, text_new = OOO\n",
            "\n",
            "before concatenation, text_new = OOOuuu\n",
            "after concatenation, text_new = OOOuuu\n",
            "\n",
            "before concatenation, text_new = OOOuuuttt\n",
            "after concatenation, text_new = OOOuuuttt\n",
            "\n",
            "before concatenation, text_new = OOOuuutttppp\n",
            "after concatenation, text_new = OOOuuutttppp\n",
            "\n",
            "before concatenation, text_new = OOOuuutttpppuuu\n",
            "after concatenation, text_new = OOOuuutttpppuuu\n",
            "\n",
            "before concatenation, text_new = OOOuuutttpppuuuttt\n",
            "after concatenation, text_new = OOOuuutttpppuuuttt\n",
            "\n",
            "final version: OOOuuutttpppuuuttt\n"
          ]
        }
      ]
    },
    {
      "cell_type": "markdown",
      "source": [
        "## Quick Lab: Loops/Numbers\n",
        "* write Python code to generate a 6-digit access/security code, like you get when your try to log in to a website and it sends a code to your phone...e.g., 031728"
      ],
      "metadata": {
        "id": "0bogFkvL9cbl"
      }
    },
    {
      "cell_type": "code",
      "source": [
        "import random\n",
        "random.randint(100_000, 999_999) # this will never produce a 0 in the first position"
      ],
      "metadata": {
        "colab": {
          "base_uri": "https://localhost:8080/"
        },
        "id": "aGBkOOWzLkvu",
        "outputId": "b68d8b2a-b068-47c2-9919-31ad0862d2d0"
      },
      "execution_count": null,
      "outputs": [
        {
          "output_type": "execute_result",
          "data": {
            "text/plain": [
              "127257"
            ]
          },
          "metadata": {},
          "execution_count": 60
        }
      ]
    },
    {
      "cell_type": "code",
      "source": [
        "# Pseudocode (\"a mix of English and code which eschews the details/idiosyncrasies of the language\")\n",
        "# 1. do this 6 times:\n",
        "# 2.   generate a random digit from 0..9\n",
        "# 3. \"construct\" the final code from the 6 digits\n",
        "\n",
        "# or...\n",
        "\n",
        "# 1. start with an empty code string\n",
        "# 2. for times from 1..6:\n",
        "# 3.    generate a random digit from 0..9\n",
        "# 4.    append the digit to the code string (details don't matter here)"
      ],
      "metadata": {
        "id": "ykPLM1wp9luZ"
      },
      "execution_count": null,
      "outputs": []
    },
    {
      "cell_type": "code",
      "source": [
        "import random # need this to generate random numbers\n",
        "code = '' # 1\n",
        "\n",
        "for _ in range(6): # 2 \"do this 6 times\"\n",
        "    digit = random.randint(0, 9) # 3\n",
        "    code += str(digit) # 4 # we could combine steps 3 and 4\n",
        "    # print(digit, end='')\n",
        "print(code)"
      ],
      "metadata": {
        "colab": {
          "base_uri": "https://localhost:8080/"
        },
        "id": "_oURR2q9CSN5",
        "outputId": "db7d86d6-605c-49ab-cea8-4b69e76c0eb6"
      },
      "execution_count": null,
      "outputs": [
        {
          "output_type": "stream",
          "name": "stdout",
          "text": [
            "058303\n"
          ]
        }
      ]
    },
    {
      "cell_type": "markdown",
      "source": [
        "## Lab: Fibonacci\n",
        "* write code to print out the Fibonacci sequence up to a number of the user's choosing\n",
        "* user will enter either number of Fibonacci numbers they want to see or the maximum Fibonacci number they want to see (either a for loop or while loop)\n",
        "* first Fibonacci is 1, second Fibonacci is also 1, and every subsequent Fibonacci number is the sum of the previous two (1, 1, 2, 3, 5, 8, 13, 21, 34, ...)"
      ],
      "metadata": {
        "id": "BXVioILh-Umh"
      }
    },
    {
      "cell_type": "code",
      "source": [
        "# for loop version (ask user how many Fibonacci numbers they want to generate)\n",
        "# 1. get a number from the user representing number of Fibonacci numbers\n",
        "# 1a. keep track of previous and current Fibonacci numbers (start with 0, 1)\n",
        "# 1b. print out first two Fibonacci numbers.. 0 and 1\n",
        "# 2. for count from 1 to that number (or \"do something that many times\"):\n",
        "# 3.     hold on to previous number (we'll need it for step 5)\n",
        "# 4.     set previous to current\n",
        "# 5.     set current to previous + current\n",
        "# 6.     print current number\n",
        "\n",
        "# while loop version (ask user for max number they want to see)\n",
        "# 1. get a number from the user representing max number to see\n",
        "# 1a. keep track of previous and current Fibonacci numbers (start with 0, 1)\n",
        "# 1b. print out first two Fibonacci numbers.. 0 and 1\n",
        "# 2.  while current number < max number:\n",
        "# 3.     hold on to previous number (we'll need it for step 5)\n",
        "# 4.     set previous to current\n",
        "# 5.     set current to previous + current\n",
        "# 6.     print current number"
      ],
      "metadata": {
        "id": "kJPWzfsD-RiG"
      },
      "execution_count": null,
      "outputs": []
    },
    {
      "cell_type": "code",
      "source": [
        "# for loop version\n",
        "how_many = int(input('How many Fibonacci numbers do you want me to generate (2 or more)? ')) # 1\n",
        "previous = 0 # 1a\n",
        "current = 1 # 1a\n",
        "print(previous, current, end=' ') # 1b\n",
        "\n",
        "for _ in range(how_many - 2): # 2 \"do this how_many - 2 times\")\n",
        "    temp = previous # 3\n",
        "    previous = current # 4\n",
        "    current = temp + previous # 5\n",
        "    print(current, end=' ') # 6\n",
        "\n",
        "print() # print a final newline"
      ],
      "metadata": {
        "colab": {
          "base_uri": "https://localhost:8080/"
        },
        "id": "t1t37D1WCP9Q",
        "outputId": "1a285bc0-bfcb-44e7-de0b-afa98bffc74f"
      },
      "execution_count": null,
      "outputs": [
        {
          "output_type": "stream",
          "name": "stdout",
          "text": [
            "How many Fibonacci numbers do you want me to generate (2 or more)? -5\n",
            "0 1 \n"
          ]
        }
      ]
    },
    {
      "cell_type": "code",
      "source": [
        "# while loop version\n",
        "max_number = int(input('What is the maximum Fibonacci number you want me to generate? ')) # 1\n",
        "previous = 0 # 1a\n",
        "current = 1 # 1a\n",
        "print(previous, current, end=' ') # 1b\n",
        "\n",
        "while previous + current <= max_number: # 2\n",
        "    temp = previous # 3\n",
        "    previous = current # 4\n",
        "    current = temp + previous # 5\n",
        "    print(current, end=' ') # 6"
      ],
      "metadata": {
        "colab": {
          "base_uri": "https://localhost:8080/"
        },
        "id": "P6VLQO-hDtpn",
        "outputId": "d77e522c-d959-485c-81f1-fe5ea98f7a2b"
      },
      "execution_count": null,
      "outputs": [
        {
          "output_type": "stream",
          "name": "stdout",
          "text": [
            "What is the maximum Fibonacci number you want me to generate? 0\n",
            "0 1 "
          ]
        }
      ]
    },
    {
      "cell_type": "code",
      "source": [
        "# Bugs in above?"
      ],
      "metadata": {
        "id": "qxI8sVV3E3AI"
      },
      "execution_count": null,
      "outputs": []
    },
    {
      "cell_type": "markdown",
      "source": [
        "## Lab: Prime Numbers\n",
        "* write code to print out the numbers from 2 to 25 inclusive and indicate whether the number is prime and if it's not prime, write the number as a product of two factors, e.g.,\n",
        "* a prime number is a number that has no divisors other than itself and 1\n",
        "<pre>\n",
        "2 is prime\n",
        "3 is prime\n",
        "4 equals 2 * 2\n",
        "5 is prime\n",
        "6 equals 2 * 3\n",
        "7 is prime\n",
        "8 equals 2 * 4\n",
        "9 equals 3 * 3\n",
        "10 equals 2 * 5\n",
        "11 is prime\n",
        "12 equals 2 * 6\n",
        "13 is prime\n",
        "14 equals 2 * 7\n",
        "15 equals 3 * 5\n",
        "16 equals 2 * 8\n",
        "17 is prime\n",
        "18 equals 2 * 9\n",
        "19 is prime\n",
        "20 equals 2 * 10\n",
        "21 equals 3 * 7\n",
        "22 equals 2 * 11\n",
        "23 is prime\n",
        "24 equals 2 * 12\n",
        "25 equals 5 * 5\n",
        "</pre>"
      ],
      "metadata": {
        "id": "LFo6KgVMFCea"
      }
    },
    {
      "cell_type": "code",
      "source": [
        "# 1. for each number from 2 to 25:\n",
        "# 1a.   prime (start out assuming it's prime)\n",
        "# 2.    for each possible divisor from 2 up to number-1\n",
        "# 3.         if number divides evenly by possible divisor:\n",
        "# 4.             print \"number is divisible by possible divisor\"\n",
        "# 4a.            now we know it's not prime\n",
        "# 5.             stop checking numbers (break)\n",
        "# 6.    if it's (still) prime:\n",
        "# 7.         print \"is prime\""
      ],
      "metadata": {
        "id": "k-OFqXdNFMLo"
      },
      "execution_count": null,
      "outputs": []
    },
    {
      "cell_type": "code",
      "source": [
        "for number in range(2, 26): # 1\n",
        "    is_prime = True # start out by assuming the number is prime\n",
        "    for possible_divisor in range(2, number): # 2\n",
        "        if number % possible_divisor == 0: # 3, it in fact is NOT prime\n",
        "            is_prime = False # we found a divisor, ergo NOT PRIME\n",
        "            print(number, 'equals', possible_divisor, '*', number // possible_divisor) # 4\n",
        "            break # 5\n",
        "    if is_prime: # == True:\n",
        "        print(number, 'is prime') # 7"
      ],
      "metadata": {
        "colab": {
          "base_uri": "https://localhost:8080/"
        },
        "id": "yndZv-Q3FNik",
        "outputId": "0d57c156-9498-4426-879f-ca95db2a08fd"
      },
      "execution_count": null,
      "outputs": [
        {
          "output_type": "stream",
          "name": "stdout",
          "text": [
            "2 is prime\n",
            "3 is prime\n",
            "4 equals 2 * 2\n",
            "5 is prime\n",
            "6 equals 2 * 3\n",
            "7 is prime\n",
            "8 equals 2 * 4\n",
            "9 equals 3 * 3\n",
            "10 equals 2 * 5\n",
            "11 is prime\n",
            "12 equals 2 * 6\n",
            "13 is prime\n",
            "14 equals 2 * 7\n",
            "15 equals 3 * 5\n",
            "16 equals 2 * 8\n",
            "17 is prime\n",
            "18 equals 2 * 9\n",
            "19 is prime\n",
            "20 equals 2 * 10\n",
            "21 equals 3 * 7\n",
            "22 equals 2 * 11\n",
            "23 is prime\n",
            "24 equals 2 * 12\n",
            "25 equals 5 * 5\n"
          ]
        }
      ]
    },
    {
      "cell_type": "code",
      "source": [
        "# we can also leverage a unique feature of Python\n",
        "\n",
        "for number in range(2, 26): # 1\n",
        "    for possible_divisor in range(2, number): # 2\n",
        "        if number % possible_divisor == 0: # 3, it in fact is NOT prime\n",
        "            print(number, 'equals', possible_divisor, '*', number // possible_divisor) # 4\n",
        "            break # skips over the else clause\n",
        "    else: # only run the code in the else clause IF we did not break\n",
        "        print(number, 'is prime') # 7"
      ],
      "metadata": {
        "colab": {
          "base_uri": "https://localhost:8080/"
        },
        "id": "RLiPuqingEG-",
        "outputId": "7d9138b6-f0df-4d29-c606-44afaf3326ed"
      },
      "execution_count": null,
      "outputs": [
        {
          "output_type": "stream",
          "name": "stdout",
          "text": [
            "2 is prime\n",
            "3 is prime\n",
            "4 equals 2 * 2\n",
            "5 is prime\n",
            "6 equals 2 * 3\n",
            "7 is prime\n",
            "8 equals 2 * 4\n",
            "9 equals 3 * 3\n",
            "10 equals 2 * 5\n",
            "11 is prime\n",
            "12 equals 2 * 6\n",
            "13 is prime\n",
            "14 equals 2 * 7\n",
            "15 equals 3 * 5\n",
            "16 equals 2 * 8\n",
            "17 is prime\n",
            "18 equals 2 * 9\n",
            "19 is prime\n",
            "20 equals 2 * 10\n",
            "21 equals 3 * 7\n",
            "22 equals 2 * 11\n",
            "23 is prime\n",
            "24 equals 2 * 12\n",
            "25 equals 5 * 5\n"
          ]
        }
      ]
    },
    {
      "cell_type": "code",
      "source": [
        "# another quick example of nested loops is multiplication tables\n",
        "limit = int(input('Print multiplication tables up to what number? '))\n",
        "for number in range(1, limit + 1):\n",
        "    for multiplier in range(1, limit + 1):\n",
        "        #print(number * multiplier, end='\\t')\n",
        "        print(f'{number * multiplier:8d}', end=' ')\n",
        "    print()"
      ],
      "metadata": {
        "colab": {
          "base_uri": "https://localhost:8080/"
        },
        "id": "Xdk9fSlSGTZj",
        "outputId": "571e8ab1-a98b-44d9-e56a-f55c8d521613"
      },
      "execution_count": null,
      "outputs": [
        {
          "output_type": "stream",
          "name": "stdout",
          "text": [
            "Print multiplication tables up to what number? 12\n",
            "       1        2        3        4        5        6        7        8        9       10       11       12 \n",
            "       2        4        6        8       10       12       14       16       18       20       22       24 \n",
            "       3        6        9       12       15       18       21       24       27       30       33       36 \n",
            "       4        8       12       16       20       24       28       32       36       40       44       48 \n",
            "       5       10       15       20       25       30       35       40       45       50       55       60 \n",
            "       6       12       18       24       30       36       42       48       54       60       66       72 \n",
            "       7       14       21       28       35       42       49       56       63       70       77       84 \n",
            "       8       16       24       32       40       48       56       64       72       80       88       96 \n",
            "       9       18       27       36       45       54       63       72       81       90       99      108 \n",
            "      10       20       30       40       50       60       70       80       90      100      110      120 \n",
            "      11       22       33       44       55       66       77       88       99      110      121      132 \n",
            "      12       24       36       48       60       72       84       96      108      120      132      144 \n"
          ]
        }
      ]
    },
    {
      "cell_type": "code",
      "source": [
        "1number = 12345"
      ],
      "metadata": {
        "id": "rVagU40X2iKA"
      },
      "execution_count": null,
      "outputs": []
    },
    {
      "cell_type": "code",
      "source": [
        "str(number)[-1]"
      ],
      "metadata": {
        "colab": {
          "base_uri": "https://localhost:8080/",
          "height": 35
        },
        "id": "OmyYkOFy_F4r",
        "outputId": "c279fe31-5965-443a-e0b4-d6f264d68db0"
      },
      "execution_count": null,
      "outputs": [
        {
          "output_type": "execute_result",
          "data": {
            "text/plain": [
              "'5'"
            ],
            "application/vnd.google.colaboratory.intrinsic+json": {
              "type": "string"
            }
          },
          "metadata": {},
          "execution_count": 27
        }
      ]
    },
    {
      "cell_type": "code",
      "source": [
        "'3' in str(number)"
      ],
      "metadata": {
        "colab": {
          "base_uri": "https://localhost:8080/"
        },
        "id": "c30b1sne_Hpr",
        "outputId": "896e365b-ece3-449b-a093-041a9ac4f92e"
      },
      "execution_count": null,
      "outputs": [
        {
          "output_type": "execute_result",
          "data": {
            "text/plain": [
              "True"
            ]
          },
          "metadata": {},
          "execution_count": 28
        }
      ]
    },
    {
      "cell_type": "code",
      "source": [
        "number % 10"
      ],
      "metadata": {
        "colab": {
          "base_uri": "https://localhost:8080/"
        },
        "id": "YKne8auQ_Jh8",
        "outputId": "b217abe2-5d7b-4491-d8a2-d770bd3a3882"
      },
      "execution_count": null,
      "outputs": [
        {
          "output_type": "execute_result",
          "data": {
            "text/plain": [
              "5"
            ]
          },
          "metadata": {},
          "execution_count": 29
        }
      ]
    },
    {
      "cell_type": "code",
      "source": [
        "# f-string (format)\n",
        "name = 'Taylor Swift'\n",
        "birth_year = 1989\n"
      ],
      "metadata": {
        "id": "QW7PJIM__Ooc"
      },
      "execution_count": null,
      "outputs": []
    },
    {
      "cell_type": "code",
      "source": [
        "print(name, 'was born in the year', birth_year)"
      ],
      "metadata": {
        "colab": {
          "base_uri": "https://localhost:8080/"
        },
        "id": "jx2lvkL2k6pG",
        "outputId": "8d956449-b0af-4f40-e578-1df11514750e"
      },
      "execution_count": null,
      "outputs": [
        {
          "output_type": "stream",
          "name": "stdout",
          "text": [
            "Taylor Swift was born in the year 1989\n"
          ]
        }
      ]
    },
    {
      "cell_type": "code",
      "source": [
        "print(f'{name} was born in the year {birth_year}')"
      ],
      "metadata": {
        "colab": {
          "base_uri": "https://localhost:8080/"
        },
        "id": "1bVGuiLUk_k4",
        "outputId": "767710fa-d999-4f5b-b269-7cf5203099d8"
      },
      "execution_count": null,
      "outputs": [
        {
          "output_type": "stream",
          "name": "stdout",
          "text": [
            "{name} was born in the year {birth_year}\n"
          ]
        }
      ]
    },
    {
      "cell_type": "code",
      "source": [
        "num1 = 3\n",
        "num2 = 4"
      ],
      "metadata": {
        "id": "cC42KBwClSWa"
      },
      "execution_count": null,
      "outputs": []
    },
    {
      "cell_type": "code",
      "source": [
        "print(f'{num1} * {num2} = {num1 * num2}')"
      ],
      "metadata": {
        "colab": {
          "base_uri": "https://localhost:8080/"
        },
        "id": "4tosz0WPlZJu",
        "outputId": "fa1ec8cb-3586-4a67-fa2f-030c6ab06f52"
      },
      "execution_count": null,
      "outputs": [
        {
          "output_type": "stream",
          "name": "stdout",
          "text": [
            "3 * 4 = 12\n"
          ]
        }
      ]
    },
    {
      "cell_type": "code",
      "source": [
        "print(num1, '*', num2, '=', num1 * num2)"
      ],
      "metadata": {
        "colab": {
          "base_uri": "https://localhost:8080/"
        },
        "id": "MX1xqzSsleyu",
        "outputId": "42721e69-095b-4225-f641-148683cebdd7"
      },
      "execution_count": null,
      "outputs": [
        {
          "output_type": "stream",
          "name": "stdout",
          "text": [
            "3 * 4 = 12\n"
          ]
        }
      ]
    },
    {
      "cell_type": "code",
      "source": [
        "import math"
      ],
      "metadata": {
        "id": "PdLVWXG5ljY1"
      },
      "execution_count": null,
      "outputs": []
    },
    {
      "cell_type": "code",
      "source": [
        "dir(math)"
      ],
      "metadata": {
        "colab": {
          "base_uri": "https://localhost:8080/"
        },
        "id": "XYMbmt6Om0ce",
        "outputId": "75c8d699-6da2-409f-b8ca-77931446052b"
      },
      "execution_count": null,
      "outputs": [
        {
          "output_type": "execute_result",
          "data": {
            "text/plain": [
              "['__doc__',\n",
              " '__loader__',\n",
              " '__name__',\n",
              " '__package__',\n",
              " '__spec__',\n",
              " 'acos',\n",
              " 'acosh',\n",
              " 'asin',\n",
              " 'asinh',\n",
              " 'atan',\n",
              " 'atan2',\n",
              " 'atanh',\n",
              " 'ceil',\n",
              " 'comb',\n",
              " 'copysign',\n",
              " 'cos',\n",
              " 'cosh',\n",
              " 'degrees',\n",
              " 'dist',\n",
              " 'e',\n",
              " 'erf',\n",
              " 'erfc',\n",
              " 'exp',\n",
              " 'expm1',\n",
              " 'fabs',\n",
              " 'factorial',\n",
              " 'floor',\n",
              " 'fmod',\n",
              " 'frexp',\n",
              " 'fsum',\n",
              " 'gamma',\n",
              " 'gcd',\n",
              " 'hypot',\n",
              " 'inf',\n",
              " 'isclose',\n",
              " 'isfinite',\n",
              " 'isinf',\n",
              " 'isnan',\n",
              " 'isqrt',\n",
              " 'lcm',\n",
              " 'ldexp',\n",
              " 'lgamma',\n",
              " 'log',\n",
              " 'log10',\n",
              " 'log1p',\n",
              " 'log2',\n",
              " 'modf',\n",
              " 'nan',\n",
              " 'nextafter',\n",
              " 'perm',\n",
              " 'pi',\n",
              " 'pow',\n",
              " 'prod',\n",
              " 'radians',\n",
              " 'remainder',\n",
              " 'sin',\n",
              " 'sinh',\n",
              " 'sqrt',\n",
              " 'tan',\n",
              " 'tanh',\n",
              " 'tau',\n",
              " 'trunc',\n",
              " 'ulp']"
            ]
          },
          "metadata": {},
          "execution_count": 107
        }
      ]
    },
    {
      "cell_type": "code",
      "source": [
        "number = int(input('What number do you want to see the factorial of? '))"
      ],
      "metadata": {
        "colab": {
          "base_uri": "https://localhost:8080/"
        },
        "id": "5KzyJqJfm1GS",
        "outputId": "1f41ca99-a9bf-4b05-d31a-3466bdc14f1e"
      },
      "execution_count": null,
      "outputs": [
        {
          "name": "stdout",
          "output_type": "stream",
          "text": [
            "What number do you want to see the factorial of? 5\n"
          ]
        }
      ]
    },
    {
      "cell_type": "code",
      "source": [
        "print(f'{number}! = {math.factorial(number)}') # printing ONE THING"
      ],
      "metadata": {
        "colab": {
          "base_uri": "https://localhost:8080/"
        },
        "id": "MPLnyi8MnDp3",
        "outputId": "607aa99b-3419-47a2-8670-b6d9b06c54e9"
      },
      "execution_count": null,
      "outputs": [
        {
          "output_type": "stream",
          "name": "stdout",
          "text": [
            "5! = 120\n"
          ]
        }
      ]
    },
    {
      "cell_type": "code",
      "source": [
        "print(number, '! = ', math.factorial(number), sep='') # printing THREE THINGS"
      ],
      "metadata": {
        "colab": {
          "base_uri": "https://localhost:8080/"
        },
        "id": "JyAHDA0qndwJ",
        "outputId": "340b09af-eab6-4dc0-b205-c540cac3e59a"
      },
      "execution_count": null,
      "outputs": [
        {
          "output_type": "stream",
          "name": "stdout",
          "text": [
            "5! = 120\n"
          ]
        }
      ]
    },
    {
      "cell_type": "code",
      "source": [
        "for num in range(10, 2):\n",
        "    print(num)"
      ],
      "metadata": {
        "id": "TNDBGIe4nhYu"
      },
      "execution_count": null,
      "outputs": []
    },
    {
      "cell_type": "code",
      "source": [
        "str(1)"
      ],
      "metadata": {
        "colab": {
          "base_uri": "https://localhost:8080/",
          "height": 35
        },
        "id": "1QX80u1KxERu",
        "outputId": "0d9cef09-6799-4969-9519-d261b1d65efd"
      },
      "execution_count": null,
      "outputs": [
        {
          "output_type": "execute_result",
          "data": {
            "text/plain": [
              "'1'"
            ],
            "application/vnd.google.colaboratory.intrinsic+json": {
              "type": "string"
            }
          },
          "metadata": {},
          "execution_count": 114
        }
      ]
    },
    {
      "cell_type": "code",
      "source": [
        "str(1.1)"
      ],
      "metadata": {
        "colab": {
          "base_uri": "https://localhost:8080/",
          "height": 35
        },
        "id": "Ag4BWhvjxHPU",
        "outputId": "2d5b2b05-98c0-4cbe-9171-74878ab4b9f6"
      },
      "execution_count": null,
      "outputs": [
        {
          "output_type": "execute_result",
          "data": {
            "text/plain": [
              "'1.1'"
            ],
            "application/vnd.google.colaboratory.intrinsic+json": {
              "type": "string"
            }
          },
          "metadata": {},
          "execution_count": 115
        }
      ]
    },
    {
      "cell_type": "code",
      "source": [
        "str('1')"
      ],
      "metadata": {
        "colab": {
          "base_uri": "https://localhost:8080/",
          "height": 35
        },
        "id": "HTJJ6agXxI_F",
        "outputId": "82d3dd5a-10fb-455f-ac46-d1a26d85a1f8"
      },
      "execution_count": null,
      "outputs": [
        {
          "output_type": "execute_result",
          "data": {
            "text/plain": [
              "'1'"
            ],
            "application/vnd.google.colaboratory.intrinsic+json": {
              "type": "string"
            }
          },
          "metadata": {},
          "execution_count": 116
        }
      ]
    },
    {
      "cell_type": "code",
      "source": [
        "type(1)"
      ],
      "metadata": {
        "colab": {
          "base_uri": "https://localhost:8080/"
        },
        "id": "jHzUkNzNxKd2",
        "outputId": "ef2cc06c-bf11-47e5-e368-4862735341e6"
      },
      "execution_count": null,
      "outputs": [
        {
          "output_type": "execute_result",
          "data": {
            "text/plain": [
              "int"
            ]
          },
          "metadata": {},
          "execution_count": 117
        }
      ]
    },
    {
      "cell_type": "code",
      "source": [
        "type(1.1)"
      ],
      "metadata": {
        "colab": {
          "base_uri": "https://localhost:8080/"
        },
        "id": "J0t3xXcbxQRg",
        "outputId": "6c11b068-bc1f-47a8-b7df-2b6e73493b72"
      },
      "execution_count": null,
      "outputs": [
        {
          "output_type": "execute_result",
          "data": {
            "text/plain": [
              "float"
            ]
          },
          "metadata": {},
          "execution_count": 118
        }
      ]
    },
    {
      "cell_type": "code",
      "source": [
        "type('1.1')"
      ],
      "metadata": {
        "colab": {
          "base_uri": "https://localhost:8080/"
        },
        "id": "xvfspf4RxRek",
        "outputId": "9a973a43-2496-4700-b6ca-945b28a19381"
      },
      "execution_count": null,
      "outputs": [
        {
          "output_type": "execute_result",
          "data": {
            "text/plain": [
              "str"
            ]
          },
          "metadata": {},
          "execution_count": 119
        }
      ]
    },
    {
      "cell_type": "code",
      "source": [
        "import math"
      ],
      "metadata": {
        "id": "UIeLucQBxS1z"
      },
      "execution_count": null,
      "outputs": []
    },
    {
      "cell_type": "code",
      "source": [
        "type(math)"
      ],
      "metadata": {
        "colab": {
          "base_uri": "https://localhost:8080/"
        },
        "id": "H_iM_xA6xU7O",
        "outputId": "dd721800-1563-4cdc-c577-21dce8ddcc69"
      },
      "execution_count": null,
      "outputs": [
        {
          "output_type": "execute_result",
          "data": {
            "text/plain": [
              "module"
            ]
          },
          "metadata": {},
          "execution_count": 121
        }
      ]
    },
    {
      "cell_type": "code",
      "source": [
        "type(print)"
      ],
      "metadata": {
        "colab": {
          "base_uri": "https://localhost:8080/"
        },
        "id": "6bEm92WGxVir",
        "outputId": "3ed8a0c6-7043-4fc7-85fe-785b4e3baf3c"
      },
      "execution_count": null,
      "outputs": [
        {
          "output_type": "execute_result",
          "data": {
            "text/plain": [
              "builtin_function_or_method"
            ]
          },
          "metadata": {},
          "execution_count": 123
        }
      ]
    },
    {
      "cell_type": "code",
      "source": [
        "type(type)"
      ],
      "metadata": {
        "colab": {
          "base_uri": "https://localhost:8080/"
        },
        "id": "HKq4Vn_Gxanb",
        "outputId": "0c3f1df9-e47d-484a-c6f5-bfa66c22f5df"
      },
      "execution_count": null,
      "outputs": [
        {
          "output_type": "execute_result",
          "data": {
            "text/plain": [
              "type"
            ]
          },
          "metadata": {},
          "execution_count": 124
        }
      ]
    },
    {
      "cell_type": "code",
      "source": [
        "max(1, 2, 4, 3)"
      ],
      "metadata": {
        "colab": {
          "base_uri": "https://localhost:8080/"
        },
        "id": "YofaOsf1ximv",
        "outputId": "14d54f8c-98a9-46ad-d8f2-023463d07957"
      },
      "execution_count": null,
      "outputs": [
        {
          "output_type": "execute_result",
          "data": {
            "text/plain": [
              "4"
            ]
          },
          "metadata": {},
          "execution_count": 125
        }
      ]
    },
    {
      "cell_type": "code",
      "source": [
        "max(1.1, 2.1, 4.1, 3.1)"
      ],
      "metadata": {
        "colab": {
          "base_uri": "https://localhost:8080/"
        },
        "id": "t3OASxhIxn7B",
        "outputId": "b19b2f55-7888-4e97-b238-7f45cda74a10"
      },
      "execution_count": null,
      "outputs": [
        {
          "output_type": "execute_result",
          "data": {
            "text/plain": [
              "4.1"
            ]
          },
          "metadata": {},
          "execution_count": 126
        }
      ]
    },
    {
      "cell_type": "code",
      "source": [
        "max('fig', 'apple', 'pear')"
      ],
      "metadata": {
        "colab": {
          "base_uri": "https://localhost:8080/",
          "height": 35
        },
        "id": "e3fTMkdzxp8i",
        "outputId": "45039424-b836-430c-f35a-61375ababcff"
      },
      "execution_count": null,
      "outputs": [
        {
          "output_type": "execute_result",
          "data": {
            "text/plain": [
              "'pear'"
            ],
            "application/vnd.google.colaboratory.intrinsic+json": {
              "type": "string"
            }
          },
          "metadata": {},
          "execution_count": 127
        }
      ]
    },
    {
      "cell_type": "code",
      "source": [
        "print(1)"
      ],
      "metadata": {
        "colab": {
          "base_uri": "https://localhost:8080/"
        },
        "id": "ToplzFLdxtZR",
        "outputId": "f87f3920-6377-4fef-d513-037e1d6369d4"
      },
      "execution_count": null,
      "outputs": [
        {
          "output_type": "stream",
          "name": "stdout",
          "text": [
            "1\n"
          ]
        }
      ]
    },
    {
      "cell_type": "code",
      "source": [
        "print(1.1)"
      ],
      "metadata": {
        "colab": {
          "base_uri": "https://localhost:8080/"
        },
        "id": "DMg6MuX2x4Fq",
        "outputId": "b7afcbb8-8cbf-4de7-c389-80ce420cc00e"
      },
      "execution_count": null,
      "outputs": [
        {
          "output_type": "stream",
          "name": "stdout",
          "text": [
            "1.1\n"
          ]
        }
      ]
    },
    {
      "cell_type": "code",
      "source": [
        "print('anything')"
      ],
      "metadata": {
        "colab": {
          "base_uri": "https://localhost:8080/"
        },
        "id": "zeBTkuxQx4_s",
        "outputId": "f66474c4-6b9d-423e-c32c-c7f7b4ed7749"
      },
      "execution_count": null,
      "outputs": [
        {
          "output_type": "stream",
          "name": "stdout",
          "text": [
            "anything\n"
          ]
        }
      ]
    },
    {
      "cell_type": "code",
      "source": [
        "print(math)"
      ],
      "metadata": {
        "colab": {
          "base_uri": "https://localhost:8080/"
        },
        "id": "DAo_YS_Qx6NT",
        "outputId": "0b5430e0-3258-418b-b9a0-d7638c372477"
      },
      "execution_count": null,
      "outputs": [
        {
          "output_type": "stream",
          "name": "stdout",
          "text": [
            "<module 'math' (built-in)>\n"
          ]
        }
      ]
    },
    {
      "cell_type": "code",
      "source": [
        "company = 'Old Navy'"
      ],
      "metadata": {
        "id": "o8XfnUXrx8O9"
      },
      "execution_count": null,
      "outputs": []
    },
    {
      "cell_type": "code",
      "source": [
        "help(company.startswith)"
      ],
      "metadata": {
        "colab": {
          "base_uri": "https://localhost:8080/"
        },
        "id": "wQ3Cf1XFzpJT",
        "outputId": "cfaa4839-24fc-4c3d-9f1e-f9d8af5a8bd5"
      },
      "execution_count": null,
      "outputs": [
        {
          "output_type": "stream",
          "name": "stdout",
          "text": [
            "Help on built-in function startswith:\n",
            "\n",
            "startswith(...) method of builtins.str instance\n",
            "    S.startswith(prefix[, start[, end]]) -> bool\n",
            "    \n",
            "    Return True if S starts with the specified prefix, False otherwise.\n",
            "    With optional start, test S beginning at that position.\n",
            "    With optional end, stop comparing S at that position.\n",
            "    prefix can also be a tuple of strings to try.\n",
            "\n"
          ]
        }
      ]
    },
    {
      "cell_type": "code",
      "source": [
        "'the thespian over there gathers fruit'.count('the')"
      ],
      "metadata": {
        "colab": {
          "base_uri": "https://localhost:8080/"
        },
        "id": "0WxV1i_cz4IM",
        "outputId": "706df4d1-877e-4461-8704-0c782626b461"
      },
      "execution_count": null,
      "outputs": [
        {
          "output_type": "execute_result",
          "data": {
            "text/plain": [
              "4"
            ]
          },
          "metadata": {},
          "execution_count": 138
        }
      ]
    },
    {
      "cell_type": "code",
      "source": [
        "name = 'bruce'"
      ],
      "metadata": {
        "id": "Sh0QOXQ426JJ"
      },
      "execution_count": null,
      "outputs": []
    },
    {
      "cell_type": "code",
      "source": [
        "name[0] = 'B'"
      ],
      "metadata": {
        "colab": {
          "base_uri": "https://localhost:8080/",
          "height": 141
        },
        "id": "l7Ps2Pze2Fso",
        "outputId": "d92185fa-6466-416d-d73a-ab9738ae66ff"
      },
      "execution_count": null,
      "outputs": [
        {
          "output_type": "error",
          "ename": "TypeError",
          "evalue": "'str' object does not support item assignment",
          "traceback": [
            "\u001b[0;31m---------------------------------------------------------------------------\u001b[0m",
            "\u001b[0;31mTypeError\u001b[0m                                 Traceback (most recent call last)",
            "\u001b[0;32m<ipython-input-141-7b84b6ac8ba6>\u001b[0m in \u001b[0;36m<cell line: 1>\u001b[0;34m()\u001b[0m\n\u001b[0;32m----> 1\u001b[0;31m \u001b[0mname\u001b[0m\u001b[0;34m[\u001b[0m\u001b[0;36m0\u001b[0m\u001b[0;34m]\u001b[0m \u001b[0;34m=\u001b[0m \u001b[0;34m'B'\u001b[0m\u001b[0;34m\u001b[0m\u001b[0;34m\u001b[0m\u001b[0m\n\u001b[0m",
            "\u001b[0;31mTypeError\u001b[0m: 'str' object does not support item assignment"
          ]
        }
      ]
    },
    {
      "cell_type": "code",
      "source": [
        "name = 'Bruce'"
      ],
      "metadata": {
        "id": "3nrowgaw3D-v"
      },
      "execution_count": null,
      "outputs": []
    },
    {
      "cell_type": "code",
      "source": [
        "name.upper() # generates an upper case version of name"
      ],
      "metadata": {
        "colab": {
          "base_uri": "https://localhost:8080/",
          "height": 35
        },
        "id": "qTwdINEu3Pje",
        "outputId": "8ec34675-8162-4a6f-aaa0-ed1427985730"
      },
      "execution_count": null,
      "outputs": [
        {
          "output_type": "execute_result",
          "data": {
            "text/plain": [
              "'BRUCE'"
            ],
            "application/vnd.google.colaboratory.intrinsic+json": {
              "type": "string"
            }
          },
          "metadata": {},
          "execution_count": 143
        }
      ]
    },
    {
      "cell_type": "code",
      "source": [
        "name"
      ],
      "metadata": {
        "colab": {
          "base_uri": "https://localhost:8080/",
          "height": 35
        },
        "id": "cKWNie3L3XA7",
        "outputId": "c90435ad-5e6b-4b11-a541-11b07c37422e"
      },
      "execution_count": null,
      "outputs": [
        {
          "output_type": "execute_result",
          "data": {
            "text/plain": [
              "'Bruce'"
            ],
            "application/vnd.google.colaboratory.intrinsic+json": {
              "type": "string"
            }
          },
          "metadata": {},
          "execution_count": 144
        }
      ]
    },
    {
      "cell_type": "code",
      "source": [
        "name = name.upper()"
      ],
      "metadata": {
        "id": "5RK623cS3mH-"
      },
      "execution_count": null,
      "outputs": []
    },
    {
      "cell_type": "code",
      "source": [
        "name"
      ],
      "metadata": {
        "colab": {
          "base_uri": "https://localhost:8080/",
          "height": 35
        },
        "id": "-g2ecRkV3-B1",
        "outputId": "b420db1c-6df2-4f94-bc09-d1213c2b8fa8"
      },
      "execution_count": null,
      "outputs": [
        {
          "output_type": "execute_result",
          "data": {
            "text/plain": [
              "'BRUCE'"
            ],
            "application/vnd.google.colaboratory.intrinsic+json": {
              "type": "string"
            }
          },
          "metadata": {},
          "execution_count": 146
        }
      ]
    },
    {
      "cell_type": "code",
      "source": [
        "name.lower()"
      ],
      "metadata": {
        "colab": {
          "base_uri": "https://localhost:8080/",
          "height": 35
        },
        "id": "a3aYbEL53-m8",
        "outputId": "4d0ae7b2-d22f-4088-9a59-cca60a4b885f"
      },
      "execution_count": null,
      "outputs": [
        {
          "output_type": "execute_result",
          "data": {
            "text/plain": [
              "'bruce'"
            ],
            "application/vnd.google.colaboratory.intrinsic+json": {
              "type": "string"
            }
          },
          "metadata": {},
          "execution_count": 147
        }
      ]
    },
    {
      "cell_type": "code",
      "source": [
        "something = 'nothing'"
      ],
      "metadata": {
        "id": "YPtv3Aqo4GN-"
      },
      "execution_count": null,
      "outputs": []
    },
    {
      "cell_type": "code",
      "source": [
        "print(something)"
      ],
      "metadata": {
        "colab": {
          "base_uri": "https://localhost:8080/"
        },
        "id": "dBuSwJPB4Y0C",
        "outputId": "2b8d381f-5b5d-4933-c86c-22e83da9bc0b"
      },
      "execution_count": null,
      "outputs": [
        {
          "output_type": "stream",
          "name": "stdout",
          "text": [
            "nothing\n"
          ]
        }
      ]
    },
    {
      "cell_type": "code",
      "source": [
        "len(something)"
      ],
      "metadata": {
        "colab": {
          "base_uri": "https://localhost:8080/"
        },
        "id": "nkr5KQTi4aKE",
        "outputId": "07567f80-856f-4291-e696-425af810b25c"
      },
      "execution_count": null,
      "outputs": [
        {
          "output_type": "execute_result",
          "data": {
            "text/plain": [
              "7"
            ]
          },
          "metadata": {},
          "execution_count": 150
        }
      ]
    },
    {
      "cell_type": "code",
      "source": [
        "'7205551212'.upper()"
      ],
      "metadata": {
        "colab": {
          "base_uri": "https://localhost:8080/",
          "height": 35
        },
        "id": "joMgKL8Q4fqI",
        "outputId": "5dfd1235-7733-4b37-a1d6-a988d61cc286"
      },
      "execution_count": null,
      "outputs": [
        {
          "output_type": "execute_result",
          "data": {
            "text/plain": [
              "'7205551212'"
            ],
            "application/vnd.google.colaboratory.intrinsic+json": {
              "type": "string"
            }
          },
          "metadata": {},
          "execution_count": 151
        }
      ]
    },
    {
      "cell_type": "code",
      "source": [
        "'this is a test'.upper()"
      ],
      "metadata": {
        "colab": {
          "base_uri": "https://localhost:8080/",
          "height": 35
        },
        "id": "isUxwed26-6q",
        "outputId": "7e646f01-04fa-4df3-c95b-c015d476fae6"
      },
      "execution_count": null,
      "outputs": [
        {
          "output_type": "execute_result",
          "data": {
            "text/plain": [
              "'THIS IS A TEST'"
            ],
            "application/vnd.google.colaboratory.intrinsic+json": {
              "type": "string"
            }
          },
          "metadata": {},
          "execution_count": 152
        }
      ]
    },
    {
      "cell_type": "markdown",
      "source": [
        "## Quick Lab: String Functions\n",
        "* write a Python program to read in a sentence and tell the user how many vowels are in that sentence\n",
        "* so if the user entered \"Apples are my favorite fruit\", your program would respond with 10 (or 11 if you count 'y' as a vowel)\n",
        "* output the original string with any vowels \"highlighted\" by making them upper case, e.g., **ApplEs ArE my fAvOrItE frUIt**"
      ],
      "metadata": {
        "id": "SFtojFHe7_SS"
      }
    },
    {
      "cell_type": "code",
      "source": [
        "# 1. I have a list of vowels in my head ('aeiou[y])\n",
        "# 1a. set counter to 0\n",
        "# 2. for each character in the string:\n",
        "# 3.     if it's a vowel:\n",
        "# 4.        add 1 to counter"
      ],
      "metadata": {
        "id": "M4Z5QT7t7DbT"
      },
      "execution_count": null,
      "outputs": []
    },
    {
      "cell_type": "code",
      "source": [
        "string = 'the quick brown fox'"
      ],
      "metadata": {
        "id": "icSRRpOP8ip0"
      },
      "execution_count": null,
      "outputs": []
    },
    {
      "cell_type": "code",
      "source": [
        "'a' in 'aeiou'"
      ],
      "metadata": {
        "colab": {
          "base_uri": "https://localhost:8080/"
        },
        "id": "PDu49gFA8py2",
        "outputId": "e6fb84ca-99c2-4f0e-fa01-eeae1ca9188d"
      },
      "execution_count": null,
      "outputs": [
        {
          "output_type": "execute_result",
          "data": {
            "text/plain": [
              "True"
            ]
          },
          "metadata": {},
          "execution_count": 154
        }
      ]
    },
    {
      "cell_type": "code",
      "source": [
        "'A'.lower() in 'aeiou'"
      ],
      "metadata": {
        "colab": {
          "base_uri": "https://localhost:8080/"
        },
        "id": "Uuc916TY83Q0",
        "outputId": "f82affd3-0607-437c-a818-3bf226caadbc"
      },
      "execution_count": null,
      "outputs": [
        {
          "output_type": "execute_result",
          "data": {
            "text/plain": [
              "True"
            ]
          },
          "metadata": {},
          "execution_count": 155
        }
      ]
    },
    {
      "cell_type": "code",
      "source": [
        "'E' in 'aAeEiIoOuUyY'"
      ],
      "metadata": {
        "colab": {
          "base_uri": "https://localhost:8080/"
        },
        "id": "03JPE3jR86EQ",
        "outputId": "907a8e55-e0fa-4605-c13d-16bc681f02db"
      },
      "execution_count": null,
      "outputs": [
        {
          "output_type": "execute_result",
          "data": {
            "text/plain": [
              "True"
            ]
          },
          "metadata": {},
          "execution_count": 156
        }
      ]
    },
    {
      "cell_type": "code",
      "source": [
        "'this is a test' # THIS is A TEst"
      ],
      "metadata": {
        "id": "WlWw2D4k8-R4"
      },
      "execution_count": null,
      "outputs": []
    },
    {
      "cell_type": "markdown",
      "source": [
        "## Lab: String Functions\n",
        "* write a Python program to read in a string/sentence and then read in a number __`n`__ (give it a better name, but we'll use __`n`__ for this explanation)\n",
        "* your program will print out the sentence such that the first __`n`__ characters (including any spaces) are upper case, then the next __`n`__ characters (including any spaces) are lower case, and so on\n",
        "  * so if the user entered __`Now is the time`__ followed by __`4`__, your program would output __`NOW is tHE Time`__\n",
        "  * notice that spaces are characters, so in the above example, __`Now `__ are the first 4 characters and they are printed as upper case (the space will of course not be printed any differently, it will just be a space)"
      ],
      "metadata": {
        "id": "D0VGjsz2-hTm"
      }
    },
    {
      "cell_type": "code",
      "source": [
        "list('string') # list-ification always returns a list"
      ],
      "metadata": {
        "id": "7RbBZMdEv01Z",
        "outputId": "4fa834bc-86b7-4dec-eb53-60eb8837b738",
        "colab": {
          "base_uri": "https://localhost:8080/"
        }
      },
      "execution_count": 1,
      "outputs": [
        {
          "output_type": "execute_result",
          "data": {
            "text/plain": [
              "['s', 't', 'r', 'i', 'n', 'g']"
            ]
          },
          "metadata": {},
          "execution_count": 1
        }
      ]
    },
    {
      "cell_type": "code",
      "source": [
        "list([1, 2, 3]) # one way to copy a list"
      ],
      "metadata": {
        "id": "4nq6BwxO-hoz",
        "outputId": "a554cbc4-78b4-43f8-d07e-e37ebcd915aa",
        "colab": {
          "base_uri": "https://localhost:8080/"
        }
      },
      "execution_count": 2,
      "outputs": [
        {
          "output_type": "execute_result",
          "data": {
            "text/plain": [
              "[1, 2, 3]"
            ]
          },
          "metadata": {},
          "execution_count": 2
        }
      ]
    },
    {
      "cell_type": "code",
      "source": [
        "stuff = input('Enter something: ').split()"
      ],
      "metadata": {
        "id": "HVYzDJ89wCSM",
        "outputId": "d9a13b7e-810c-4f83-d9ec-2ff7acfd4a86",
        "colab": {
          "base_uri": "https://localhost:8080/"
        }
      },
      "execution_count": 6,
      "outputs": [
        {
          "name": "stdout",
          "output_type": "stream",
          "text": [
            "Enter something: One TWO three FOUr\n"
          ]
        }
      ]
    },
    {
      "cell_type": "code",
      "source": [
        "stuff"
      ],
      "metadata": {
        "id": "1or6dqN7woUL",
        "outputId": "693bdabc-cf17-417c-9fc5-aa1e7cdd3b7c",
        "colab": {
          "base_uri": "https://localhost:8080/"
        }
      },
      "execution_count": 7,
      "outputs": [
        {
          "output_type": "execute_result",
          "data": {
            "text/plain": [
              "['One', 'TWO', 'three', 'FOUr']"
            ]
          },
          "metadata": {},
          "execution_count": 7
        }
      ]
    },
    {
      "cell_type": "code",
      "source": [
        "stuff = input('Enter something: ').lower().split()"
      ],
      "metadata": {
        "id": "74lbVt7twpuB",
        "outputId": "e3ab302b-139a-4431-d0d9-3e2072055b31",
        "colab": {
          "base_uri": "https://localhost:8080/"
        }
      },
      "execution_count": 8,
      "outputs": [
        {
          "name": "stdout",
          "output_type": "stream",
          "text": [
            "Enter something: Apple FIG peaR BANAna\n"
          ]
        }
      ]
    },
    {
      "cell_type": "code",
      "source": [
        "stuff"
      ],
      "metadata": {
        "id": "3t3nlC9kxV7j",
        "outputId": "97176a01-757a-41e8-cd15-d7b4a16eb61e",
        "colab": {
          "base_uri": "https://localhost:8080/"
        }
      },
      "execution_count": 9,
      "outputs": [
        {
          "output_type": "execute_result",
          "data": {
            "text/plain": [
              "['apple', 'fig', 'pear', 'banana']"
            ]
          },
          "metadata": {},
          "execution_count": 9
        }
      ]
    },
    {
      "cell_type": "code",
      "source": [
        "customer_recommendations = [\n",
        "    ['Civil War', 'A Complete Unknown', 'Tokyo Vice'],\n",
        "    ['Game of Thrones', 'Friends'],\n",
        "    ['Squid Games', 'The Beast Games'],\n",
        "]"
      ],
      "metadata": {
        "id": "XcJAsAQJzPNn"
      },
      "execution_count": 15,
      "outputs": []
    },
    {
      "cell_type": "code",
      "source": [
        "customer_recommendations"
      ],
      "metadata": {
        "id": "IT1a41e5znNx",
        "outputId": "2e76844b-3c0a-4447-d752-67dd8453ad27",
        "colab": {
          "base_uri": "https://localhost:8080/"
        }
      },
      "execution_count": 16,
      "outputs": [
        {
          "output_type": "execute_result",
          "data": {
            "text/plain": [
              "[['Civil War', 'A Complete Unknown', 'Tokyo Vice'],\n",
              " ['Game of Thrones', 'Friends'],\n",
              " ['Squid Games', 'The Beast Games']]"
            ]
          },
          "metadata": {},
          "execution_count": 16
        }
      ]
    },
    {
      "cell_type": "code",
      "source": [
        "recommendations[0]"
      ],
      "metadata": {
        "id": "dfb9rl69zrHK",
        "outputId": "7ccc0e9a-9081-409d-b743-7e4ea59cc989",
        "colab": {
          "base_uri": "https://localhost:8080/"
        }
      },
      "execution_count": 12,
      "outputs": [
        {
          "output_type": "execute_result",
          "data": {
            "text/plain": [
              "['Civil War', 'A Complete Unknown', 'Tokyo Vice']"
            ]
          },
          "metadata": {},
          "execution_count": 12
        }
      ]
    },
    {
      "cell_type": "code",
      "source": [
        "for customer in customer_recommendations:\n",
        "    print('next customer:', end=' ')\n",
        "    for recommendation in customer:\n",
        "        print(recommendation, end=', ')\n",
        "    print()"
      ],
      "metadata": {
        "id": "wdzGdn33zstf",
        "outputId": "173a15d5-a887-4300-8ab0-f0888fef4d64",
        "colab": {
          "base_uri": "https://localhost:8080/"
        }
      },
      "execution_count": 20,
      "outputs": [
        {
          "output_type": "stream",
          "name": "stdout",
          "text": [
            "next customer: Civil War, A Complete Unknown, Tokyo Vice, next customer: Game of Thrones, Friends, next customer: Squid Games, The Beast Games, "
          ]
        }
      ]
    },
    {
      "cell_type": "code",
      "source": [
        "for customer in customer_recommendations:\n",
        "    print('next customer:', end=' ')\n",
        "    print(*customer, sep=', ') # \"unpack\" operator / \"explode\""
      ],
      "metadata": {
        "id": "IJyGoQQAz_iu",
        "outputId": "0da5b8cc-61a1-4028-9fd4-e8cc71101117",
        "colab": {
          "base_uri": "https://localhost:8080/"
        }
      },
      "execution_count": 24,
      "outputs": [
        {
          "output_type": "stream",
          "name": "stdout",
          "text": [
            "next customer: Civil War, A Complete Unknown, Tokyo Vice\n",
            "next customer: Game of Thrones, Friends\n",
            "next customer: Squid Games, The Beast Games\n"
          ]
        }
      ]
    },
    {
      "cell_type": "code",
      "source": [
        "for customer in customer_recommendations:\n",
        "    print('next customer:', end=' ')\n",
        "    print(', '.join(customer)) # join together the list items into a SINGLE string"
      ],
      "metadata": {
        "id": "phGcGBo32jVP",
        "outputId": "e65969e4-d9d4-45c7-d1dc-0ffb85662500",
        "colab": {
          "base_uri": "https://localhost:8080/"
        }
      },
      "execution_count": 28,
      "outputs": [
        {
          "output_type": "stream",
          "name": "stdout",
          "text": [
            "next customer: Civil War, A Complete Unknown, Tokyo Vice\n",
            "next customer: Game of Thrones, Friends\n",
            "next customer: Squid Games, The Beast Games\n"
          ]
        }
      ]
    },
    {
      "cell_type": "code",
      "source": [
        "nums = [1.23, 2.34, 5.0]"
      ],
      "metadata": {
        "id": "5HwFCfWt1xHm"
      },
      "execution_count": 25,
      "outputs": []
    },
    {
      "cell_type": "code",
      "source": [
        "print(nums)"
      ],
      "metadata": {
        "id": "cp0c-i392VuU",
        "outputId": "a94daebc-0cdc-4c8c-8ab1-2773e3d5062b",
        "colab": {
          "base_uri": "https://localhost:8080/"
        }
      },
      "execution_count": 26,
      "outputs": [
        {
          "output_type": "stream",
          "name": "stdout",
          "text": [
            "[1.23, 2.34, 5.0]\n"
          ]
        }
      ]
    },
    {
      "cell_type": "code",
      "source": [
        "print(*nums) # unpack the of floats into 3 individual floats"
      ],
      "metadata": {
        "id": "yp_l8hL-2Yq6",
        "outputId": "07e950fb-1475-497c-fa79-7e0def7a68b0",
        "colab": {
          "base_uri": "https://localhost:8080/"
        }
      },
      "execution_count": 27,
      "outputs": [
        {
          "output_type": "stream",
          "name": "stdout",
          "text": [
            "1.23 2.34 5.0\n"
          ]
        }
      ]
    },
    {
      "cell_type": "code",
      "source": [
        "max(nums)"
      ],
      "metadata": {
        "id": "OV27buEZ2aZd",
        "outputId": "f9a56bd9-6688-4f8a-9ac4-a854aac0e293",
        "colab": {
          "base_uri": "https://localhost:8080/"
        }
      },
      "execution_count": 29,
      "outputs": [
        {
          "output_type": "execute_result",
          "data": {
            "text/plain": [
              "5.0"
            ]
          },
          "metadata": {},
          "execution_count": 29
        }
      ]
    },
    {
      "cell_type": "code",
      "source": [
        "divmod(10, 3)"
      ],
      "metadata": {
        "id": "HRiigghF36ba",
        "outputId": "563eb71b-ac0f-4af7-8e1f-97633a27b1f3",
        "colab": {
          "base_uri": "https://localhost:8080/"
        }
      },
      "execution_count": 31,
      "outputs": [
        {
          "output_type": "execute_result",
          "data": {
            "text/plain": [
              "(3, 1)"
            ]
          },
          "metadata": {},
          "execution_count": 31
        }
      ]
    },
    {
      "cell_type": "code",
      "source": [
        "nums = [10, 3]"
      ],
      "metadata": {
        "id": "WOME3Wun4BVH"
      },
      "execution_count": 34,
      "outputs": []
    },
    {
      "cell_type": "code",
      "source": [
        "divmod(nums)"
      ],
      "metadata": {
        "id": "ZJ71qFCS4JmH",
        "outputId": "4c23a4a9-481d-4b2e-9086-db7f71f23c86",
        "colab": {
          "base_uri": "https://localhost:8080/",
          "height": 141
        }
      },
      "execution_count": 35,
      "outputs": [
        {
          "output_type": "error",
          "ename": "TypeError",
          "evalue": "divmod expected 2 arguments, got 1",
          "traceback": [
            "\u001b[0;31m---------------------------------------------------------------------------\u001b[0m",
            "\u001b[0;31mTypeError\u001b[0m                                 Traceback (most recent call last)",
            "\u001b[0;32m<ipython-input-35-03b8e371090d>\u001b[0m in \u001b[0;36m<cell line: 1>\u001b[0;34m()\u001b[0m\n\u001b[0;32m----> 1\u001b[0;31m \u001b[0mdivmod\u001b[0m\u001b[0;34m(\u001b[0m\u001b[0mnums\u001b[0m\u001b[0;34m)\u001b[0m\u001b[0;34m\u001b[0m\u001b[0;34m\u001b[0m\u001b[0m\n\u001b[0m",
            "\u001b[0;31mTypeError\u001b[0m: divmod expected 2 arguments, got 1"
          ]
        }
      ]
    },
    {
      "cell_type": "code",
      "source": [
        "divmod(*nums) # ... divmod(10, 3)"
      ],
      "metadata": {
        "id": "G87J4l5I4NVG",
        "outputId": "406b789e-1d08-443e-cf9c-bbd2b9c64d5f",
        "colab": {
          "base_uri": "https://localhost:8080/"
        }
      },
      "execution_count": 36,
      "outputs": [
        {
          "output_type": "execute_result",
          "data": {
            "text/plain": [
              "(3, 1)"
            ]
          },
          "metadata": {},
          "execution_count": 36
        }
      ]
    },
    {
      "cell_type": "code",
      "source": [
        "divmod(nums[0], nums[1]) # is this something we want to do? NO, it's tedious"
      ],
      "metadata": {
        "id": "mIRvwy2M4XOM",
        "outputId": "6225be4f-3740-4b1e-a839-8254d8c5940a",
        "colab": {
          "base_uri": "https://localhost:8080/"
        }
      },
      "execution_count": 37,
      "outputs": [
        {
          "output_type": "execute_result",
          "data": {
            "text/plain": [
              "(3, 1)"
            ]
          },
          "metadata": {},
          "execution_count": 37
        }
      ]
    },
    {
      "cell_type": "code",
      "source": [
        "funny_list = [1, 1.0, 'won', True] # heterogeneous list, i.e., items are not the same type"
      ],
      "metadata": {
        "id": "emAbXXrh4hUL"
      },
      "execution_count": 38,
      "outputs": []
    },
    {
      "cell_type": "code",
      "source": [
        "for thing in funny_list: # it works, but it can be much more difficult to code around\n",
        "    print(thing)"
      ],
      "metadata": {
        "id": "N0FhuKPt5Dc2",
        "outputId": "6be97416-98cf-43d7-bf2d-2d3c9f1b5b96",
        "colab": {
          "base_uri": "https://localhost:8080/"
        }
      },
      "execution_count": 39,
      "outputs": [
        {
          "output_type": "stream",
          "name": "stdout",
          "text": [
            "1\n",
            "1.0\n",
            "won\n",
            "True\n"
          ]
        }
      ]
    },
    {
      "cell_type": "code",
      "source": [
        "for thing in funny_list: # it works, but it can be much more difficult to code around\n",
        "    print(thing, type(thing))"
      ],
      "metadata": {
        "id": "3BW7xFXC5GwU",
        "outputId": "630b64c4-b523-4767-9d93-70dd0e5d318b",
        "colab": {
          "base_uri": "https://localhost:8080/"
        }
      },
      "execution_count": 40,
      "outputs": [
        {
          "output_type": "stream",
          "name": "stdout",
          "text": [
            "1 <class 'int'>\n",
            "1.0 <class 'float'>\n",
            "won <class 'str'>\n",
            "True <class 'bool'>\n"
          ]
        }
      ]
    },
    {
      "cell_type": "code",
      "source": [
        "name = 'Bob Ross'"
      ],
      "metadata": {
        "id": "vWjiRxdc5VWN"
      },
      "execution_count": 41,
      "outputs": []
    },
    {
      "cell_type": "code",
      "source": [
        "2 + 2"
      ],
      "metadata": {
        "id": "DX3AaM_c8lwf",
        "outputId": "662856dc-e939-41ae-b1e7-77f21fbeae47",
        "colab": {
          "base_uri": "https://localhost:8080/"
        }
      },
      "execution_count": 42,
      "outputs": [
        {
          "output_type": "execute_result",
          "data": {
            "text/plain": [
              "4"
            ]
          },
          "metadata": {},
          "execution_count": 42
        }
      ]
    },
    {
      "cell_type": "code",
      "source": [
        "print(2 + 2)"
      ],
      "metadata": {
        "id": "VvBNrp2V-QxK",
        "outputId": "81c5a4b9-99d2-4b3c-a523-7be6a6a8beb5",
        "colab": {
          "base_uri": "https://localhost:8080/"
        }
      },
      "execution_count": 43,
      "outputs": [
        {
          "output_type": "stream",
          "name": "stdout",
          "text": [
            "4\n"
          ]
        }
      ]
    },
    {
      "cell_type": "code",
      "source": [
        "2 * 4.5"
      ],
      "metadata": {
        "id": "3ZmzIRVE-SDa",
        "outputId": "2d78c1ac-cb3f-444e-c303-8d0dcf149ba3",
        "colab": {
          "base_uri": "https://localhost:8080/"
        }
      },
      "execution_count": 44,
      "outputs": [
        {
          "output_type": "execute_result",
          "data": {
            "text/plain": [
              "9.0"
            ]
          },
          "metadata": {},
          "execution_count": 44
        }
      ]
    },
    {
      "cell_type": "code",
      "source": [
        "print(2 * 4.5) # because this is not the last line of the cell, you won't see the output\n",
        "print('done')"
      ],
      "metadata": {
        "id": "GUAGxmVX-vXs",
        "outputId": "d4a2bdfb-d99d-432a-8dec-7d320c1da3f9",
        "colab": {
          "base_uri": "https://localhost:8080/"
        }
      },
      "execution_count": 47,
      "outputs": [
        {
          "output_type": "stream",
          "name": "stdout",
          "text": [
            "9.0\n",
            "done\n"
          ]
        }
      ]
    },
    {
      "cell_type": "code",
      "source": [
        "2 * 4.5 # asking Python to do a computation which it will always do, but you won't see the output unless it's the last line\n",
        "print('now this is the last line')"
      ],
      "metadata": {
        "id": "qj9CeFp_-5DF",
        "outputId": "9ac3f480-894b-4a88-abb2-0624d53119e2",
        "colab": {
          "base_uri": "https://localhost:8080/"
        }
      },
      "execution_count": 50,
      "outputs": [
        {
          "output_type": "stream",
          "name": "stdout",
          "text": [
            "now this is the last line\n"
          ]
        }
      ]
    },
    {
      "cell_type": "code",
      "source": [
        "for count in range(10): # \"count from 0 to 9\"\n",
        "    print(count, \"Happy new year!\")"
      ],
      "metadata": {
        "id": "q-pnhR3S-8zK",
        "outputId": "3dd9ec0f-c0b3-4abb-b419-0f621a1f06f7",
        "colab": {
          "base_uri": "https://localhost:8080/"
        }
      },
      "execution_count": 53,
      "outputs": [
        {
          "output_type": "stream",
          "name": "stdout",
          "text": [
            "0 Happy new year!\n",
            "1 Happy new year!\n",
            "2 Happy new year!\n",
            "3 Happy new year!\n",
            "4 Happy new year!\n",
            "5 Happy new year!\n",
            "6 Happy new year!\n",
            "7 Happy new year!\n",
            "8 Happy new year!\n",
            "9 Happy new year!\n"
          ]
        }
      ]
    },
    {
      "cell_type": "code",
      "source": [
        "for _ in range(10): # do this 10 times\n",
        "    print(\"Happy new year!\")"
      ],
      "metadata": {
        "id": "ifMDMAfiLCUm",
        "outputId": "b3c54f6f-aee1-4b00-ad88-fbb70da7373c",
        "colab": {
          "base_uri": "https://localhost:8080/"
        }
      },
      "execution_count": 55,
      "outputs": [
        {
          "output_type": "stream",
          "name": "stdout",
          "text": [
            "Happy new year!\n",
            "Happy new year!\n",
            "Happy new year!\n",
            "Happy new year!\n",
            "Happy new year!\n",
            "Happy new year!\n",
            "Happy new year!\n",
            "Happy new year!\n",
            "Happy new year!\n",
            "Happy new year!\n"
          ]
        }
      ]
    },
    {
      "cell_type": "code",
      "source": [
        "sorted('old navy')"
      ],
      "metadata": {
        "id": "u9iTc3DgLHKT",
        "outputId": "b931f979-697c-445c-d07a-dadb16e1bdff",
        "colab": {
          "base_uri": "https://localhost:8080/"
        }
      },
      "execution_count": 56,
      "outputs": [
        {
          "output_type": "execute_result",
          "data": {
            "text/plain": [
              "[' ', 'a', 'd', 'l', 'n', 'o', 'v', 'y']"
            ]
          },
          "metadata": {},
          "execution_count": 56
        }
      ]
    },
    {
      "cell_type": "code",
      "source": [
        "ord('a')"
      ],
      "metadata": {
        "id": "YtJbDtztNahY",
        "outputId": "e52360a6-438a-4422-dd70-62881bee23f3",
        "colab": {
          "base_uri": "https://localhost:8080/"
        }
      },
      "execution_count": 57,
      "outputs": [
        {
          "output_type": "execute_result",
          "data": {
            "text/plain": [
              "97"
            ]
          },
          "metadata": {},
          "execution_count": 57
        }
      ]
    },
    {
      "cell_type": "code",
      "source": [
        "ord('y')"
      ],
      "metadata": {
        "id": "_ipO9omJN4Nb",
        "outputId": "0226bc6e-75e9-4f65-c65a-58934435bbb0",
        "colab": {
          "base_uri": "https://localhost:8080/"
        }
      },
      "execution_count": 58,
      "outputs": [
        {
          "output_type": "execute_result",
          "data": {
            "text/plain": [
              "121"
            ]
          },
          "metadata": {},
          "execution_count": 58
        }
      ]
    },
    {
      "cell_type": "code",
      "source": [
        "ord(' ')"
      ],
      "metadata": {
        "id": "8lcnB1sNN6qb",
        "outputId": "d8fdae28-c142-4a3f-8a24-b5ad979d6ba4",
        "colab": {
          "base_uri": "https://localhost:8080/"
        }
      },
      "execution_count": 59,
      "outputs": [
        {
          "output_type": "execute_result",
          "data": {
            "text/plain": [
              "32"
            ]
          },
          "metadata": {},
          "execution_count": 59
        }
      ]
    },
    {
      "cell_type": "code",
      "source": [
        "'a' < 'd'"
      ],
      "metadata": {
        "id": "VbY-JfVPOAFN",
        "outputId": "61a3d61e-cff3-4152-a59a-b9c9361714bb",
        "colab": {
          "base_uri": "https://localhost:8080/"
        }
      },
      "execution_count": 60,
      "outputs": [
        {
          "output_type": "execute_result",
          "data": {
            "text/plain": [
              "True"
            ]
          },
          "metadata": {},
          "execution_count": 60
        }
      ]
    },
    {
      "cell_type": "code",
      "source": [
        "sorted([2, 1, -3, 5, 4])"
      ],
      "metadata": {
        "id": "eBANn741OFWH",
        "outputId": "98692368-c6bd-4d03-9cda-9793efa42a4d",
        "colab": {
          "base_uri": "https://localhost:8080/"
        }
      },
      "execution_count": 61,
      "outputs": [
        {
          "output_type": "execute_result",
          "data": {
            "text/plain": [
              "[-3, 1, 2, 4, 5]"
            ]
          },
          "metadata": {},
          "execution_count": 61
        }
      ]
    },
    {
      "cell_type": "code",
      "source": [
        "nums = [2, 1, -3, 5, 4]"
      ],
      "metadata": {
        "id": "r5s3p755OiCU"
      },
      "execution_count": 64,
      "outputs": []
    },
    {
      "cell_type": "code",
      "source": [
        "sorted(nums)"
      ],
      "metadata": {
        "id": "Z7CV2UhgOnyN",
        "outputId": "16e52455-0e27-41b5-d615-53e273cb2883",
        "colab": {
          "base_uri": "https://localhost:8080/"
        }
      },
      "execution_count": 65,
      "outputs": [
        {
          "output_type": "execute_result",
          "data": {
            "text/plain": [
              "[-3, 1, 2, 4, 5]"
            ]
          },
          "metadata": {},
          "execution_count": 65
        }
      ]
    },
    {
      "cell_type": "code",
      "source": [
        "nums"
      ],
      "metadata": {
        "id": "cfwcgJhmOpdK",
        "outputId": "13b64be7-7565-4ba8-aeae-38e74387b045",
        "colab": {
          "base_uri": "https://localhost:8080/"
        }
      },
      "execution_count": 66,
      "outputs": [
        {
          "output_type": "execute_result",
          "data": {
            "text/plain": [
              "[2, 1, -3, 5, 4]"
            ]
          },
          "metadata": {},
          "execution_count": 66
        }
      ]
    },
    {
      "cell_type": "code",
      "source": [
        "help(nums.sort)"
      ],
      "metadata": {
        "id": "ixUJ1B3LOw0I",
        "outputId": "d720fb75-0b6e-4131-865a-85c50670d31f",
        "colab": {
          "base_uri": "https://localhost:8080/"
        }
      },
      "execution_count": 67,
      "outputs": [
        {
          "output_type": "stream",
          "name": "stdout",
          "text": [
            "Help on built-in function sort:\n",
            "\n",
            "sort(*, key=None, reverse=False) method of builtins.list instance\n",
            "    Sort the list in ascending order and return None.\n",
            "    \n",
            "    The sort is in-place (i.e. the list itself is modified) and stable (i.e. the\n",
            "    order of two equal elements is maintained).\n",
            "    \n",
            "    If a key function is given, apply it once to each list item and sort them,\n",
            "    ascending or descending, according to their function values.\n",
            "    \n",
            "    The reverse flag can be set to sort in descending order.\n",
            "\n"
          ]
        }
      ]
    },
    {
      "cell_type": "code",
      "source": [
        "nums"
      ],
      "metadata": {
        "id": "QoupcHQ2QGld",
        "outputId": "fb62430b-097a-43a8-ebe0-87b31d9eaf23",
        "colab": {
          "base_uri": "https://localhost:8080/"
        }
      },
      "execution_count": 68,
      "outputs": [
        {
          "output_type": "execute_result",
          "data": {
            "text/plain": [
              "[2, 1, -3, 5, 4]"
            ]
          },
          "metadata": {},
          "execution_count": 68
        }
      ]
    },
    {
      "cell_type": "code",
      "source": [
        "sorted(nums) # returns a new sorted list, leaving the original alone"
      ],
      "metadata": {
        "id": "6jsL9h54Qv2K",
        "outputId": "38c09718-a2f9-45bf-9c8d-0bf18f204c52",
        "colab": {
          "base_uri": "https://localhost:8080/"
        }
      },
      "execution_count": 69,
      "outputs": [
        {
          "output_type": "execute_result",
          "data": {
            "text/plain": [
              "[-3, 1, 2, 4, 5]"
            ]
          },
          "metadata": {},
          "execution_count": 69
        }
      ]
    },
    {
      "cell_type": "code",
      "source": [
        "sorted_nums = sorted(nums)\n",
        "sorted_nums"
      ],
      "metadata": {
        "id": "KMTV-4VrQ-j1",
        "outputId": "1e76795c-eb0f-4cb9-8102-b03f1bd2ef7a",
        "colab": {
          "base_uri": "https://localhost:8080/"
        }
      },
      "execution_count": 70,
      "outputs": [
        {
          "output_type": "execute_result",
          "data": {
            "text/plain": [
              "[-3, 1, 2, 4, 5]"
            ]
          },
          "metadata": {},
          "execution_count": 70
        }
      ]
    },
    {
      "cell_type": "code",
      "source": [
        "nums.sort() # sorts in place, and returns nothing"
      ],
      "metadata": {
        "id": "L4nUey1gQ0DU"
      },
      "execution_count": 71,
      "outputs": []
    },
    {
      "cell_type": "code",
      "source": [
        "nums"
      ],
      "metadata": {
        "id": "niDNyVKtRVns",
        "outputId": "1b584642-2a1b-4642-be6d-021bf6caebbe",
        "colab": {
          "base_uri": "https://localhost:8080/"
        }
      },
      "execution_count": 72,
      "outputs": [
        {
          "output_type": "execute_result",
          "data": {
            "text/plain": [
              "[-3, 1, 2, 4, 5]"
            ]
          },
          "metadata": {},
          "execution_count": 72
        }
      ]
    },
    {
      "cell_type": "code",
      "source": [
        "len('string')"
      ],
      "metadata": {
        "id": "jFj5q3taRWPt",
        "outputId": "497e6fc5-3cb8-4ed6-a238-99c649a3e95a",
        "colab": {
          "base_uri": "https://localhost:8080/"
        }
      },
      "execution_count": 73,
      "outputs": [
        {
          "output_type": "execute_result",
          "data": {
            "text/plain": [
              "6"
            ]
          },
          "metadata": {},
          "execution_count": 73
        }
      ]
    },
    {
      "cell_type": "code",
      "source": [
        "len([1, 2, 3])"
      ],
      "metadata": {
        "id": "lTCfiktYSeon",
        "outputId": "16d9ad13-88a4-4a4a-cda8-23db500a1bd5",
        "colab": {
          "base_uri": "https://localhost:8080/"
        }
      },
      "execution_count": 75,
      "outputs": [
        {
          "output_type": "execute_result",
          "data": {
            "text/plain": [
              "3"
            ]
          },
          "metadata": {},
          "execution_count": 75
        }
      ]
    },
    {
      "cell_type": "code",
      "source": [
        "len(1)"
      ],
      "metadata": {
        "id": "RVnIUCf-Sfzk",
        "outputId": "2a9764d0-2ee0-421e-8fc6-f46c96af2dfa",
        "colab": {
          "base_uri": "https://localhost:8080/",
          "height": 141
        }
      },
      "execution_count": 76,
      "outputs": [
        {
          "output_type": "error",
          "ename": "TypeError",
          "evalue": "object of type 'int' has no len()",
          "traceback": [
            "\u001b[0;31m---------------------------------------------------------------------------\u001b[0m",
            "\u001b[0;31mTypeError\u001b[0m                                 Traceback (most recent call last)",
            "\u001b[0;32m<ipython-input-76-1cf91bb60cc0>\u001b[0m in \u001b[0;36m<cell line: 1>\u001b[0;34m()\u001b[0m\n\u001b[0;32m----> 1\u001b[0;31m \u001b[0mlen\u001b[0m\u001b[0;34m(\u001b[0m\u001b[0;36m1\u001b[0m\u001b[0;34m)\u001b[0m\u001b[0;34m\u001b[0m\u001b[0;34m\u001b[0m\u001b[0m\n\u001b[0m",
            "\u001b[0;31mTypeError\u001b[0m: object of type 'int' has no len()"
          ]
        }
      ]
    },
    {
      "cell_type": "code",
      "source": [
        "nums = [1, 3, 2]"
      ],
      "metadata": {
        "id": "gFl1R7ViSows"
      },
      "execution_count": 77,
      "outputs": []
    },
    {
      "cell_type": "code",
      "source": [
        "nums.sort()"
      ],
      "metadata": {
        "id": "zy5xE7mLVDZs"
      },
      "execution_count": 78,
      "outputs": []
    },
    {
      "cell_type": "code",
      "source": [
        "nums"
      ],
      "metadata": {
        "id": "mgKiObDsVFOi",
        "outputId": "d28a6828-292c-4a3a-dcf9-5ef4c6021b5a",
        "colab": {
          "base_uri": "https://localhost:8080/"
        }
      },
      "execution_count": 79,
      "outputs": [
        {
          "output_type": "execute_result",
          "data": {
            "text/plain": [
              "[1, 2, 3]"
            ]
          },
          "metadata": {},
          "execution_count": 79
        }
      ]
    },
    {
      "cell_type": "code",
      "source": [
        "nums = sorted(nums, reverse=True)"
      ],
      "metadata": {
        "id": "zlJjX5YYVFuW"
      },
      "execution_count": 80,
      "outputs": []
    },
    {
      "cell_type": "code",
      "source": [
        "nums"
      ],
      "metadata": {
        "id": "osPkBH7UVSs_",
        "outputId": "7347f864-061d-4dd5-fba7-4a0ed7128f1a",
        "colab": {
          "base_uri": "https://localhost:8080/"
        }
      },
      "execution_count": 81,
      "outputs": [
        {
          "output_type": "execute_result",
          "data": {
            "text/plain": [
              "[3, 2, 1]"
            ]
          },
          "metadata": {},
          "execution_count": 81
        }
      ]
    },
    {
      "cell_type": "code",
      "source": [
        "'aaaaaaaabbb'.count('b')"
      ],
      "metadata": {
        "id": "BZ9-T5NbVTCC",
        "outputId": "9420e1cc-ba34-4d87-b557-3f78fb88ad26",
        "colab": {
          "base_uri": "https://localhost:8080/"
        }
      },
      "execution_count": 82,
      "outputs": [
        {
          "output_type": "execute_result",
          "data": {
            "text/plain": [
              "3"
            ]
          },
          "metadata": {},
          "execution_count": 82
        }
      ]
    },
    {
      "cell_type": "code",
      "source": [
        "'aaaaaaaabbb'.replace('b', 'c')"
      ],
      "metadata": {
        "id": "CyynZCXHWtPl",
        "outputId": "022d45f5-f6db-4cd1-e140-875ab636c6db",
        "colab": {
          "base_uri": "https://localhost:8080/",
          "height": 35
        }
      },
      "execution_count": 83,
      "outputs": [
        {
          "output_type": "execute_result",
          "data": {
            "text/plain": [
              "'aaaaaaaaccc'"
            ],
            "application/vnd.google.colaboratory.intrinsic+json": {
              "type": "string"
            }
          },
          "metadata": {},
          "execution_count": 83
        }
      ]
    },
    {
      "cell_type": "code",
      "source": [
        "# 1. what's a list method that inspects and object but does not change it?\n",
        "nums = [1, 2, 3, 4, 1, 2, 1]\n",
        "nums.count(1)"
      ],
      "metadata": {
        "id": "eiTQhizGW-DU",
        "outputId": "07040bfe-d220-4be7-f687-9599389d15cf",
        "colab": {
          "base_uri": "https://localhost:8080/"
        }
      },
      "execution_count": 86,
      "outputs": [
        {
          "output_type": "execute_result",
          "data": {
            "text/plain": [
              "3"
            ]
          },
          "metadata": {},
          "execution_count": 86
        }
      ]
    },
    {
      "cell_type": "code",
      "source": [
        "# 2. what's a list method that changes the list but DOES NOT RETURN ANYTHING\n",
        "nums.append(5)"
      ],
      "metadata": {
        "id": "5wrvKDYZXvf5"
      },
      "execution_count": 87,
      "outputs": []
    },
    {
      "cell_type": "code",
      "source": [
        "# let's see if it changed the list\n",
        "nums"
      ],
      "metadata": {
        "id": "ZZjKjPkrYJn4",
        "outputId": "efc67162-4029-4ac2-e5a9-52781837d684",
        "colab": {
          "base_uri": "https://localhost:8080/"
        }
      },
      "execution_count": 88,
      "outputs": [
        {
          "output_type": "execute_result",
          "data": {
            "text/plain": [
              "[1, 2, 3, 4, 1, 2, 1, 5]"
            ]
          },
          "metadata": {},
          "execution_count": 88
        }
      ]
    },
    {
      "cell_type": "code",
      "source": [
        "# 3. what's a list method that change the list AND RETURNS SOMETHING\n",
        "nums.pop()"
      ],
      "metadata": {
        "id": "LUjtsyLiYQZG",
        "outputId": "a8ad0f7e-74dd-4f91-839b-448d5eac61a8",
        "colab": {
          "base_uri": "https://localhost:8080/"
        }
      },
      "execution_count": 89,
      "outputs": [
        {
          "output_type": "execute_result",
          "data": {
            "text/plain": [
              "5"
            ]
          },
          "metadata": {},
          "execution_count": 89
        }
      ]
    },
    {
      "cell_type": "code",
      "source": [
        "help(nums.append)"
      ],
      "metadata": {
        "id": "xEMvpQjHYYrN",
        "outputId": "3236425c-077d-4918-c1b7-2901abf67524",
        "colab": {
          "base_uri": "https://localhost:8080/"
        }
      },
      "execution_count": 90,
      "outputs": [
        {
          "output_type": "stream",
          "name": "stdout",
          "text": [
            "Help on built-in function append:\n",
            "\n",
            "append(object, /) method of builtins.list instance\n",
            "    Append object to the end of the list.\n",
            "\n"
          ]
        }
      ]
    },
    {
      "cell_type": "code",
      "source": [
        "help(nums.pop)"
      ],
      "metadata": {
        "id": "v3dgX7a_Y1H6",
        "outputId": "9c821a11-e6a2-4f39-d608-c5c251673602",
        "colab": {
          "base_uri": "https://localhost:8080/"
        }
      },
      "execution_count": 92,
      "outputs": [
        {
          "output_type": "stream",
          "name": "stdout",
          "text": [
            "Help on built-in function pop:\n",
            "\n",
            "pop(index=-1, /) method of builtins.list instance\n",
            "    Remove and return item at index (default last).\n",
            "    \n",
            "    Raises IndexError if list is empty or index is out of range.\n",
            "\n"
          ]
        }
      ]
    },
    {
      "cell_type": "code",
      "source": [
        "help(list.count)"
      ],
      "metadata": {
        "id": "ezaOhhR3Y6kP",
        "outputId": "63ec3306-37be-407f-93dd-48910bb2c6c2",
        "colab": {
          "base_uri": "https://localhost:8080/"
        }
      },
      "execution_count": 93,
      "outputs": [
        {
          "output_type": "stream",
          "name": "stdout",
          "text": [
            "Help on method_descriptor:\n",
            "\n",
            "count(self, value, /)\n",
            "    Return number of occurrences of value.\n",
            "\n"
          ]
        }
      ]
    },
    {
      "cell_type": "code",
      "source": [
        "help(list.sort)"
      ],
      "metadata": {
        "id": "ODx3NCg7ZDkY",
        "outputId": "701e74ba-7347-4c77-89c7-0d26256d52d3",
        "colab": {
          "base_uri": "https://localhost:8080/"
        }
      },
      "execution_count": 94,
      "outputs": [
        {
          "output_type": "stream",
          "name": "stdout",
          "text": [
            "Help on method_descriptor:\n",
            "\n",
            "sort(self, /, *, key=None, reverse=False)\n",
            "    Sort the list in ascending order and return None.\n",
            "    \n",
            "    The sort is in-place (i.e. the list itself is modified) and stable (i.e. the\n",
            "    order of two equal elements is maintained).\n",
            "    \n",
            "    If a key function is given, apply it once to each list item and sort them,\n",
            "    ascending or descending, according to their function values.\n",
            "    \n",
            "    The reverse flag can be set to sort in descending order.\n",
            "\n"
          ]
        }
      ]
    },
    {
      "cell_type": "markdown",
      "source": [
        "## Quick Lab: Lists\n",
        "* Write a program that asks the user to input two lists and then finds and prints the common elements between them\n",
        "<pre>\n",
        "Enter a list of items: <b>apple cherry banana lemon</b>\n",
        "Enter a second list of items: <b>apple guava banana lime</b>\n",
        "Common elements: apple banana"
      ],
      "metadata": {
        "id": "UgPKSkpIlRXK"
      }
    },
    {
      "cell_type": "code",
      "source": [
        "# 1. get a list from the user\n",
        "# 2. get a 2nd list from the user\n",
        "# 3. for each item in one of the lists:\n",
        "# 4.    if that item is also in the other list:\n",
        "# 5.        print it out\n"
      ],
      "metadata": {
        "id": "PwO_0AtilRzI"
      },
      "execution_count": 96,
      "outputs": []
    },
    {
      "cell_type": "code",
      "source": [
        "list1 = input('Enter a list of items: ').lower().split() # 1\n",
        "list2 = input('Enter a second list of items: ').lower().split() # 2"
      ],
      "metadata": {
        "id": "-NIfJG9xleJD",
        "outputId": "be87e492-e1a3-4ab7-f7f3-f7a311475ff3",
        "colab": {
          "base_uri": "https://localhost:8080/"
        }
      },
      "execution_count": 106,
      "outputs": [
        {
          "name": "stdout",
          "output_type": "stream",
          "text": [
            "Enter a list of items: apple cherry banana lemon\n",
            "Enter a second list of items: apple guava banana lime cherry\n"
          ]
        }
      ]
    },
    {
      "cell_type": "code",
      "source": [
        "for item in list2: # 3\n",
        "    if item in list1:\n",
        "        print(item, end=' ') # 5"
      ],
      "metadata": {
        "id": "Mil6ZFoVl0qC",
        "outputId": "4dc8eb42-002c-46f3-863d-ca54c0941d27",
        "colab": {
          "base_uri": "https://localhost:8080/"
        }
      },
      "execution_count": 107,
      "outputs": [
        {
          "output_type": "stream",
          "name": "stdout",
          "text": [
            "apple banana cherry "
          ]
        }
      ]
    },
    {
      "cell_type": "code",
      "source": [
        "# wrinkles...additional features\n",
        "# indicate a shared item is in the same position or not\n",
        "# do we care about case? Is it appropriate to make everything .lower() or not?\n",
        "for item in list2: # 3\n",
        "    if item in list1: # 4\n",
        "        if list1.index(item) == list2.index(item):\n",
        "            print(f'{item}* ')\n",
        "        else:\n",
        "            print(item, end=' ') # 5"
      ],
      "metadata": {
        "id": "S0WWhJXkl_QU",
        "outputId": "51c1c763-85f7-4401-b71a-542b8a2b8478",
        "colab": {
          "base_uri": "https://localhost:8080/"
        }
      },
      "execution_count": 108,
      "outputs": [
        {
          "output_type": "stream",
          "name": "stdout",
          "text": [
            "apple* \n",
            "banana* \n",
            "cherry "
          ]
        }
      ]
    },
    {
      "cell_type": "code",
      "source": [
        "for index1 in range(len(list1)): # 3\n",
        "    if list1[index1] in list2: # 4\n",
        "        if index1 == list2.index(list1[index1]):\n",
        "            print(f'{list1[index1]}* ')\n",
        "        else:\n",
        "            print(list1[index1], end=' ') # 5"
      ],
      "metadata": {
        "id": "BbQe-3DHmdg7",
        "outputId": "0a2a089c-e510-44aa-b139-86b818939026",
        "colab": {
          "base_uri": "https://localhost:8080/"
        }
      },
      "execution_count": 105,
      "outputs": [
        {
          "output_type": "stream",
          "name": "stdout",
          "text": [
            "apple* \n",
            "banana* \n"
          ]
        }
      ]
    },
    {
      "cell_type": "code",
      "source": [
        "help(list.index)"
      ],
      "metadata": {
        "id": "P0o0zaQZmdbA",
        "outputId": "84f2e406-8808-40e5-8e34-84fb969dd04d",
        "colab": {
          "base_uri": "https://localhost:8080/"
        }
      },
      "execution_count": 110,
      "outputs": [
        {
          "output_type": "stream",
          "name": "stdout",
          "text": [
            "Help on method_descriptor:\n",
            "\n",
            "index(self, value, start=0, stop=9223372036854775807, /)\n",
            "    Return first index of value.\n",
            "    \n",
            "    Raises ValueError if the value is not present.\n",
            "\n"
          ]
        }
      ]
    },
    {
      "cell_type": "code",
      "source": [
        "# Neva's solution\n",
        "common_items = []\n",
        "\n",
        "for item in list1:\n",
        "  if item in list2:\n",
        "    common_items.append(item)\n",
        "\n",
        "print(*common_items, sep='\\n')"
      ],
      "metadata": {
        "id": "aZGzRL1kolU2",
        "outputId": "d7db35e1-790d-40d5-f35c-0ffe80d9f239",
        "colab": {
          "base_uri": "https://localhost:8080/"
        }
      },
      "execution_count": 115,
      "outputs": [
        {
          "output_type": "stream",
          "name": "stdout",
          "text": [
            "apple\n",
            "cherry\n",
            "banana\n"
          ]
        }
      ]
    },
    {
      "cell_type": "code",
      "source": [
        "print('\\n'.join(common_items))"
      ],
      "metadata": {
        "id": "1aDV3J9uqA9G",
        "outputId": "1495e786-2e7c-437c-be1b-c6b39a03dd52",
        "colab": {
          "base_uri": "https://localhost:8080/"
        }
      },
      "execution_count": 117,
      "outputs": [
        {
          "output_type": "stream",
          "name": "stdout",
          "text": [
            "apple\n",
            "cherry\n",
            "banana\n"
          ]
        }
      ]
    },
    {
      "cell_type": "code",
      "source": [
        "help(str.join)"
      ],
      "metadata": {
        "id": "FnrgWDtBqIag",
        "outputId": "f1305230-a410-4122-99b3-229458453694",
        "colab": {
          "base_uri": "https://localhost:8080/"
        }
      },
      "execution_count": 118,
      "outputs": [
        {
          "output_type": "stream",
          "name": "stdout",
          "text": [
            "Help on method_descriptor:\n",
            "\n",
            "join(self, iterable, /)\n",
            "    Concatenate any number of strings.\n",
            "    \n",
            "    The string whose method is called is inserted in between each given string.\n",
            "    The result is returned as a new string.\n",
            "    \n",
            "    Example: '.'.join(['ab', 'pq', 'rs']) -> 'ab.pq.rs'\n",
            "\n"
          ]
        }
      ]
    },
    {
      "cell_type": "markdown",
      "source": [
        "## Group Lab: Lists\n",
        "* Write a Python program to maintain a list\n",
        "  * Read input until the user enters 'quit'\n",
        "  * Words that the user enters should be added to the list\n",
        "  * If a word begins with '-' (e.g., '-foo') it should be removed from the list\n",
        "  * If the user enters only a '-', the list should be reversed\n",
        "  * After each operation, print the list\n",
        "  * Extras:\n",
        "      * If user enters more than one word (e.g, __foo bar__), add \"foo\" and \"bar\" to the list, rather than \"foo bar\"\n",
        "      * Same for \"-\", i.e., __-foo bar__ would remove \"foo\" and \"bar\" from the  list"
      ],
      "metadata": {
        "id": "3yibzDZNrwdP"
      }
    },
    {
      "cell_type": "code",
      "source": [
        "\n",
        "word = '' # prime the pump, i.e., give word a value\n",
        "\n",
        "while word != 'quit': # obviated the need for this test up here by adding the break\n",
        "    word = input('Enter a word: ')\n",
        "    if word == 'quit': # middle-test loop (1 1/2 loop)\n",
        "        break\n",
        "    print('add', word)"
      ],
      "metadata": {
        "id": "j9QOvQ-ir6Ki",
        "outputId": "db4bfaa4-9cee-4cca-ece3-ca5637a48a70",
        "colab": {
          "base_uri": "https://localhost:8080/"
        }
      },
      "execution_count": 123,
      "outputs": [
        {
          "name": "stdout",
          "output_type": "stream",
          "text": [
            "Enter a word: apple\n",
            "add apple\n",
            "Enter a word: fig\n",
            "add fig\n",
            "Enter a word: quit\n"
          ]
        }
      ]
    },
    {
      "cell_type": "code",
      "source": [
        "word = input('Enter a word: ')\n",
        "\n",
        "while word != 'quit': # exit point\n",
        "    print('add', word)\n",
        "    word = input('Enter a word: ')"
      ],
      "metadata": {
        "id": "g14Txfk0syTL",
        "outputId": "7c2e8241-9a49-408b-eea8-3adb1bae54d9",
        "colab": {
          "base_uri": "https://localhost:8080/"
        }
      },
      "execution_count": 124,
      "outputs": [
        {
          "name": "stdout",
          "output_type": "stream",
          "text": [
            "Enter a word: aple\n",
            "add aple\n",
            "Enter a word: fig\n",
            "add fig\n",
            "Enter a word: pear\n",
            "add pear\n",
            "Enter a word: quit\n"
          ]
        }
      ]
    },
    {
      "cell_type": "code",
      "source": [
        "while (word := input('Enter a word: ')) != 'quit': # \"walrus operator\" / assignment expression\n",
        "    print('add', word)"
      ],
      "metadata": {
        "id": "gDa5NXNauVbX",
        "outputId": "ee616b9b-d0a6-48bc-c108-fab0da5ebdc0",
        "colab": {
          "base_uri": "https://localhost:8080/"
        }
      },
      "execution_count": 126,
      "outputs": [
        {
          "name": "stdout",
          "output_type": "stream",
          "text": [
            "Enter a word: aple\n",
            "add aple\n",
            "Enter a word: fig\n",
            "add fig\n",
            "Enter a word: pear\n",
            "add pear\n",
            "Enter a word: quit\n"
          ]
        }
      ]
    },
    {
      "cell_type": "code",
      "source": [
        "user_words = []\n",
        "\n",
        "while (word := input('Enter a word: ')) != 'quit': # \"walrus operator\" / assignment expression\n",
        "    user_words.append(word)"
      ],
      "metadata": {
        "id": "8o7RfjzLuy9o",
        "outputId": "a48b0a9a-63c7-4ff2-d627-e387e2352d71",
        "colab": {
          "base_uri": "https://localhost:8080/"
        }
      },
      "execution_count": 127,
      "outputs": [
        {
          "name": "stdout",
          "output_type": "stream",
          "text": [
            "Enter a word: apple\n",
            "Enter a word: fig\n",
            "Enter a word: quit\n"
          ]
        }
      ]
    },
    {
      "cell_type": "code",
      "source": [
        "user_words"
      ],
      "metadata": {
        "id": "bZeXrIBqvlGk",
        "outputId": "6de35991-16a1-4947-8959-7f890fb770f3",
        "colab": {
          "base_uri": "https://localhost:8080/"
        }
      },
      "execution_count": 128,
      "outputs": [
        {
          "output_type": "execute_result",
          "data": {
            "text/plain": [
              "['apple', 'fig']"
            ]
          },
          "metadata": {},
          "execution_count": 128
        }
      ]
    },
    {
      "cell_type": "code",
      "source": [
        "user_words = []\n",
        "\n",
        "while (word := input('Enter a word: ')) != 'quit': # \"walrus operator\" / assignment expression\n",
        "    user_words.append(word)\n",
        "    print(user_words)"
      ],
      "metadata": {
        "id": "P4w2fT2OvoeF",
        "outputId": "423052e3-bbaf-4e76-9e80-5e557b64804f",
        "colab": {
          "base_uri": "https://localhost:8080/"
        }
      },
      "execution_count": 130,
      "outputs": [
        {
          "name": "stdout",
          "output_type": "stream",
          "text": [
            "Enter a word: -apple\n",
            "['-apple']\n",
            "Enter a word: quit\n"
          ]
        }
      ]
    },
    {
      "cell_type": "code",
      "source": [
        "# add -apple functionality\n",
        "user_words = []\n",
        "\n",
        "while (word := input('Enter a word: ')) != 'quit': # \"walrus operator\" / assignment expression\n",
        "    user_words.append(word)\n",
        "    print(user_words)"
      ],
      "metadata": {
        "id": "g_yO-zL9vxuW"
      },
      "execution_count": null,
      "outputs": []
    },
    {
      "cell_type": "code",
      "source": [
        "'-apple'.startswith('-')"
      ],
      "metadata": {
        "id": "By4Udd0-wQrS",
        "outputId": "042430b9-dd0b-486e-81f7-f1cb6f813913",
        "colab": {
          "base_uri": "https://localhost:8080/"
        }
      },
      "execution_count": 131,
      "outputs": [
        {
          "output_type": "execute_result",
          "data": {
            "text/plain": [
              "True"
            ]
          },
          "metadata": {},
          "execution_count": 131
        }
      ]
    },
    {
      "cell_type": "code",
      "source": [
        "'-apple'[0] == '-'"
      ],
      "metadata": {
        "id": "RyrZlMCSwdV-",
        "outputId": "199ef7ad-a167-4ee5-95d6-7455e3635d92",
        "colab": {
          "base_uri": "https://localhost:8080/"
        }
      },
      "execution_count": 133,
      "outputs": [
        {
          "output_type": "execute_result",
          "data": {
            "text/plain": [
              "True"
            ]
          },
          "metadata": {},
          "execution_count": 133
        }
      ]
    },
    {
      "cell_type": "code",
      "source": [
        "user_words = []\n",
        "\n",
        "while (word := input('Enter a word: ')) != 'quit': # \"walrus operator\" / assignment expression\n",
        "    if word[0] == '-':\n",
        "        # we need to remove the word with the - ommitted ('-apple')\n",
        "        if word[1:] in user_words:\n",
        "            while word[1:] in user_words:\n",
        "                user_words.remove(word[1:]) # from character 1 to the end\n",
        "        else:\n",
        "            print(f'{word[1:]} is not in the list!')\n",
        "    else:\n",
        "        user_words.append(word)\n",
        "    print(user_words)"
      ],
      "metadata": {
        "id": "cQpKCjsowe0w",
        "outputId": "a5a261b2-a42d-46b5-9690-4e3a6c97c7f6",
        "colab": {
          "base_uri": "https://localhost:8080/",
          "height": 297
        }
      },
      "execution_count": 150,
      "outputs": [
        {
          "name": "stdout",
          "output_type": "stream",
          "text": [
            "Enter a word: apple\n",
            "['apple']\n",
            "Enter a word: fig\n",
            "['apple', 'fig']\n",
            "Enter a word: \n"
          ]
        },
        {
          "output_type": "error",
          "ename": "IndexError",
          "evalue": "string index out of range",
          "traceback": [
            "\u001b[0;31m---------------------------------------------------------------------------\u001b[0m",
            "\u001b[0;31mIndexError\u001b[0m                                Traceback (most recent call last)",
            "\u001b[0;32m<ipython-input-150-827aa4ea6ef8>\u001b[0m in \u001b[0;36m<cell line: 3>\u001b[0;34m()\u001b[0m\n\u001b[1;32m      2\u001b[0m \u001b[0;34m\u001b[0m\u001b[0m\n\u001b[1;32m      3\u001b[0m \u001b[0;32mwhile\u001b[0m \u001b[0;34m(\u001b[0m\u001b[0mword\u001b[0m \u001b[0;34m:=\u001b[0m \u001b[0minput\u001b[0m\u001b[0;34m(\u001b[0m\u001b[0;34m'Enter a word: '\u001b[0m\u001b[0;34m)\u001b[0m\u001b[0;34m)\u001b[0m \u001b[0;34m!=\u001b[0m \u001b[0;34m'quit'\u001b[0m\u001b[0;34m:\u001b[0m \u001b[0;31m# \"walrus operator\" / assignment expression\u001b[0m\u001b[0;34m\u001b[0m\u001b[0;34m\u001b[0m\u001b[0m\n\u001b[0;32m----> 4\u001b[0;31m     \u001b[0;32mif\u001b[0m \u001b[0mword\u001b[0m\u001b[0;34m[\u001b[0m\u001b[0;36m0\u001b[0m\u001b[0;34m]\u001b[0m \u001b[0;34m==\u001b[0m \u001b[0;34m'-'\u001b[0m\u001b[0;34m:\u001b[0m\u001b[0;34m\u001b[0m\u001b[0;34m\u001b[0m\u001b[0m\n\u001b[0m\u001b[1;32m      5\u001b[0m         \u001b[0;31m# we need to remove the word with the - ommitted ('-apple')\u001b[0m\u001b[0;34m\u001b[0m\u001b[0;34m\u001b[0m\u001b[0m\n\u001b[1;32m      6\u001b[0m         \u001b[0;32mif\u001b[0m \u001b[0mword\u001b[0m\u001b[0;34m[\u001b[0m\u001b[0;36m1\u001b[0m\u001b[0;34m:\u001b[0m\u001b[0;34m]\u001b[0m \u001b[0;32min\u001b[0m \u001b[0muser_words\u001b[0m\u001b[0;34m:\u001b[0m\u001b[0;34m\u001b[0m\u001b[0;34m\u001b[0m\u001b[0m\n",
            "\u001b[0;31mIndexError\u001b[0m: string index out of range"
          ]
        }
      ]
    },
    {
      "cell_type": "code",
      "source": [
        "'-apple'[0]"
      ],
      "metadata": {
        "id": "oFmDA0SNxQ-V",
        "outputId": "e695590d-ef5b-499e-bad6-eb781d585267",
        "colab": {
          "base_uri": "https://localhost:8080/",
          "height": 35
        }
      },
      "execution_count": 135,
      "outputs": [
        {
          "output_type": "execute_result",
          "data": {
            "text/plain": [
              "'-'"
            ],
            "application/vnd.google.colaboratory.intrinsic+json": {
              "type": "string"
            }
          },
          "metadata": {},
          "execution_count": 135
        }
      ]
    },
    {
      "cell_type": "code",
      "source": [
        "'-apple'[1:]"
      ],
      "metadata": {
        "id": "6NrB-2AgxuNV",
        "outputId": "ca31e2b0-e5ca-40d7-a54f-2166b79c0e58",
        "colab": {
          "base_uri": "https://localhost:8080/",
          "height": 35
        }
      },
      "execution_count": 137,
      "outputs": [
        {
          "output_type": "execute_result",
          "data": {
            "text/plain": [
              "'apple'"
            ],
            "application/vnd.google.colaboratory.intrinsic+json": {
              "type": "string"
            }
          },
          "metadata": {},
          "execution_count": 137
        }
      ]
    },
    {
      "cell_type": "code",
      "source": [
        "user_words = []\n",
        "\n",
        "while (word := input('Enter a word: ')) != 'quit': # \"walrus operator\" / assignment expression\n",
        "    if word == '':\n",
        "        print('no input detected...try again')\n",
        "        continue\n",
        "    if word[0] == '-': # the word entered starts with a -\n",
        "        if len(word) == 1: # we know it's exactly a -\n",
        "        # if word == '-':\n",
        "            if len(user_words) < 2:\n",
        "                print('Cannot reverse a list with fewer than 2 items!')\n",
        "            else:\n",
        "                user_words.reverse()\n",
        "        # we need to remove the word with the - ommitted ('-apple')\n",
        "        elif word[1:] in user_words:\n",
        "            while word[1:] in user_words:\n",
        "                user_words.remove(word[1:]) # from character 1 to the end\n",
        "        else:\n",
        "            print(f'{word[1:]} is not in the list!')\n",
        "    else:\n",
        "        user_words.append(word)\n",
        "    print(user_words)"
      ],
      "metadata": {
        "id": "wlA93gRGxvqY",
        "outputId": "ab61108b-c7fb-43c5-90a7-f027dfbcaea2",
        "colab": {
          "base_uri": "https://localhost:8080/"
        }
      },
      "execution_count": 154,
      "outputs": [
        {
          "name": "stdout",
          "output_type": "stream",
          "text": [
            "Enter a word: \n",
            "no input detected...try again\n",
            "Enter a word: \n",
            "no input detected...try again\n",
            "Enter a word: quit\n"
          ]
        }
      ]
    },
    {
      "cell_type": "code",
      "source": [
        "3[1, 2, 3][::-1]"
      ],
      "metadata": {
        "id": "MzbqqB6T0Agi",
        "outputId": "ba1ec5ee-0ab3-42cf-ce25-08fac5d8506e",
        "colab": {
          "base_uri": "https://localhost:8080/"
        }
      },
      "execution_count": 142,
      "outputs": [
        {
          "output_type": "execute_result",
          "data": {
            "text/plain": [
              "[3, 2, 1]"
            ]
          },
          "metadata": {},
          "execution_count": 142
        }
      ]
    },
    {
      "cell_type": "code",
      "source": [
        "help(list.reverse)"
      ],
      "metadata": {
        "id": "6SGvhygq0Cah",
        "outputId": "04de99b9-026d-418b-c60a-32eb4a65bf22",
        "colab": {
          "base_uri": "https://localhost:8080/"
        }
      },
      "execution_count": 143,
      "outputs": [
        {
          "output_type": "stream",
          "name": "stdout",
          "text": [
            "Help on method_descriptor:\n",
            "\n",
            "reverse(self, /)\n",
            "    Reverse *IN PLACE*.\n",
            "\n"
          ]
        }
      ]
    },
    {
      "cell_type": "code",
      "source": [
        "'-'[0]"
      ],
      "metadata": {
        "id": "ZNTHAC550O1j",
        "outputId": "8a2a42f1-adcc-49a7-a2f1-e8d43ffd67e0",
        "colab": {
          "base_uri": "https://localhost:8080/",
          "height": 35
        }
      },
      "execution_count": 151,
      "outputs": [
        {
          "output_type": "execute_result",
          "data": {
            "text/plain": [
              "'-'"
            ],
            "application/vnd.google.colaboratory.intrinsic+json": {
              "type": "string"
            }
          },
          "metadata": {},
          "execution_count": 151
        }
      ]
    },
    {
      "cell_type": "code",
      "source": [
        "''[0]"
      ],
      "metadata": {
        "id": "ThUfimw-2Bgm",
        "outputId": "833d2749-537a-4103-f65b-211d562b1abf",
        "colab": {
          "base_uri": "https://localhost:8080/",
          "height": 141
        }
      },
      "execution_count": 152,
      "outputs": [
        {
          "output_type": "error",
          "ename": "IndexError",
          "evalue": "string index out of range",
          "traceback": [
            "\u001b[0;31m---------------------------------------------------------------------------\u001b[0m",
            "\u001b[0;31mIndexError\u001b[0m                                Traceback (most recent call last)",
            "\u001b[0;32m<ipython-input-152-809c7f9aeaaf>\u001b[0m in \u001b[0;36m<cell line: 1>\u001b[0;34m()\u001b[0m\n\u001b[0;32m----> 1\u001b[0;31m \u001b[0;34m''\u001b[0m\u001b[0;34m[\u001b[0m\u001b[0;36m0\u001b[0m\u001b[0;34m]\u001b[0m\u001b[0;34m\u001b[0m\u001b[0;34m\u001b[0m\u001b[0m\n\u001b[0m",
            "\u001b[0;31mIndexError\u001b[0m: string index out of range"
          ]
        }
      ]
    },
    {
      "cell_type": "code",
      "source": [
        "''.startswith('-')"
      ],
      "metadata": {
        "id": "07Bd5qkw2Clz",
        "outputId": "59af2b01-ea2b-47a1-9bf1-55907927fa73",
        "colab": {
          "base_uri": "https://localhost:8080/"
        }
      },
      "execution_count": 153,
      "outputs": [
        {
          "output_type": "execute_result",
          "data": {
            "text/plain": [
              "False"
            ]
          },
          "metadata": {},
          "execution_count": 153
        }
      ]
    },
    {
      "cell_type": "code",
      "source": [
        "number = -3"
      ],
      "metadata": {
        "id": "03UPfBmt2GPa"
      },
      "execution_count": 159,
      "outputs": []
    },
    {
      "cell_type": "code",
      "source": [
        "if number: # truthiness?\n",
        "    print('yep')"
      ],
      "metadata": {
        "id": "ozKu0h7_3Zeu",
        "outputId": "41805311-e87f-4e9a-bdda-4f061e98e90b",
        "colab": {
          "base_uri": "https://localhost:8080/"
        }
      },
      "execution_count": 160,
      "outputs": [
        {
          "output_type": "stream",
          "name": "stdout",
          "text": [
            "yep\n"
          ]
        }
      ]
    },
    {
      "cell_type": "code",
      "source": [
        "number = 0.0\n",
        "\n",
        "if number: # won't print because ... 0.0 is considered False\n",
        "    print('nope')"
      ],
      "metadata": {
        "id": "NcpazMeO3iTO"
      },
      "execution_count": 158,
      "outputs": []
    },
    {
      "cell_type": "code",
      "source": [
        "numbers = []"
      ],
      "metadata": {
        "id": "bBrdMH8_3srp"
      },
      "execution_count": 165,
      "outputs": []
    },
    {
      "cell_type": "code",
      "source": [
        "if numbers: # if the container is non-empty\n",
        "    print('Gap!')"
      ],
      "metadata": {
        "id": "mxW-CoOX4Nxx"
      },
      "execution_count": 166,
      "outputs": []
    },
    {
      "cell_type": "code",
      "source": [
        "user_words = []\n",
        "\n",
        "while (word := input('Enter a word: ')) != 'quit': # \"walrus operator\" / assignment expression\n",
        "    if not word: # \"if word is empty\" (if word == '')\n",
        "        print('no input detected...try again')\n",
        "        continue\n",
        "    if word[0] == '-': # the word entered starts with a -\n",
        "        if len(word) == 1: # we know it's exactly a -\n",
        "        # if word == '-':\n",
        "            if len(user_words) < 2:\n",
        "                print('Cannot reverse a list with fewer than 2 items!')\n",
        "            else:\n",
        "                user_words.reverse()\n",
        "        # we need to remove the word with the - ommitted ('-apple')\n",
        "        elif word[1:] in user_words:\n",
        "            while word[1:] in user_words:\n",
        "                user_words.remove(word[1:]) # from character 1 to the end\n",
        "        else:\n",
        "            print(f'{word[1:]} is not in the list!')\n",
        "    else:\n",
        "        user_words.append(word)\n",
        "    print(user_words)"
      ],
      "metadata": {
        "id": "rM1cU_p_4TAl"
      },
      "execution_count": null,
      "outputs": []
    },
    {
      "cell_type": "code",
      "source": [
        "sizes = ['S', 'M', 'L']\n",
        "colors = ['red', 'blue', 'green']\n",
        "\n",
        "tshirts = [[color, size] for size in sizes for color in colors]\n",
        "\n",
        "tshirts"
      ],
      "metadata": {
        "id": "yC6usjo6JYIb",
        "outputId": "9ca967be-531d-4f8c-84c6-670e2302108f",
        "colab": {
          "base_uri": "https://localhost:8080/"
        }
      },
      "execution_count": 168,
      "outputs": [
        {
          "output_type": "execute_result",
          "data": {
            "text/plain": [
              "[['red', 'S'],\n",
              " ['blue', 'S'],\n",
              " ['green', 'S'],\n",
              " ['red', 'M'],\n",
              " ['blue', 'M'],\n",
              " ['green', 'M'],\n",
              " ['red', 'L'],\n",
              " ['blue', 'L'],\n",
              " ['green', 'L']]"
            ]
          },
          "metadata": {},
          "execution_count": 168
        }
      ]
    },
    {
      "cell_type": "code",
      "source": [
        "colors = ['black', 'white']\n",
        "sizes = ['S', 'M', 'L', 'XL']\n",
        "sleeves = ['short', 'long']"
      ],
      "metadata": {
        "id": "2xI8e-8AMrbz"
      },
      "execution_count": 169,
      "outputs": []
    },
    {
      "cell_type": "code",
      "source": [
        "tshirts = [[color, size, sleeve] for size in sizes\n",
        "                                    for color in colors\n",
        "                                        for sleeve in sleeves]\n",
        "tshirts"
      ],
      "metadata": {
        "id": "A19DJLvyM1uB",
        "outputId": "7f722f02-db23-47ec-a2ec-e4c05e8710f1",
        "colab": {
          "base_uri": "https://localhost:8080/"
        }
      },
      "execution_count": 170,
      "outputs": [
        {
          "output_type": "execute_result",
          "data": {
            "text/plain": [
              "[['black', 'S', 'short'],\n",
              " ['black', 'S', 'long'],\n",
              " ['white', 'S', 'short'],\n",
              " ['white', 'S', 'long'],\n",
              " ['black', 'M', 'short'],\n",
              " ['black', 'M', 'long'],\n",
              " ['white', 'M', 'short'],\n",
              " ['white', 'M', 'long'],\n",
              " ['black', 'L', 'short'],\n",
              " ['black', 'L', 'long'],\n",
              " ['white', 'L', 'short'],\n",
              " ['white', 'L', 'long'],\n",
              " ['black', 'XL', 'short'],\n",
              " ['black', 'XL', 'long'],\n",
              " ['white', 'XL', 'short'],\n",
              " ['white', 'XL', 'long']]"
            ]
          },
          "metadata": {},
          "execution_count": 170
        }
      ]
    },
    {
      "cell_type": "code",
      "source": [],
      "metadata": {
        "id": "G1uDGPRTNh9I"
      },
      "execution_count": null,
      "outputs": []
    },
    {
      "cell_type": "markdown",
      "source": [
        "* Use a list comprehension to create a list of the squares of the integers from 1 to 25 (i.e, 1, 4, 9, 16, …, 625)\n",
        "* \"straight up / standard\" list comprehension"
      ],
      "metadata": {
        "id": "wx23MQT3NiUK"
      }
    },
    {
      "cell_type": "code",
      "source": [
        "squares = []\n",
        "for number in range(1, 26):\n",
        "    squares.append(number * number)"
      ],
      "metadata": {
        "id": "7wDQWTaGNjPA"
      },
      "execution_count": 171,
      "outputs": []
    },
    {
      "cell_type": "code",
      "source": [
        "print(squares)"
      ],
      "metadata": {
        "id": "cPNiB5mqOHld",
        "outputId": "afc4d074-24e6-4d1b-d1b6-d25347c64ad2",
        "colab": {
          "base_uri": "https://localhost:8080/"
        }
      },
      "execution_count": 174,
      "outputs": [
        {
          "output_type": "stream",
          "name": "stdout",
          "text": [
            "[1, 4, 9, 16, 25, 36, 49, 64, 81, 100, 121, 144, 169, 196, 225, 256, 289, 324, 361, 400, 441, 484, 529, 576, 625]\n"
          ]
        }
      ]
    },
    {
      "cell_type": "code",
      "source": [
        "squares = [number * number for number in range(1, 26)]"
      ],
      "metadata": {
        "id": "8ambGq5NOIxf"
      },
      "execution_count": 173,
      "outputs": []
    },
    {
      "cell_type": "code",
      "source": [
        "list(range(0, 101, 5))"
      ],
      "metadata": {
        "id": "hkmj6I5-QJ_d",
        "outputId": "c3a76937-0a94-4cb6-c9f3-e88872a145f9",
        "colab": {
          "base_uri": "https://localhost:8080/"
        }
      },
      "execution_count": 176,
      "outputs": [
        {
          "output_type": "execute_result",
          "data": {
            "text/plain": [
              "[0,\n",
              " 5,\n",
              " 10,\n",
              " 15,\n",
              " 20,\n",
              " 25,\n",
              " 30,\n",
              " 35,\n",
              " 40,\n",
              " 45,\n",
              " 50,\n",
              " 55,\n",
              " 60,\n",
              " 65,\n",
              " 70,\n",
              " 75,\n",
              " 80,\n",
              " 85,\n",
              " 90,\n",
              " 95,\n",
              " 100]"
            ]
          },
          "metadata": {},
          "execution_count": 176
        }
      ]
    },
    {
      "cell_type": "code",
      "source": [],
      "metadata": {
        "id": "W4KYRQraR2kS"
      },
      "execution_count": null,
      "outputs": []
    },
    {
      "cell_type": "code",
      "source": [],
      "metadata": {
        "id": "wB94PMNrSiP0"
      },
      "execution_count": null,
      "outputs": []
    },
    {
      "cell_type": "code",
      "source": [
        "no_divis_by_5 = [\n",
        "    number for number in range(0, 101)\n",
        "                if number % 5 > 0\n",
        "]"
      ],
      "metadata": {
        "id": "DCqbo2ZtQabi"
      },
      "execution_count": 177,
      "outputs": []
    },
    {
      "cell_type": "code",
      "source": [
        "print(no_divis_by_5)"
      ],
      "metadata": {
        "id": "zEQDY7l5RXdM",
        "outputId": "d801d039-24ce-4d30-b9d3-5ec2e75563fa",
        "colab": {
          "base_uri": "https://localhost:8080/"
        }
      },
      "execution_count": 181,
      "outputs": [
        {
          "output_type": "stream",
          "name": "stdout",
          "text": [
            "[1, 2, 3, 4, 6, 7, 8, 9, 11, 12, 13, 14, 16, 17, 18, 19, 21, 22, 23, 24, 26, 27, 28, 29, 31, 32, 33, 34, 36, 37, 38, 39, 41, 42, 43, 44, 46, 47, 48, 49, 51, 52, 53, 54, 56, 57, 58, 59, 61, 62, 63, 64, 66, 67, 68, 69, 71, 72, 73, 74, 76, 77, 78, 79, 81, 82, 83, 84, 86, 87, 88, 89, 91, 92, 93, 94, 96, 97, 98, 99]\n"
          ]
        }
      ]
    },
    {
      "cell_type": "code",
      "source": [
        "no_divis_by_5 = [\n",
        "    number for number in range(0, 101)\n",
        "                 if number % 5 # if 1 or 2 or 3 or 4 (but not 0)\n",
        "]"
      ],
      "metadata": {
        "id": "oL4N2owjRZJ6"
      },
      "execution_count": 180,
      "outputs": []
    },
    {
      "cell_type": "markdown",
      "source": [
        "* Use a list comprehension and zip() to create a list of lists, where the list items are name and ID number that you grabbed from separate lists of names and ID numbers\n",
        "\n",
        "* start with a list of, say, 5 names ['John', 'Mary', 'Edward', 'Linda', 'Dinesh']\n",
        "and a list of, say, 5 ID numbers [1003, 2043, 8762, 7862, 1093]\n",
        "additional wrinkle: do not include any names whose corresponding ID is -**1**"
      ],
      "metadata": {
        "id": "iKI3Z9SJSjxl"
      }
    },
    {
      "cell_type": "code",
      "source": [
        "names = ['John', 'Mary', 'Edward', 'Linda', 'Dinesh']\n",
        "ids =  [1003, 2043, 8762, 7862, 1093]"
      ],
      "metadata": {
        "id": "JwrBGP0hSjD5"
      },
      "execution_count": 182,
      "outputs": []
    },
    {
      "cell_type": "code",
      "source": [
        "employees = [[name, id] for name, id in zip(names, ids)]"
      ],
      "metadata": {
        "id": "1fQG2KhUSyq9"
      },
      "execution_count": 183,
      "outputs": []
    },
    {
      "cell_type": "code",
      "source": [
        "employees"
      ],
      "metadata": {
        "id": "NONtDQWzTtX9",
        "outputId": "60f3a7ef-ec4b-44fe-e81d-50d88e76073b",
        "colab": {
          "base_uri": "https://localhost:8080/"
        }
      },
      "execution_count": 184,
      "outputs": [
        {
          "output_type": "execute_result",
          "data": {
            "text/plain": [
              "[['John', 1003],\n",
              " ['Mary', 2043],\n",
              " ['Edward', 8762],\n",
              " ['Linda', 7862],\n",
              " ['Dinesh', 1093]]"
            ]
          },
          "metadata": {},
          "execution_count": 184
        }
      ]
    },
    {
      "cell_type": "code",
      "source": [
        "list_with_one_item = [5]"
      ],
      "metadata": {
        "id": "4mNHspWpTuEQ"
      },
      "execution_count": 185,
      "outputs": []
    },
    {
      "cell_type": "code",
      "source": [
        "len(list_with_one_item)"
      ],
      "metadata": {
        "id": "iO85z_68ViG5",
        "outputId": "64318409-59fc-4e5f-ff2c-457ddb1758de",
        "colab": {
          "base_uri": "https://localhost:8080/"
        }
      },
      "execution_count": 186,
      "outputs": [
        {
          "output_type": "execute_result",
          "data": {
            "text/plain": [
              "1"
            ]
          },
          "metadata": {},
          "execution_count": 186
        }
      ]
    },
    {
      "cell_type": "code",
      "source": [
        "(3 + 4) * 5"
      ],
      "metadata": {
        "id": "C3NGqH3SVkfl",
        "outputId": "7f515625-ed2a-466f-ede0-94735b0b09b9",
        "colab": {
          "base_uri": "https://localhost:8080/"
        }
      },
      "execution_count": 187,
      "outputs": [
        {
          "output_type": "execute_result",
          "data": {
            "text/plain": [
              "35"
            ]
          },
          "metadata": {},
          "execution_count": 187
        }
      ]
    },
    {
      "cell_type": "code",
      "source": [
        "(3) * 5"
      ],
      "metadata": {
        "id": "bjZ-NvzuV4wr",
        "outputId": "83c44b36-2689-49a5-c3de-51ae6c3e1a39",
        "colab": {
          "base_uri": "https://localhost:8080/"
        }
      },
      "execution_count": 188,
      "outputs": [
        {
          "output_type": "execute_result",
          "data": {
            "text/plain": [
              "15"
            ]
          },
          "metadata": {},
          "execution_count": 188
        }
      ]
    },
    {
      "cell_type": "code",
      "source": [
        "(3)"
      ],
      "metadata": {
        "id": "SGLmuSI5V7EN",
        "outputId": "e66989eb-4cc5-44a1-ddbb-cb81048fa54c",
        "colab": {
          "base_uri": "https://localhost:8080/"
        }
      },
      "execution_count": 189,
      "outputs": [
        {
          "output_type": "execute_result",
          "data": {
            "text/plain": [
              "3"
            ]
          },
          "metadata": {},
          "execution_count": 189
        }
      ]
    },
    {
      "cell_type": "code",
      "source": [
        "quot, remainder = divmod(17, 4)"
      ],
      "metadata": {
        "id": "trHRt3r8V8Wp"
      },
      "execution_count": 192,
      "outputs": []
    },
    {
      "cell_type": "code",
      "source": [
        "divmod(17, 4)"
      ],
      "metadata": {
        "id": "GGpw7SBEWgWR",
        "outputId": "3e2f7dfa-a4f3-4cf5-f347-b80dc02ee519",
        "colab": {
          "base_uri": "https://localhost:8080/"
        }
      },
      "execution_count": 193,
      "outputs": [
        {
          "output_type": "execute_result",
          "data": {
            "text/plain": [
              "(4, 1)"
            ]
          },
          "metadata": {},
          "execution_count": 193
        }
      ]
    },
    {
      "cell_type": "code",
      "source": [
        "tuple_result = divmod(17, 4)"
      ],
      "metadata": {
        "id": "uxqxSZmnWqj2"
      },
      "execution_count": 194,
      "outputs": []
    },
    {
      "cell_type": "code",
      "source": [
        "tuple_result"
      ],
      "metadata": {
        "id": "vpvSrX6xWuXq",
        "outputId": "8e1d2ffe-4cfb-43f3-f7ae-4a7e964c4bed",
        "colab": {
          "base_uri": "https://localhost:8080/"
        }
      },
      "execution_count": 195,
      "outputs": [
        {
          "output_type": "execute_result",
          "data": {
            "text/plain": [
              "(4, 1)"
            ]
          },
          "metadata": {},
          "execution_count": 195
        }
      ]
    },
    {
      "cell_type": "code",
      "source": [],
      "metadata": {
        "id": "NTaNe0hTWvlc"
      },
      "execution_count": null,
      "outputs": []
    }
  ]
}