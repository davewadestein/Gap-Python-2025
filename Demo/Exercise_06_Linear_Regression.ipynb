{
  "cells": [
    {
      "cell_type": "markdown",
      "metadata": {
        "id": "-Qa8l8j3MArG"
      },
      "source": [
        "# Exercise: Linear Regression\n",
        "* read in dataset from __`data/skincancer.csv`__\n",
        "* the dataset contains skin cancer mortality rates from 48 states and Washington D.C.\n",
        "* the __`Lat`__ column is the latitude at the center of the state\n",
        "* the __`Mort`__ column is mortality in deaths per 10 million"
      ]
    },
    {
      "cell_type": "code",
      "execution_count": null,
      "metadata": {
        "id": "uhbTMCV1MArH"
      },
      "outputs": [],
      "source": [
        "import pandas as pd\n",
        "skin = pd.read_csv('https://raw.githubusercontent.com/davewadestein/Gap-Python-2025/refs/heads/main/Data/skincancer.csv')"
      ]
    },
    {
      "cell_type": "markdown",
      "metadata": {
        "id": "PTXwD_BOMArH"
      },
      "source": [
        "# Examine the data"
      ]
    },
    {
      "cell_type": "code",
      "execution_count": null,
      "metadata": {
        "id": "RGBI_MSeMArH"
      },
      "outputs": [],
      "source": [
        "skin.head()"
      ]
    },
    {
      "cell_type": "markdown",
      "metadata": {
        "id": "eRtEMWNIMArI"
      },
      "source": [
        "# Visualize the data by creating a scatterplot of latitude vs. mortality"
      ]
    },
    {
      "cell_type": "code",
      "execution_count": null,
      "metadata": {
        "id": "5c2sU3WOMArI"
      },
      "outputs": [],
      "source": [
        "%matplotlib inline\n",
        "import matplotlib.pyplot as plt\n",
        "plt.scatter(skin.Lat, skin.Mort);"
      ]
    },
    {
      "cell_type": "markdown",
      "metadata": {
        "id": "tdXinqjjMArI"
      },
      "source": [
        "# Using the demo as starting point, create a linear regression of latitude vs. mortality"
      ]
    },
    {
      "cell_type": "code",
      "execution_count": null,
      "metadata": {
        "id": "iBEtFbAwMArI"
      },
      "outputs": [],
      "source": [
        "from sklearn.linear_model import LinearRegression\n",
        "model = LinearRegression()"
      ]
    },
    {
      "cell_type": "code",
      "source": [
        "data = skin.Lat.to_numpy()"
      ],
      "metadata": {
        "id": "7Rs8EuU-MbDs"
      },
      "execution_count": null,
      "outputs": []
    },
    {
      "cell_type": "code",
      "execution_count": null,
      "metadata": {
        "id": "WkIpX8jOMArI"
      },
      "outputs": [],
      "source": [
        "import numpy as np\n",
        "model.fit(data[:, np.newaxis], skin.Mort)"
      ]
    },
    {
      "cell_type": "code",
      "execution_count": null,
      "metadata": {
        "id": "uXPYu7g6MArI"
      },
      "outputs": [],
      "source": [
        "xfit = np.linspace(min(skin.Lat), max(skin.Lat), 2)\n",
        "yfit = model.predict(xfit[:, np.newaxis])\n",
        "plt.plot(xfit, yfit, color='red')\n",
        "plt.scatter(skin.Lat, skin.Mort);"
      ]
    },
    {
      "cell_type": "markdown",
      "metadata": {
        "id": "qvSG5KUzMArI"
      },
      "source": [
        "# What are the values of the coefficient and intercept?"
      ]
    },
    {
      "cell_type": "code",
      "execution_count": null,
      "metadata": {
        "id": "qfYcK0CtMArI"
      },
      "outputs": [],
      "source": [
        "model.coef_, model.intercept_"
      ]
    },
    {
      "cell_type": "markdown",
      "metadata": {
        "id": "J-WBCdVrMArI"
      },
      "source": [
        "# Can you explain the relationship?"
      ]
    },
    {
      "cell_type": "code",
      "execution_count": null,
      "metadata": {
        "id": "_WoPgnMJMArI"
      },
      "outputs": [],
      "source": []
    },
    {
      "cell_type": "markdown",
      "metadata": {
        "id": "_FqYzONqMArI"
      },
      "source": [
        "# One More Linear Regression\n",
        "* read in dataset from __`cars.csv`__\n",
        "* the dataset contains miles-per-gallon values for various cars\n"
      ]
    },
    {
      "cell_type": "code",
      "execution_count": null,
      "metadata": {
        "id": "XAirR2E1MArI"
      },
      "outputs": [],
      "source": []
    },
    {
      "cell_type": "markdown",
      "metadata": {
        "id": "ZjSaCjAGMArI"
      },
      "source": [
        "# Visualize the data by creating scatterplots of displacement, horsepower, and weight vs. mpg"
      ]
    },
    {
      "cell_type": "code",
      "execution_count": null,
      "metadata": {
        "id": "UQ3NRHo0MArI"
      },
      "outputs": [],
      "source": []
    },
    {
      "cell_type": "markdown",
      "metadata": {
        "id": "0coVwPPrMArI"
      },
      "source": [
        "# Create several linear regressions to see how mpg is affected\n",
        "* displacement vs. mpg\n",
        "* horsepower vs. mpg\n",
        "* weight vs. mpg"
      ]
    },
    {
      "cell_type": "code",
      "execution_count": null,
      "metadata": {
        "id": "frstFoxpMArI"
      },
      "outputs": [],
      "source": []
    },
    {
      "cell_type": "code",
      "execution_count": null,
      "metadata": {
        "id": "eRuFRKM_MArI"
      },
      "outputs": [],
      "source": []
    },
    {
      "cell_type": "code",
      "execution_count": null,
      "metadata": {
        "id": "RfKxuwGMMArI"
      },
      "outputs": [],
      "source": []
    },
    {
      "cell_type": "code",
      "execution_count": null,
      "metadata": {
        "id": "7ovBP9emMArJ"
      },
      "outputs": [],
      "source": []
    }
  ],
  "metadata": {
    "kernelspec": {
      "display_name": "Python 3",
      "language": "python",
      "name": "python3"
    },
    "language_info": {
      "codemirror_mode": {
        "name": "ipython",
        "version": 3
      },
      "file_extension": ".py",
      "mimetype": "text/x-python",
      "name": "python",
      "nbconvert_exporter": "python",
      "pygments_lexer": "ipython3",
      "version": "3.8.0a2"
    },
    "colab": {
      "provenance": []
    }
  },
  "nbformat": 4,
  "nbformat_minor": 0
}