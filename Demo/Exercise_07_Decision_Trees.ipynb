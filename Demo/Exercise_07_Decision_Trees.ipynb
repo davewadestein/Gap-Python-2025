{
  "cells": [
    {
      "cell_type": "markdown",
      "metadata": {
        "id": "aHnGzbPJNGW9"
      },
      "source": [
        "# Exercise: Decision Trees\n",
        "* start by importing the DecisionTreeClassifier\n",
        "* you'll want pandas as well"
      ]
    },
    {
      "cell_type": "markdown",
      "metadata": {
        "id": "_Xp6ESHINGW9"
      },
      "source": [
        "## Read in the Breast Cancer dataset, __`bcan.csv`__\n",
        "* look out for missing data–remember to inform pandas about it\n",
        "* at this point you might want to simply drop the missing data"
      ]
    },
    {
      "cell_type": "code",
      "execution_count": null,
      "metadata": {
        "id": "qsmXVinGNGW-"
      },
      "outputs": [],
      "source": [
        "import pandas as pd\n",
        "data = pd.read_csv('https://raw.githubusercontent.com/davewadestein/Gap-Python-2025/refs/heads/main/Data/bcan.csv', na_values='?')\n",
        "data.head()"
      ]
    },
    {
      "cell_type": "markdown",
      "metadata": {
        "id": "-SBF4OilNGW-"
      },
      "source": [
        "## Drop the __`id`__ since it's not going to the model\n",
        "* also note that Diag is the diagnosis, which is what we're going to predict\n",
        "* ...so we'll need to capture that column and then remove it from the dataframe"
      ]
    },
    {
      "cell_type": "code",
      "execution_count": null,
      "metadata": {
        "id": "FuqHE4MPNGW_"
      },
      "outputs": [],
      "source": [
        "from sklearn.tree import DecisionTreeClassifier\n",
        "model = DecisionTreeClassifier(max_depth=8)"
      ]
    },
    {
      "cell_type": "markdown",
      "metadata": {
        "id": "5Iclp4uoNGW_"
      },
      "source": [
        "## Remember that __`sklearn`__ wants the features in 2-d matrix, and the targets in a 1-d array"
      ]
    },
    {
      "cell_type": "code",
      "execution_count": null,
      "metadata": {
        "id": "gQuxGS6UNGW_"
      },
      "outputs": [],
      "source": [
        "data = data.dropna()\n",
        "y = data.Diag # put diagnosis into y\n",
        "data = data.drop(['Diag', 'id'], axis=1)"
      ]
    },
    {
      "cell_type": "code",
      "execution_count": null,
      "metadata": {
        "id": "7Fq_mdGRNGW_"
      },
      "outputs": [],
      "source": [
        "data.head()"
      ]
    },
    {
      "cell_type": "code",
      "execution_count": null,
      "metadata": {
        "id": "KOxlz1F4NGW_"
      },
      "outputs": [],
      "source": [
        "y.shape"
      ]
    },
    {
      "cell_type": "markdown",
      "metadata": {
        "id": "MuUF1ZdANGW_"
      },
      "source": [
        "## Fit the model\n",
        "* if you get an error here, figure out why"
      ]
    },
    {
      "cell_type": "code",
      "execution_count": null,
      "metadata": {
        "id": "lEloks1hNGW_"
      },
      "outputs": [],
      "source": [
        "model.fit(data, y)"
      ]
    },
    {
      "cell_type": "markdown",
      "metadata": {
        "id": "-PFZXbUKNGW_"
      },
      "source": [
        "## Use export_graphviz to generate the dot file\n",
        "* __`feature_names`__ should be the list of column headers\n",
        "* __`class_names`__ should be the targets"
      ]
    },
    {
      "cell_type": "code",
      "execution_count": null,
      "metadata": {
        "id": "pBDmi4f4NGW_"
      },
      "outputs": [],
      "source": [
        "from sklearn.tree import export_graphviz\n",
        "export_graphviz(model, out_file=\"bcan_tree.dot\",\n",
        "               feature_names=data.columns,\n",
        "               class_names=['benign', 'malignant'],\n",
        "               rounded=True,\n",
        "               filled=True)"
      ]
    },
    {
      "cell_type": "markdown",
      "metadata": {
        "id": "GlxOwbL4NGW_"
      },
      "source": [
        "## Generate a PNG images from the dot file and open it"
      ]
    },
    {
      "cell_type": "code",
      "execution_count": null,
      "metadata": {
        "id": "t4UNRrtcNGW_"
      },
      "outputs": [],
      "source": [
        "!dot -Tpng bcan_tree.dot -o bcan_tree.png\n",
        "from IPython.display import Image\n",
        "Image('bcan_tree.png')"
      ]
    },
    {
      "cell_type": "markdown",
      "metadata": {
        "id": "JJ4aPwZfNGXA"
      },
      "source": [
        "## How well did the model do?"
      ]
    },
    {
      "cell_type": "code",
      "execution_count": null,
      "metadata": {
        "id": "qMmLCS7WNGXA"
      },
      "outputs": [],
      "source": [
        "model.score(data, y)"
      ]
    },
    {
      "cell_type": "code",
      "execution_count": null,
      "metadata": {
        "id": "iNgrkVnONGXA"
      },
      "outputs": [],
      "source": []
    },
    {
      "cell_type": "markdown",
      "metadata": {
        "id": "Z5zKa4fhNGXA"
      },
      "source": [
        "## Do we do better if we increase the tree depth?"
      ]
    },
    {
      "cell_type": "code",
      "execution_count": null,
      "metadata": {
        "id": "nQKeZR2ONGXA"
      },
      "outputs": [],
      "source": []
    },
    {
      "cell_type": "markdown",
      "metadata": {
        "id": "tbQSvbFzNGXA"
      },
      "source": [
        "## Why might we not want to do that?"
      ]
    },
    {
      "cell_type": "code",
      "execution_count": null,
      "metadata": {
        "id": "Yjgdf0wXNGXA"
      },
      "outputs": [],
      "source": []
    }
  ],
  "metadata": {
    "kernelspec": {
      "display_name": "Python 3",
      "language": "python",
      "name": "python3"
    },
    "language_info": {
      "codemirror_mode": {
        "name": "ipython",
        "version": 3
      },
      "file_extension": ".py",
      "mimetype": "text/x-python",
      "name": "python",
      "nbconvert_exporter": "python",
      "pygments_lexer": "ipython3",
      "version": "3.8.0a2"
    },
    "colab": {
      "provenance": []
    }
  },
  "nbformat": 4,
  "nbformat_minor": 0
}