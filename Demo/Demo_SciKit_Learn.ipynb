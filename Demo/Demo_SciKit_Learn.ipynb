{
  "cells": [
    {
      "cell_type": "markdown",
      "metadata": {
        "id": "xKDm3LztOwHg"
      },
      "source": [
        "# Demo - SciKit Learn\n",
        "* popular Python library providing efficient implementation of a large number of machine learning algorithms\n",
        "* purposely designed to be clean and uniform across tools\n",
        "* consistent data representation and common interface"
      ]
    },
    {
      "cell_type": "markdown",
      "metadata": {
        "id": "NehHOhWlOwHh"
      },
      "source": [
        "# SciKit Learn Data Representation\n",
        "<img style=\"height: 400px;\" src=\"https://github.com/davewadestein/sf-ml-five-day/blob/main/src/images/scikit-learn-data.png?raw=1\">"
      ]
    },
    {
      "cell_type": "code",
      "execution_count": null,
      "metadata": {
        "id": "EIZFf13NOwHh"
      },
      "outputs": [],
      "source": [
        "%matplotlib inline\n",
        "import numpy as np\n",
        "import pandas as pd\n",
        "import matplotlib.pyplot as plt\n",
        "from sklearn import datasets\n",
        "\n",
        "np.random.seed(5)\n",
        "\n",
        "# load the iris dataset that ships with scikit learn\n",
        "iris = datasets.load_iris()\n",
        "data = pd.DataFrame(data=np.c_[iris['data'], iris['target']],\n",
        "                   columns=iris['feature_names'] + ['target'])\n",
        "data.head()"
      ]
    },
    {
      "cell_type": "code",
      "execution_count": null,
      "metadata": {
        "id": "zmlThD7MOwHh"
      },
      "outputs": [],
      "source": [
        "# Set up the feature matrix\n",
        "X_iris = data.drop('target', axis=1)\n",
        "X_iris.shape"
      ]
    },
    {
      "cell_type": "code",
      "execution_count": null,
      "metadata": {
        "id": "dp5oq59HOwHh"
      },
      "outputs": [],
      "source": [
        "# Set up the target vector\n",
        "y_iris = iris['target']\n",
        "y_iris.shape"
      ]
    },
    {
      "cell_type": "markdown",
      "metadata": {
        "id": "2r4amkhmOwHh"
      },
      "source": [
        "# scikit-learn Objects\n",
        "* \"All objects within scikit-learn share a uniform common basic API consisting of three complementary interfaces: an estimator interface for building and fitting models, a predictor interface for making predictions and a transformer interface for converting data.\"\n",
        "<br>__*API design for machine learning software:\n",
        "experiences from the scikit-learn project*__ (https://arxiv.org/pdf/1309.0238.pdf)"
      ]
    },
    {
      "cell_type": "markdown",
      "metadata": {
        "id": "XamYe08wOwHh"
      },
      "source": [
        "# Estimator API\n",
        "* Driven by a set of principles documented in the above paper:\n",
        "  * Consistency\n",
        "  * Allow Inspection\n",
        "  * Limited object hierarchies\n",
        "  * Composition\n",
        "  * Sensible defaults"
      ]
    },
    {
      "cell_type": "markdown",
      "metadata": {
        "id": "ajuEJVTzOwHh"
      },
      "source": [
        "# General Workflow\n",
        "* Choose an algorithm\n",
        "* Choose hyperparameters\n",
        "* Arrange data into a features matrix and target vector\n",
        "* Fit the model to the data with the __`fit()`__ method\n",
        "* Apply the model to test data (__`predict()`__ or __`transform()`__)"
      ]
    },
    {
      "cell_type": "code",
      "execution_count": null,
      "metadata": {
        "id": "8ceKB1BLOwHi"
      },
      "outputs": [],
      "source": [
        "from sklearn.tree import DecisionTreeClassifier\n",
        "tree_clf = DecisionTreeClassifier(max_depth=2)\n",
        "\n",
        "# Let's split out dataset into training and test, in order to\n",
        "# see how well our model actually does.\n",
        "from sklearn.model_selection import train_test_split\n",
        "X_train, X_test, y_train, y_test = train_test_split(X_iris, y_iris)\n",
        "tree_clf.fit(X_train, y_train)"
      ]
    },
    {
      "cell_type": "code",
      "execution_count": null,
      "metadata": {
        "id": "8_8fh1l2OwHi"
      },
      "outputs": [],
      "source": [
        "X_test.shape[0]"
      ]
    },
    {
      "cell_type": "code",
      "execution_count": null,
      "metadata": {
        "id": "tsGOM5H6OwHi"
      },
      "outputs": [],
      "source": [
        "# Let's check the test data, one by one, and see how\n",
        "# many we got right.\n",
        "correct = 0\n",
        "\n",
        "for i in range(X_test.shape[0]):\n",
        "    row = X_test.iloc[i].to_numpy()\n",
        "    pred = tree_clf.predict(row[np.newaxis, :])\n",
        "    print('prediction for', row, 'is', pred[0], 'actual is', y_test[i], end='')\n",
        "    if pred[0] == y_test[i]:\n",
        "        correct += 1\n",
        "    else:\n",
        "        print('*', end='')\n",
        "    print()\n",
        "print(correct / X_test.shape[0])"
      ]
    },
    {
      "cell_type": "code",
      "execution_count": null,
      "metadata": {
        "id": "Xw7tAVaTOwHi"
      },
      "outputs": [],
      "source": [
        "tree_clf.score(X_test, y_test)"
      ]
    },
    {
      "cell_type": "code",
      "execution_count": null,
      "metadata": {
        "id": "tu-23oXBOwHi"
      },
      "outputs": [],
      "source": [
        "from sklearn.cluster import KMeans\n",
        "from sklearn.datasets import make_blobs\n",
        "\n",
        "# create 100 random data points in 3 isotropic (uniform in all dimensions) blobs\n",
        "X, y = make_blobs(random_state=9)\n",
        "plt.scatter(X[:, 0], X[:, 1], c=y);"
      ]
    },
    {
      "cell_type": "code",
      "execution_count": null,
      "metadata": {
        "id": "0ZVC5OVHOwHi"
      },
      "outputs": [],
      "source": [
        "# Now let's do a K-means clustering...\n",
        "# Since we made 3 blobs, the algorithm should do well with 3 clusters\n",
        "kmeans = KMeans(n_clusters=3)\n",
        "kmeans.fit(X)\n",
        "plt.scatter(X[:, 0], X[:, 1], c=kmeans.labels_)\n",
        "centers = kmeans.cluster_centers_\n",
        "# mark the centers of each cluster, as determined by the K-means algorithm\n",
        "plt.scatter(centers[:, 0], centers[:, 1], c='blue', s=300, marker='x');"
      ]
    },
    {
      "cell_type": "code",
      "execution_count": null,
      "metadata": {
        "id": "iYOC9sRPOwHi"
      },
      "outputs": [],
      "source": [
        "# let's try it with 5 clusters\n",
        "kmeans = KMeans(n_clusters=5)\n",
        "kmeans.fit(X)\n",
        "plt.scatter(X[:, 0], X[:, 1], c=kmeans.labels_)\n",
        "centers = kmeans.cluster_centers_\n",
        "plt.scatter(centers[:, 0], centers[:, 1], c='black', s=200, marker='x');"
      ]
    },
    {
      "cell_type": "code",
      "execution_count": null,
      "metadata": {
        "id": "pZcxrHbuOwHi"
      },
      "outputs": [],
      "source": []
    }
  ],
  "metadata": {
    "kernelspec": {
      "display_name": "Python 3",
      "language": "python",
      "name": "python3"
    },
    "language_info": {
      "codemirror_mode": {
        "name": "ipython",
        "version": 3
      },
      "file_extension": ".py",
      "mimetype": "text/x-python",
      "name": "python",
      "nbconvert_exporter": "python",
      "pygments_lexer": "ipython3",
      "version": "3.7.3"
    },
    "colab": {
      "provenance": []
    }
  },
  "nbformat": 4,
  "nbformat_minor": 0
}