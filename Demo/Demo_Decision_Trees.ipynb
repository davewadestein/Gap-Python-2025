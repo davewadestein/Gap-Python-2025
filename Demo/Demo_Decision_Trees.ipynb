{
  "cells": [
    {
      "cell_type": "markdown",
      "metadata": {
        "id": "eeKeIg9k0Jd3"
      },
      "source": [
        "# Demo: Decision Trees"
      ]
    },
    {
      "cell_type": "code",
      "execution_count": null,
      "metadata": {
        "ExecuteTime": {
          "end_time": "2018-03-16T21:39:31.319304Z",
          "start_time": "2018-03-16T21:39:30.939678Z"
        },
        "id": "xGvty5jF0Jd4"
      },
      "outputs": [],
      "source": [
        "from sklearn.datasets import load_iris\n",
        "from sklearn.tree import DecisionTreeClassifier"
      ]
    },
    {
      "cell_type": "code",
      "execution_count": null,
      "metadata": {
        "ExecuteTime": {
          "end_time": "2018-03-16T21:41:25.986310Z",
          "start_time": "2018-03-16T21:41:25.978916Z"
        },
        "id": "SnhV1l-Y0Jd5"
      },
      "outputs": [],
      "source": [
        "# Load the Iris dataset\n",
        "iris = load_iris()\n",
        "iris"
      ]
    },
    {
      "cell_type": "code",
      "execution_count": null,
      "metadata": {
        "ExecuteTime": {
          "end_time": "2018-03-16T21:41:25.986310Z",
          "start_time": "2018-03-16T21:41:25.978916Z"
        },
        "id": "g3m0rAcb0Jd5"
      },
      "outputs": [],
      "source": [
        "# We're going to consider two of the four feature names, petal length\n",
        "# and petal width, and we'll ignore sepal length and width.\n",
        "X = iris.data[:, 2:]\n",
        "y = iris.target\n",
        "y"
      ]
    },
    {
      "cell_type": "code",
      "execution_count": null,
      "metadata": {
        "ExecuteTime": {
          "end_time": "2018-03-16T21:39:31.343030Z",
          "start_time": "2018-03-16T21:39:31.329602Z"
        },
        "id": "6P3lELf10Jd6"
      },
      "outputs": [],
      "source": [
        "tree_clf = DecisionTreeClassifier(max_depth=2)\n",
        "tree_clf.fit(X, y)"
      ]
    },
    {
      "cell_type": "code",
      "execution_count": null,
      "metadata": {
        "ExecuteTime": {
          "end_time": "2018-03-16T21:39:31.349788Z",
          "start_time": "2018-03-16T21:39:31.344850Z"
        },
        "id": "eq6KmTSd0Jd6"
      },
      "outputs": [],
      "source": [
        "# Let's take a look at the decision tree...\n",
        "from sklearn.tree import export_graphviz\n",
        "export_graphviz(tree_clf, out_file=\"iris_tree.dot\",\n",
        "               feature_names=iris.feature_names[2:],\n",
        "               class_names=iris.target_names,\n",
        "               rounded=True,\n",
        "               filled=True)"
      ]
    },
    {
      "cell_type": "code",
      "execution_count": null,
      "metadata": {
        "ExecuteTime": {
          "end_time": "2018-03-16T21:39:31.354079Z",
          "start_time": "2018-03-16T21:39:31.351575Z"
        },
        "id": "widX4ItY0Jd6"
      },
      "outputs": [],
      "source": [
        "# dot will convert the tree from a .dot file to a .png\n",
        "# In case you don't have dot installed, the png is already\n",
        "# in your zip file\n",
        "!dot -Tpng iris_tree.dot -o iris_tree.png\n",
        "from IPython.display import Image\n",
        "Image('iris_tree.png')"
      ]
    },
    {
      "cell_type": "code",
      "execution_count": null,
      "metadata": {
        "id": "u7uO3-900Jd6"
      },
      "outputs": [],
      "source": [
        "# how did we do?\n",
        "tree_clf.score(X, y)"
      ]
    },
    {
      "cell_type": "code",
      "execution_count": null,
      "metadata": {
        "ExecuteTime": {
          "end_time": "2018-03-16T21:39:31.361729Z",
          "start_time": "2018-03-16T21:39:31.356321Z"
        },
        "id": "AfZt0nM50Jd6"
      },
      "outputs": [],
      "source": [
        "# If we saw a new iris with petal length 5 cm and petal width 1.5 cm,\n",
        "# what are the probabilities we would classify it as each of the\n",
        "# different species of iris?\n",
        "tree_clf.predict_proba([[5, 1.5]])"
      ]
    },
    {
      "cell_type": "code",
      "execution_count": null,
      "metadata": {
        "ExecuteTime": {
          "end_time": "2018-03-16T21:39:31.368028Z",
          "start_time": "2018-03-16T21:39:31.363234Z"
        },
        "id": "OU78f8WB0Jd6"
      },
      "outputs": [],
      "source": [
        "# So what would our model predict?\n",
        "tree_clf.predict([[5, 1.5]])"
      ]
    },
    {
      "cell_type": "code",
      "execution_count": null,
      "metadata": {
        "id": "f_uA-2wZ0Jd7"
      },
      "outputs": [],
      "source": [
        "iris.target_names[1]"
      ]
    },
    {
      "cell_type": "code",
      "execution_count": null,
      "metadata": {
        "id": "CLp5iKKA0Jd7"
      },
      "outputs": [],
      "source": []
    }
  ],
  "metadata": {
    "kernelspec": {
      "display_name": "Python 3",
      "language": "python",
      "name": "python3"
    },
    "language_info": {
      "codemirror_mode": {
        "name": "ipython",
        "version": 3
      },
      "file_extension": ".py",
      "mimetype": "text/x-python",
      "name": "python",
      "nbconvert_exporter": "python",
      "pygments_lexer": "ipython3",
      "version": "3.8.0a2"
    },
    "colab": {
      "provenance": []
    }
  },
  "nbformat": 4,
  "nbformat_minor": 0
}