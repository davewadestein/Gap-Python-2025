{
  "cells": [
    {
      "cell_type": "markdown",
      "metadata": {
        "id": "ptEb8aB4EE0W"
      },
      "source": [
        "# Demo - More! Pandas"
      ]
    },
    {
      "cell_type": "code",
      "execution_count": null,
      "metadata": {
        "id": "EqDANtzcEE0X",
        "outputId": "dab7f48f-c9cb-44c2-af34-6832f2f0fea2"
      },
      "outputs": [
        {
          "data": {
            "text/plain": [
              "0    0.25\n",
              "1    0.50\n",
              "2    0.75\n",
              "3    1.00\n",
              "dtype: float64"
            ]
          },
          "execution_count": 1,
          "metadata": {},
          "output_type": "execute_result"
        }
      ],
      "source": [
        "import pandas as pd\n",
        "data = pd.Series([0.25, 0.5, 0.75, 1.0])\n",
        "data"
      ]
    },
    {
      "cell_type": "code",
      "execution_count": null,
      "metadata": {
        "id": "Q5jULIPMEE0Y",
        "outputId": "a6d72899-7c9e-4042-9c3e-6a7111d59b5f"
      },
      "outputs": [
        {
          "data": {
            "text/plain": [
              "array([0.25, 0.5 , 0.75, 1.  ])"
            ]
          },
          "execution_count": 3,
          "metadata": {},
          "output_type": "execute_result"
        }
      ],
      "source": [
        "# view raw values\n",
        "data.values"
      ]
    },
    {
      "cell_type": "code",
      "execution_count": null,
      "metadata": {
        "id": "oh_G8tkTEE0Y",
        "outputId": "7615c944-fbd5-47c2-f9bd-df1851ccacc1"
      },
      "outputs": [
        {
          "data": {
            "text/plain": [
              "RangeIndex(start=0, stop=4, step=1)"
            ]
          },
          "execution_count": 4,
          "metadata": {},
          "output_type": "execute_result"
        }
      ],
      "source": [
        "# view index\n",
        "data.index"
      ]
    },
    {
      "cell_type": "code",
      "execution_count": null,
      "metadata": {
        "id": "GkDAqtZhEE0Y",
        "outputId": "1611d88d-f974-4a46-c9d0-a1921395dd9b"
      },
      "outputs": [
        {
          "data": {
            "text/plain": [
              "0.5"
            ]
          },
          "execution_count": 5,
          "metadata": {},
          "output_type": "execute_result"
        }
      ],
      "source": [
        "# we can index, just like a standard Python list\n",
        "data[1]"
      ]
    },
    {
      "cell_type": "code",
      "execution_count": null,
      "metadata": {
        "id": "df_i3rXKEE0Y",
        "outputId": "afd30a75-e67e-43ec-ba3c-f7ea0af8a034"
      },
      "outputs": [
        {
          "data": {
            "text/plain": [
              "1    0.50\n",
              "2    0.75\n",
              "dtype: float64"
            ]
          },
          "execution_count": 6,
          "metadata": {},
          "output_type": "execute_result"
        }
      ],
      "source": [
        "# Because index is a RangeIndex, we can do\n",
        "# normal slicing from offset 1 to offset 2\n",
        "#\n",
        "data[1:3]"
      ]
    },
    {
      "cell_type": "code",
      "execution_count": null,
      "metadata": {
        "id": "Pbd7K25gEE0Y"
      },
      "outputs": [],
      "source": [
        "# create a series with non-integer indices\n",
        "data = pd.Series([0.25, 0.5, 0.75, 1.0], index=['a', 'b', 'c', 'd'])"
      ]
    },
    {
      "cell_type": "code",
      "execution_count": null,
      "metadata": {
        "id": "a2IO-qaNEE0Y",
        "outputId": "d2d2ae46-69a8-4b2a-9d0a-1fff151e9ee8"
      },
      "outputs": [
        {
          "data": {
            "text/plain": [
              "a    0.25\n",
              "b    0.50\n",
              "c    0.75\n",
              "d    1.00\n",
              "dtype: float64"
            ]
          },
          "execution_count": 7,
          "metadata": {},
          "output_type": "execute_result"
        }
      ],
      "source": [
        "data"
      ]
    },
    {
      "cell_type": "code",
      "execution_count": null,
      "metadata": {
        "id": "BjoncTe7EE0Y",
        "outputId": "3a723e4e-89dc-4f2d-e07a-c3fc836d6275"
      },
      "outputs": [
        {
          "data": {
            "text/plain": [
              "Index(['a', 'b', 'c', 'd'], dtype='object')"
            ]
          },
          "execution_count": 8,
          "metadata": {},
          "output_type": "execute_result"
        }
      ],
      "source": [
        "data.index"
      ]
    },
    {
      "cell_type": "code",
      "execution_count": null,
      "metadata": {
        "id": "FNuXl-HkEE0Y",
        "outputId": "7b82877a-3570-474d-9772-d7cd3a9fbb97"
      },
      "outputs": [
        {
          "data": {
            "text/plain": [
              "0.75"
            ]
          },
          "execution_count": 9,
          "metadata": {},
          "output_type": "execute_result"
        }
      ],
      "source": [
        "# similar to dict indexing\n",
        "data['c']"
      ]
    },
    {
      "cell_type": "code",
      "execution_count": null,
      "metadata": {
        "id": "KoRxef21EE0Y",
        "outputId": "600f0295-6741-4ada-9bb9-d1a9fb7a81f5"
      },
      "outputs": [
        {
          "data": {
            "text/plain": [
              "2    0.25\n",
              "5    0.50\n",
              "3    0.75\n",
              "7    1.00\n",
              "dtype: float64"
            ]
          },
          "execution_count": 10,
          "metadata": {},
          "output_type": "execute_result"
        }
      ],
      "source": [
        "# if you are particularly perverse...\n",
        "data = pd.Series([0.25, 0.5, 0.75, 1.0], index=[2, 5, 3, 7])\n",
        "data"
      ]
    },
    {
      "cell_type": "code",
      "execution_count": null,
      "metadata": {
        "id": "YNrlazlBEE0Z",
        "outputId": "8c799812-fadd-4cd3-bce3-e82291abecb0"
      },
      "outputs": [
        {
          "data": {
            "text/plain": [
              "0.75"
            ]
          },
          "execution_count": 11,
          "metadata": {},
          "output_type": "execute_result"
        }
      ],
      "source": [
        "data[3]"
      ]
    },
    {
      "cell_type": "markdown",
      "metadata": {
        "id": "OlWusa2DEE0Z"
      },
      "source": [
        "# Implicit and Explicit Indexing"
      ]
    },
    {
      "cell_type": "code",
      "execution_count": null,
      "metadata": {
        "id": "sc6JK13BEE0Z",
        "outputId": "85283643-8aa7-4a56-9eff-1cc756567cb8"
      },
      "outputs": [
        {
          "data": {
            "text/plain": [
              "Python    a\n",
              "C++       b\n",
              "Ruby      c\n",
              "dtype: object"
            ]
          },
          "execution_count": 15,
          "metadata": {},
          "output_type": "execute_result"
        }
      ],
      "source": [
        "data = pd.Series(['a', 'b', 'c'], index=['Python', 'C++', 'Ruby'])\n",
        "data"
      ]
    },
    {
      "cell_type": "code",
      "execution_count": null,
      "metadata": {
        "id": "YdZx_MBREE0Z",
        "outputId": "58b4aa21-90ab-41d8-ca5f-9a3755369617"
      },
      "outputs": [
        {
          "data": {
            "text/plain": [
              "Index(['Python', 'C++', 'Ruby'], dtype='object')"
            ]
          },
          "execution_count": 16,
          "metadata": {},
          "output_type": "execute_result"
        }
      ],
      "source": [
        "# index is no longer a range\n",
        "# indices are like keys in a dictionary\n",
        "data.index"
      ]
    },
    {
      "cell_type": "code",
      "execution_count": null,
      "metadata": {
        "id": "jLjJD1RoEE0Z",
        "outputId": "4746cafc-7075-44d0-cc31-df0042840af2"
      },
      "outputs": [
        {
          "data": {
            "text/plain": [
              "'b'"
            ]
          },
          "execution_count": 20,
          "metadata": {},
          "output_type": "execute_result"
        }
      ],
      "source": [
        "data[1] # index by numeric index, not offset!"
      ]
    },
    {
      "cell_type": "code",
      "execution_count": null,
      "metadata": {
        "id": "xlzRlkk4EE0Z",
        "outputId": "ae6d83a3-544c-4480-8546-7a572f6bf783"
      },
      "outputs": [
        {
          "data": {
            "text/plain": [
              "Python    a\n",
              "C++       b\n",
              "dtype: object"
            ]
          },
          "execution_count": 22,
          "metadata": {},
          "output_type": "execute_result"
        }
      ],
      "source": [
        "# but slicing still works as before\n",
        "data[1:3] # offset 1...offset 2"
      ]
    },
    {
      "cell_type": "markdown",
      "metadata": {
        "id": "nbKPNmqNEE0Z"
      },
      "source": [
        "# __`loc`__ and __`iloc`__\n",
        "* .loc is a __*label*__-based indexing method\n",
        "* .iloc is an __*integer*__-based indexing method"
      ]
    },
    {
      "cell_type": "code",
      "execution_count": null,
      "metadata": {
        "id": "ci5lUxvGEE0Z",
        "outputId": "f6907b76-0b11-4f97-f4a4-eb73e8827500"
      },
      "outputs": [
        {
          "data": {
            "text/plain": [
              "Python    a\n",
              "C++       b\n",
              "Ruby      c\n",
              "dtype: object"
            ]
          },
          "execution_count": 23,
          "metadata": {},
          "output_type": "execute_result"
        }
      ],
      "source": [
        "data"
      ]
    },
    {
      "cell_type": "code",
      "execution_count": null,
      "metadata": {
        "id": "gM_V--KaEE0Z",
        "outputId": "f113fff0-2f72-4cdf-d260-ecdc8702e3e8"
      },
      "outputs": [
        {
          "data": {
            "text/plain": [
              "'a'"
            ]
          },
          "execution_count": 24,
          "metadata": {},
          "output_type": "execute_result"
        }
      ],
      "source": [
        "data.loc['Python'] # 1 here is a label, not an offset"
      ]
    },
    {
      "cell_type": "code",
      "execution_count": null,
      "metadata": {
        "id": "xKWzvfoQEE0Z",
        "outputId": "f5721240-df91-463d-86c5-adcad48b7529"
      },
      "outputs": [
        {
          "data": {
            "text/plain": [
              "Python    a\n",
              "C++       b\n",
              "dtype: object"
            ]
          },
          "execution_count": 25,
          "metadata": {},
          "output_type": "execute_result"
        }
      ],
      "source": [
        "data.loc['Python':'C++'] # 1 and 3 are labels, not integer offsets"
      ]
    },
    {
      "cell_type": "code",
      "execution_count": null,
      "metadata": {
        "id": "1fVJ23s7EE0Z",
        "outputId": "2d017901-91cf-4e3a-a5fc-00d5123adee2"
      },
      "outputs": [
        {
          "data": {
            "text/plain": [
              "'b'"
            ]
          },
          "execution_count": 26,
          "metadata": {},
          "output_type": "execute_result"
        }
      ],
      "source": [
        "data.iloc[1] # 1 is an offset, not a label"
      ]
    },
    {
      "cell_type": "code",
      "execution_count": null,
      "metadata": {
        "id": "eVqGTz4zEE0Z",
        "outputId": "7e2d7963-b09c-4f13-c1ec-717c28c8483d"
      },
      "outputs": [
        {
          "data": {
            "text/plain": [
              "C++     b\n",
              "Ruby    c\n",
              "dtype: object"
            ]
          },
          "execution_count": 27,
          "metadata": {},
          "output_type": "execute_result"
        }
      ],
      "source": [
        "data.iloc[1:3] # 1..3 is a Python slice based on offsets"
      ]
    },
    {
      "cell_type": "markdown",
      "metadata": {
        "id": "rW1k76kyEE0a"
      },
      "source": [
        "# Creating a DataFrame from dicts"
      ]
    },
    {
      "cell_type": "code",
      "execution_count": null,
      "metadata": {
        "id": "2yKNPx4eEE0a",
        "outputId": "7c91b8ff-1e2c-47f7-9cad-ae27aaa05d14"
      },
      "outputs": [
        {
          "data": {
            "text/html": [
              "<div>\n",
              "<style scoped>\n",
              "    .dataframe tbody tr th:only-of-type {\n",
              "        vertical-align: middle;\n",
              "    }\n",
              "\n",
              "    .dataframe tbody tr th {\n",
              "        vertical-align: top;\n",
              "    }\n",
              "\n",
              "    .dataframe thead th {\n",
              "        text-align: right;\n",
              "    }\n",
              "</style>\n",
              "<table border=\"1\" class=\"dataframe\">\n",
              "  <thead>\n",
              "    <tr style=\"text-align: right;\">\n",
              "      <th></th>\n",
              "      <th>name</th>\n",
              "      <th>elect</th>\n",
              "      <th>born</th>\n",
              "    </tr>\n",
              "  </thead>\n",
              "  <tbody>\n",
              "    <tr>\n",
              "      <th>0</th>\n",
              "      <td>Barack Obama</td>\n",
              "      <td>2008</td>\n",
              "      <td>1961</td>\n",
              "    </tr>\n",
              "    <tr>\n",
              "      <th>1</th>\n",
              "      <td>George W. Bush</td>\n",
              "      <td>2000</td>\n",
              "      <td>1946</td>\n",
              "    </tr>\n",
              "    <tr>\n",
              "      <th>2</th>\n",
              "      <td>Bill Clinton</td>\n",
              "      <td>1992</td>\n",
              "      <td>1946</td>\n",
              "    </tr>\n",
              "    <tr>\n",
              "      <th>3</th>\n",
              "      <td>George H.W. Bush</td>\n",
              "      <td>1988</td>\n",
              "      <td>1924</td>\n",
              "    </tr>\n",
              "  </tbody>\n",
              "</table>\n",
              "</div>"
            ],
            "text/plain": [
              "               name  elect  born\n",
              "0      Barack Obama   2008  1961\n",
              "1    George W. Bush   2000  1946\n",
              "2      Bill Clinton   1992  1946\n",
              "3  George H.W. Bush   1988  1924"
            ]
          },
          "execution_count": 12,
          "metadata": {},
          "output_type": "execute_result"
        }
      ],
      "source": [
        "presidents = pd.DataFrame([\n",
        "    { 'name': 'Barack Obama', 'elect': 2008, 'born': 1961 },\n",
        "    { 'name': 'George W. Bush', 'elect': 2000, 'born': 1946 },\n",
        "    { 'name': 'Bill Clinton', 'elect': 1992, 'born': 1946 },\n",
        "    { 'name': 'George H.W. Bush', 'elect': 1988, 'born': 1924 },\n",
        "])\n",
        "presidents"
      ]
    },
    {
      "cell_type": "markdown",
      "metadata": {
        "id": "3IhzHQvdEE0a"
      },
      "source": [
        "# Setting the Index of a DataFrame"
      ]
    },
    {
      "cell_type": "code",
      "execution_count": null,
      "metadata": {
        "id": "9CpDonJHEE0a",
        "outputId": "55f47e87-f13d-4e0a-f9e0-e698614f746c"
      },
      "outputs": [
        {
          "data": {
            "text/plain": [
              "Index(['name', 'elect', 'born'], dtype='object')"
            ]
          },
          "execution_count": 13,
          "metadata": {},
          "output_type": "execute_result"
        }
      ],
      "source": [
        "presidents.columns"
      ]
    },
    {
      "cell_type": "code",
      "execution_count": null,
      "metadata": {
        "id": "V-aYh-u2EE0a"
      },
      "outputs": [],
      "source": [
        "presidents.set_index('name', inplace=True)"
      ]
    },
    {
      "cell_type": "code",
      "execution_count": null,
      "metadata": {
        "id": "RAVwW5blEE0a",
        "outputId": "cd34f802-c0c2-4ba1-9ee2-c78e11ae88ab"
      },
      "outputs": [
        {
          "data": {
            "text/html": [
              "<div>\n",
              "<style scoped>\n",
              "    .dataframe tbody tr th:only-of-type {\n",
              "        vertical-align: middle;\n",
              "    }\n",
              "\n",
              "    .dataframe tbody tr th {\n",
              "        vertical-align: top;\n",
              "    }\n",
              "\n",
              "    .dataframe thead th {\n",
              "        text-align: right;\n",
              "    }\n",
              "</style>\n",
              "<table border=\"1\" class=\"dataframe\">\n",
              "  <thead>\n",
              "    <tr style=\"text-align: right;\">\n",
              "      <th></th>\n",
              "      <th>elect</th>\n",
              "      <th>born</th>\n",
              "    </tr>\n",
              "    <tr>\n",
              "      <th>name</th>\n",
              "      <th></th>\n",
              "      <th></th>\n",
              "    </tr>\n",
              "  </thead>\n",
              "  <tbody>\n",
              "    <tr>\n",
              "      <th>Barack Obama</th>\n",
              "      <td>2008</td>\n",
              "      <td>1961</td>\n",
              "    </tr>\n",
              "    <tr>\n",
              "      <th>George W. Bush</th>\n",
              "      <td>2000</td>\n",
              "      <td>1946</td>\n",
              "    </tr>\n",
              "    <tr>\n",
              "      <th>Bill Clinton</th>\n",
              "      <td>1992</td>\n",
              "      <td>1946</td>\n",
              "    </tr>\n",
              "    <tr>\n",
              "      <th>George H.W. Bush</th>\n",
              "      <td>1988</td>\n",
              "      <td>1924</td>\n",
              "    </tr>\n",
              "  </tbody>\n",
              "</table>\n",
              "</div>"
            ],
            "text/plain": [
              "                  elect  born\n",
              "name                         \n",
              "Barack Obama       2008  1961\n",
              "George W. Bush     2000  1946\n",
              "Bill Clinton       1992  1946\n",
              "George H.W. Bush   1988  1924"
            ]
          },
          "execution_count": 15,
          "metadata": {},
          "output_type": "execute_result"
        }
      ],
      "source": [
        "presidents"
      ]
    },
    {
      "cell_type": "code",
      "execution_count": null,
      "metadata": {
        "id": "R8cV4wiGEE0a",
        "outputId": "3e5d1297-66b0-4e6d-b359-2d45d3b7674c"
      },
      "outputs": [
        {
          "data": {
            "text/plain": [
              "'Barack Obama'"
            ]
          },
          "execution_count": 16,
          "metadata": {},
          "output_type": "execute_result"
        }
      ],
      "source": [
        "presidents['born'].idxmax() # who is the youngest president?"
      ]
    },
    {
      "cell_type": "code",
      "execution_count": null,
      "metadata": {
        "id": "uMyWqNQnEE0a",
        "outputId": "85c3e78e-e06b-4559-f233-ce0733e6568c"
      },
      "outputs": [
        {
          "data": {
            "text/plain": [
              "1946"
            ]
          },
          "execution_count": 17,
          "metadata": {},
          "output_type": "execute_result"
        }
      ],
      "source": [
        "presidents['born']['Bill Clinton']"
      ]
    },
    {
      "cell_type": "code",
      "execution_count": null,
      "metadata": {
        "id": "xsfDkdLTEE0a",
        "outputId": "217ce663-1c40-4666-920c-068e70eda828"
      },
      "outputs": [
        {
          "data": {
            "text/plain": [
              "elect    1992\n",
              "born     1946\n",
              "Name: Bill Clinton, dtype: int64"
            ]
          },
          "execution_count": 18,
          "metadata": {},
          "output_type": "execute_result"
        }
      ],
      "source": [
        "presidents.loc['Bill Clinton']"
      ]
    },
    {
      "cell_type": "code",
      "execution_count": null,
      "metadata": {
        "id": "eiVprwQREE0a",
        "outputId": "27db14e6-0e15-43bc-c376-e31db2c2bed4"
      },
      "outputs": [
        {
          "data": {
            "text/plain": [
              "1946"
            ]
          },
          "execution_count": 50,
          "metadata": {},
          "output_type": "execute_result"
        }
      ],
      "source": [
        "presidents.loc['Bill Clinton']['born']"
      ]
    },
    {
      "cell_type": "code",
      "execution_count": null,
      "metadata": {
        "id": "OwMf5NSvEE0a",
        "outputId": "d7a3da5b-27c7-4066-b11d-3cb5b3387c7b"
      },
      "outputs": [
        {
          "data": {
            "text/plain": [
              "name\n",
              "Barack Obama        1961\n",
              "George W. Bush      1946\n",
              "Bill Clinton        1946\n",
              "George H.W. Bush    1924\n",
              "Name: born, dtype: int64"
            ]
          },
          "execution_count": 19,
          "metadata": {},
          "output_type": "execute_result"
        }
      ],
      "source": [
        "# note that we are looking at presidents dataframe here\n",
        "presidents['born']\n",
        "# pd.DataFrame(presidents['born'])"
      ]
    },
    {
      "cell_type": "code",
      "execution_count": null,
      "metadata": {
        "id": "G1uC6dsuEE0b",
        "outputId": "cce2bdd1-6b88-46b7-ce36-58e17fc45e35"
      },
      "outputs": [
        {
          "data": {
            "text/plain": [
              "1946"
            ]
          },
          "execution_count": 54,
          "metadata": {},
          "output_type": "execute_result"
        }
      ],
      "source": [
        "presidents['born'][2]"
      ]
    },
    {
      "cell_type": "code",
      "execution_count": null,
      "metadata": {
        "id": "tYaQNm_mEE0b",
        "outputId": "e4f9198a-ae50-4491-a1ab-5a4747b0867a"
      },
      "outputs": [
        {
          "data": {
            "text/plain": [
              "born     1946\n",
              "elect    1992\n",
              "Name: Bill Clinton, dtype: int64"
            ]
          },
          "execution_count": 55,
          "metadata": {},
          "output_type": "execute_result"
        }
      ],
      "source": [
        "presidents.iloc[2]"
      ]
    },
    {
      "cell_type": "code",
      "execution_count": null,
      "metadata": {
        "id": "KoXkOknREE0b",
        "outputId": "784108e3-ad4f-4633-81dd-c43f730869fa"
      },
      "outputs": [
        {
          "data": {
            "text/plain": [
              "1946"
            ]
          },
          "execution_count": 56,
          "metadata": {},
          "output_type": "execute_result"
        }
      ],
      "source": [
        "presidents.iloc[2]['born']"
      ]
    },
    {
      "cell_type": "code",
      "execution_count": null,
      "metadata": {
        "id": "lqKuc4RIEE0b",
        "outputId": "a84fe41b-73fb-42bd-9532-136f280b12df"
      },
      "outputs": [
        {
          "data": {
            "text/plain": [
              "1946"
            ]
          },
          "execution_count": 57,
          "metadata": {},
          "output_type": "execute_result"
        }
      ],
      "source": [
        "presidents['born']['Bill Clinton']"
      ]
    },
    {
      "cell_type": "code",
      "execution_count": null,
      "metadata": {
        "id": "7ufl9EyEEE0b",
        "outputId": "857b1bff-6490-4a66-b3ef-80ec58669a1f"
      },
      "outputs": [
        {
          "data": {
            "text/plain": [
              "1946"
            ]
          },
          "execution_count": 58,
          "metadata": {},
          "output_type": "execute_result"
        }
      ],
      "source": [
        "presidents.loc['Bill Clinton']['born']"
      ]
    },
    {
      "cell_type": "code",
      "execution_count": null,
      "metadata": {
        "id": "iGfLWd6BEE0b",
        "outputId": "92163b5b-96a5-4f8d-f566-ae78731964cd"
      },
      "outputs": [
        {
          "data": {
            "text/plain": [
              "1992"
            ]
          },
          "execution_count": 59,
          "metadata": {},
          "output_type": "execute_result"
        }
      ],
      "source": [
        "presidents.loc['Bill Clinton']['elect']"
      ]
    },
    {
      "cell_type": "markdown",
      "metadata": {
        "id": "remJWzn9EE0b"
      },
      "source": [
        "# Merging Two DataFrames"
      ]
    },
    {
      "cell_type": "code",
      "execution_count": null,
      "metadata": {
        "id": "Cf5AZ8bdEE0b",
        "outputId": "b0bedb1b-fbe9-43b9-e298-a4085aa22c15"
      },
      "outputs": [
        {
          "data": {
            "text/html": [
              "<div>\n",
              "<style scoped>\n",
              "    .dataframe tbody tr th:only-of-type {\n",
              "        vertical-align: middle;\n",
              "    }\n",
              "\n",
              "    .dataframe tbody tr th {\n",
              "        vertical-align: top;\n",
              "    }\n",
              "\n",
              "    .dataframe thead th {\n",
              "        text-align: right;\n",
              "    }\n",
              "</style>\n",
              "<table border=\"1\" class=\"dataframe\">\n",
              "  <thead>\n",
              "    <tr style=\"text-align: right;\">\n",
              "      <th></th>\n",
              "      <th>son</th>\n",
              "      <th>father</th>\n",
              "    </tr>\n",
              "  </thead>\n",
              "  <tbody>\n",
              "    <tr>\n",
              "      <th>0</th>\n",
              "      <td>Barack Obama</td>\n",
              "      <td>Barack Obama, Sr.</td>\n",
              "    </tr>\n",
              "    <tr>\n",
              "      <th>1</th>\n",
              "      <td>George W. Bush</td>\n",
              "      <td>George H.W. Bush</td>\n",
              "    </tr>\n",
              "    <tr>\n",
              "      <th>2</th>\n",
              "      <td>George H.W. Bush</td>\n",
              "      <td>Prescott Bush</td>\n",
              "    </tr>\n",
              "  </tbody>\n",
              "</table>\n",
              "</div>"
            ],
            "text/plain": [
              "                son             father\n",
              "0      Barack Obama  Barack Obama, Sr.\n",
              "1    George W. Bush   George H.W. Bush\n",
              "2  George H.W. Bush      Prescott Bush"
            ]
          },
          "execution_count": 20,
          "metadata": {},
          "output_type": "execute_result"
        }
      ],
      "source": [
        "presidents_dads = pd.DataFrame([\n",
        "    { 'son': 'Barack Obama', 'father': 'Barack Obama, Sr.' },\n",
        "    { 'son': 'George W. Bush', 'father': 'George H.W. Bush' },\n",
        "    { 'son': 'George H.W. Bush', 'father': 'Prescott Bush' },\n",
        "])\n",
        "\n",
        "presidents_dads"
      ]
    },
    {
      "cell_type": "code",
      "execution_count": null,
      "metadata": {
        "id": "mtpD6t-eEE0b",
        "outputId": "70374c50-c502-4754-8fd0-76580ccc5750"
      },
      "outputs": [
        {
          "data": {
            "text/html": [
              "<div>\n",
              "<style scoped>\n",
              "    .dataframe tbody tr th:only-of-type {\n",
              "        vertical-align: middle;\n",
              "    }\n",
              "\n",
              "    .dataframe tbody tr th {\n",
              "        vertical-align: top;\n",
              "    }\n",
              "\n",
              "    .dataframe thead th {\n",
              "        text-align: right;\n",
              "    }\n",
              "</style>\n",
              "<table border=\"1\" class=\"dataframe\">\n",
              "  <thead>\n",
              "    <tr style=\"text-align: right;\">\n",
              "      <th></th>\n",
              "      <th>elect</th>\n",
              "      <th>born</th>\n",
              "    </tr>\n",
              "    <tr>\n",
              "      <th>name</th>\n",
              "      <th></th>\n",
              "      <th></th>\n",
              "    </tr>\n",
              "  </thead>\n",
              "  <tbody>\n",
              "    <tr>\n",
              "      <th>Barack Obama</th>\n",
              "      <td>2008</td>\n",
              "      <td>1961</td>\n",
              "    </tr>\n",
              "    <tr>\n",
              "      <th>George W. Bush</th>\n",
              "      <td>2000</td>\n",
              "      <td>1946</td>\n",
              "    </tr>\n",
              "    <tr>\n",
              "      <th>Bill Clinton</th>\n",
              "      <td>1992</td>\n",
              "      <td>1946</td>\n",
              "    </tr>\n",
              "    <tr>\n",
              "      <th>George H.W. Bush</th>\n",
              "      <td>1988</td>\n",
              "      <td>1924</td>\n",
              "    </tr>\n",
              "  </tbody>\n",
              "</table>\n",
              "</div>"
            ],
            "text/plain": [
              "                  elect  born\n",
              "name                         \n",
              "Barack Obama       2008  1961\n",
              "George W. Bush     2000  1946\n",
              "Bill Clinton       1992  1946\n",
              "George H.W. Bush   1988  1924"
            ]
          },
          "execution_count": 21,
          "metadata": {},
          "output_type": "execute_result"
        }
      ],
      "source": [
        "presidents"
      ]
    },
    {
      "cell_type": "code",
      "execution_count": null,
      "metadata": {
        "id": "buSRHH9oEE0b"
      },
      "outputs": [],
      "source": [
        "# in order to merge, we're going to need 'name' as a column,\n",
        "# but right now it's the index, so let's add it as a column too\n",
        "presidents['name1'] = presidents.index"
      ]
    },
    {
      "cell_type": "code",
      "execution_count": null,
      "metadata": {
        "id": "ak939LwVEE0b",
        "outputId": "39f2fe7d-e41d-4700-eeff-d47b6bf88371"
      },
      "outputs": [
        {
          "data": {
            "text/html": [
              "<div>\n",
              "<style scoped>\n",
              "    .dataframe tbody tr th:only-of-type {\n",
              "        vertical-align: middle;\n",
              "    }\n",
              "\n",
              "    .dataframe tbody tr th {\n",
              "        vertical-align: top;\n",
              "    }\n",
              "\n",
              "    .dataframe thead th {\n",
              "        text-align: right;\n",
              "    }\n",
              "</style>\n",
              "<table border=\"1\" class=\"dataframe\">\n",
              "  <thead>\n",
              "    <tr style=\"text-align: right;\">\n",
              "      <th></th>\n",
              "      <th>elect</th>\n",
              "      <th>born</th>\n",
              "      <th>name1</th>\n",
              "    </tr>\n",
              "    <tr>\n",
              "      <th>name</th>\n",
              "      <th></th>\n",
              "      <th></th>\n",
              "      <th></th>\n",
              "    </tr>\n",
              "  </thead>\n",
              "  <tbody>\n",
              "    <tr>\n",
              "      <th>Barack Obama</th>\n",
              "      <td>2008</td>\n",
              "      <td>1961</td>\n",
              "      <td>Barack Obama</td>\n",
              "    </tr>\n",
              "    <tr>\n",
              "      <th>George W. Bush</th>\n",
              "      <td>2000</td>\n",
              "      <td>1946</td>\n",
              "      <td>George W. Bush</td>\n",
              "    </tr>\n",
              "    <tr>\n",
              "      <th>Bill Clinton</th>\n",
              "      <td>1992</td>\n",
              "      <td>1946</td>\n",
              "      <td>Bill Clinton</td>\n",
              "    </tr>\n",
              "    <tr>\n",
              "      <th>George H.W. Bush</th>\n",
              "      <td>1988</td>\n",
              "      <td>1924</td>\n",
              "      <td>George H.W. Bush</td>\n",
              "    </tr>\n",
              "  </tbody>\n",
              "</table>\n",
              "</div>"
            ],
            "text/plain": [
              "                  elect  born             name1\n",
              "name                                           \n",
              "Barack Obama       2008  1961      Barack Obama\n",
              "George W. Bush     2000  1946    George W. Bush\n",
              "Bill Clinton       1992  1946      Bill Clinton\n",
              "George H.W. Bush   1988  1924  George H.W. Bush"
            ]
          },
          "execution_count": 24,
          "metadata": {},
          "output_type": "execute_result"
        }
      ],
      "source": [
        "presidents"
      ]
    },
    {
      "cell_type": "code",
      "execution_count": null,
      "metadata": {
        "id": "NGMIjfZpEE0b",
        "outputId": "dca18728-c9ee-4536-b02d-416f19135431"
      },
      "outputs": [
        {
          "data": {
            "text/html": [
              "<div>\n",
              "<style scoped>\n",
              "    .dataframe tbody tr th:only-of-type {\n",
              "        vertical-align: middle;\n",
              "    }\n",
              "\n",
              "    .dataframe tbody tr th {\n",
              "        vertical-align: top;\n",
              "    }\n",
              "\n",
              "    .dataframe thead th {\n",
              "        text-align: right;\n",
              "    }\n",
              "</style>\n",
              "<table border=\"1\" class=\"dataframe\">\n",
              "  <thead>\n",
              "    <tr style=\"text-align: right;\">\n",
              "      <th></th>\n",
              "      <th>elect</th>\n",
              "      <th>born</th>\n",
              "      <th>name1</th>\n",
              "      <th>son</th>\n",
              "      <th>father</th>\n",
              "    </tr>\n",
              "  </thead>\n",
              "  <tbody>\n",
              "    <tr>\n",
              "      <th>0</th>\n",
              "      <td>2008</td>\n",
              "      <td>1961</td>\n",
              "      <td>Barack Obama</td>\n",
              "      <td>Barack Obama</td>\n",
              "      <td>Barack Obama, Sr.</td>\n",
              "    </tr>\n",
              "    <tr>\n",
              "      <th>1</th>\n",
              "      <td>2000</td>\n",
              "      <td>1946</td>\n",
              "      <td>George W. Bush</td>\n",
              "      <td>George W. Bush</td>\n",
              "      <td>George H.W. Bush</td>\n",
              "    </tr>\n",
              "    <tr>\n",
              "      <th>2</th>\n",
              "      <td>1988</td>\n",
              "      <td>1924</td>\n",
              "      <td>George H.W. Bush</td>\n",
              "      <td>George H.W. Bush</td>\n",
              "      <td>Prescott Bush</td>\n",
              "    </tr>\n",
              "  </tbody>\n",
              "</table>\n",
              "</div>"
            ],
            "text/plain": [
              "   elect  born             name1               son             father\n",
              "0   2008  1961      Barack Obama      Barack Obama  Barack Obama, Sr.\n",
              "1   2000  1946    George W. Bush    George W. Bush   George H.W. Bush\n",
              "2   1988  1924  George H.W. Bush  George H.W. Bush      Prescott Bush"
            ]
          },
          "execution_count": 25,
          "metadata": {},
          "output_type": "execute_result"
        }
      ],
      "source": [
        "pd.merge(presidents, presidents_dads,\n",
        "         left_on='name', right_on='son')"
      ]
    },
    {
      "cell_type": "code",
      "execution_count": null,
      "metadata": {
        "id": "wIK3Sj80EE0b",
        "outputId": "587bee77-fc2f-4cd6-f38a-51777a3c4d63"
      },
      "outputs": [
        {
          "data": {
            "text/html": [
              "<div>\n",
              "<style scoped>\n",
              "    .dataframe tbody tr th:only-of-type {\n",
              "        vertical-align: middle;\n",
              "    }\n",
              "\n",
              "    .dataframe tbody tr th {\n",
              "        vertical-align: top;\n",
              "    }\n",
              "\n",
              "    .dataframe thead th {\n",
              "        text-align: right;\n",
              "    }\n",
              "</style>\n",
              "<table border=\"1\" class=\"dataframe\">\n",
              "  <thead>\n",
              "    <tr style=\"text-align: right;\">\n",
              "      <th></th>\n",
              "      <th>elect</th>\n",
              "      <th>born</th>\n",
              "      <th>name1</th>\n",
              "      <th>father</th>\n",
              "    </tr>\n",
              "  </thead>\n",
              "  <tbody>\n",
              "    <tr>\n",
              "      <th>0</th>\n",
              "      <td>2008</td>\n",
              "      <td>1961</td>\n",
              "      <td>Barack Obama</td>\n",
              "      <td>Barack Obama, Sr.</td>\n",
              "    </tr>\n",
              "    <tr>\n",
              "      <th>1</th>\n",
              "      <td>2000</td>\n",
              "      <td>1946</td>\n",
              "      <td>George W. Bush</td>\n",
              "      <td>George H.W. Bush</td>\n",
              "    </tr>\n",
              "    <tr>\n",
              "      <th>2</th>\n",
              "      <td>1988</td>\n",
              "      <td>1924</td>\n",
              "      <td>George H.W. Bush</td>\n",
              "      <td>Prescott Bush</td>\n",
              "    </tr>\n",
              "  </tbody>\n",
              "</table>\n",
              "</div>"
            ],
            "text/plain": [
              "   elect  born             name1             father\n",
              "0   2008  1961      Barack Obama  Barack Obama, Sr.\n",
              "1   2000  1946    George W. Bush   George H.W. Bush\n",
              "2   1988  1924  George H.W. Bush      Prescott Bush"
            ]
          },
          "execution_count": 26,
          "metadata": {},
          "output_type": "execute_result"
        }
      ],
      "source": [
        "pd.merge(presidents, presidents_dads, left_on='name',\n",
        "         right_on='son').drop('son', axis=1)"
      ]
    },
    {
      "cell_type": "code",
      "execution_count": null,
      "metadata": {
        "id": "vaZsmHqHEE0b",
        "outputId": "0ce092b3-a2bb-40e7-b248-a522bf160754"
      },
      "outputs": [
        {
          "data": {
            "text/html": [
              "<div>\n",
              "<style scoped>\n",
              "    .dataframe tbody tr th:only-of-type {\n",
              "        vertical-align: middle;\n",
              "    }\n",
              "\n",
              "    .dataframe tbody tr th {\n",
              "        vertical-align: top;\n",
              "    }\n",
              "\n",
              "    .dataframe thead th {\n",
              "        text-align: right;\n",
              "    }\n",
              "</style>\n",
              "<table border=\"1\" class=\"dataframe\">\n",
              "  <thead>\n",
              "    <tr style=\"text-align: right;\">\n",
              "      <th></th>\n",
              "      <th>elect</th>\n",
              "      <th>born</th>\n",
              "      <th>name1</th>\n",
              "      <th>father</th>\n",
              "    </tr>\n",
              "  </thead>\n",
              "  <tbody>\n",
              "    <tr>\n",
              "      <th>0</th>\n",
              "      <td>2008</td>\n",
              "      <td>1961</td>\n",
              "      <td>Barack Obama</td>\n",
              "      <td>Barack Obama, Sr.</td>\n",
              "    </tr>\n",
              "    <tr>\n",
              "      <th>1</th>\n",
              "      <td>2000</td>\n",
              "      <td>1946</td>\n",
              "      <td>George W. Bush</td>\n",
              "      <td>George H.W. Bush</td>\n",
              "    </tr>\n",
              "    <tr>\n",
              "      <th>2</th>\n",
              "      <td>1992</td>\n",
              "      <td>1946</td>\n",
              "      <td>Bill Clinton</td>\n",
              "      <td>NaN</td>\n",
              "    </tr>\n",
              "    <tr>\n",
              "      <th>3</th>\n",
              "      <td>1988</td>\n",
              "      <td>1924</td>\n",
              "      <td>George H.W. Bush</td>\n",
              "      <td>Prescott Bush</td>\n",
              "    </tr>\n",
              "  </tbody>\n",
              "</table>\n",
              "</div>"
            ],
            "text/plain": [
              "   elect  born             name1             father\n",
              "0   2008  1961      Barack Obama  Barack Obama, Sr.\n",
              "1   2000  1946    George W. Bush   George H.W. Bush\n",
              "2   1992  1946      Bill Clinton                NaN\n",
              "3   1988  1924  George H.W. Bush      Prescott Bush"
            ]
          },
          "execution_count": 27,
          "metadata": {},
          "output_type": "execute_result"
        }
      ],
      "source": [
        "pd.merge(presidents, presidents_dads, left_on='name',\n",
        "         right_on='son', how='left').drop('son', axis=1)"
      ]
    },
    {
      "cell_type": "code",
      "execution_count": null,
      "metadata": {
        "id": "BXGijwf_EE0b"
      },
      "outputs": [],
      "source": [
        "final = pd.merge(presidents, presidents_dads, left_on='name',\n",
        "         right_on='son', how='left').drop('son', axis=1).fillna('MISSING')"
      ]
    },
    {
      "cell_type": "code",
      "execution_count": null,
      "metadata": {
        "id": "PEdwrqmiEE0b",
        "outputId": "1e4600aa-2f97-44e8-b6fb-6498d7cc4376"
      },
      "outputs": [
        {
          "data": {
            "text/html": [
              "<div>\n",
              "<style scoped>\n",
              "    .dataframe tbody tr th:only-of-type {\n",
              "        vertical-align: middle;\n",
              "    }\n",
              "\n",
              "    .dataframe tbody tr th {\n",
              "        vertical-align: top;\n",
              "    }\n",
              "\n",
              "    .dataframe thead th {\n",
              "        text-align: right;\n",
              "    }\n",
              "</style>\n",
              "<table border=\"1\" class=\"dataframe\">\n",
              "  <thead>\n",
              "    <tr style=\"text-align: right;\">\n",
              "      <th></th>\n",
              "      <th>elect</th>\n",
              "      <th>born</th>\n",
              "      <th>name1</th>\n",
              "      <th>father</th>\n",
              "    </tr>\n",
              "  </thead>\n",
              "  <tbody>\n",
              "    <tr>\n",
              "      <th>0</th>\n",
              "      <td>2008</td>\n",
              "      <td>1961</td>\n",
              "      <td>Barack Obama</td>\n",
              "      <td>Barack Obama, Sr.</td>\n",
              "    </tr>\n",
              "    <tr>\n",
              "      <th>1</th>\n",
              "      <td>2000</td>\n",
              "      <td>1946</td>\n",
              "      <td>George W. Bush</td>\n",
              "      <td>George H.W. Bush</td>\n",
              "    </tr>\n",
              "    <tr>\n",
              "      <th>2</th>\n",
              "      <td>1992</td>\n",
              "      <td>1946</td>\n",
              "      <td>Bill Clinton</td>\n",
              "      <td>MISSING</td>\n",
              "    </tr>\n",
              "    <tr>\n",
              "      <th>3</th>\n",
              "      <td>1988</td>\n",
              "      <td>1924</td>\n",
              "      <td>George H.W. Bush</td>\n",
              "      <td>Prescott Bush</td>\n",
              "    </tr>\n",
              "  </tbody>\n",
              "</table>\n",
              "</div>"
            ],
            "text/plain": [
              "   elect  born             name1             father\n",
              "0   2008  1961      Barack Obama  Barack Obama, Sr.\n",
              "1   2000  1946    George W. Bush   George H.W. Bush\n",
              "2   1992  1946      Bill Clinton            MISSING\n",
              "3   1988  1924  George H.W. Bush      Prescott Bush"
            ]
          },
          "execution_count": 43,
          "metadata": {},
          "output_type": "execute_result"
        }
      ],
      "source": [
        "final"
      ]
    },
    {
      "cell_type": "code",
      "execution_count": null,
      "metadata": {
        "id": "M8TyNCi2EE0b",
        "outputId": "2f85507b-939e-46c0-ef6d-04d028171978"
      },
      "outputs": [
        {
          "data": {
            "text/html": [
              "<div>\n",
              "<style scoped>\n",
              "    .dataframe tbody tr th:only-of-type {\n",
              "        vertical-align: middle;\n",
              "    }\n",
              "\n",
              "    .dataframe tbody tr th {\n",
              "        vertical-align: top;\n",
              "    }\n",
              "\n",
              "    .dataframe thead th {\n",
              "        text-align: right;\n",
              "    }\n",
              "</style>\n",
              "<table border=\"1\" class=\"dataframe\">\n",
              "  <thead>\n",
              "    <tr style=\"text-align: right;\">\n",
              "      <th></th>\n",
              "      <th>elect</th>\n",
              "      <th>born</th>\n",
              "      <th>father</th>\n",
              "    </tr>\n",
              "    <tr>\n",
              "      <th>name1</th>\n",
              "      <th></th>\n",
              "      <th></th>\n",
              "      <th></th>\n",
              "    </tr>\n",
              "  </thead>\n",
              "  <tbody>\n",
              "    <tr>\n",
              "      <th>Barack Obama</th>\n",
              "      <td>2008</td>\n",
              "      <td>1961</td>\n",
              "      <td>Barack Obama, Sr.</td>\n",
              "    </tr>\n",
              "    <tr>\n",
              "      <th>George W. Bush</th>\n",
              "      <td>2000</td>\n",
              "      <td>1946</td>\n",
              "      <td>George H.W. Bush</td>\n",
              "    </tr>\n",
              "    <tr>\n",
              "      <th>Bill Clinton</th>\n",
              "      <td>1992</td>\n",
              "      <td>1946</td>\n",
              "      <td>MISSING</td>\n",
              "    </tr>\n",
              "    <tr>\n",
              "      <th>George H.W. Bush</th>\n",
              "      <td>1988</td>\n",
              "      <td>1924</td>\n",
              "      <td>Prescott Bush</td>\n",
              "    </tr>\n",
              "  </tbody>\n",
              "</table>\n",
              "</div>"
            ],
            "text/plain": [
              "                  elect  born             father\n",
              "name1                                           \n",
              "Barack Obama       2008  1961  Barack Obama, Sr.\n",
              "George W. Bush     2000  1946   George H.W. Bush\n",
              "Bill Clinton       1992  1946            MISSING\n",
              "George H.W. Bush   1988  1924      Prescott Bush"
            ]
          },
          "execution_count": 44,
          "metadata": {},
          "output_type": "execute_result"
        }
      ],
      "source": [
        "final.set_index('name1', inplace=True)\n",
        "final"
      ]
    },
    {
      "cell_type": "code",
      "execution_count": null,
      "metadata": {
        "id": "XKrMk-ySEE0b"
      },
      "outputs": [],
      "source": [
        "final['name'] = final.index"
      ]
    },
    {
      "cell_type": "code",
      "execution_count": null,
      "metadata": {
        "id": "iJln547QEE0b",
        "outputId": "7e20515f-722e-4ad1-b245-f6a0e6762a04"
      },
      "outputs": [
        {
          "data": {
            "text/html": [
              "<div>\n",
              "<style scoped>\n",
              "    .dataframe tbody tr th:only-of-type {\n",
              "        vertical-align: middle;\n",
              "    }\n",
              "\n",
              "    .dataframe tbody tr th {\n",
              "        vertical-align: top;\n",
              "    }\n",
              "\n",
              "    .dataframe thead th {\n",
              "        text-align: right;\n",
              "    }\n",
              "</style>\n",
              "<table border=\"1\" class=\"dataframe\">\n",
              "  <thead>\n",
              "    <tr style=\"text-align: right;\">\n",
              "      <th></th>\n",
              "      <th>elect</th>\n",
              "      <th>born</th>\n",
              "      <th>father</th>\n",
              "      <th>name</th>\n",
              "    </tr>\n",
              "    <tr>\n",
              "      <th>name1</th>\n",
              "      <th></th>\n",
              "      <th></th>\n",
              "      <th></th>\n",
              "      <th></th>\n",
              "    </tr>\n",
              "  </thead>\n",
              "  <tbody>\n",
              "    <tr>\n",
              "      <th>Barack Obama</th>\n",
              "      <td>2008</td>\n",
              "      <td>1961</td>\n",
              "      <td>Barack Obama, Sr.</td>\n",
              "      <td>Barack Obama</td>\n",
              "    </tr>\n",
              "    <tr>\n",
              "      <th>George W. Bush</th>\n",
              "      <td>2000</td>\n",
              "      <td>1946</td>\n",
              "      <td>George H.W. Bush</td>\n",
              "      <td>George W. Bush</td>\n",
              "    </tr>\n",
              "    <tr>\n",
              "      <th>Bill Clinton</th>\n",
              "      <td>1992</td>\n",
              "      <td>1946</td>\n",
              "      <td>MISSING</td>\n",
              "      <td>Bill Clinton</td>\n",
              "    </tr>\n",
              "    <tr>\n",
              "      <th>George H.W. Bush</th>\n",
              "      <td>1988</td>\n",
              "      <td>1924</td>\n",
              "      <td>Prescott Bush</td>\n",
              "      <td>George H.W. Bush</td>\n",
              "    </tr>\n",
              "  </tbody>\n",
              "</table>\n",
              "</div>"
            ],
            "text/plain": [
              "                  elect  born             father              name\n",
              "name1                                                             \n",
              "Barack Obama       2008  1961  Barack Obama, Sr.      Barack Obama\n",
              "George W. Bush     2000  1946   George H.W. Bush    George W. Bush\n",
              "Bill Clinton       1992  1946            MISSING      Bill Clinton\n",
              "George H.W. Bush   1988  1924      Prescott Bush  George H.W. Bush"
            ]
          },
          "execution_count": 46,
          "metadata": {},
          "output_type": "execute_result"
        }
      ],
      "source": [
        "final"
      ]
    },
    {
      "cell_type": "code",
      "execution_count": null,
      "metadata": {
        "id": "zPfmi4yGEE0b"
      },
      "outputs": [],
      "source": [
        "final = final.reset_index()"
      ]
    },
    {
      "cell_type": "code",
      "execution_count": null,
      "metadata": {
        "id": "aw-uAomvEE0b",
        "outputId": "79024f4b-4fe4-4088-8e19-6b335ca86d86"
      },
      "outputs": [
        {
          "data": {
            "text/html": [
              "<div>\n",
              "<style scoped>\n",
              "    .dataframe tbody tr th:only-of-type {\n",
              "        vertical-align: middle;\n",
              "    }\n",
              "\n",
              "    .dataframe tbody tr th {\n",
              "        vertical-align: top;\n",
              "    }\n",
              "\n",
              "    .dataframe thead th {\n",
              "        text-align: right;\n",
              "    }\n",
              "</style>\n",
              "<table border=\"1\" class=\"dataframe\">\n",
              "  <thead>\n",
              "    <tr style=\"text-align: right;\">\n",
              "      <th></th>\n",
              "      <th>name1</th>\n",
              "      <th>elect</th>\n",
              "      <th>born</th>\n",
              "      <th>father</th>\n",
              "      <th>name</th>\n",
              "    </tr>\n",
              "  </thead>\n",
              "  <tbody>\n",
              "    <tr>\n",
              "      <th>0</th>\n",
              "      <td>Barack Obama</td>\n",
              "      <td>2008</td>\n",
              "      <td>1961</td>\n",
              "      <td>Barack Obama, Sr.</td>\n",
              "      <td>Barack Obama</td>\n",
              "    </tr>\n",
              "    <tr>\n",
              "      <th>1</th>\n",
              "      <td>George W. Bush</td>\n",
              "      <td>2000</td>\n",
              "      <td>1946</td>\n",
              "      <td>George H.W. Bush</td>\n",
              "      <td>George W. Bush</td>\n",
              "    </tr>\n",
              "    <tr>\n",
              "      <th>2</th>\n",
              "      <td>Bill Clinton</td>\n",
              "      <td>1992</td>\n",
              "      <td>1946</td>\n",
              "      <td>MISSING</td>\n",
              "      <td>Bill Clinton</td>\n",
              "    </tr>\n",
              "    <tr>\n",
              "      <th>3</th>\n",
              "      <td>George H.W. Bush</td>\n",
              "      <td>1988</td>\n",
              "      <td>1924</td>\n",
              "      <td>Prescott Bush</td>\n",
              "      <td>George H.W. Bush</td>\n",
              "    </tr>\n",
              "  </tbody>\n",
              "</table>\n",
              "</div>"
            ],
            "text/plain": [
              "              name1  elect  born             father              name\n",
              "0      Barack Obama   2008  1961  Barack Obama, Sr.      Barack Obama\n",
              "1    George W. Bush   2000  1946   George H.W. Bush    George W. Bush\n",
              "2      Bill Clinton   1992  1946            MISSING      Bill Clinton\n",
              "3  George H.W. Bush   1988  1924      Prescott Bush  George H.W. Bush"
            ]
          },
          "execution_count": 48,
          "metadata": {},
          "output_type": "execute_result"
        }
      ],
      "source": [
        "final"
      ]
    },
    {
      "cell_type": "code",
      "execution_count": null,
      "metadata": {
        "id": "tEeRRa39EE0c"
      },
      "outputs": [],
      "source": [
        "final.drop(['name1'], axis=1, inplace=True)"
      ]
    },
    {
      "cell_type": "code",
      "execution_count": null,
      "metadata": {
        "id": "uOPIx9ZcEE0c",
        "outputId": "ef24c7ed-a8f6-4abb-ed77-0913596f839b"
      },
      "outputs": [
        {
          "data": {
            "text/html": [
              "<div>\n",
              "<style scoped>\n",
              "    .dataframe tbody tr th:only-of-type {\n",
              "        vertical-align: middle;\n",
              "    }\n",
              "\n",
              "    .dataframe tbody tr th {\n",
              "        vertical-align: top;\n",
              "    }\n",
              "\n",
              "    .dataframe thead th {\n",
              "        text-align: right;\n",
              "    }\n",
              "</style>\n",
              "<table border=\"1\" class=\"dataframe\">\n",
              "  <thead>\n",
              "    <tr style=\"text-align: right;\">\n",
              "      <th></th>\n",
              "      <th>elect</th>\n",
              "      <th>born</th>\n",
              "      <th>father</th>\n",
              "      <th>name</th>\n",
              "    </tr>\n",
              "  </thead>\n",
              "  <tbody>\n",
              "    <tr>\n",
              "      <th>0</th>\n",
              "      <td>2008</td>\n",
              "      <td>1961</td>\n",
              "      <td>Barack Obama, Sr.</td>\n",
              "      <td>Barack Obama</td>\n",
              "    </tr>\n",
              "    <tr>\n",
              "      <th>1</th>\n",
              "      <td>2000</td>\n",
              "      <td>1946</td>\n",
              "      <td>George H.W. Bush</td>\n",
              "      <td>George W. Bush</td>\n",
              "    </tr>\n",
              "    <tr>\n",
              "      <th>2</th>\n",
              "      <td>1992</td>\n",
              "      <td>1946</td>\n",
              "      <td>MISSING</td>\n",
              "      <td>Bill Clinton</td>\n",
              "    </tr>\n",
              "    <tr>\n",
              "      <th>3</th>\n",
              "      <td>1988</td>\n",
              "      <td>1924</td>\n",
              "      <td>Prescott Bush</td>\n",
              "      <td>George H.W. Bush</td>\n",
              "    </tr>\n",
              "  </tbody>\n",
              "</table>\n",
              "</div>"
            ],
            "text/plain": [
              "   elect  born             father              name\n",
              "0   2008  1961  Barack Obama, Sr.      Barack Obama\n",
              "1   2000  1946   George H.W. Bush    George W. Bush\n",
              "2   1992  1946            MISSING      Bill Clinton\n",
              "3   1988  1924      Prescott Bush  George H.W. Bush"
            ]
          },
          "execution_count": 39,
          "metadata": {},
          "output_type": "execute_result"
        }
      ],
      "source": [
        "final"
      ]
    },
    {
      "cell_type": "code",
      "execution_count": null,
      "metadata": {
        "id": "qh3zRcM1EE0c",
        "outputId": "f6e4c0b9-4722-49f0-9493-0308c8f12599"
      },
      "outputs": [
        {
          "data": {
            "text/html": [
              "<div>\n",
              "<style scoped>\n",
              "    .dataframe tbody tr th:only-of-type {\n",
              "        vertical-align: middle;\n",
              "    }\n",
              "\n",
              "    .dataframe tbody tr th {\n",
              "        vertical-align: top;\n",
              "    }\n",
              "\n",
              "    .dataframe thead th {\n",
              "        text-align: right;\n",
              "    }\n",
              "</style>\n",
              "<table border=\"1\" class=\"dataframe\">\n",
              "  <thead>\n",
              "    <tr style=\"text-align: right;\">\n",
              "      <th></th>\n",
              "      <th>elect</th>\n",
              "      <th>born</th>\n",
              "      <th>father</th>\n",
              "    </tr>\n",
              "    <tr>\n",
              "      <th>name</th>\n",
              "      <th></th>\n",
              "      <th></th>\n",
              "      <th></th>\n",
              "    </tr>\n",
              "  </thead>\n",
              "  <tbody>\n",
              "    <tr>\n",
              "      <th>Barack Obama</th>\n",
              "      <td>2008</td>\n",
              "      <td>1961</td>\n",
              "      <td>Barack Obama, Sr.</td>\n",
              "    </tr>\n",
              "    <tr>\n",
              "      <th>George W. Bush</th>\n",
              "      <td>2000</td>\n",
              "      <td>1946</td>\n",
              "      <td>George H.W. Bush</td>\n",
              "    </tr>\n",
              "    <tr>\n",
              "      <th>Bill Clinton</th>\n",
              "      <td>1992</td>\n",
              "      <td>1946</td>\n",
              "      <td>MISSING</td>\n",
              "    </tr>\n",
              "    <tr>\n",
              "      <th>George H.W. Bush</th>\n",
              "      <td>1988</td>\n",
              "      <td>1924</td>\n",
              "      <td>Prescott Bush</td>\n",
              "    </tr>\n",
              "  </tbody>\n",
              "</table>\n",
              "</div>"
            ],
            "text/plain": [
              "                  elect  born             father\n",
              "name                                            \n",
              "Barack Obama       2008  1961  Barack Obama, Sr.\n",
              "George W. Bush     2000  1946   George H.W. Bush\n",
              "Bill Clinton       1992  1946            MISSING\n",
              "George H.W. Bush   1988  1924      Prescott Bush"
            ]
          },
          "execution_count": 52,
          "metadata": {},
          "output_type": "execute_result"
        }
      ],
      "source": [
        "final.set_index('name', inplace=True)\n",
        "final"
      ]
    }
  ],
  "metadata": {
    "kernelspec": {
      "display_name": "Python 3 (ipykernel)",
      "language": "python",
      "name": "python3"
    },
    "language_info": {
      "codemirror_mode": {
        "name": "ipython",
        "version": 3
      },
      "file_extension": ".py",
      "mimetype": "text/x-python",
      "name": "python",
      "nbconvert_exporter": "python",
      "pygments_lexer": "ipython3",
      "version": "3.9.12"
    },
    "colab": {
      "provenance": []
    }
  },
  "nbformat": 4,
  "nbformat_minor": 0
}