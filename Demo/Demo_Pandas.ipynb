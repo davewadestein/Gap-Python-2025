{
  "cells": [
    {
      "cell_type": "markdown",
      "metadata": {
        "id": "STwVSoMZ3OKE"
      },
      "source": [
        "# Demo: Pandas"
      ]
    },
    {
      "cell_type": "markdown",
      "metadata": {
        "id": "cYUcGknN3OKF"
      },
      "source": [
        "## Two important datatypes in Pandas\n",
        "* Series (like a vector or array)\n",
        "* Dataframe (like a 2-D array or Excel spreadsheet)"
      ]
    },
    {
      "cell_type": "code",
      "execution_count": null,
      "metadata": {
        "ExecuteTime": {
          "end_time": "2018-03-15T21:01:47.041971Z",
          "start_time": "2018-03-15T21:01:47.035750Z"
        },
        "id": "TNL0BBQK3OKF"
      },
      "outputs": [],
      "source": [
        "import pandas as pd\n",
        "\n",
        "population_dict = {\n",
        "    'California': 38_332_521,\n",
        "         'Texas': 26_448_193,\n",
        "      'New York': 19_651_127,\n",
        "       'Florida': 19_552_860,\n",
        "      'Illinois': 12_882_135\n",
        "}\n",
        "# create a series from a Python dict\n",
        "population = pd.Series(population_dict)\n",
        "population"
      ]
    },
    {
      "cell_type": "code",
      "execution_count": null,
      "metadata": {
        "ExecuteTime": {
          "end_time": "2018-03-15T21:01:47.050486Z",
          "start_time": "2018-03-15T21:01:47.043635Z"
        },
        "id": "AxSmnlwU3OKG"
      },
      "outputs": [],
      "source": [
        "area_dict = {\n",
        "    'California': 423_967,\n",
        "         'Texas': 695_662,\n",
        "      'New York': 141_297,\n",
        "       'Florida': 170_312,\n",
        "      'Illinois': 149_995\n",
        "}\n",
        "area = pd.Series(area_dict)\n",
        "area"
      ]
    },
    {
      "cell_type": "code",
      "execution_count": null,
      "metadata": {
        "ExecuteTime": {
          "end_time": "2018-03-15T21:01:47.059367Z",
          "start_time": "2018-03-15T21:01:47.052325Z"
        },
        "id": "Zra-IoL73OKG"
      },
      "outputs": [],
      "source": [
        "# Create a DataFrame from two dicts–each will\n",
        "# be a column in the new DataFrame.\n",
        "states = pd.DataFrame({'population': population, 'area': area})\n",
        "states\n",
        "# Note that print(states) doesn't look as nice.\n",
        "# That's because just typing 'states' as above invokes\n",
        "# the display() function for DataFrames:\n",
        "# from IPython.display import display\n",
        "#\n",
        "# display(states)"
      ]
    },
    {
      "cell_type": "code",
      "execution_count": null,
      "metadata": {
        "ExecuteTime": {
          "end_time": "2018-03-15T21:01:47.065948Z",
          "start_time": "2018-03-15T21:01:47.061439Z"
        },
        "id": "EAuyrcw23OKG"
      },
      "outputs": [],
      "source": [
        "# DataFrames have an index that we can inspect (or change)\n",
        "states.index"
      ]
    },
    {
      "cell_type": "code",
      "execution_count": null,
      "metadata": {
        "ExecuteTime": {
          "end_time": "2018-03-15T21:01:47.072564Z",
          "start_time": "2018-03-15T21:01:47.067898Z"
        },
        "id": "TJgdJHkk3OKG"
      },
      "outputs": [],
      "source": [
        "# View column names\n",
        "states.columns"
      ]
    },
    {
      "cell_type": "code",
      "execution_count": null,
      "metadata": {
        "ExecuteTime": {
          "end_time": "2018-03-15T21:01:47.079104Z",
          "start_time": "2018-03-15T21:01:47.074451Z"
        },
        "id": "VG3UtDLy3OKG"
      },
      "outputs": [],
      "source": [
        "# View a specific column\n",
        "states['area'] # or states.area"
      ]
    },
    {
      "cell_type": "code",
      "execution_count": null,
      "metadata": {
        "ExecuteTime": {
          "end_time": "2018-03-15T21:01:47.088618Z",
          "start_time": "2018-03-15T21:01:47.080877Z"
        },
        "id": "qOv1g9SL3OKG"
      },
      "outputs": [],
      "source": [
        "# Generate a Boolean series based on a Boolean condition\n",
        "# e.g., Which states have an area > 150,000 sq. miles?\n",
        " # or, Which states have a population > 20,000,000\n",
        "large_area = states['area'] > 150_000\n",
        "large_area"
      ]
    },
    {
      "cell_type": "code",
      "execution_count": null,
      "metadata": {
        "ExecuteTime": {
          "end_time": "2018-03-15T21:01:47.088618Z",
          "start_time": "2018-03-15T21:01:47.080877Z"
        },
        "id": "247WLNLd3OKG"
      },
      "outputs": [],
      "source": [
        "large_pop = states['population'] > 20_000_000\n",
        "# We can use the & operator (bitwise AND) to combine conditions\n",
        "states[large_area & large_pop]"
      ]
    },
    {
      "cell_type": "code",
      "execution_count": null,
      "metadata": {
        "ExecuteTime": {
          "end_time": "2018-03-15T21:01:47.093939Z",
          "start_time": "2018-03-15T21:01:47.090301Z"
        },
        "id": "K9KGx-GS3OKG"
      },
      "outputs": [],
      "source": [
        "# We can see that under the hood, the values in a DataFrame\n",
        "# are represented as a matrix or 2-D array\n",
        "states.values"
      ]
    },
    {
      "cell_type": "code",
      "source": [
        "!wget https://raw.githubusercontent.com/davewadestein/Gap-Python-2025/refs/heads/main/Data/skincancer.csv"
      ],
      "metadata": {
        "id": "f_-C69u33yo1"
      },
      "execution_count": null,
      "outputs": []
    },
    {
      "cell_type": "markdown",
      "metadata": {
        "id": "QDC0jsqV3OKH"
      },
      "source": [
        "## Reading CSV files into __`pandas`__"
      ]
    },
    {
      "cell_type": "code",
      "execution_count": null,
      "metadata": {
        "ExecuteTime": {
          "end_time": "2018-03-15T21:01:47.387768Z",
          "start_time": "2018-03-15T21:01:47.095747Z"
        },
        "id": "dgZnmEb83OKH"
      },
      "outputs": [],
      "source": [
        "# Read data from a CSV file\n",
        "data = pd.read_csv('skincancer.csv')"
      ]
    },
    {
      "cell_type": "code",
      "execution_count": null,
      "metadata": {
        "ExecuteTime": {
          "end_time": "2018-03-15T21:01:47.415274Z",
          "start_time": "2018-03-15T21:01:47.389515Z"
        },
        "id": "HzAimFuB3OKH"
      },
      "outputs": [],
      "source": [
        "# Show the first n rows, default = 5\n",
        "data.head(10)"
      ]
    },
    {
      "cell_type": "code",
      "execution_count": null,
      "metadata": {
        "ExecuteTime": {
          "end_time": "2018-03-15T21:01:47.422111Z",
          "start_time": "2018-03-15T21:01:47.417739Z"
        },
        "id": "-wJF62a-3OKH"
      },
      "outputs": [],
      "source": [
        "# Show the \"shape\" of the data, i.e., rows x columns\n",
        "data.shape"
      ]
    },
    {
      "cell_type": "markdown",
      "metadata": {
        "id": "2a_md89P3OKH"
      },
      "source": [
        "## Don't treat first line as header"
      ]
    },
    {
      "cell_type": "code",
      "execution_count": null,
      "metadata": {
        "ExecuteTime": {
          "end_time": "2018-03-15T21:01:47.720442Z",
          "start_time": "2018-03-15T21:01:47.424089Z"
        },
        "id": "C3wZbsU33OKH"
      },
      "outputs": [],
      "source": [
        "data = pd.read_csv('skincancer.csv', header=None)"
      ]
    },
    {
      "cell_type": "code",
      "execution_count": null,
      "metadata": {
        "ExecuteTime": {
          "end_time": "2018-03-15T21:01:47.741498Z",
          "start_time": "2018-03-15T21:01:47.722237Z"
        },
        "id": "u6vo3pIg3OKH"
      },
      "outputs": [],
      "source": [
        "data.head()"
      ]
    },
    {
      "cell_type": "code",
      "execution_count": null,
      "metadata": {
        "ExecuteTime": {
          "end_time": "2018-03-15T21:01:47.747132Z",
          "start_time": "2018-03-15T21:01:47.743007Z"
        },
        "id": "MfwoxgpA3OKH"
      },
      "outputs": [],
      "source": [
        "data.shape"
      ]
    },
    {
      "cell_type": "markdown",
      "metadata": {
        "id": "9-LZ0_QZ3OKH"
      },
      "source": [
        "## Specify our own headers/column names"
      ]
    },
    {
      "cell_type": "code",
      "execution_count": null,
      "metadata": {
        "ExecuteTime": {
          "end_time": "2018-03-15T21:01:47.752833Z",
          "start_time": "2018-03-15T21:01:47.748568Z"
        },
        "id": "bMvoovKk3OKH"
      },
      "outputs": [],
      "source": [
        "# We saw earlier that we can view the column names.\n",
        "# We can also change them!\n",
        "data.columns = 'State Latitude Mortality Ocean Longitude'.split()"
      ]
    },
    {
      "cell_type": "code",
      "execution_count": null,
      "metadata": {
        "ExecuteTime": {
          "end_time": "2018-03-15T21:01:47.774048Z",
          "start_time": "2018-03-15T21:01:47.754514Z"
        },
        "id": "tlD5OZd53OKH"
      },
      "outputs": [],
      "source": [
        "data.head()"
      ]
    },
    {
      "cell_type": "markdown",
      "metadata": {
        "id": "wsN_PLnL3OKH"
      },
      "source": [
        "## What if data are missing?"
      ]
    },
    {
      "cell_type": "code",
      "source": [
        "!wget https://raw.githubusercontent.com/davewadestein/Gap-Python-2025/refs/heads/main/Data/titanic.csv"
      ],
      "metadata": {
        "id": "JkGZ8Zgc6Y97"
      },
      "execution_count": null,
      "outputs": []
    }
  ],
  "metadata": {
    "kernelspec": {
      "display_name": "Python 3 (ipykernel)",
      "language": "python",
      "name": "python3"
    },
    "language_info": {
      "codemirror_mode": {
        "name": "ipython",
        "version": 3
      },
      "file_extension": ".py",
      "mimetype": "text/x-python",
      "name": "python",
      "nbconvert_exporter": "python",
      "pygments_lexer": "ipython3",
      "version": "3.9.12"
    },
    "colab": {
      "provenance": []
    }
  },
  "nbformat": 4,
  "nbformat_minor": 0
}