{
  "cells": [
    {
      "cell_type": "markdown",
      "metadata": {
        "id": "STwVSoMZ3OKE"
      },
      "source": [
        "# Demo: Pandas"
      ]
    },
    {
      "cell_type": "markdown",
      "metadata": {
        "id": "cYUcGknN3OKF"
      },
      "source": [
        "## Two important datatypes in Pandas\n",
        "* Series (like a vector or array)\n",
        "* Dataframe (like a 2-D array or Excel spreadsheet)"
      ]
    },
    {
      "cell_type": "code",
      "execution_count": 2,
      "metadata": {
        "ExecuteTime": {
          "end_time": "2018-03-15T21:01:47.041971Z",
          "start_time": "2018-03-15T21:01:47.035750Z"
        },
        "id": "TNL0BBQK3OKF",
        "outputId": "cb3787be-bcd0-466c-e70d-3a350bb1c6ba",
        "colab": {
          "base_uri": "https://localhost:8080/",
          "height": 241
        }
      },
      "outputs": [
        {
          "output_type": "execute_result",
          "data": {
            "text/plain": [
              "California    38332521\n",
              "Texas         26448193\n",
              "New York      19651127\n",
              "Florida       19552860\n",
              "Illinois      12882135\n",
              "dtype: int64"
            ],
            "text/html": [
              "<div>\n",
              "<style scoped>\n",
              "    .dataframe tbody tr th:only-of-type {\n",
              "        vertical-align: middle;\n",
              "    }\n",
              "\n",
              "    .dataframe tbody tr th {\n",
              "        vertical-align: top;\n",
              "    }\n",
              "\n",
              "    .dataframe thead th {\n",
              "        text-align: right;\n",
              "    }\n",
              "</style>\n",
              "<table border=\"1\" class=\"dataframe\">\n",
              "  <thead>\n",
              "    <tr style=\"text-align: right;\">\n",
              "      <th></th>\n",
              "      <th>0</th>\n",
              "    </tr>\n",
              "  </thead>\n",
              "  <tbody>\n",
              "    <tr>\n",
              "      <th>California</th>\n",
              "      <td>38332521</td>\n",
              "    </tr>\n",
              "    <tr>\n",
              "      <th>Texas</th>\n",
              "      <td>26448193</td>\n",
              "    </tr>\n",
              "    <tr>\n",
              "      <th>New York</th>\n",
              "      <td>19651127</td>\n",
              "    </tr>\n",
              "    <tr>\n",
              "      <th>Florida</th>\n",
              "      <td>19552860</td>\n",
              "    </tr>\n",
              "    <tr>\n",
              "      <th>Illinois</th>\n",
              "      <td>12882135</td>\n",
              "    </tr>\n",
              "  </tbody>\n",
              "</table>\n",
              "</div><br><label><b>dtype:</b> int64</label>"
            ]
          },
          "metadata": {},
          "execution_count": 2
        }
      ],
      "source": [
        "import pandas as pd\n",
        "\n",
        "population_dict = {\n",
        "    'California': 38_332_521,\n",
        "         'Texas': 26_448_193,\n",
        "      'New York': 19_651_127,\n",
        "       'Florida': 19_552_860,\n",
        "      'Illinois': 12_882_135\n",
        "}\n",
        "# create a series from a Python dict\n",
        "population = pd.Series(population_dict)\n",
        "population"
      ]
    },
    {
      "cell_type": "code",
      "execution_count": null,
      "metadata": {
        "ExecuteTime": {
          "end_time": "2018-03-15T21:01:47.050486Z",
          "start_time": "2018-03-15T21:01:47.043635Z"
        },
        "id": "AxSmnlwU3OKG"
      },
      "outputs": [],
      "source": [
        "area_dict = {\n",
        "    'California': 423_967,\n",
        "         'Texas': 695_662,\n",
        "      'New York': 141_297,\n",
        "       'Florida': 170_312,\n",
        "      'Illinois': 149_995\n",
        "}\n",
        "area = pd.Series(area_dict)\n",
        "area"
      ]
    },
    {
      "cell_type": "code",
      "execution_count": null,
      "metadata": {
        "ExecuteTime": {
          "end_time": "2018-03-15T21:01:47.059367Z",
          "start_time": "2018-03-15T21:01:47.052325Z"
        },
        "id": "Zra-IoL73OKG"
      },
      "outputs": [],
      "source": [
        "# Create a DataFrame from two dicts–each will\n",
        "# be a column in the new DataFrame.\n",
        "states = pd.DataFrame({'population': population, 'area': area})\n",
        "states\n",
        "# Note that print(states) doesn't look as nice.\n",
        "# That's because just typing 'states' as above invokes\n",
        "# the display() function for DataFrames:\n",
        "# from IPython.display import display\n",
        "#\n",
        "# display(states)"
      ]
    },
    {
      "cell_type": "code",
      "execution_count": null,
      "metadata": {
        "ExecuteTime": {
          "end_time": "2018-03-15T21:01:47.065948Z",
          "start_time": "2018-03-15T21:01:47.061439Z"
        },
        "id": "EAuyrcw23OKG"
      },
      "outputs": [],
      "source": [
        "# DataFrames have an index that we can inspect (or change)\n",
        "states.index"
      ]
    },
    {
      "cell_type": "code",
      "execution_count": null,
      "metadata": {
        "ExecuteTime": {
          "end_time": "2018-03-15T21:01:47.072564Z",
          "start_time": "2018-03-15T21:01:47.067898Z"
        },
        "id": "TJgdJHkk3OKG"
      },
      "outputs": [],
      "source": [
        "# View column names\n",
        "states.columns"
      ]
    },
    {
      "cell_type": "code",
      "execution_count": null,
      "metadata": {
        "ExecuteTime": {
          "end_time": "2018-03-15T21:01:47.079104Z",
          "start_time": "2018-03-15T21:01:47.074451Z"
        },
        "id": "VG3UtDLy3OKG"
      },
      "outputs": [],
      "source": [
        "# View a specific column\n",
        "states['area'] # or states.area"
      ]
    },
    {
      "cell_type": "code",
      "execution_count": null,
      "metadata": {
        "ExecuteTime": {
          "end_time": "2018-03-15T21:01:47.088618Z",
          "start_time": "2018-03-15T21:01:47.080877Z"
        },
        "id": "qOv1g9SL3OKG"
      },
      "outputs": [],
      "source": [
        "# Generate a Boolean series based on a Boolean condition\n",
        "# e.g., Which states have an area > 150,000 sq. miles?\n",
        " # or, Which states have a population > 20,000,000\n",
        "large_area = states['area'] > 150_000\n",
        "large_area"
      ]
    },
    {
      "cell_type": "code",
      "execution_count": null,
      "metadata": {
        "ExecuteTime": {
          "end_time": "2018-03-15T21:01:47.088618Z",
          "start_time": "2018-03-15T21:01:47.080877Z"
        },
        "id": "247WLNLd3OKG"
      },
      "outputs": [],
      "source": [
        "large_pop = states['population'] > 20_000_000\n",
        "# We can use the & operator (bitwise AND) to combine conditions\n",
        "states[large_area & large_pop]"
      ]
    },
    {
      "cell_type": "code",
      "execution_count": null,
      "metadata": {
        "ExecuteTime": {
          "end_time": "2018-03-15T21:01:47.093939Z",
          "start_time": "2018-03-15T21:01:47.090301Z"
        },
        "id": "K9KGx-GS3OKG"
      },
      "outputs": [],
      "source": [
        "# We can see that under the hood, the values in a DataFrame\n",
        "# are represented as a matrix or 2-D array\n",
        "states.values"
      ]
    },
    {
      "cell_type": "code",
      "source": [
        "!wget https://raw.githubusercontent.com/davewadestein/Gap-Python-2025/refs/heads/main/Data/skincancer.csv"
      ],
      "metadata": {
        "id": "f_-C69u33yo1"
      },
      "execution_count": null,
      "outputs": []
    },
    {
      "cell_type": "markdown",
      "metadata": {
        "id": "QDC0jsqV3OKH"
      },
      "source": [
        "## Reading CSV files into __`pandas`__"
      ]
    },
    {
      "cell_type": "code",
      "execution_count": 3,
      "metadata": {
        "ExecuteTime": {
          "end_time": "2018-03-15T21:01:47.387768Z",
          "start_time": "2018-03-15T21:01:47.095747Z"
        },
        "id": "dgZnmEb83OKH"
      },
      "outputs": [],
      "source": [
        "# Read data from a CSV file\n",
        "data = pd.read_csv('https://raw.githubusercontent.com/davewadestein/Gap-Python-2025/refs/heads/main/Data/skincancer.csv')"
      ]
    },
    {
      "cell_type": "code",
      "execution_count": 4,
      "metadata": {
        "ExecuteTime": {
          "end_time": "2018-03-15T21:01:47.415274Z",
          "start_time": "2018-03-15T21:01:47.389515Z"
        },
        "id": "HzAimFuB3OKH",
        "outputId": "d771219d-b6ca-4d09-b0c2-6e565a867b73",
        "colab": {
          "base_uri": "https://localhost:8080/",
          "height": 363
        }
      },
      "outputs": [
        {
          "output_type": "execute_result",
          "data": {
            "text/plain": [
              "         State   Lat  Mort  Ocean   Long\n",
              "0      Alabama  33.0   219      1   87.0\n",
              "1      Arizona  34.5   160      0  112.0\n",
              "2     Arkansas  35.0   170      0   92.5\n",
              "3   California  37.5   182      1  119.5\n",
              "4     Colorado  39.0   149      0  105.5\n",
              "5  Connecticut  41.8   159      1   72.8\n",
              "6     Delaware  39.0   200      1   75.5\n",
              "7   Wash, D.C.  39.0   177      0   77.0\n",
              "8      Florida  28.0   197      1   82.0\n",
              "9      Georgia  33.0   214      1   83.5"
            ],
            "text/html": [
              "\n",
              "  <div id=\"df-d13c5a29-d94b-4003-98b4-921e2766bade\" class=\"colab-df-container\">\n",
              "    <div>\n",
              "<style scoped>\n",
              "    .dataframe tbody tr th:only-of-type {\n",
              "        vertical-align: middle;\n",
              "    }\n",
              "\n",
              "    .dataframe tbody tr th {\n",
              "        vertical-align: top;\n",
              "    }\n",
              "\n",
              "    .dataframe thead th {\n",
              "        text-align: right;\n",
              "    }\n",
              "</style>\n",
              "<table border=\"1\" class=\"dataframe\">\n",
              "  <thead>\n",
              "    <tr style=\"text-align: right;\">\n",
              "      <th></th>\n",
              "      <th>State</th>\n",
              "      <th>Lat</th>\n",
              "      <th>Mort</th>\n",
              "      <th>Ocean</th>\n",
              "      <th>Long</th>\n",
              "    </tr>\n",
              "  </thead>\n",
              "  <tbody>\n",
              "    <tr>\n",
              "      <th>0</th>\n",
              "      <td>Alabama</td>\n",
              "      <td>33.0</td>\n",
              "      <td>219</td>\n",
              "      <td>1</td>\n",
              "      <td>87.0</td>\n",
              "    </tr>\n",
              "    <tr>\n",
              "      <th>1</th>\n",
              "      <td>Arizona</td>\n",
              "      <td>34.5</td>\n",
              "      <td>160</td>\n",
              "      <td>0</td>\n",
              "      <td>112.0</td>\n",
              "    </tr>\n",
              "    <tr>\n",
              "      <th>2</th>\n",
              "      <td>Arkansas</td>\n",
              "      <td>35.0</td>\n",
              "      <td>170</td>\n",
              "      <td>0</td>\n",
              "      <td>92.5</td>\n",
              "    </tr>\n",
              "    <tr>\n",
              "      <th>3</th>\n",
              "      <td>California</td>\n",
              "      <td>37.5</td>\n",
              "      <td>182</td>\n",
              "      <td>1</td>\n",
              "      <td>119.5</td>\n",
              "    </tr>\n",
              "    <tr>\n",
              "      <th>4</th>\n",
              "      <td>Colorado</td>\n",
              "      <td>39.0</td>\n",
              "      <td>149</td>\n",
              "      <td>0</td>\n",
              "      <td>105.5</td>\n",
              "    </tr>\n",
              "    <tr>\n",
              "      <th>5</th>\n",
              "      <td>Connecticut</td>\n",
              "      <td>41.8</td>\n",
              "      <td>159</td>\n",
              "      <td>1</td>\n",
              "      <td>72.8</td>\n",
              "    </tr>\n",
              "    <tr>\n",
              "      <th>6</th>\n",
              "      <td>Delaware</td>\n",
              "      <td>39.0</td>\n",
              "      <td>200</td>\n",
              "      <td>1</td>\n",
              "      <td>75.5</td>\n",
              "    </tr>\n",
              "    <tr>\n",
              "      <th>7</th>\n",
              "      <td>Wash, D.C.</td>\n",
              "      <td>39.0</td>\n",
              "      <td>177</td>\n",
              "      <td>0</td>\n",
              "      <td>77.0</td>\n",
              "    </tr>\n",
              "    <tr>\n",
              "      <th>8</th>\n",
              "      <td>Florida</td>\n",
              "      <td>28.0</td>\n",
              "      <td>197</td>\n",
              "      <td>1</td>\n",
              "      <td>82.0</td>\n",
              "    </tr>\n",
              "    <tr>\n",
              "      <th>9</th>\n",
              "      <td>Georgia</td>\n",
              "      <td>33.0</td>\n",
              "      <td>214</td>\n",
              "      <td>1</td>\n",
              "      <td>83.5</td>\n",
              "    </tr>\n",
              "  </tbody>\n",
              "</table>\n",
              "</div>\n",
              "    <div class=\"colab-df-buttons\">\n",
              "\n",
              "  <div class=\"colab-df-container\">\n",
              "    <button class=\"colab-df-convert\" onclick=\"convertToInteractive('df-d13c5a29-d94b-4003-98b4-921e2766bade')\"\n",
              "            title=\"Convert this dataframe to an interactive table.\"\n",
              "            style=\"display:none;\">\n",
              "\n",
              "  <svg xmlns=\"http://www.w3.org/2000/svg\" height=\"24px\" viewBox=\"0 -960 960 960\">\n",
              "    <path d=\"M120-120v-720h720v720H120Zm60-500h600v-160H180v160Zm220 220h160v-160H400v160Zm0 220h160v-160H400v160ZM180-400h160v-160H180v160Zm440 0h160v-160H620v160ZM180-180h160v-160H180v160Zm440 0h160v-160H620v160Z\"/>\n",
              "  </svg>\n",
              "    </button>\n",
              "\n",
              "  <style>\n",
              "    .colab-df-container {\n",
              "      display:flex;\n",
              "      gap: 12px;\n",
              "    }\n",
              "\n",
              "    .colab-df-convert {\n",
              "      background-color: #E8F0FE;\n",
              "      border: none;\n",
              "      border-radius: 50%;\n",
              "      cursor: pointer;\n",
              "      display: none;\n",
              "      fill: #1967D2;\n",
              "      height: 32px;\n",
              "      padding: 0 0 0 0;\n",
              "      width: 32px;\n",
              "    }\n",
              "\n",
              "    .colab-df-convert:hover {\n",
              "      background-color: #E2EBFA;\n",
              "      box-shadow: 0px 1px 2px rgba(60, 64, 67, 0.3), 0px 1px 3px 1px rgba(60, 64, 67, 0.15);\n",
              "      fill: #174EA6;\n",
              "    }\n",
              "\n",
              "    .colab-df-buttons div {\n",
              "      margin-bottom: 4px;\n",
              "    }\n",
              "\n",
              "    [theme=dark] .colab-df-convert {\n",
              "      background-color: #3B4455;\n",
              "      fill: #D2E3FC;\n",
              "    }\n",
              "\n",
              "    [theme=dark] .colab-df-convert:hover {\n",
              "      background-color: #434B5C;\n",
              "      box-shadow: 0px 1px 3px 1px rgba(0, 0, 0, 0.15);\n",
              "      filter: drop-shadow(0px 1px 2px rgba(0, 0, 0, 0.3));\n",
              "      fill: #FFFFFF;\n",
              "    }\n",
              "  </style>\n",
              "\n",
              "    <script>\n",
              "      const buttonEl =\n",
              "        document.querySelector('#df-d13c5a29-d94b-4003-98b4-921e2766bade button.colab-df-convert');\n",
              "      buttonEl.style.display =\n",
              "        google.colab.kernel.accessAllowed ? 'block' : 'none';\n",
              "\n",
              "      async function convertToInteractive(key) {\n",
              "        const element = document.querySelector('#df-d13c5a29-d94b-4003-98b4-921e2766bade');\n",
              "        const dataTable =\n",
              "          await google.colab.kernel.invokeFunction('convertToInteractive',\n",
              "                                                    [key], {});\n",
              "        if (!dataTable) return;\n",
              "\n",
              "        const docLinkHtml = 'Like what you see? Visit the ' +\n",
              "          '<a target=\"_blank\" href=https://colab.research.google.com/notebooks/data_table.ipynb>data table notebook</a>'\n",
              "          + ' to learn more about interactive tables.';\n",
              "        element.innerHTML = '';\n",
              "        dataTable['output_type'] = 'display_data';\n",
              "        await google.colab.output.renderOutput(dataTable, element);\n",
              "        const docLink = document.createElement('div');\n",
              "        docLink.innerHTML = docLinkHtml;\n",
              "        element.appendChild(docLink);\n",
              "      }\n",
              "    </script>\n",
              "  </div>\n",
              "\n",
              "\n",
              "<div id=\"df-03a3cb74-ec3a-46c3-9510-e0d915414bf9\">\n",
              "  <button class=\"colab-df-quickchart\" onclick=\"quickchart('df-03a3cb74-ec3a-46c3-9510-e0d915414bf9')\"\n",
              "            title=\"Suggest charts\"\n",
              "            style=\"display:none;\">\n",
              "\n",
              "<svg xmlns=\"http://www.w3.org/2000/svg\" height=\"24px\"viewBox=\"0 0 24 24\"\n",
              "     width=\"24px\">\n",
              "    <g>\n",
              "        <path d=\"M19 3H5c-1.1 0-2 .9-2 2v14c0 1.1.9 2 2 2h14c1.1 0 2-.9 2-2V5c0-1.1-.9-2-2-2zM9 17H7v-7h2v7zm4 0h-2V7h2v10zm4 0h-2v-4h2v4z\"/>\n",
              "    </g>\n",
              "</svg>\n",
              "  </button>\n",
              "\n",
              "<style>\n",
              "  .colab-df-quickchart {\n",
              "      --bg-color: #E8F0FE;\n",
              "      --fill-color: #1967D2;\n",
              "      --hover-bg-color: #E2EBFA;\n",
              "      --hover-fill-color: #174EA6;\n",
              "      --disabled-fill-color: #AAA;\n",
              "      --disabled-bg-color: #DDD;\n",
              "  }\n",
              "\n",
              "  [theme=dark] .colab-df-quickchart {\n",
              "      --bg-color: #3B4455;\n",
              "      --fill-color: #D2E3FC;\n",
              "      --hover-bg-color: #434B5C;\n",
              "      --hover-fill-color: #FFFFFF;\n",
              "      --disabled-bg-color: #3B4455;\n",
              "      --disabled-fill-color: #666;\n",
              "  }\n",
              "\n",
              "  .colab-df-quickchart {\n",
              "    background-color: var(--bg-color);\n",
              "    border: none;\n",
              "    border-radius: 50%;\n",
              "    cursor: pointer;\n",
              "    display: none;\n",
              "    fill: var(--fill-color);\n",
              "    height: 32px;\n",
              "    padding: 0;\n",
              "    width: 32px;\n",
              "  }\n",
              "\n",
              "  .colab-df-quickchart:hover {\n",
              "    background-color: var(--hover-bg-color);\n",
              "    box-shadow: 0 1px 2px rgba(60, 64, 67, 0.3), 0 1px 3px 1px rgba(60, 64, 67, 0.15);\n",
              "    fill: var(--button-hover-fill-color);\n",
              "  }\n",
              "\n",
              "  .colab-df-quickchart-complete:disabled,\n",
              "  .colab-df-quickchart-complete:disabled:hover {\n",
              "    background-color: var(--disabled-bg-color);\n",
              "    fill: var(--disabled-fill-color);\n",
              "    box-shadow: none;\n",
              "  }\n",
              "\n",
              "  .colab-df-spinner {\n",
              "    border: 2px solid var(--fill-color);\n",
              "    border-color: transparent;\n",
              "    border-bottom-color: var(--fill-color);\n",
              "    animation:\n",
              "      spin 1s steps(1) infinite;\n",
              "  }\n",
              "\n",
              "  @keyframes spin {\n",
              "    0% {\n",
              "      border-color: transparent;\n",
              "      border-bottom-color: var(--fill-color);\n",
              "      border-left-color: var(--fill-color);\n",
              "    }\n",
              "    20% {\n",
              "      border-color: transparent;\n",
              "      border-left-color: var(--fill-color);\n",
              "      border-top-color: var(--fill-color);\n",
              "    }\n",
              "    30% {\n",
              "      border-color: transparent;\n",
              "      border-left-color: var(--fill-color);\n",
              "      border-top-color: var(--fill-color);\n",
              "      border-right-color: var(--fill-color);\n",
              "    }\n",
              "    40% {\n",
              "      border-color: transparent;\n",
              "      border-right-color: var(--fill-color);\n",
              "      border-top-color: var(--fill-color);\n",
              "    }\n",
              "    60% {\n",
              "      border-color: transparent;\n",
              "      border-right-color: var(--fill-color);\n",
              "    }\n",
              "    80% {\n",
              "      border-color: transparent;\n",
              "      border-right-color: var(--fill-color);\n",
              "      border-bottom-color: var(--fill-color);\n",
              "    }\n",
              "    90% {\n",
              "      border-color: transparent;\n",
              "      border-bottom-color: var(--fill-color);\n",
              "    }\n",
              "  }\n",
              "</style>\n",
              "\n",
              "  <script>\n",
              "    async function quickchart(key) {\n",
              "      const quickchartButtonEl =\n",
              "        document.querySelector('#' + key + ' button');\n",
              "      quickchartButtonEl.disabled = true;  // To prevent multiple clicks.\n",
              "      quickchartButtonEl.classList.add('colab-df-spinner');\n",
              "      try {\n",
              "        const charts = await google.colab.kernel.invokeFunction(\n",
              "            'suggestCharts', [key], {});\n",
              "      } catch (error) {\n",
              "        console.error('Error during call to suggestCharts:', error);\n",
              "      }\n",
              "      quickchartButtonEl.classList.remove('colab-df-spinner');\n",
              "      quickchartButtonEl.classList.add('colab-df-quickchart-complete');\n",
              "    }\n",
              "    (() => {\n",
              "      let quickchartButtonEl =\n",
              "        document.querySelector('#df-03a3cb74-ec3a-46c3-9510-e0d915414bf9 button');\n",
              "      quickchartButtonEl.style.display =\n",
              "        google.colab.kernel.accessAllowed ? 'block' : 'none';\n",
              "    })();\n",
              "  </script>\n",
              "</div>\n",
              "\n",
              "    </div>\n",
              "  </div>\n"
            ],
            "application/vnd.google.colaboratory.intrinsic+json": {
              "type": "dataframe",
              "variable_name": "data",
              "summary": "{\n  \"name\": \"data\",\n  \"rows\": 49,\n  \"fields\": [\n    {\n      \"column\": \"State\",\n      \"properties\": {\n        \"dtype\": \"string\",\n        \"num_unique_values\": 49,\n        \"samples\": [\n          \"Iowa\",\n          \"Washington\",\n          \"Wisconsin\"\n        ],\n        \"semantic_type\": \"\",\n        \"description\": \"\"\n      }\n    },\n    {\n      \"column\": \"Lat\",\n      \"properties\": {\n        \"dtype\": \"number\",\n        \"std\": 4.610874273348369,\n        \"min\": 28.0,\n        \"max\": 47.5,\n        \"num_unique_values\": 32,\n        \"samples\": [\n          31.5,\n          43.5,\n          44.0\n        ],\n        \"semantic_type\": \"\",\n        \"description\": \"\"\n      }\n    },\n    {\n      \"column\": \"Mort\",\n      \"properties\": {\n        \"dtype\": \"number\",\n        \"std\": 33,\n        \"min\": 86,\n        \"max\": 229,\n        \"num_unique_values\": 40,\n        \"samples\": [\n          207,\n          117,\n          190\n        ],\n        \"semantic_type\": \"\",\n        \"description\": \"\"\n      }\n    },\n    {\n      \"column\": \"Ocean\",\n      \"properties\": {\n        \"dtype\": \"number\",\n        \"std\": 0,\n        \"min\": 0,\n        \"max\": 1,\n        \"num_unique_values\": 2,\n        \"samples\": [\n          0,\n          1\n        ],\n        \"semantic_type\": \"\",\n        \"description\": \"\"\n      }\n    },\n    {\n      \"column\": \"Long\",\n      \"properties\": {\n        \"dtype\": \"number\",\n        \"std\": 14.866484871985696,\n        \"min\": 69.0,\n        \"max\": 121.0,\n        \"num_unique_values\": 46,\n        \"samples\": [\n          111.5,\n          99.5\n        ],\n        \"semantic_type\": \"\",\n        \"description\": \"\"\n      }\n    }\n  ]\n}"
            }
          },
          "metadata": {},
          "execution_count": 4
        }
      ],
      "source": [
        "# Show the first n rows, default = 5\n",
        "data.head(10)"
      ]
    },
    {
      "cell_type": "code",
      "execution_count": null,
      "metadata": {
        "ExecuteTime": {
          "end_time": "2018-03-15T21:01:47.422111Z",
          "start_time": "2018-03-15T21:01:47.417739Z"
        },
        "id": "-wJF62a-3OKH"
      },
      "outputs": [],
      "source": [
        "# Show the \"shape\" of the data, i.e., rows x columns\n",
        "data.shape"
      ]
    },
    {
      "cell_type": "markdown",
      "metadata": {
        "id": "2a_md89P3OKH"
      },
      "source": [
        "## Don't treat first line as header"
      ]
    },
    {
      "cell_type": "code",
      "execution_count": null,
      "metadata": {
        "ExecuteTime": {
          "end_time": "2018-03-15T21:01:47.720442Z",
          "start_time": "2018-03-15T21:01:47.424089Z"
        },
        "id": "C3wZbsU33OKH"
      },
      "outputs": [],
      "source": [
        "data = pd.read_csv('skincancer.csv', header=None)"
      ]
    },
    {
      "cell_type": "code",
      "execution_count": null,
      "metadata": {
        "ExecuteTime": {
          "end_time": "2018-03-15T21:01:47.741498Z",
          "start_time": "2018-03-15T21:01:47.722237Z"
        },
        "id": "u6vo3pIg3OKH"
      },
      "outputs": [],
      "source": [
        "data.head()"
      ]
    },
    {
      "cell_type": "code",
      "execution_count": null,
      "metadata": {
        "ExecuteTime": {
          "end_time": "2018-03-15T21:01:47.747132Z",
          "start_time": "2018-03-15T21:01:47.743007Z"
        },
        "id": "MfwoxgpA3OKH"
      },
      "outputs": [],
      "source": [
        "data.shape"
      ]
    },
    {
      "cell_type": "markdown",
      "metadata": {
        "id": "9-LZ0_QZ3OKH"
      },
      "source": [
        "## Specify our own headers/column names"
      ]
    },
    {
      "cell_type": "code",
      "execution_count": null,
      "metadata": {
        "ExecuteTime": {
          "end_time": "2018-03-15T21:01:47.752833Z",
          "start_time": "2018-03-15T21:01:47.748568Z"
        },
        "id": "bMvoovKk3OKH"
      },
      "outputs": [],
      "source": [
        "# We saw earlier that we can view the column names.\n",
        "# We can also change them!\n",
        "data.columns = 'State Latitude Mortality Ocean Longitude'.split()"
      ]
    },
    {
      "cell_type": "code",
      "execution_count": null,
      "metadata": {
        "ExecuteTime": {
          "end_time": "2018-03-15T21:01:47.774048Z",
          "start_time": "2018-03-15T21:01:47.754514Z"
        },
        "id": "tlD5OZd53OKH"
      },
      "outputs": [],
      "source": [
        "data.head()"
      ]
    },
    {
      "cell_type": "markdown",
      "metadata": {
        "id": "wsN_PLnL3OKH"
      },
      "source": [
        "## What if data are missing?"
      ]
    },
    {
      "cell_type": "code",
      "source": [
        "!wget https://raw.githubusercontent.com/davewadestein/Gap-Python-2025/refs/heads/main/Data/titanic.csv"
      ],
      "metadata": {
        "id": "JkGZ8Zgc6Y97"
      },
      "execution_count": null,
      "outputs": []
    }
  ],
  "metadata": {
    "kernelspec": {
      "display_name": "Python 3 (ipykernel)",
      "language": "python",
      "name": "python3"
    },
    "language_info": {
      "codemirror_mode": {
        "name": "ipython",
        "version": 3
      },
      "file_extension": ".py",
      "mimetype": "text/x-python",
      "name": "python",
      "nbconvert_exporter": "python",
      "pygments_lexer": "ipython3",
      "version": "3.9.12"
    },
    "colab": {
      "provenance": []
    }
  },
  "nbformat": 4,
  "nbformat_minor": 0
}