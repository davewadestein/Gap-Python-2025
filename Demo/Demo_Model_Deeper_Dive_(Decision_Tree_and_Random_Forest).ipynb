{
  "cells": [
    {
      "cell_type": "markdown",
      "metadata": {
        "id": "bGu1OYhE12qX"
      },
      "source": [
        "# Deeper Dive: Decision Trees and Random Forests"
      ]
    },
    {
      "cell_type": "code",
      "execution_count": null,
      "metadata": {
        "id": "BXXRKiKs12qY"
      },
      "outputs": [],
      "source": [
        "# Modified from the example written by yhat that can be found here:\n",
        "# http://blog.yhathq.com/posts/random-forests-in-python.html\n",
        "\n",
        "%matplotlib inline\n",
        "from sklearn.ensemble import RandomForestClassifier\n",
        "from sklearn.tree import DecisionTreeClassifier\n",
        "from sklearn.datasets import load_iris\n",
        "\n",
        "import numpy as np\n",
        "import pandas as pd\n",
        "import matplotlib.pyplot as plt\n",
        "\n",
        "iris = load_iris()\n",
        "df = pd.DataFrame(iris.data, columns=iris.feature_names)\n",
        "np.random.RandomState(1)\n",
        "df.head()"
      ]
    },
    {
      "cell_type": "code",
      "execution_count": null,
      "metadata": {
        "id": "S73dphJ812qZ"
      },
      "outputs": [],
      "source": [
        "# Pick 75% of the data as training data.\n",
        "# The is_train column will contain True or False depening on\n",
        "# whether item is in the training set or the test set\n",
        "df['is_train'] = np.random.uniform(0, 1, len(df)) <= .75\n",
        "\n",
        "# Map targets (0, 1, 2) to species names, so species column\n",
        "# indicates the species of iris, rather than just 0-2\n",
        "df['species'] = pd.Categorical.from_codes(iris.target, iris.target_names)\n",
        "df.head()"
      ]
    },
    {
      "cell_type": "code",
      "execution_count": null,
      "metadata": {
        "id": "o5h8wULM12qZ"
      },
      "outputs": [],
      "source": [
        "train, test = df[df['is_train'] == True], df[df['is_train'] == False]\n",
        "features = df.columns[:4]\n",
        "test.head()"
      ]
    },
    {
      "cell_type": "code",
      "execution_count": null,
      "metadata": {
        "id": "ToWVFbQQ12qZ"
      },
      "outputs": [],
      "source": [
        "# y has to be numeric targets, so convert species column to numbers\n",
        "# _ is a valid variable in Python, but is typically used to indicate\n",
        "# that we don't care about the value being placed into it. That is,\n",
        "# factorize() returns two things, and we only care about the first.\n",
        "y, _ = pd.factorize(train['species'])\n",
        "y"
      ]
    },
    {
      "cell_type": "code",
      "execution_count": null,
      "metadata": {
        "id": "x3L7FF8s12qZ"
      },
      "outputs": [],
      "source": [
        "tree = DecisionTreeClassifier(max_depth=2)\n",
        "tree.fit(train[features], y)\n",
        "\n",
        "preds = iris.target_names[tree.predict(test[features])]\n",
        "pd.crosstab(index=test['species'], columns=preds, rownames=['actual'], colnames=['preds'])"
      ]
    },
    {
      "cell_type": "code",
      "execution_count": null,
      "metadata": {
        "id": "-BXGYsqk12qZ"
      },
      "outputs": [],
      "source": [
        "from sklearn.tree import export_graphviz\n",
        "export_graphviz(tree, out_file=\"iris_tree.dot\",\n",
        "               feature_names=iris.feature_names,\n",
        "               class_names=iris.target_names,\n",
        "               rounded=True,\n",
        "               filled=True)"
      ]
    },
    {
      "cell_type": "code",
      "execution_count": null,
      "metadata": {
        "id": "AJiJ9F4q12qZ"
      },
      "outputs": [],
      "source": [
        "!dot -Tpng iris_tree.dot -o iris_tree.png\n",
        "# If this does not run on Windows,\n",
        "# Open the Anaconda Prompt appliation, then\n",
        "# conda install -c anaconda graphviz"
      ]
    },
    {
      "cell_type": "code",
      "execution_count": null,
      "metadata": {
        "id": "FxTX8AOb12qa"
      },
      "outputs": [],
      "source": [
        "from IPython.display import Image\n",
        "Image('iris_tree.png')"
      ]
    },
    {
      "cell_type": "markdown",
      "metadata": {
        "id": "O57WuPUa12qa"
      },
      "source": [
        "## Now le'ts try a random forest..."
      ]
    },
    {
      "cell_type": "code",
      "execution_count": null,
      "metadata": {
        "id": "XsIrtkB712qa"
      },
      "outputs": [],
      "source": [
        "forest = RandomForestClassifier(n_jobs=2, n_estimators=50)\n",
        "forest.fit(train[features], y)\n",
        "\n",
        "preds = iris.target_names[forest.predict(test[features])]\n",
        "pd.crosstab(index=test['species'], columns=preds, rownames=['actual'], colnames=['preds'])"
      ]
    },
    {
      "cell_type": "code",
      "execution_count": null,
      "metadata": {
        "id": "J-MJRrpa12qa"
      },
      "outputs": [],
      "source": [
        "importances = forest.feature_importances_\n",
        "indices = np.argsort(importances)\n",
        "print(importances, indices, sep='\\n')"
      ]
    },
    {
      "cell_type": "code",
      "execution_count": null,
      "metadata": {
        "id": "u9CI__l012qa"
      },
      "outputs": [],
      "source": [
        "plt.title('Feature Importances')\n",
        "plt.barh(range(len(indices)), importances[indices], color='b', align='center')\n",
        "plt.yticks(range(len(indices)), features[indices])\n",
        "plt.xlabel('Relative Importance');"
      ]
    },
    {
      "cell_type": "code",
      "execution_count": null,
      "metadata": {
        "id": "XK1P7dZS12qa"
      },
      "outputs": [],
      "source": []
    }
  ],
  "metadata": {
    "kernelspec": {
      "display_name": "Python 3",
      "language": "python",
      "name": "python3"
    },
    "language_info": {
      "codemirror_mode": {
        "name": "ipython",
        "version": 3
      },
      "file_extension": ".py",
      "mimetype": "text/x-python",
      "name": "python",
      "nbconvert_exporter": "python",
      "pygments_lexer": "ipython3",
      "version": "3.8.0a2"
    },
    "colab": {
      "provenance": []
    }
  },
  "nbformat": 4,
  "nbformat_minor": 0
}