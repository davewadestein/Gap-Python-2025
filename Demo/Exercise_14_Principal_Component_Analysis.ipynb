{
  "cells": [
    {
      "cell_type": "markdown",
      "metadata": {
        "id": "z0quXEQcO3oa"
      },
      "source": [
        "# Using the Demo as a starting point, perform a PCA for the the Iris dataset using 2 components instead of 3"
      ]
    },
    {
      "cell_type": "code",
      "execution_count": null,
      "metadata": {
        "id": "Hv37puCCO3ob"
      },
      "outputs": [],
      "source": [
        "import numpy as np\n",
        "import matplotlib.pyplot as plt"
      ]
    },
    {
      "cell_type": "code",
      "execution_count": null,
      "metadata": {
        "id": "kvonNuPrO3ob"
      },
      "outputs": [],
      "source": [
        "from sklearn import decomposition\n",
        "from sklearn import datasets\n",
        "np.random.seed(5)\n",
        "iris = datasets.load_iris()\n",
        "X = iris.data\n",
        "y = iris.target\n",
        "pca = decomposition.PCA(n_components=2)\n",
        "pca.fit(X)\n",
        "X = pca.transform(X)\n",
        "X.shape"
      ]
    },
    {
      "cell_type": "code",
      "execution_count": null,
      "metadata": {
        "id": "al8DSfd6O3ob"
      },
      "outputs": [],
      "source": []
    },
    {
      "cell_type": "markdown",
      "metadata": {
        "id": "WIQSfNV2O3ob"
      },
      "source": [
        "# Examine the components of the PCA\n",
        "* what do they tell you?"
      ]
    },
    {
      "cell_type": "code",
      "execution_count": null,
      "metadata": {
        "id": "k_VgWN7sO3ob"
      },
      "outputs": [],
      "source": [
        "pca.components_"
      ]
    },
    {
      "cell_type": "markdown",
      "metadata": {
        "id": "doWnHV5fO3ob"
      },
      "source": [
        "# How much variance is explained by the 2 components?"
      ]
    },
    {
      "cell_type": "code",
      "execution_count": null,
      "metadata": {
        "id": "3C6KMm41O3ob"
      },
      "outputs": [],
      "source": [
        "pca.explained_variance_ratio_"
      ]
    },
    {
      "cell_type": "markdown",
      "metadata": {
        "id": "zzV5idcRO3oc"
      },
      "source": [
        "# Now plot the components as we did in the demo (except that your plot will be 2-D instead of 3-D)"
      ]
    },
    {
      "cell_type": "code",
      "execution_count": null,
      "metadata": {
        "id": "6tJAjEvvO3oc"
      },
      "outputs": [],
      "source": [
        "plt.scatter(X[:, 0], X[:, 1], c=y);"
      ]
    },
    {
      "cell_type": "markdown",
      "metadata": {
        "id": "lbddVYIPO3oc"
      },
      "source": [
        "# Now perform a PCA for the Iris dataset using just 1 component"
      ]
    },
    {
      "cell_type": "code",
      "execution_count": null,
      "metadata": {
        "id": "_2-PyMf0O3oc"
      },
      "outputs": [],
      "source": [
        "iris = datasets.load_iris()\n",
        "X = iris.data\n",
        "y = iris.target\n",
        "pca = decomposition.PCA(n_components=1)\n",
        "pca.fit(X)\n",
        "X = pca.transform(X)\n",
        "X.shape"
      ]
    },
    {
      "cell_type": "markdown",
      "metadata": {
        "id": "i6Jn1yWwO3oc"
      },
      "source": [
        "# How much variance is explained by the 1 component?"
      ]
    },
    {
      "cell_type": "code",
      "execution_count": null,
      "metadata": {
        "id": "8C9hhiMIO3oc"
      },
      "outputs": [],
      "source": [
        "pca.explained_variance_ratio_"
      ]
    },
    {
      "cell_type": "markdown",
      "metadata": {
        "id": "S1ZITjCjO3oc"
      },
      "source": [
        "# Plot in 1-D\n",
        "* __Hints__\n",
        " * you might want to create a dataset of 150 zeros to plot against, in order for your plot to come out as a straight line\n",
        " * you might want to set the X and Y ticks to empty, since the scale of the components will not be the scale of the original data\n",
        " * if you want to represent the data using 3 colors of your choosing, it might be best to do 3 plots, one for each type of iris, but you can also do a single plot where you set the color equal to the target values"
      ]
    },
    {
      "cell_type": "code",
      "execution_count": null,
      "metadata": {
        "id": "CBBr4w0-O3oc"
      },
      "outputs": [],
      "source": [
        "zeros = np.zeros(50)\n",
        "plt.figure(figsize=(8, 1))\n",
        "plt.scatter(X[:50], zeros, color='green', alpha=0.5)\n",
        "plt.scatter(X[50:100], zeros, color='red', alpha=0.5)\n",
        "plt.scatter(X[100:], zeros, color='yellow', alpha=0.5);"
      ]
    },
    {
      "cell_type": "code",
      "execution_count": null,
      "metadata": {
        "id": "R9QINNgIO3oc"
      },
      "outputs": [],
      "source": [
        "zeros = np.zeros(150)\n",
        "plt.figure(figsize=(8, 1))\n",
        "plt.xticks([])\n",
        "plt.yticks([])\n",
        "plt.scatter(X, zeros, c=y, alpha=0.5);"
      ]
    },
    {
      "cell_type": "code",
      "execution_count": null,
      "metadata": {
        "id": "50ozD0x6O3oc"
      },
      "outputs": [],
      "source": []
    }
  ],
  "metadata": {
    "kernelspec": {
      "display_name": "Python 3",
      "language": "python",
      "name": "python3"
    },
    "language_info": {
      "codemirror_mode": {
        "name": "ipython",
        "version": 3
      },
      "file_extension": ".py",
      "mimetype": "text/x-python",
      "name": "python",
      "nbconvert_exporter": "python",
      "pygments_lexer": "ipython3",
      "version": "3.7.3"
    },
    "colab": {
      "provenance": []
    }
  },
  "nbformat": 4,
  "nbformat_minor": 0
}