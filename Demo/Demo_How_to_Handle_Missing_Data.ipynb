{
  "cells": [
    {
      "cell_type": "markdown",
      "metadata": {
        "id": "Guash1UJmmqT"
      },
      "source": [
        "# How to Handle Missing Data"
      ]
    },
    {
      "cell_type": "code",
      "execution_count": 1,
      "metadata": {
        "id": "1Ft3NTPwmmqU"
      },
      "outputs": [],
      "source": [
        "import numpy as np\n",
        "import pandas as pd"
      ]
    },
    {
      "cell_type": "code",
      "execution_count": null,
      "metadata": {
        "id": "SyAtYluammqV"
      },
      "outputs": [],
      "source": [
        "states = pd.Series(['alabama', 'california', np.nan, 'minnesota', 'virginia'])\n",
        "states"
      ]
    },
    {
      "cell_type": "code",
      "execution_count": null,
      "metadata": {
        "id": "SHGsIqK1mmqV"
      },
      "outputs": [],
      "source": [
        "states.isnull()"
      ]
    },
    {
      "cell_type": "code",
      "execution_count": null,
      "metadata": {
        "id": "EiNXY84tmmqW"
      },
      "outputs": [],
      "source": [
        "states.isnull().any()"
      ]
    },
    {
      "cell_type": "code",
      "execution_count": null,
      "metadata": {
        "id": "ca3xBRPJmmqW"
      },
      "outputs": [],
      "source": [
        "states.isnull().sum()"
      ]
    },
    {
      "cell_type": "code",
      "execution_count": null,
      "metadata": {
        "id": "X_dt1-plmmqW"
      },
      "outputs": [],
      "source": [
        "states[2] = None\n",
        "states"
      ]
    },
    {
      "cell_type": "code",
      "execution_count": null,
      "metadata": {
        "id": "Ttt3UKAUmmqW"
      },
      "outputs": [],
      "source": [
        "states.isnull()"
      ]
    },
    {
      "cell_type": "code",
      "execution_count": null,
      "metadata": {
        "id": "ceiJt0J-mmqW"
      },
      "outputs": [],
      "source": [
        "states.dropna()"
      ]
    },
    {
      "cell_type": "code",
      "execution_count": null,
      "metadata": {
        "id": "fq2znlYammqW"
      },
      "outputs": [],
      "source": [
        "states.notnull()"
      ]
    },
    {
      "cell_type": "code",
      "execution_count": null,
      "metadata": {
        "id": "XwLEHvV7mmqX"
      },
      "outputs": [],
      "source": [
        "states[states.notnull()]"
      ]
    },
    {
      "cell_type": "code",
      "execution_count": null,
      "metadata": {
        "id": "3e6XV5kammqX"
      },
      "outputs": [],
      "source": [
        "data = pd.DataFrame([\n",
        "    ['alabama', np.nan, np.nan],\n",
        "    ['california', 39536653, 1246],\n",
        "    ['minnesota', 5576606, 169],\n",
        "    [np.nan, np.nan, np.nan],\n",
        "    ['virginia', 8470020, 222]\n",
        "])\n",
        "data"
      ]
    },
    {
      "cell_type": "code",
      "execution_count": null,
      "metadata": {
        "id": "5caPuAfimmqX"
      },
      "outputs": [],
      "source": [
        "data.dropna() # drop any row containing NaN"
      ]
    },
    {
      "cell_type": "code",
      "execution_count": null,
      "metadata": {
        "id": "b3mixerFmmqX"
      },
      "outputs": [],
      "source": [
        "data.dropna(how='all') # only drop rows having all NaNs"
      ]
    },
    {
      "cell_type": "code",
      "execution_count": null,
      "metadata": {
        "id": "AEnzcUhbmmqX"
      },
      "outputs": [],
      "source": [
        "data[3] = np.nan\n",
        "data"
      ]
    },
    {
      "cell_type": "code",
      "execution_count": null,
      "metadata": {
        "id": "LKmFEo8ImmqX"
      },
      "outputs": [],
      "source": [
        "data.dropna(axis=1, how='all') # drop columns having all NaNs"
      ]
    },
    {
      "cell_type": "code",
      "execution_count": null,
      "metadata": {
        "id": "VLMR-lhHmmqX"
      },
      "outputs": [],
      "source": [
        "data.iloc[2, 2] = np.nan\n",
        "data"
      ]
    },
    {
      "cell_type": "code",
      "execution_count": null,
      "metadata": {
        "id": "WAe_se8DmmqX"
      },
      "outputs": [],
      "source": [
        "data.dropna(thresh=2) # drop rows having fewer than 2 non-NaN values"
      ]
    },
    {
      "cell_type": "code",
      "execution_count": null,
      "metadata": {
        "id": "uHLpHJRNmmqX"
      },
      "outputs": [],
      "source": [
        "data.fillna(0)"
      ]
    },
    {
      "cell_type": "code",
      "execution_count": null,
      "metadata": {
        "id": "QtF3z3gSmmqX"
      },
      "outputs": [],
      "source": [
        "data.fillna({1:1_000_000, 2:50, 3:56})"
      ]
    },
    {
      "cell_type": "code",
      "execution_count": null,
      "metadata": {
        "id": "984csBmhmmqX"
      },
      "outputs": [],
      "source": [
        "data_numeric = data.select_dtypes(include=[\"number\"])  # Select numeric columns\n",
        "data_numeric\n",
        "data[data_numeric.columns] = data_numeric.fillna(data_numeric.mean())\n",
        "data"
      ]
    },
    {
      "cell_type": "code",
      "execution_count": null,
      "metadata": {
        "id": "aPyGWeX2mmqY"
      },
      "outputs": [],
      "source": [
        "data = pd.DataFrame([\n",
        "    ['alabama', np.NAN, np.NAN],\n",
        "    ['california', 39536653, 1246],\n",
        "    ['virginia', 8470020, 222],\n",
        "    ['california', 39536653, 1246],\n",
        "    ['minnesota', 5576606, 169],\n",
        "    [np.NAN, np.NAN, np.NAN],\n",
        "    ['virginia', 8470020, 222]\n",
        "])"
      ]
    },
    {
      "cell_type": "code",
      "execution_count": null,
      "metadata": {
        "id": "Bn11GdnsmmqY"
      },
      "outputs": [],
      "source": [
        "data.duplicated()"
      ]
    },
    {
      "cell_type": "code",
      "execution_count": null,
      "metadata": {
        "id": "jMme5amBmmqY"
      },
      "outputs": [],
      "source": [
        "data.drop_duplicates()"
      ]
    },
    {
      "cell_type": "markdown",
      "metadata": {
        "id": "oJ_6ONTGmmqY"
      },
      "source": [
        "# Replacing Text"
      ]
    },
    {
      "cell_type": "code",
      "execution_count": null,
      "metadata": {
        "id": "mrWb1gTAmmqY"
      },
      "outputs": [],
      "source": [
        "dollars = pd.Series(['12', '-$10', '$10,000'])\n",
        "dollars"
      ]
    },
    {
      "cell_type": "code",
      "execution_count": null,
      "metadata": {
        "id": "4fCCGhZvmmqY"
      },
      "outputs": [],
      "source": [
        "dollars.str.replace('$', '')"
      ]
    },
    {
      "cell_type": "code",
      "execution_count": null,
      "metadata": {
        "id": "pD866dL6mmqY"
      },
      "outputs": [],
      "source": [
        "dollars"
      ]
    },
    {
      "cell_type": "code",
      "execution_count": null,
      "metadata": {
        "id": "AGsNRiGWmmqY"
      },
      "outputs": [],
      "source": [
        "dollars = dollars.str.replace('$', '')\n",
        "dollars"
      ]
    },
    {
      "cell_type": "code",
      "execution_count": 2,
      "metadata": {
        "id": "W4WEyT55mmqZ",
        "outputId": "4ccbc54d-6780-4861-e2a2-6d7667a1e798",
        "colab": {
          "base_uri": "https://localhost:8080/",
          "height": 1000
        }
      },
      "outputs": [
        {
          "output_type": "execute_result",
          "data": {
            "text/plain": [
              "                             State Abbrev  Count  Population\n",
              "0                          Alabama     AL    129   4874747.0\n",
              "1                           Alaska     AK     35    739795.0\n",
              "2                   American Samoa     AS      1     51504.0\n",
              "3                         Arizona      AZ    155   7016270.0\n",
              "4                         Arkansas     AR    108   3004279.0\n",
              "5                       California     CA   1246  39536653.0\n",
              "6                         Colorado     CO    171   5607154.0\n",
              "7                      Connecticut     CT    114   3588184.0\n",
              "8                         Delaware     DE     23    961939.0\n",
              "9             District of Columbia     DC     33    693972.0\n",
              "10  Federated States of Micronesia     FM      4         NaN\n",
              "11                         Florida     FL    439  20984400.0\n",
              "12                         Georgia     GA    210  10429379.0\n",
              "13                            Guam     GU      2    167358.0\n",
              "14                          Hawaii     HI     43   1427538.0\n",
              "15                           Idaho     ID     33   1716943.0\n",
              "16                        Illinois     IL    391  12802023.0\n",
              "17                         Indiana     IN    175   6666818.0\n",
              "18                            Iowa     IA    107   3145711.0\n",
              "19                          Kansas     KS     99   2913123.0\n",
              "20                        Kentucky     KY    165   4454189.0\n",
              "21                       Louisiana     LA    173   4684333.0\n",
              "22                           Maine     ME     60   1335907.0\n",
              "23                Marshall Islands     MH      2         NaN\n",
              "24                        Maryland     MD    148   6052177.0\n",
              "25                   Massachusetts     MA    261   6859819.0\n",
              "26                        Michigan     MI    302   9962311.0\n",
              "27                       Minnesota     MN    169   5576606.0\n",
              "28                     Mississippi     MS     69   2984100.0\n",
              "29                        Missouri     MO    242   6113532.0\n",
              "30                         Montana     MT     54   1050493.0\n",
              "31                        Nebraska     NE     68   1920076.0\n",
              "32                          Nevada     NV     77   2998039.0\n",
              "33                   New Hampshire     NH     43   1342795.0\n",
              "34                      New Jersey     NJ    207   9005644.0\n",
              "35                      New Mexico     NM     61   2088070.0\n",
              "36                        New York     NY    632  19849399.0\n",
              "37                  North Carolina     NC    188  10273419.0\n",
              "38                    North Dakota     ND     30    755393.0\n",
              "39        Northern Mariana Islands     MP      1         NaN\n",
              "40                            Ohio     OH    386  11658609.0\n",
              "41                        Oklahoma     OK    158   3930864.0\n",
              "42                          Oregon     OR    125   4142776.0\n",
              "43                           Palau     PW      1         NaN\n",
              "44                    Pennsylvania     PA    544  12805537.0\n",
              "45                     Puerto Rico     PR    161   3337177.0\n",
              "46                    Rhode Island     RI     37   1059639.0\n",
              "47                  South Carolina     SC     97   5024369.0\n",
              "48                    South Dakota     SD     33    869666.0\n",
              "49                       Tennessee     TN    191   6715984.0\n",
              "50                           Texas     TX    506  28304596.0\n",
              "51                            Utah     UT     60   3101833.0\n",
              "52                         Vermont     VT     32    623657.0\n",
              "53                  Virgin Islands     VI      2         NaN\n",
              "54                        Virginia     VA    222   8470020.0\n",
              "55                      Washington     WA    164   7405743.0\n",
              "56                   West Virginia     WV     99   1815857.0\n",
              "57                       Wisconsin     WI    132   5795483.0\n",
              "58                         Wyoming     WY     17    579315.0"
            ],
            "text/html": [
              "\n",
              "  <div id=\"df-52f64471-0edb-4807-85c1-aedfbf8b9030\" class=\"colab-df-container\">\n",
              "    <div>\n",
              "<style scoped>\n",
              "    .dataframe tbody tr th:only-of-type {\n",
              "        vertical-align: middle;\n",
              "    }\n",
              "\n",
              "    .dataframe tbody tr th {\n",
              "        vertical-align: top;\n",
              "    }\n",
              "\n",
              "    .dataframe thead th {\n",
              "        text-align: right;\n",
              "    }\n",
              "</style>\n",
              "<table border=\"1\" class=\"dataframe\">\n",
              "  <thead>\n",
              "    <tr style=\"text-align: right;\">\n",
              "      <th></th>\n",
              "      <th>State</th>\n",
              "      <th>Abbrev</th>\n",
              "      <th>Count</th>\n",
              "      <th>Population</th>\n",
              "    </tr>\n",
              "  </thead>\n",
              "  <tbody>\n",
              "    <tr>\n",
              "      <th>0</th>\n",
              "      <td>Alabama</td>\n",
              "      <td>AL</td>\n",
              "      <td>129</td>\n",
              "      <td>4874747.0</td>\n",
              "    </tr>\n",
              "    <tr>\n",
              "      <th>1</th>\n",
              "      <td>Alaska</td>\n",
              "      <td>AK</td>\n",
              "      <td>35</td>\n",
              "      <td>739795.0</td>\n",
              "    </tr>\n",
              "    <tr>\n",
              "      <th>2</th>\n",
              "      <td>American Samoa</td>\n",
              "      <td>AS</td>\n",
              "      <td>1</td>\n",
              "      <td>51504.0</td>\n",
              "    </tr>\n",
              "    <tr>\n",
              "      <th>3</th>\n",
              "      <td>Arizona</td>\n",
              "      <td>AZ</td>\n",
              "      <td>155</td>\n",
              "      <td>7016270.0</td>\n",
              "    </tr>\n",
              "    <tr>\n",
              "      <th>4</th>\n",
              "      <td>Arkansas</td>\n",
              "      <td>AR</td>\n",
              "      <td>108</td>\n",
              "      <td>3004279.0</td>\n",
              "    </tr>\n",
              "    <tr>\n",
              "      <th>5</th>\n",
              "      <td>California</td>\n",
              "      <td>CA</td>\n",
              "      <td>1246</td>\n",
              "      <td>39536653.0</td>\n",
              "    </tr>\n",
              "    <tr>\n",
              "      <th>6</th>\n",
              "      <td>Colorado</td>\n",
              "      <td>CO</td>\n",
              "      <td>171</td>\n",
              "      <td>5607154.0</td>\n",
              "    </tr>\n",
              "    <tr>\n",
              "      <th>7</th>\n",
              "      <td>Connecticut</td>\n",
              "      <td>CT</td>\n",
              "      <td>114</td>\n",
              "      <td>3588184.0</td>\n",
              "    </tr>\n",
              "    <tr>\n",
              "      <th>8</th>\n",
              "      <td>Delaware</td>\n",
              "      <td>DE</td>\n",
              "      <td>23</td>\n",
              "      <td>961939.0</td>\n",
              "    </tr>\n",
              "    <tr>\n",
              "      <th>9</th>\n",
              "      <td>District of Columbia</td>\n",
              "      <td>DC</td>\n",
              "      <td>33</td>\n",
              "      <td>693972.0</td>\n",
              "    </tr>\n",
              "    <tr>\n",
              "      <th>10</th>\n",
              "      <td>Federated States of Micronesia</td>\n",
              "      <td>FM</td>\n",
              "      <td>4</td>\n",
              "      <td>NaN</td>\n",
              "    </tr>\n",
              "    <tr>\n",
              "      <th>11</th>\n",
              "      <td>Florida</td>\n",
              "      <td>FL</td>\n",
              "      <td>439</td>\n",
              "      <td>20984400.0</td>\n",
              "    </tr>\n",
              "    <tr>\n",
              "      <th>12</th>\n",
              "      <td>Georgia</td>\n",
              "      <td>GA</td>\n",
              "      <td>210</td>\n",
              "      <td>10429379.0</td>\n",
              "    </tr>\n",
              "    <tr>\n",
              "      <th>13</th>\n",
              "      <td>Guam</td>\n",
              "      <td>GU</td>\n",
              "      <td>2</td>\n",
              "      <td>167358.0</td>\n",
              "    </tr>\n",
              "    <tr>\n",
              "      <th>14</th>\n",
              "      <td>Hawaii</td>\n",
              "      <td>HI</td>\n",
              "      <td>43</td>\n",
              "      <td>1427538.0</td>\n",
              "    </tr>\n",
              "    <tr>\n",
              "      <th>15</th>\n",
              "      <td>Idaho</td>\n",
              "      <td>ID</td>\n",
              "      <td>33</td>\n",
              "      <td>1716943.0</td>\n",
              "    </tr>\n",
              "    <tr>\n",
              "      <th>16</th>\n",
              "      <td>Illinois</td>\n",
              "      <td>IL</td>\n",
              "      <td>391</td>\n",
              "      <td>12802023.0</td>\n",
              "    </tr>\n",
              "    <tr>\n",
              "      <th>17</th>\n",
              "      <td>Indiana</td>\n",
              "      <td>IN</td>\n",
              "      <td>175</td>\n",
              "      <td>6666818.0</td>\n",
              "    </tr>\n",
              "    <tr>\n",
              "      <th>18</th>\n",
              "      <td>Iowa</td>\n",
              "      <td>IA</td>\n",
              "      <td>107</td>\n",
              "      <td>3145711.0</td>\n",
              "    </tr>\n",
              "    <tr>\n",
              "      <th>19</th>\n",
              "      <td>Kansas</td>\n",
              "      <td>KS</td>\n",
              "      <td>99</td>\n",
              "      <td>2913123.0</td>\n",
              "    </tr>\n",
              "    <tr>\n",
              "      <th>20</th>\n",
              "      <td>Kentucky</td>\n",
              "      <td>KY</td>\n",
              "      <td>165</td>\n",
              "      <td>4454189.0</td>\n",
              "    </tr>\n",
              "    <tr>\n",
              "      <th>21</th>\n",
              "      <td>Louisiana</td>\n",
              "      <td>LA</td>\n",
              "      <td>173</td>\n",
              "      <td>4684333.0</td>\n",
              "    </tr>\n",
              "    <tr>\n",
              "      <th>22</th>\n",
              "      <td>Maine</td>\n",
              "      <td>ME</td>\n",
              "      <td>60</td>\n",
              "      <td>1335907.0</td>\n",
              "    </tr>\n",
              "    <tr>\n",
              "      <th>23</th>\n",
              "      <td>Marshall Islands</td>\n",
              "      <td>MH</td>\n",
              "      <td>2</td>\n",
              "      <td>NaN</td>\n",
              "    </tr>\n",
              "    <tr>\n",
              "      <th>24</th>\n",
              "      <td>Maryland</td>\n",
              "      <td>MD</td>\n",
              "      <td>148</td>\n",
              "      <td>6052177.0</td>\n",
              "    </tr>\n",
              "    <tr>\n",
              "      <th>25</th>\n",
              "      <td>Massachusetts</td>\n",
              "      <td>MA</td>\n",
              "      <td>261</td>\n",
              "      <td>6859819.0</td>\n",
              "    </tr>\n",
              "    <tr>\n",
              "      <th>26</th>\n",
              "      <td>Michigan</td>\n",
              "      <td>MI</td>\n",
              "      <td>302</td>\n",
              "      <td>9962311.0</td>\n",
              "    </tr>\n",
              "    <tr>\n",
              "      <th>27</th>\n",
              "      <td>Minnesota</td>\n",
              "      <td>MN</td>\n",
              "      <td>169</td>\n",
              "      <td>5576606.0</td>\n",
              "    </tr>\n",
              "    <tr>\n",
              "      <th>28</th>\n",
              "      <td>Mississippi</td>\n",
              "      <td>MS</td>\n",
              "      <td>69</td>\n",
              "      <td>2984100.0</td>\n",
              "    </tr>\n",
              "    <tr>\n",
              "      <th>29</th>\n",
              "      <td>Missouri</td>\n",
              "      <td>MO</td>\n",
              "      <td>242</td>\n",
              "      <td>6113532.0</td>\n",
              "    </tr>\n",
              "    <tr>\n",
              "      <th>30</th>\n",
              "      <td>Montana</td>\n",
              "      <td>MT</td>\n",
              "      <td>54</td>\n",
              "      <td>1050493.0</td>\n",
              "    </tr>\n",
              "    <tr>\n",
              "      <th>31</th>\n",
              "      <td>Nebraska</td>\n",
              "      <td>NE</td>\n",
              "      <td>68</td>\n",
              "      <td>1920076.0</td>\n",
              "    </tr>\n",
              "    <tr>\n",
              "      <th>32</th>\n",
              "      <td>Nevada</td>\n",
              "      <td>NV</td>\n",
              "      <td>77</td>\n",
              "      <td>2998039.0</td>\n",
              "    </tr>\n",
              "    <tr>\n",
              "      <th>33</th>\n",
              "      <td>New Hampshire</td>\n",
              "      <td>NH</td>\n",
              "      <td>43</td>\n",
              "      <td>1342795.0</td>\n",
              "    </tr>\n",
              "    <tr>\n",
              "      <th>34</th>\n",
              "      <td>New Jersey</td>\n",
              "      <td>NJ</td>\n",
              "      <td>207</td>\n",
              "      <td>9005644.0</td>\n",
              "    </tr>\n",
              "    <tr>\n",
              "      <th>35</th>\n",
              "      <td>New Mexico</td>\n",
              "      <td>NM</td>\n",
              "      <td>61</td>\n",
              "      <td>2088070.0</td>\n",
              "    </tr>\n",
              "    <tr>\n",
              "      <th>36</th>\n",
              "      <td>New York</td>\n",
              "      <td>NY</td>\n",
              "      <td>632</td>\n",
              "      <td>19849399.0</td>\n",
              "    </tr>\n",
              "    <tr>\n",
              "      <th>37</th>\n",
              "      <td>North Carolina</td>\n",
              "      <td>NC</td>\n",
              "      <td>188</td>\n",
              "      <td>10273419.0</td>\n",
              "    </tr>\n",
              "    <tr>\n",
              "      <th>38</th>\n",
              "      <td>North Dakota</td>\n",
              "      <td>ND</td>\n",
              "      <td>30</td>\n",
              "      <td>755393.0</td>\n",
              "    </tr>\n",
              "    <tr>\n",
              "      <th>39</th>\n",
              "      <td>Northern Mariana Islands</td>\n",
              "      <td>MP</td>\n",
              "      <td>1</td>\n",
              "      <td>NaN</td>\n",
              "    </tr>\n",
              "    <tr>\n",
              "      <th>40</th>\n",
              "      <td>Ohio</td>\n",
              "      <td>OH</td>\n",
              "      <td>386</td>\n",
              "      <td>11658609.0</td>\n",
              "    </tr>\n",
              "    <tr>\n",
              "      <th>41</th>\n",
              "      <td>Oklahoma</td>\n",
              "      <td>OK</td>\n",
              "      <td>158</td>\n",
              "      <td>3930864.0</td>\n",
              "    </tr>\n",
              "    <tr>\n",
              "      <th>42</th>\n",
              "      <td>Oregon</td>\n",
              "      <td>OR</td>\n",
              "      <td>125</td>\n",
              "      <td>4142776.0</td>\n",
              "    </tr>\n",
              "    <tr>\n",
              "      <th>43</th>\n",
              "      <td>Palau</td>\n",
              "      <td>PW</td>\n",
              "      <td>1</td>\n",
              "      <td>NaN</td>\n",
              "    </tr>\n",
              "    <tr>\n",
              "      <th>44</th>\n",
              "      <td>Pennsylvania</td>\n",
              "      <td>PA</td>\n",
              "      <td>544</td>\n",
              "      <td>12805537.0</td>\n",
              "    </tr>\n",
              "    <tr>\n",
              "      <th>45</th>\n",
              "      <td>Puerto Rico</td>\n",
              "      <td>PR</td>\n",
              "      <td>161</td>\n",
              "      <td>3337177.0</td>\n",
              "    </tr>\n",
              "    <tr>\n",
              "      <th>46</th>\n",
              "      <td>Rhode Island</td>\n",
              "      <td>RI</td>\n",
              "      <td>37</td>\n",
              "      <td>1059639.0</td>\n",
              "    </tr>\n",
              "    <tr>\n",
              "      <th>47</th>\n",
              "      <td>South Carolina</td>\n",
              "      <td>SC</td>\n",
              "      <td>97</td>\n",
              "      <td>5024369.0</td>\n",
              "    </tr>\n",
              "    <tr>\n",
              "      <th>48</th>\n",
              "      <td>South Dakota</td>\n",
              "      <td>SD</td>\n",
              "      <td>33</td>\n",
              "      <td>869666.0</td>\n",
              "    </tr>\n",
              "    <tr>\n",
              "      <th>49</th>\n",
              "      <td>Tennessee</td>\n",
              "      <td>TN</td>\n",
              "      <td>191</td>\n",
              "      <td>6715984.0</td>\n",
              "    </tr>\n",
              "    <tr>\n",
              "      <th>50</th>\n",
              "      <td>Texas</td>\n",
              "      <td>TX</td>\n",
              "      <td>506</td>\n",
              "      <td>28304596.0</td>\n",
              "    </tr>\n",
              "    <tr>\n",
              "      <th>51</th>\n",
              "      <td>Utah</td>\n",
              "      <td>UT</td>\n",
              "      <td>60</td>\n",
              "      <td>3101833.0</td>\n",
              "    </tr>\n",
              "    <tr>\n",
              "      <th>52</th>\n",
              "      <td>Vermont</td>\n",
              "      <td>VT</td>\n",
              "      <td>32</td>\n",
              "      <td>623657.0</td>\n",
              "    </tr>\n",
              "    <tr>\n",
              "      <th>53</th>\n",
              "      <td>Virgin Islands</td>\n",
              "      <td>VI</td>\n",
              "      <td>2</td>\n",
              "      <td>NaN</td>\n",
              "    </tr>\n",
              "    <tr>\n",
              "      <th>54</th>\n",
              "      <td>Virginia</td>\n",
              "      <td>VA</td>\n",
              "      <td>222</td>\n",
              "      <td>8470020.0</td>\n",
              "    </tr>\n",
              "    <tr>\n",
              "      <th>55</th>\n",
              "      <td>Washington</td>\n",
              "      <td>WA</td>\n",
              "      <td>164</td>\n",
              "      <td>7405743.0</td>\n",
              "    </tr>\n",
              "    <tr>\n",
              "      <th>56</th>\n",
              "      <td>West Virginia</td>\n",
              "      <td>WV</td>\n",
              "      <td>99</td>\n",
              "      <td>1815857.0</td>\n",
              "    </tr>\n",
              "    <tr>\n",
              "      <th>57</th>\n",
              "      <td>Wisconsin</td>\n",
              "      <td>WI</td>\n",
              "      <td>132</td>\n",
              "      <td>5795483.0</td>\n",
              "    </tr>\n",
              "    <tr>\n",
              "      <th>58</th>\n",
              "      <td>Wyoming</td>\n",
              "      <td>WY</td>\n",
              "      <td>17</td>\n",
              "      <td>579315.0</td>\n",
              "    </tr>\n",
              "  </tbody>\n",
              "</table>\n",
              "</div>\n",
              "    <div class=\"colab-df-buttons\">\n",
              "\n",
              "  <div class=\"colab-df-container\">\n",
              "    <button class=\"colab-df-convert\" onclick=\"convertToInteractive('df-52f64471-0edb-4807-85c1-aedfbf8b9030')\"\n",
              "            title=\"Convert this dataframe to an interactive table.\"\n",
              "            style=\"display:none;\">\n",
              "\n",
              "  <svg xmlns=\"http://www.w3.org/2000/svg\" height=\"24px\" viewBox=\"0 -960 960 960\">\n",
              "    <path d=\"M120-120v-720h720v720H120Zm60-500h600v-160H180v160Zm220 220h160v-160H400v160Zm0 220h160v-160H400v160ZM180-400h160v-160H180v160Zm440 0h160v-160H620v160ZM180-180h160v-160H180v160Zm440 0h160v-160H620v160Z\"/>\n",
              "  </svg>\n",
              "    </button>\n",
              "\n",
              "  <style>\n",
              "    .colab-df-container {\n",
              "      display:flex;\n",
              "      gap: 12px;\n",
              "    }\n",
              "\n",
              "    .colab-df-convert {\n",
              "      background-color: #E8F0FE;\n",
              "      border: none;\n",
              "      border-radius: 50%;\n",
              "      cursor: pointer;\n",
              "      display: none;\n",
              "      fill: #1967D2;\n",
              "      height: 32px;\n",
              "      padding: 0 0 0 0;\n",
              "      width: 32px;\n",
              "    }\n",
              "\n",
              "    .colab-df-convert:hover {\n",
              "      background-color: #E2EBFA;\n",
              "      box-shadow: 0px 1px 2px rgba(60, 64, 67, 0.3), 0px 1px 3px 1px rgba(60, 64, 67, 0.15);\n",
              "      fill: #174EA6;\n",
              "    }\n",
              "\n",
              "    .colab-df-buttons div {\n",
              "      margin-bottom: 4px;\n",
              "    }\n",
              "\n",
              "    [theme=dark] .colab-df-convert {\n",
              "      background-color: #3B4455;\n",
              "      fill: #D2E3FC;\n",
              "    }\n",
              "\n",
              "    [theme=dark] .colab-df-convert:hover {\n",
              "      background-color: #434B5C;\n",
              "      box-shadow: 0px 1px 3px 1px rgba(0, 0, 0, 0.15);\n",
              "      filter: drop-shadow(0px 1px 2px rgba(0, 0, 0, 0.3));\n",
              "      fill: #FFFFFF;\n",
              "    }\n",
              "  </style>\n",
              "\n",
              "    <script>\n",
              "      const buttonEl =\n",
              "        document.querySelector('#df-52f64471-0edb-4807-85c1-aedfbf8b9030 button.colab-df-convert');\n",
              "      buttonEl.style.display =\n",
              "        google.colab.kernel.accessAllowed ? 'block' : 'none';\n",
              "\n",
              "      async function convertToInteractive(key) {\n",
              "        const element = document.querySelector('#df-52f64471-0edb-4807-85c1-aedfbf8b9030');\n",
              "        const dataTable =\n",
              "          await google.colab.kernel.invokeFunction('convertToInteractive',\n",
              "                                                    [key], {});\n",
              "        if (!dataTable) return;\n",
              "\n",
              "        const docLinkHtml = 'Like what you see? Visit the ' +\n",
              "          '<a target=\"_blank\" href=https://colab.research.google.com/notebooks/data_table.ipynb>data table notebook</a>'\n",
              "          + ' to learn more about interactive tables.';\n",
              "        element.innerHTML = '';\n",
              "        dataTable['output_type'] = 'display_data';\n",
              "        await google.colab.output.renderOutput(dataTable, element);\n",
              "        const docLink = document.createElement('div');\n",
              "        docLink.innerHTML = docLinkHtml;\n",
              "        element.appendChild(docLink);\n",
              "      }\n",
              "    </script>\n",
              "  </div>\n",
              "\n",
              "\n",
              "<div id=\"df-7094d6e4-d87c-411b-b80d-aa3838f34604\">\n",
              "  <button class=\"colab-df-quickchart\" onclick=\"quickchart('df-7094d6e4-d87c-411b-b80d-aa3838f34604')\"\n",
              "            title=\"Suggest charts\"\n",
              "            style=\"display:none;\">\n",
              "\n",
              "<svg xmlns=\"http://www.w3.org/2000/svg\" height=\"24px\"viewBox=\"0 0 24 24\"\n",
              "     width=\"24px\">\n",
              "    <g>\n",
              "        <path d=\"M19 3H5c-1.1 0-2 .9-2 2v14c0 1.1.9 2 2 2h14c1.1 0 2-.9 2-2V5c0-1.1-.9-2-2-2zM9 17H7v-7h2v7zm4 0h-2V7h2v10zm4 0h-2v-4h2v4z\"/>\n",
              "    </g>\n",
              "</svg>\n",
              "  </button>\n",
              "\n",
              "<style>\n",
              "  .colab-df-quickchart {\n",
              "      --bg-color: #E8F0FE;\n",
              "      --fill-color: #1967D2;\n",
              "      --hover-bg-color: #E2EBFA;\n",
              "      --hover-fill-color: #174EA6;\n",
              "      --disabled-fill-color: #AAA;\n",
              "      --disabled-bg-color: #DDD;\n",
              "  }\n",
              "\n",
              "  [theme=dark] .colab-df-quickchart {\n",
              "      --bg-color: #3B4455;\n",
              "      --fill-color: #D2E3FC;\n",
              "      --hover-bg-color: #434B5C;\n",
              "      --hover-fill-color: #FFFFFF;\n",
              "      --disabled-bg-color: #3B4455;\n",
              "      --disabled-fill-color: #666;\n",
              "  }\n",
              "\n",
              "  .colab-df-quickchart {\n",
              "    background-color: var(--bg-color);\n",
              "    border: none;\n",
              "    border-radius: 50%;\n",
              "    cursor: pointer;\n",
              "    display: none;\n",
              "    fill: var(--fill-color);\n",
              "    height: 32px;\n",
              "    padding: 0;\n",
              "    width: 32px;\n",
              "  }\n",
              "\n",
              "  .colab-df-quickchart:hover {\n",
              "    background-color: var(--hover-bg-color);\n",
              "    box-shadow: 0 1px 2px rgba(60, 64, 67, 0.3), 0 1px 3px 1px rgba(60, 64, 67, 0.15);\n",
              "    fill: var(--button-hover-fill-color);\n",
              "  }\n",
              "\n",
              "  .colab-df-quickchart-complete:disabled,\n",
              "  .colab-df-quickchart-complete:disabled:hover {\n",
              "    background-color: var(--disabled-bg-color);\n",
              "    fill: var(--disabled-fill-color);\n",
              "    box-shadow: none;\n",
              "  }\n",
              "\n",
              "  .colab-df-spinner {\n",
              "    border: 2px solid var(--fill-color);\n",
              "    border-color: transparent;\n",
              "    border-bottom-color: var(--fill-color);\n",
              "    animation:\n",
              "      spin 1s steps(1) infinite;\n",
              "  }\n",
              "\n",
              "  @keyframes spin {\n",
              "    0% {\n",
              "      border-color: transparent;\n",
              "      border-bottom-color: var(--fill-color);\n",
              "      border-left-color: var(--fill-color);\n",
              "    }\n",
              "    20% {\n",
              "      border-color: transparent;\n",
              "      border-left-color: var(--fill-color);\n",
              "      border-top-color: var(--fill-color);\n",
              "    }\n",
              "    30% {\n",
              "      border-color: transparent;\n",
              "      border-left-color: var(--fill-color);\n",
              "      border-top-color: var(--fill-color);\n",
              "      border-right-color: var(--fill-color);\n",
              "    }\n",
              "    40% {\n",
              "      border-color: transparent;\n",
              "      border-right-color: var(--fill-color);\n",
              "      border-top-color: var(--fill-color);\n",
              "    }\n",
              "    60% {\n",
              "      border-color: transparent;\n",
              "      border-right-color: var(--fill-color);\n",
              "    }\n",
              "    80% {\n",
              "      border-color: transparent;\n",
              "      border-right-color: var(--fill-color);\n",
              "      border-bottom-color: var(--fill-color);\n",
              "    }\n",
              "    90% {\n",
              "      border-color: transparent;\n",
              "      border-bottom-color: var(--fill-color);\n",
              "    }\n",
              "  }\n",
              "</style>\n",
              "\n",
              "  <script>\n",
              "    async function quickchart(key) {\n",
              "      const quickchartButtonEl =\n",
              "        document.querySelector('#' + key + ' button');\n",
              "      quickchartButtonEl.disabled = true;  // To prevent multiple clicks.\n",
              "      quickchartButtonEl.classList.add('colab-df-spinner');\n",
              "      try {\n",
              "        const charts = await google.colab.kernel.invokeFunction(\n",
              "            'suggestCharts', [key], {});\n",
              "      } catch (error) {\n",
              "        console.error('Error during call to suggestCharts:', error);\n",
              "      }\n",
              "      quickchartButtonEl.classList.remove('colab-df-spinner');\n",
              "      quickchartButtonEl.classList.add('colab-df-quickchart-complete');\n",
              "    }\n",
              "    (() => {\n",
              "      let quickchartButtonEl =\n",
              "        document.querySelector('#df-7094d6e4-d87c-411b-b80d-aa3838f34604 button');\n",
              "      quickchartButtonEl.style.display =\n",
              "        google.colab.kernel.accessAllowed ? 'block' : 'none';\n",
              "    })();\n",
              "  </script>\n",
              "</div>\n",
              "\n",
              "  <div id=\"id_3990c91c-49b4-4401-afdf-16b8cfe8ab03\">\n",
              "    <style>\n",
              "      .colab-df-generate {\n",
              "        background-color: #E8F0FE;\n",
              "        border: none;\n",
              "        border-radius: 50%;\n",
              "        cursor: pointer;\n",
              "        display: none;\n",
              "        fill: #1967D2;\n",
              "        height: 32px;\n",
              "        padding: 0 0 0 0;\n",
              "        width: 32px;\n",
              "      }\n",
              "\n",
              "      .colab-df-generate:hover {\n",
              "        background-color: #E2EBFA;\n",
              "        box-shadow: 0px 1px 2px rgba(60, 64, 67, 0.3), 0px 1px 3px 1px rgba(60, 64, 67, 0.15);\n",
              "        fill: #174EA6;\n",
              "      }\n",
              "\n",
              "      [theme=dark] .colab-df-generate {\n",
              "        background-color: #3B4455;\n",
              "        fill: #D2E3FC;\n",
              "      }\n",
              "\n",
              "      [theme=dark] .colab-df-generate:hover {\n",
              "        background-color: #434B5C;\n",
              "        box-shadow: 0px 1px 3px 1px rgba(0, 0, 0, 0.15);\n",
              "        filter: drop-shadow(0px 1px 2px rgba(0, 0, 0, 0.3));\n",
              "        fill: #FFFFFF;\n",
              "      }\n",
              "    </style>\n",
              "    <button class=\"colab-df-generate\" onclick=\"generateWithVariable('data')\"\n",
              "            title=\"Generate code using this dataframe.\"\n",
              "            style=\"display:none;\">\n",
              "\n",
              "  <svg xmlns=\"http://www.w3.org/2000/svg\" height=\"24px\"viewBox=\"0 0 24 24\"\n",
              "       width=\"24px\">\n",
              "    <path d=\"M7,19H8.4L18.45,9,17,7.55,7,17.6ZM5,21V16.75L18.45,3.32a2,2,0,0,1,2.83,0l1.4,1.43a1.91,1.91,0,0,1,.58,1.4,1.91,1.91,0,0,1-.58,1.4L9.25,21ZM18.45,9,17,7.55Zm-12,3A5.31,5.31,0,0,0,4.9,8.1,5.31,5.31,0,0,0,1,6.5,5.31,5.31,0,0,0,4.9,4.9,5.31,5.31,0,0,0,6.5,1,5.31,5.31,0,0,0,8.1,4.9,5.31,5.31,0,0,0,12,6.5,5.46,5.46,0,0,0,6.5,12Z\"/>\n",
              "  </svg>\n",
              "    </button>\n",
              "    <script>\n",
              "      (() => {\n",
              "      const buttonEl =\n",
              "        document.querySelector('#id_3990c91c-49b4-4401-afdf-16b8cfe8ab03 button.colab-df-generate');\n",
              "      buttonEl.style.display =\n",
              "        google.colab.kernel.accessAllowed ? 'block' : 'none';\n",
              "\n",
              "      buttonEl.onclick = () => {\n",
              "        google.colab.notebook.generateWithVariable('data');\n",
              "      }\n",
              "      })();\n",
              "    </script>\n",
              "  </div>\n",
              "\n",
              "    </div>\n",
              "  </div>\n"
            ],
            "application/vnd.google.colaboratory.intrinsic+json": {
              "type": "dataframe",
              "variable_name": "data",
              "summary": "{\n  \"name\": \"data\",\n  \"rows\": 59,\n  \"fields\": [\n    {\n      \"column\": \"State\",\n      \"properties\": {\n        \"dtype\": \"string\",\n        \"num_unique_values\": 59,\n        \"samples\": [\n          \"Alabama\",\n          \"California\",\n          \"New Jersey\"\n        ],\n        \"semantic_type\": \"\",\n        \"description\": \"\"\n      }\n    },\n    {\n      \"column\": \"Abbrev\",\n      \"properties\": {\n        \"dtype\": \"string\",\n        \"num_unique_values\": 59,\n        \"samples\": [\n          \"AL\",\n          \"CA\",\n          \"NJ\"\n        ],\n        \"semantic_type\": \"\",\n        \"description\": \"\"\n      }\n    },\n    {\n      \"column\": \"Count\",\n      \"properties\": {\n        \"dtype\": \"number\",\n        \"std\": 200,\n        \"min\": 1,\n        \"max\": 1246,\n        \"num_unique_values\": 50,\n        \"samples\": [\n          2,\n          544,\n          77\n        ],\n        \"semantic_type\": \"\",\n        \"description\": \"\"\n      }\n    },\n    {\n      \"column\": \"Population\",\n      \"properties\": {\n        \"dtype\": \"number\",\n        \"std\": 7216798.101901448,\n        \"min\": 51504.0,\n        \"max\": 39536653.0,\n        \"num_unique_values\": 54,\n        \"samples\": [\n          4454189.0,\n          8470020.0,\n          623657.0\n        ],\n        \"semantic_type\": \"\",\n        \"description\": \"\"\n      }\n    }\n  ]\n}"
            }
          },
          "metadata": {},
          "execution_count": 2
        }
      ],
      "source": [
        "data = pd.read_csv('https://raw.githubusercontent.com/davewadestein/Gap-Python-2025/refs/heads/main/Data/states.csv')\n",
        "data\n",
        "# any guesses as to what count represents?"
      ]
    },
    {
      "cell_type": "code",
      "execution_count": null,
      "metadata": {
        "id": "w0mHw1esmmqZ"
      },
      "outputs": [],
      "source": [
        "bins = [0, 10, 100, 500, 1000, 2000]"
      ]
    },
    {
      "cell_type": "code",
      "execution_count": null,
      "metadata": {
        "id": "KMTCM1hdmmqZ"
      },
      "outputs": [],
      "source": [
        "schools = pd.cut(data['Count'], bins)\n",
        "schools"
      ]
    },
    {
      "cell_type": "code",
      "execution_count": null,
      "metadata": {
        "id": "u-dSf44dmmqZ"
      },
      "outputs": [],
      "source": [
        "pd.value_counts(schools)"
      ]
    },
    {
      "cell_type": "code",
      "execution_count": null,
      "metadata": {
        "id": "rtZZig9fmmqZ"
      },
      "outputs": [],
      "source": [
        "data.describe()"
      ]
    },
    {
      "cell_type": "code",
      "execution_count": null,
      "metadata": {
        "id": "j55pM4ZNmmqd"
      },
      "outputs": [],
      "source": [
        "pd.qcut(data['Count'], 4)"
      ]
    },
    {
      "cell_type": "code",
      "execution_count": null,
      "metadata": {
        "id": "mZW9gxC2mmqd"
      },
      "outputs": [],
      "source": [
        "cats = pd.qcut(data['Count'], 4)\n",
        "pd.value_counts(cats)"
      ]
    },
    {
      "cell_type": "code",
      "execution_count": null,
      "metadata": {
        "id": "C-67xCeTmmqd"
      },
      "outputs": [],
      "source": [
        "pop = data['Population']\n",
        "pop[pop > 5_000_000]"
      ]
    },
    {
      "cell_type": "code",
      "execution_count": null,
      "metadata": {
        "id": "fH6GKy-ymmqd"
      },
      "outputs": [],
      "source": [
        "data.set_index('State', inplace=True)"
      ]
    },
    {
      "cell_type": "code",
      "execution_count": null,
      "metadata": {
        "id": "y-TiJxZ5mmqd"
      },
      "outputs": [],
      "source": [
        "data"
      ]
    },
    {
      "cell_type": "code",
      "execution_count": null,
      "metadata": {
        "id": "3NPD7sICmmqd"
      },
      "outputs": [],
      "source": [
        "pop = data['Population']\n",
        "pop[pop > 5_000_000]"
      ]
    },
    {
      "cell_type": "code",
      "execution_count": null,
      "metadata": {
        "id": "8z5x6uE6mmqd"
      },
      "outputs": [],
      "source": []
    }
  ],
  "metadata": {
    "kernelspec": {
      "display_name": "Python 3",
      "language": "python",
      "name": "python3"
    },
    "language_info": {
      "codemirror_mode": {
        "name": "ipython",
        "version": 3
      },
      "file_extension": ".py",
      "mimetype": "text/x-python",
      "name": "python",
      "nbconvert_exporter": "python",
      "pygments_lexer": "ipython3",
      "version": "3.7.3"
    },
    "colab": {
      "provenance": []
    }
  },
  "nbformat": 4,
  "nbformat_minor": 0
}