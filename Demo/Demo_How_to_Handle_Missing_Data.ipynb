{
  "cells": [
    {
      "cell_type": "markdown",
      "metadata": {
        "id": "Guash1UJmmqT"
      },
      "source": [
        "# How to Handle Missing Data"
      ]
    },
    {
      "cell_type": "code",
      "execution_count": null,
      "metadata": {
        "id": "1Ft3NTPwmmqU"
      },
      "outputs": [],
      "source": [
        "import numpy as np\n",
        "import pandas as pd"
      ]
    },
    {
      "cell_type": "code",
      "execution_count": null,
      "metadata": {
        "id": "SyAtYluammqV"
      },
      "outputs": [],
      "source": [
        "states = pd.Series(['alabama', 'california', np.nan, 'minnesota', 'virginia'])\n",
        "states"
      ]
    },
    {
      "cell_type": "code",
      "execution_count": null,
      "metadata": {
        "id": "SHGsIqK1mmqV"
      },
      "outputs": [],
      "source": [
        "states.isnull()"
      ]
    },
    {
      "cell_type": "code",
      "execution_count": null,
      "metadata": {
        "id": "EiNXY84tmmqW"
      },
      "outputs": [],
      "source": [
        "states.isnull().any()"
      ]
    },
    {
      "cell_type": "code",
      "execution_count": null,
      "metadata": {
        "id": "ca3xBRPJmmqW"
      },
      "outputs": [],
      "source": [
        "states.isnull().sum()"
      ]
    },
    {
      "cell_type": "code",
      "execution_count": null,
      "metadata": {
        "id": "X_dt1-plmmqW"
      },
      "outputs": [],
      "source": [
        "states[2] = None\n",
        "states"
      ]
    },
    {
      "cell_type": "code",
      "execution_count": null,
      "metadata": {
        "id": "Ttt3UKAUmmqW"
      },
      "outputs": [],
      "source": [
        "states.isnull()"
      ]
    },
    {
      "cell_type": "code",
      "execution_count": null,
      "metadata": {
        "id": "ceiJt0J-mmqW"
      },
      "outputs": [],
      "source": [
        "states.dropna()"
      ]
    },
    {
      "cell_type": "code",
      "execution_count": null,
      "metadata": {
        "id": "fq2znlYammqW"
      },
      "outputs": [],
      "source": [
        "states.notnull()"
      ]
    },
    {
      "cell_type": "code",
      "execution_count": null,
      "metadata": {
        "id": "XwLEHvV7mmqX"
      },
      "outputs": [],
      "source": [
        "states[states.notnull()]"
      ]
    },
    {
      "cell_type": "code",
      "execution_count": null,
      "metadata": {
        "id": "3e6XV5kammqX"
      },
      "outputs": [],
      "source": [
        "data = pd.DataFrame([\n",
        "    ['alabama', np.nan, np.nan],\n",
        "    ['california', 39536653, 1246],\n",
        "    ['minnesota', 5576606, 169],\n",
        "    [np.nan, np.nan, np.nan],\n",
        "    ['virginia', 8470020, 222]\n",
        "])\n",
        "data"
      ]
    },
    {
      "cell_type": "code",
      "execution_count": null,
      "metadata": {
        "id": "5caPuAfimmqX"
      },
      "outputs": [],
      "source": [
        "data.dropna() # drop any row containing NaN"
      ]
    },
    {
      "cell_type": "code",
      "execution_count": null,
      "metadata": {
        "id": "b3mixerFmmqX"
      },
      "outputs": [],
      "source": [
        "data.dropna(how='all') # only drop rows having all NaNs"
      ]
    },
    {
      "cell_type": "code",
      "execution_count": null,
      "metadata": {
        "id": "AEnzcUhbmmqX"
      },
      "outputs": [],
      "source": [
        "data[3] = np.nan\n",
        "data"
      ]
    },
    {
      "cell_type": "code",
      "execution_count": null,
      "metadata": {
        "id": "LKmFEo8ImmqX"
      },
      "outputs": [],
      "source": [
        "data.dropna(axis=1, how='all') # drop columns having all NaNs"
      ]
    },
    {
      "cell_type": "code",
      "execution_count": null,
      "metadata": {
        "id": "VLMR-lhHmmqX"
      },
      "outputs": [],
      "source": [
        "data.iloc[2, 2] = np.nan\n",
        "data"
      ]
    },
    {
      "cell_type": "code",
      "execution_count": null,
      "metadata": {
        "id": "WAe_se8DmmqX"
      },
      "outputs": [],
      "source": [
        "data.dropna(thresh=2) # drop rows having fewer than 2 non-NaN values"
      ]
    },
    {
      "cell_type": "code",
      "execution_count": null,
      "metadata": {
        "id": "uHLpHJRNmmqX"
      },
      "outputs": [],
      "source": [
        "data.fillna(0)"
      ]
    },
    {
      "cell_type": "code",
      "execution_count": null,
      "metadata": {
        "id": "QtF3z3gSmmqX"
      },
      "outputs": [],
      "source": [
        "data.fillna({1:1_000_000, 2:50, 3:56})"
      ]
    },
    {
      "cell_type": "code",
      "execution_count": null,
      "metadata": {
        "id": "984csBmhmmqX"
      },
      "outputs": [],
      "source": [
        "data_numeric = data.select_dtypes(include=[\"number\"])  # Select numeric columns\n",
        "data_numeric\n",
        "data[data_numeric.columns] = data_numeric.fillna(data_numeric.mean())\n",
        "data"
      ]
    },
    {
      "cell_type": "code",
      "execution_count": null,
      "metadata": {
        "id": "aPyGWeX2mmqY"
      },
      "outputs": [],
      "source": [
        "data = pd.DataFrame([\n",
        "    ['alabama', np.NAN, np.NAN],\n",
        "    ['california', 39536653, 1246],\n",
        "    ['virginia', 8470020, 222],\n",
        "    ['california', 39536653, 1246],\n",
        "    ['minnesota', 5576606, 169],\n",
        "    [np.NAN, np.NAN, np.NAN],\n",
        "    ['virginia', 8470020, 222]\n",
        "])"
      ]
    },
    {
      "cell_type": "code",
      "execution_count": null,
      "metadata": {
        "id": "Bn11GdnsmmqY"
      },
      "outputs": [],
      "source": [
        "data.duplicated()"
      ]
    },
    {
      "cell_type": "code",
      "execution_count": null,
      "metadata": {
        "id": "jMme5amBmmqY"
      },
      "outputs": [],
      "source": [
        "data.drop_duplicates()"
      ]
    },
    {
      "cell_type": "markdown",
      "metadata": {
        "id": "oJ_6ONTGmmqY"
      },
      "source": [
        "# Replacing Text"
      ]
    },
    {
      "cell_type": "code",
      "execution_count": null,
      "metadata": {
        "id": "mrWb1gTAmmqY"
      },
      "outputs": [],
      "source": [
        "dollars = pd.Series(['12', '-$10', '$10,000'])\n",
        "dollars"
      ]
    },
    {
      "cell_type": "code",
      "execution_count": null,
      "metadata": {
        "id": "4fCCGhZvmmqY"
      },
      "outputs": [],
      "source": [
        "dollars.str.replace('$', '')"
      ]
    },
    {
      "cell_type": "code",
      "execution_count": null,
      "metadata": {
        "id": "pD866dL6mmqY"
      },
      "outputs": [],
      "source": [
        "dollars"
      ]
    },
    {
      "cell_type": "code",
      "execution_count": null,
      "metadata": {
        "id": "AGsNRiGWmmqY"
      },
      "outputs": [],
      "source": [
        "dollars = dollars.str.replace('$', '')\n",
        "dollars"
      ]
    },
    {
      "cell_type": "code",
      "source": [
        "!wget https://raw.githubusercontent.com/davewadestein/Gap-Python-2025/refs/heads/main/Data/states.csv"
      ],
      "metadata": {
        "id": "-JLmBbJGt7Ry"
      },
      "execution_count": null,
      "outputs": []
    },
    {
      "cell_type": "code",
      "execution_count": null,
      "metadata": {
        "id": "W4WEyT55mmqZ"
      },
      "outputs": [],
      "source": [
        "data = pd.read_csv('states.csv')\n",
        "data\n",
        "# any guesses as to what count represents?"
      ]
    },
    {
      "cell_type": "code",
      "execution_count": null,
      "metadata": {
        "id": "w0mHw1esmmqZ"
      },
      "outputs": [],
      "source": [
        "bins = [0, 10, 100, 500, 1000, 2000]"
      ]
    },
    {
      "cell_type": "code",
      "execution_count": null,
      "metadata": {
        "id": "KMTCM1hdmmqZ"
      },
      "outputs": [],
      "source": [
        "schools = pd.cut(data['Count'], bins)\n",
        "schools"
      ]
    },
    {
      "cell_type": "code",
      "execution_count": null,
      "metadata": {
        "id": "u-dSf44dmmqZ"
      },
      "outputs": [],
      "source": [
        "pd.value_counts(schools)"
      ]
    },
    {
      "cell_type": "code",
      "execution_count": null,
      "metadata": {
        "id": "rtZZig9fmmqZ"
      },
      "outputs": [],
      "source": [
        "data.describe()"
      ]
    },
    {
      "cell_type": "code",
      "execution_count": null,
      "metadata": {
        "id": "j55pM4ZNmmqd"
      },
      "outputs": [],
      "source": [
        "pd.qcut(data['Count'], 4)"
      ]
    },
    {
      "cell_type": "code",
      "execution_count": null,
      "metadata": {
        "id": "mZW9gxC2mmqd"
      },
      "outputs": [],
      "source": [
        "cats = pd.qcut(data['Count'], 4)\n",
        "pd.value_counts(cats)"
      ]
    },
    {
      "cell_type": "code",
      "execution_count": null,
      "metadata": {
        "id": "C-67xCeTmmqd"
      },
      "outputs": [],
      "source": [
        "pop = data['Population']\n",
        "pop[pop > 5_000_000]"
      ]
    },
    {
      "cell_type": "code",
      "execution_count": null,
      "metadata": {
        "id": "fH6GKy-ymmqd"
      },
      "outputs": [],
      "source": [
        "data.set_index('State', inplace=True)"
      ]
    },
    {
      "cell_type": "code",
      "execution_count": null,
      "metadata": {
        "id": "y-TiJxZ5mmqd"
      },
      "outputs": [],
      "source": [
        "data"
      ]
    },
    {
      "cell_type": "code",
      "execution_count": null,
      "metadata": {
        "id": "3NPD7sICmmqd"
      },
      "outputs": [],
      "source": [
        "pop = data['Population']\n",
        "pop[pop > 5_000_000]"
      ]
    },
    {
      "cell_type": "code",
      "execution_count": null,
      "metadata": {
        "id": "8z5x6uE6mmqd"
      },
      "outputs": [],
      "source": []
    }
  ],
  "metadata": {
    "kernelspec": {
      "display_name": "Python 3",
      "language": "python",
      "name": "python3"
    },
    "language_info": {
      "codemirror_mode": {
        "name": "ipython",
        "version": 3
      },
      "file_extension": ".py",
      "mimetype": "text/x-python",
      "name": "python",
      "nbconvert_exporter": "python",
      "pygments_lexer": "ipython3",
      "version": "3.7.3"
    },
    "colab": {
      "provenance": []
    }
  },
  "nbformat": 4,
  "nbformat_minor": 0
}