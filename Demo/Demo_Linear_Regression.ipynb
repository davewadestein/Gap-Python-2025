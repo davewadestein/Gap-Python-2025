{
  "cells": [
    {
      "cell_type": "markdown",
      "metadata": {
        "id": "XDjezD9S1inz"
      },
      "source": [
        "# Demo: Linear Regression"
      ]
    },
    {
      "cell_type": "code",
      "execution_count": null,
      "metadata": {
        "ExecuteTime": {
          "end_time": "2018-03-16T21:14:52.271291Z",
          "start_time": "2018-03-16T21:14:52.265698Z"
        },
        "id": "AZnZ1E9q1inz"
      },
      "outputs": [],
      "source": [
        "%matplotlib inline\n",
        "import matplotlib.pyplot as plt\n",
        "import numpy as np"
      ]
    },
    {
      "cell_type": "markdown",
      "metadata": {
        "id": "iuPQz6RR1in0"
      },
      "source": [
        "## First, let's create some linear data"
      ]
    },
    {
      "cell_type": "code",
      "execution_count": null,
      "metadata": {
        "ExecuteTime": {
          "end_time": "2018-03-16T21:14:52.279350Z",
          "start_time": "2018-03-16T21:14:52.273563Z"
        },
        "id": "pMYap6T01in0"
      },
      "outputs": [],
      "source": [
        "rng = np.random.RandomState(12)\n",
        "x = 10 * rng.rand(50)\n",
        "x"
      ]
    },
    {
      "cell_type": "code",
      "execution_count": null,
      "metadata": {
        "ExecuteTime": {
          "end_time": "2018-03-16T21:14:52.365634Z",
          "start_time": "2018-03-16T21:14:52.281306Z"
        },
        "id": "0CH_Nhva1in0"
      },
      "outputs": [],
      "source": [
        "y = 2 * x - 6 + rng.randn(50) # add some noise to the output\n",
        "plt.scatter(x, y);"
      ]
    },
    {
      "cell_type": "code",
      "execution_count": null,
      "metadata": {
        "ExecuteTime": {
          "end_time": "2018-03-16T21:14:52.466703Z",
          "start_time": "2018-03-16T21:14:52.367693Z"
        },
        "id": "ZZJ71Tdg1in0"
      },
      "outputs": [],
      "source": [
        "from sklearn.linear_model import LinearRegression\n",
        "model = LinearRegression()\n",
        "# we need to convert the data from a 1-d array to a 2-d array\n",
        "# so we use np.newaxis to do that\n",
        "# ...let's take a look\n",
        "print(x)\n",
        "print(x.shape)"
      ]
    },
    {
      "cell_type": "code",
      "execution_count": null,
      "metadata": {
        "ExecuteTime": {
          "end_time": "2018-03-16T21:14:52.466703Z",
          "start_time": "2018-03-16T21:14:52.367693Z"
        },
        "id": "k41XX50v1in0"
      },
      "outputs": [],
      "source": [
        "x2 = x[:, np.newaxis]\n",
        "print(x2)\n",
        "x2.shape"
      ]
    },
    {
      "cell_type": "code",
      "execution_count": null,
      "metadata": {
        "id": "gUquYuEV1in0"
      },
      "outputs": [],
      "source": [
        "model.fit(x[:, np.newaxis], y)\n",
        "xfit = np.linspace(0, 10, 2)\n",
        "yfit = model.predict(xfit[:, np.newaxis])\n",
        "plt.scatter(x, y)\n",
        "plt.plot(xfit, yfit, color='red');"
      ]
    },
    {
      "cell_type": "markdown",
      "metadata": {
        "id": "yL4Ow2581in1"
      },
      "source": [
        "## Let's examine the coefficient and intercept"
      ]
    },
    {
      "cell_type": "code",
      "execution_count": null,
      "metadata": {
        "ExecuteTime": {
          "end_time": "2018-03-16T21:14:52.473891Z",
          "start_time": "2018-03-16T21:14:52.468821Z"
        },
        "id": "5RzBqMjb1in1"
      },
      "outputs": [],
      "source": [
        "model.coef_"
      ]
    },
    {
      "cell_type": "code",
      "execution_count": null,
      "metadata": {
        "ExecuteTime": {
          "end_time": "2018-03-16T21:14:52.481044Z",
          "start_time": "2018-03-16T21:14:52.475773Z"
        },
        "id": "E-ORUGTv1in1"
      },
      "outputs": [],
      "source": [
        "model.intercept_"
      ]
    },
    {
      "cell_type": "code",
      "execution_count": null,
      "metadata": {
        "id": "Vo7E8Qmx1in1"
      },
      "outputs": [],
      "source": [
        "# Use Python 3.6 f-strings to print out the formula of the regression line\n",
        "print(f'y = {model.coef_[0]:.2f}x + {model.intercept_:.2f}')"
      ]
    }
  ],
  "metadata": {
    "kernelspec": {
      "display_name": "Python 3",
      "language": "python",
      "name": "python3"
    },
    "language_info": {
      "codemirror_mode": {
        "name": "ipython",
        "version": 3
      },
      "file_extension": ".py",
      "mimetype": "text/x-python",
      "name": "python",
      "nbconvert_exporter": "python",
      "pygments_lexer": "ipython3",
      "version": "3.7.3"
    },
    "colab": {
      "provenance": []
    }
  },
  "nbformat": 4,
  "nbformat_minor": 0
}