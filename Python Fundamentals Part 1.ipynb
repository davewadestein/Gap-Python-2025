{
  "cells": [
    {
      "cell_type": "markdown",
      "source": [
        "# Recurring Themes\n",
        "* Programming \"Pythonically\"\n",
        " * What does this mean?\n",
        "* Using AI to be more efficient\n",
        " * We're going to leverage AI to\n",
        "   * write code for us (but this only makes sense if we understand it writes\n",
        "   * ...explain code we don't understand (but again, we need to have a solid foundation or we won't understand the explanation)\n",
        "   * critique our code\n",
        "* How to get help\n",
        "* Testing and debugging\n",
        "* Best practices"
      ],
      "metadata": {
        "id": "f-3Regf5CBnD"
      }
    },
    {
      "cell_type": "markdown",
      "metadata": {
        "id": "QFUSSDx95_fW"
      },
      "source": [
        "# What is Python?\n",
        "* a scripting language\n",
        "* a programming language\n",
        "* a command interpreter\n",
        "* a dynamically typed language\n",
        "* an object-oriented language"
      ]
    },
    {
      "cell_type": "code",
      "execution_count": null,
      "metadata": {
        "id": "BfqQaedG5_fX"
      },
      "outputs": [],
      "source": [
        "print('new stuff')"
      ]
    },
    {
      "cell_type": "markdown",
      "metadata": {
        "id": "I5YccdET5_fY"
      },
      "source": [
        "## How to get around in Jupyter:\n",
        "* Each place for you to enter text is called a _cell_\n",
        "* Usually you enter __`Python`__ code, but you can also enter text in a _markup_ language called __`Markdown`__ (that's what's going on in _this_ cell)\n",
        "* To \"run\" the code in the cell, hit __Shift-Return__ (i.e., hold down __Shift__ key, then hit __Return__)\n",
        "* Try it with the cell below..."
      ]
    },
    {
      "cell_type": "code",
      "execution_count": null,
      "metadata": {
        "id": "vxORAlkA5_fY"
      },
      "outputs": [],
      "source": [
        "count = 451\n",
        "count"
      ]
    },
    {
      "cell_type": "markdown",
      "metadata": {
        "id": "_i18JaG35_fY"
      },
      "source": [
        "* we'll work inside the Jupyter notebook and you'll be able to take it with you as a living, breathing document of your work in this class\n",
        "* the __Insert__ menu will allow you to add a cell above or below the current cell\n",
        "* the __Kernel__ menu will allow you to \"talk\" to the Python interpreter on your machine\n",
        "  * (when you type into a cell, you are \"talking\" to the web browser, and the web browser sends the text to the __`Python`__ interpreter to be \"run\")\n",
        "  * the __Kernel__ menu will allow you to _restart_ your __`Python`__ interpreter in case something goes wrong and it stops responding to you\n",
        "  "
      ]
    },
    {
      "cell_type": "markdown",
      "metadata": {
        "id": "DA5iRGzh5_fY"
      },
      "source": [
        "## Who/What\n",
        "* created by Guido van Rossum\n",
        "* \"pythonic\""
      ]
    },
    {
      "cell_type": "markdown",
      "metadata": {
        "id": "nnSCkQIp5_fZ"
      },
      "source": [
        "## Variables/Types\n",
        "* what are variables?\n",
        "  * what makes a good/bad variable name?\n",
        "* no declarations–Python is dynamically typed\n",
        "* basic data types are __int, float, string, boolean__\n",
        "* everything is an object (this is a difficult concept we will understand over time)"
      ]
    },
    {
      "cell_type": "code",
      "execution_count": null,
      "metadata": {
        "id": "Oic4mOLo5_fZ"
      },
      "outputs": [],
      "source": [
        "first = 3 # \"assignment statement\"\n",
        "second = 24.99\n",
        "third = 0\n",
        "print(first, second, third)"
      ]
    },
    {
      "cell_type": "code",
      "execution_count": null,
      "metadata": {
        "id": "ssWWy41f5_fZ"
      },
      "outputs": [],
      "source": [
        "second # asking Python to evaluate the value, i.e., tell us the value"
      ]
    },
    {
      "cell_type": "code",
      "execution_count": null,
      "metadata": {
        "id": "5qffIDtS5_fZ"
      },
      "outputs": [],
      "source": [
        "first˜ # tell us the value"
      ]
    },
    {
      "cell_type": "markdown",
      "metadata": {
        "id": "zixGG3l85_fZ"
      },
      "source": [
        "## ...but strongly typed!"
      ]
    },
    {
      "cell_type": "code",
      "execution_count": null,
      "metadata": {
        "id": "NUwOWVBA5_fZ"
      },
      "outputs": [],
      "source": [
        "prince = 'Prince'"
      ]
    },
    {
      "cell_type": "code",
      "execution_count": null,
      "metadata": {
        "id": "p2Rks8jw5_fZ"
      },
      "outputs": [],
      "source": [
        "prince + 1999"
      ]
    },
    {
      "cell_type": "code",
      "execution_count": null,
      "metadata": {
        "id": "GvIMO5WX5_fZ"
      },
      "outputs": [],
      "source": [
        "prince + str(1999) # 'Prince' + '1999'"
      ]
    },
    {
      "cell_type": "code",
      "execution_count": null,
      "metadata": {
        "id": "wdZ7r1u-5_fa"
      },
      "outputs": [],
      "source": [
        "# Basic datatypes in Python\n",
        "count = 12\n",
        "price = 14.95\n",
        "is_done = True\n",
        "name = 'Guido'\n",
        "print(count, price, is_done, name)"
      ]
    },
    {
      "cell_type": "code",
      "execution_count": null,
      "metadata": {
        "id": "YCgiVObD5_fa"
      },
      "outputs": [],
      "source": [
        "name # tell me the value of name"
      ]
    },
    {
      "cell_type": "code",
      "execution_count": null,
      "metadata": {
        "id": "y7hSscQc5_fa"
      },
      "outputs": [],
      "source": [
        "is_done"
      ]
    },
    {
      "cell_type": "markdown",
      "metadata": {
        "id": "vb9FaTkE5_fa"
      },
      "source": [
        "# Some [Builtin Python Functions](https://docs.python.org/3/library/functions.html)"
      ]
    },
    {
      "cell_type": "markdown",
      "metadata": {
        "id": "CqLuyqe65_fa"
      },
      "source": [
        "## __`str()`__\n",
        "* \"string-ifies\" whatever is passed as an argument, i.e., returns a string version\n",
        "* important to understand that the str() function does not alter the object that was passed to it\n",
        "* any object can be string-ified–that is, you can pass any object to the __`str()`__ function and it will work"
      ]
    },
    {
      "cell_type": "code",
      "execution_count": null,
      "metadata": {
        "id": "wd2OF-wW5_fa"
      },
      "outputs": [],
      "source": [
        "str(1999)"
      ]
    },
    {
      "cell_type": "code",
      "source": [
        "str(1.33)"
      ],
      "metadata": {
        "id": "I_vYfqGz60y2"
      },
      "execution_count": null,
      "outputs": []
    },
    {
      "cell_type": "code",
      "execution_count": null,
      "metadata": {
        "id": "Ms3Q1d3G5_fa"
      },
      "outputs": [],
      "source": [
        "str(1.33e14) # 1.33e14 is \"scienfic notation\" ... 1.33 x 10^14"
      ]
    },
    {
      "cell_type": "code",
      "execution_count": null,
      "metadata": {
        "id": "UMpt34Sk5_fa"
      },
      "outputs": [],
      "source": [
        "str('a string')"
      ]
    },
    {
      "cell_type": "markdown",
      "metadata": {
        "id": "oMN8Sk3o5_fa"
      },
      "source": [
        "## __`int()`__\n",
        "* __int__-ifies whatever is passed as an argument, i.e., returns an int verson\n",
        "* will not always work, cf. __`str()`__"
      ]
    },
    {
      "cell_type": "code",
      "execution_count": null,
      "metadata": {
        "id": "mVdPewZD5_fa"
      },
      "outputs": [],
      "source": [
        "value = '503'\n",
        "int(value)"
      ]
    },
    {
      "cell_type": "code",
      "execution_count": null,
      "metadata": {
        "id": "0oTLEaMn5_fa"
      },
      "outputs": [],
      "source": [
        "value = '503a'\n",
        "int(value) # will this work?"
      ]
    },
    {
      "cell_type": "code",
      "source": [
        "int(13.72)"
      ],
      "metadata": {
        "id": "qhE5PBw6Kaz9"
      },
      "execution_count": null,
      "outputs": []
    },
    {
      "cell_type": "code",
      "source": [
        "float('13.72')"
      ],
      "metadata": {
        "id": "spwjg2ahKmag"
      },
      "execution_count": null,
      "outputs": []
    },
    {
      "cell_type": "markdown",
      "metadata": {
        "id": "-4_mY9ew5_fa"
      },
      "source": [
        "## __`type()`__\n",
        "* returns the type of the object you pass to it"
      ]
    },
    {
      "cell_type": "code",
      "execution_count": null,
      "metadata": {
        "id": "6AXb-Nd65_fa"
      },
      "outputs": [],
      "source": [
        "value = 1\n",
        "value, type(value) # ok to ask for Python to evaluate *mutiple* values in a single response"
      ]
    },
    {
      "cell_type": "code",
      "execution_count": null,
      "metadata": {
        "id": "_dq4bMk05_fb"
      },
      "outputs": [],
      "source": [
        "value = value + 0.33 # val += 0.33\n",
        "value, type(value)"
      ]
    },
    {
      "cell_type": "code",
      "execution_count": null,
      "metadata": {
        "id": "cNtHoJJQ5_fb"
      },
      "outputs": [],
      "source": [
        "type(is_done)"
      ]
    },
    {
      "cell_type": "markdown",
      "metadata": {
        "id": "6TybDRk25_fb"
      },
      "source": [
        "## __`print()`__"
      ]
    },
    {
      "cell_type": "code",
      "execution_count": null,
      "metadata": {
        "id": "NrNz99oz5_fb"
      },
      "outputs": [],
      "source": [
        "name = 'Bruce Lee'\n",
        "print(name)"
      ]
    },
    {
      "cell_type": "code",
      "execution_count": null,
      "metadata": {
        "id": "usI47Az15_fb"
      },
      "outputs": [],
      "source": [
        "first_name, middle_name, last_name = 'Taylor', 'Alison', 'Swift' # only do this is variables are related\n",
        "print(first_name, middle_name, last_name)"
      ]
    },
    {
      "cell_type": "code",
      "execution_count": null,
      "metadata": {
        "id": "2CMPn95O5_fb"
      },
      "outputs": [],
      "source": [
        "print(first_name, middle_name, last_name, sep='...') # sep is called a \"keyword argument\""
      ]
    },
    {
      "cell_type": "code",
      "execution_count": null,
      "metadata": {
        "scrolled": true,
        "id": "pkBElPyY5_fb"
      },
      "outputs": [],
      "source": [
        "print(last_name, first_name, sep=', ', end=' ')\n",
        "# ... intervening code ...\n",
        "print(middle_name)"
      ]
    },
    {
      "cell_type": "markdown",
      "metadata": {
        "id": "gf8uDYUc5_fb"
      },
      "source": [
        "## Exercise: _str/int/type_\n",
        "* copy/paste each of the following expressions into a cell\n",
        " * before running the cell, think about what you expect the result to be\n",
        " * if result is not what you expect, that's an opportunity for learning\n",
        "<pre><b>str(53.3)\n",
        "str(False)\n",
        "str(false)\n",
        "int('300')\n",
        "int('30x')\n",
        "type(False)\n",
        "type('False')\n",
        "type(3.5)\n",
        "</b></pre>"
      ]
    },
    {
      "cell_type": "markdown",
      "metadata": {
        "id": "ldGfwnCn5_fb"
      },
      "source": [
        "# Python Arithmetic\n",
        "* the Python interpreter can perform arithmetic"
      ]
    },
    {
      "cell_type": "code",
      "execution_count": null,
      "metadata": {
        "id": "1vzP1FBi5_fb"
      },
      "outputs": [],
      "source": [
        "8 / 3"
      ]
    },
    {
      "cell_type": "code",
      "execution_count": null,
      "metadata": {
        "id": "u7wZerWN5_fb"
      },
      "outputs": [],
      "source": [
        "8 // 3 # \"int\" division"
      ]
    },
    {
      "cell_type": "markdown",
      "metadata": {
        "id": "fALeN5JT5_fb"
      },
      "source": [
        "# div/mod/divmod"
      ]
    },
    {
      "cell_type": "code",
      "execution_count": null,
      "metadata": {
        "id": "WP3IC-OZ5_fc"
      },
      "outputs": [],
      "source": [
        "23 // 4 # \"quotient\""
      ]
    },
    {
      "cell_type": "code",
      "execution_count": null,
      "metadata": {
        "id": "VM2xlJBr5_fc"
      },
      "outputs": [],
      "source": [
        "23 % 4 # remainder (modulus) when dividing 23 by 4"
      ]
    },
    {
      "cell_type": "code",
      "execution_count": null,
      "metadata": {
        "id": "KyEf1B0I5_fc"
      },
      "outputs": [],
      "source": [
        "divmod(23, 4) # Python functions can and often do return multiple values"
      ]
    },
    {
      "cell_type": "code",
      "execution_count": null,
      "metadata": {
        "id": "baFB1pE65_fc"
      },
      "outputs": [],
      "source": [
        "quotient, remainder = divmod(23, 4) # how many things does divmod() return?\n",
        "print(quotient)\n",
        "print(remainder)"
      ]
    },
    {
      "cell_type": "markdown",
      "source": [
        "# __`float()`__"
      ],
      "metadata": {
        "id": "yQYRbb2xbxN7"
      }
    },
    {
      "cell_type": "code",
      "execution_count": null,
      "metadata": {
        "id": "Rg3r4gtN5_fc"
      },
      "outputs": [],
      "source": [
        "number = 1\n",
        "float(number)"
      ]
    },
    {
      "cell_type": "code",
      "execution_count": null,
      "metadata": {
        "id": "XN-I04LB5_fc"
      },
      "outputs": [],
      "source": [
        "float('-1.23')"
      ]
    },
    {
      "cell_type": "code",
      "source": [
        "float('-1.23x') # will this work?"
      ],
      "metadata": {
        "id": "5SgFet_uQ2np"
      },
      "execution_count": null,
      "outputs": []
    },
    {
      "cell_type": "markdown",
      "metadata": {
        "id": "N_QzLEXu5_fc"
      },
      "source": [
        "# Strings"
      ]
    },
    {
      "cell_type": "markdown",
      "metadata": {
        "id": "qn-zYsy-5_fd"
      },
      "source": [
        "## Strings\n",
        "* \"strings\" are nothing more than some text surrounded by quotes\n",
        "* you may use single or double quotes\n",
        "* you rarely need it, but `\\` lets you escape the next character, i.e., avoid its usual meaning\n",
        "* string operators: __`+, *`__"
      ]
    },
    {
      "cell_type": "code",
      "execution_count": null,
      "metadata": {
        "id": "QAEGzprh5_fd"
      },
      "outputs": [],
      "source": [
        "string1 = \"This string isn't a problem\"\n",
        "string1"
      ]
    },
    {
      "cell_type": "code",
      "execution_count": null,
      "metadata": {
        "id": "A1Sc__-B5_fd"
      },
      "outputs": [],
      "source": [
        "string2 = 'This string is a \"good\" example'\n",
        "string2"
      ]
    },
    {
      "cell_type": "code",
      "execution_count": null,
      "metadata": {
        "id": "9CR2sRWd5_fd"
      },
      "outputs": [],
      "source": [
        "string3 = 'This string isn\\'t \"more difficult\" to read'\n",
        "print(string3)"
      ]
    },
    {
      "cell_type": "markdown",
      "metadata": {
        "id": "l7F9EwJe5_fd"
      },
      "source": [
        "* __`+`__ = concatenation operator\n",
        "* __`*`__ = duplication operator"
      ]
    },
    {
      "cell_type": "code",
      "execution_count": null,
      "metadata": {
        "id": "aRT01wTK5_fd"
      },
      "outputs": [],
      "source": [
        "s, t = \"hello\", 'bye' # bad practice in THREE ways\n",
        "print(s + t)"
      ]
    },
    {
      "cell_type": "code",
      "execution_count": null,
      "metadata": {
        "id": "CJKSQZ8R5_fd"
      },
      "outputs": [],
      "source": [
        "print(s, t)"
      ]
    },
    {
      "cell_type": "code",
      "execution_count": null,
      "metadata": {
        "id": "cu0Brs0o5_fd"
      },
      "outputs": [],
      "source": [
        "s * 4"
      ]
    },
    {
      "cell_type": "code",
      "execution_count": null,
      "metadata": {
        "id": "J6z7U-au5_fd"
      },
      "outputs": [],
      "source": [
        "print('0123456789' * 8)\n",
        "print('-' * 80)"
      ]
    },
    {
      "cell_type": "markdown",
      "metadata": {
        "id": "zrEDku-Y5_fd"
      },
      "source": [
        "## Multi-Line Strings\n",
        "* triple quotes allow for easy multi-line strings (i.e., strings that span multiple lines)"
      ]
    },
    {
      "cell_type": "code",
      "execution_count": null,
      "metadata": {
        "id": "wkOOcfRo5_fd"
      },
      "outputs": [],
      "source": [
        "s = \"\"\"\n",
        "isn't this a\n",
        "multi-line string\n",
        "?\n",
        "\"\"\"\n",
        "\n",
        "print(s)"
      ]
    },
    {
      "cell_type": "markdown",
      "metadata": {
        "id": "SZZ8NKmg5_fd"
      },
      "source": [
        "## Exercise: Strings\n",
        "* after typing this in...\n",
        "\n",
        "<pre><b>a, b, o, p = 'b', 'a', 'p', 'o'\n",
        "</pre>\n",
        "\n",
        "<pre><b>What will be the result of these expressions?\n",
        "\n",
        "(Type them in and see, but first, think about what you expect the result to be)\n",
        "o + p + o\n",
        "a * 3 + b\n",
        "a + p * 2 + 'k' * 2 + 'e' * 2 + o + 'er'\n"
      ]
    },
    {
      "cell_type": "markdown",
      "metadata": {
        "id": "Y3OrerQK5_fd"
      },
      "source": [
        "## __`len()`__\n",
        "* returns the length of a string\n",
        "  * (or more correctly returns the length/size of any \"container\")"
      ]
    },
    {
      "cell_type": "code",
      "execution_count": null,
      "metadata": {
        "id": "6Flk024_5_fd"
      },
      "outputs": [],
      "source": [
        "name = 'Prince'\n",
        "len(name)"
      ]
    },
    {
      "cell_type": "code",
      "execution_count": null,
      "metadata": {
        "id": "h_uGrC0x5_fd"
      },
      "outputs": [],
      "source": [
        "len('')"
      ]
    },
    {
      "cell_type": "code",
      "execution_count": null,
      "metadata": {
        "id": "u1hDG7qb5_fe"
      },
      "outputs": [],
      "source": [
        "len(name * 5)"
      ]
    },
    {
      "cell_type": "markdown",
      "metadata": {
        "id": "9jKkcMwS5_fe"
      },
      "source": [
        "## Indexing Strings with __`[]`__\n",
        "* access a single character via its offset\n",
        "* easier to think of offset as opposed to index\n",
        "* negative offsets count from end of string"
      ]
    },
    {
      "cell_type": "code",
      "execution_count": null,
      "metadata": {
        "id": "0td3D-Kg5_fe"
      },
      "outputs": [],
      "source": [
        "alphabet = 'abcdefghijklmnopqrstuvwxyz'\n",
        "         #  01234567890123456789012345\n",
        "         #                         321-"
      ]
    },
    {
      "cell_type": "code",
      "execution_count": null,
      "metadata": {
        "id": "W344MnXB5_fe"
      },
      "outputs": [],
      "source": [
        "alphabet[0] # \"alphabet of 0\""
      ]
    },
    {
      "cell_type": "code",
      "execution_count": null,
      "metadata": {
        "id": "F6l8LRHC5_fe"
      },
      "outputs": [],
      "source": [
        "alphabet[23] # len(alphabet)-3"
      ]
    },
    {
      "cell_type": "code",
      "execution_count": null,
      "metadata": {
        "id": "qMHPYn7k5_fe"
      },
      "outputs": [],
      "source": [
        "alphabet[-1] # idiomatic"
      ]
    },
    {
      "cell_type": "code",
      "execution_count": null,
      "metadata": {
        "id": "uoUeDtBH5_fe"
      },
      "outputs": [],
      "source": [
        "alphabet[-3]"
      ]
    },
    {
      "cell_type": "markdown",
      "metadata": {
        "id": "-NbV0nag5_fe"
      },
      "source": [
        "# Let's run a small program in the notebook...and then run it outside of the notebook"
      ]
    },
    {
      "cell_type": "code",
      "execution_count": null,
      "metadata": {
        "id": "wq1-czN55_fe"
      },
      "outputs": [],
      "source": [
        "name = input('Enter your name: ')\n",
        "print('You entered', name)"
      ]
    },
    {
      "cell_type": "markdown",
      "metadata": {
        "id": "d3fFuj8N5_fe"
      },
      "source": [
        "## Lab: putting our Python code in a file\n",
        "* it's important to understand how to create Python code outside of a notebook\n",
        "  * unfortunately Google Colaboratory doesn't allow us to do that easily at the free tier\n",
        "  * if you've got Python and a code editor installed...?\n",
        "  * or, let's try http://pythonanywhere.com using an editor, put the above two lines in the file __`name.py`__\n",
        "\n",
        "\n"
      ]
    },
    {
      "cell_type": "markdown",
      "metadata": {
        "id": "hCu5CBH95_fe"
      },
      "source": [
        "## Indentation\n",
        "* colons and indentation delineate blocks in Python\n",
        "* no braces {...} like you will find in other languages\n",
        "* this will trip you up at first but once you're used to it, you'll love it"
      ]
    },
    {
      "cell_type": "code",
      "execution_count": null,
      "metadata": {
        "id": "JqXBR4dT5_fe"
      },
      "outputs": [],
      "source": [
        "number = 1\n",
        "\n",
        "#...\n",
        "\n",
        "if number % 2 == 0: # even?\n",
        "    print('Hey, number is 1!')\n",
        "    print('This is part of the if block')\n",
        "\n",
        "print('this is not part of the if block and is printed regardless')\n"
      ]
    },
    {
      "cell_type": "markdown",
      "metadata": {
        "id": "3yhLYgUu5_fe"
      },
      "source": [
        "## Indentation (continued)\n",
        "*  indentation must be consistent throughout the block"
      ]
    },
    {
      "cell_type": "code",
      "source": [
        "if number == 1:\n",
        "    print('number is 1')\n",
        "    print('something else')"
      ],
      "metadata": {
        "id": "fXfSzkgKuFdx"
      },
      "execution_count": null,
      "outputs": []
    },
    {
      "cell_type": "markdown",
      "metadata": {
        "id": "t8wnUev35_fe"
      },
      "source": [
        "*  you can use any indentation you want as long as it's 4 spaces (PEP-8\n",
        "https://www.python.org/dev/peps/pep-0008/)"
      ]
    },
    {
      "cell_type": "markdown",
      "metadata": {
        "id": "IO9hLBvX5_fe"
      },
      "source": [
        "# __`if`__ statements\n",
        "* enable us to ask a question\n",
        "* no parens needed as they are in some other languages\n",
        "* __`elif`__ = else if"
      ]
    },
    {
      "cell_type": "code",
      "execution_count": null,
      "metadata": {
        "id": "UqAs7qJ35_fe"
      },
      "outputs": [],
      "source": [
        "my_number = 37\n",
        "guess = int(input('Enter your guess (make sure it is an integer): '))\n",
        "\n",
        "if guess > my_number:\n",
        "    print('Guess was too high')\n",
        "elif guess < my_number:\n",
        "    print('Guess was too low')\n",
        "else:\n",
        "    print('You got it!')"
      ]
    },
    {
      "cell_type": "markdown",
      "metadata": {
        "id": "JwLcBjta5_fe"
      },
      "source": [
        "# Comparison Operators\n",
        "\n",
        "| operator | meaning |\n",
        "|---|---|\n",
        "| == | equality  |\n",
        "| != | inequality|\n",
        "| < | less than |\n",
        "| <= | less than or equals |\n",
        "| > | greater than |\n",
        "| >= | greater than or equals |\n",
        "| in | membership"
      ]
    },
    {
      "cell_type": "code",
      "execution_count": null,
      "metadata": {
        "id": "-YrTmlx15_ff"
      },
      "outputs": [],
      "source": [
        "x = 7"
      ]
    },
    {
      "cell_type": "code",
      "execution_count": null,
      "metadata": {
        "id": "RVE44Geb5_ff"
      },
      "outputs": [],
      "source": [
        "5 < x"
      ]
    },
    {
      "cell_type": "code",
      "execution_count": null,
      "metadata": {
        "id": "stcknKzW5_ff"
      },
      "outputs": [],
      "source": [
        "x < 9"
      ]
    },
    {
      "cell_type": "code",
      "execution_count": null,
      "metadata": {
        "id": "iWPYuIeB5_ff"
      },
      "outputs": [],
      "source": [
        "5 < x and x < 9 # many programming languages use &&"
      ]
    },
    {
      "cell_type": "code",
      "execution_count": null,
      "metadata": {
        "id": "fybvz3Ou5_ff"
      },
      "outputs": [],
      "source": [
        "(5 < x) and (x < 9)"
      ]
    },
    {
      "cell_type": "code",
      "execution_count": null,
      "metadata": {
        "id": "X57y6-4I5_ff"
      },
      "outputs": [],
      "source": [
        "5 < x < 9 # only language I know of that does this right"
      ]
    },
    {
      "cell_type": "markdown",
      "metadata": {
        "id": "njH9wj755_ff"
      },
      "source": [
        "## Loops\n",
        "* enable us to repeat an action\n",
        "* two kinds of loops in Python\n",
        " * __`while`__ loops (\"do something until a condition becomes false\")\n",
        " * __`for`__ loops (\"do something a certain number of times\")"
      ]
    },
    {
      "cell_type": "markdown",
      "metadata": {
        "id": "7_3TtB9l5_ff"
      },
      "source": [
        "## __`while`__ loop example"
      ]
    },
    {
      "cell_type": "code",
      "execution_count": 4,
      "metadata": {
        "id": "WnDewh8j5_ff",
        "outputId": "bd93c9bf-79cc-47cf-af64-5bae4842eb99",
        "colab": {
          "base_uri": "https://localhost:8080/"
        }
      },
      "outputs": [
        {
          "output_type": "stream",
          "name": "stdout",
          "text": [
            "Enter your guess (enter 0 to give up): 50\n",
            "Guess was too high\n",
            "Enter your guess (enter 0 to give up): 25\n",
            "Guess was too high\n",
            "Enter your guess (enter 0 to give up): 12\n",
            "Guess was too low\n",
            "Enter your guess (enter 0 to give up): 18\n",
            "Guess was too low\n",
            "Enter your guess (enter 0 to give up): 21\n",
            "Guess was too low\n",
            "Enter your guess (enter 0 to give up): 23\n",
            "You got it!\n"
          ]
        }
      ],
      "source": [
        "import random # \"batteries included\"\n",
        "\n",
        "my_number = random.randint(1, 100)\n",
        "guess = 0 # \"prime the pump\"\n",
        "guess_count = 0\n",
        "\n",
        "while guess != my_number: # loop until...?\n",
        "    guess = int(input('Enter your guess (enter 0 to give up): '))\n",
        "    if guess < 1 or guess > 100:\n",
        "        print('Invalid guess: must be between 1 and 100')\n",
        "        continue\n",
        "    guess_count += 1 # increment the guess count\n",
        "\n",
        "    if guess == 0:\n",
        "        print(\"Sorry that you're giving up!\")\n",
        "        break # leave the loop immediately (abnormal termination)\n",
        "    elif guess > my_number:\n",
        "        print(\"Guess was too high\")\n",
        "    elif guess < my_number:\n",
        "        print(\"Guess was too low\")\n",
        "    else:\n",
        "        print(\"You got it!\")"
      ]
    },
    {
      "cell_type": "markdown",
      "metadata": {
        "id": "2i1rIggX5_ff"
      },
      "source": [
        "## __`for`__ loop example\n",
        "* typically used to iterate through an _container_ (string and others we haven't learned yet) one element at a time\n",
        "* _\"for thing in container\"_"
      ]
    },
    {
      "cell_type": "code",
      "execution_count": 7,
      "metadata": {
        "scrolled": true,
        "id": "vk881_Fj5_ff",
        "outputId": "ceaf2afc-0900-4b0a-8690-acfeb4fa2d8d",
        "colab": {
          "base_uri": "https://localhost:8080/"
        }
      },
      "outputs": [
        {
          "output_type": "stream",
          "name": "stdout",
          "text": [
            "N\n",
            "o\n",
            "w\n",
            " \n",
            "i\n",
            "s\n",
            " \n",
            "t\n",
            "h\n",
            "e\n",
            " \n",
            "t\n",
            "i\n",
            "m\n",
            "e\n"
          ]
        }
      ],
      "source": [
        "for character in 'Now is the time': # for each element in the container\n",
        "    print(character)"
      ]
    },
    {
      "cell_type": "markdown",
      "metadata": {
        "id": "aC65bPk-5_ff"
      },
      "source": [
        "## Sequences are also iterable\n"
      ]
    },
    {
      "cell_type": "code",
      "execution_count": 13,
      "metadata": {
        "id": "RLepP8cY5_ff",
        "outputId": "9a05cbc6-b167-4971-b385-3643ba107895",
        "colab": {
          "base_uri": "https://localhost:8080/"
        }
      },
      "outputs": [
        {
          "output_type": "stream",
          "name": "stdout",
          "text": [
            "1\n",
            "2\n",
            "3\n",
            "4\n",
            "5\n",
            "6\n",
            "7\n",
            "8\n",
            "9\n",
            "10\n"
          ]
        }
      ],
      "source": [
        "for number in range(1, 11): # \"for thing in container\"\n",
        "    print(number)"
      ]
    },
    {
      "cell_type": "code",
      "source": [
        "for number in range(1, 10, 2): # \"for thing in container\"\n",
        "    print(number)"
      ],
      "metadata": {
        "id": "EXCLbEBDUYZz"
      },
      "execution_count": null,
      "outputs": []
    },
    {
      "cell_type": "code",
      "execution_count": null,
      "metadata": {
        "scrolled": true,
        "id": "a0S6VRo15_ff"
      },
      "outputs": [],
      "source": [
        "for num in range(10, 0, -1):\n",
        "    print(num)\n",
        "print('blast off!')"
      ]
    },
    {
      "cell_type": "code",
      "execution_count": null,
      "metadata": {
        "scrolled": true,
        "id": "fB4cdPsP5_ff"
      },
      "outputs": [],
      "source": [
        "for num in range(-5, 6): # -5 ... 5\n",
        "    if num == 0:\n",
        "        continue # \"syntactic sugar\"\n",
        "    print(1 / num, end=' ')"
      ]
    },
    {
      "cell_type": "markdown",
      "metadata": {
        "id": "HZah9Su45_ff"
      },
      "source": [
        "## Quick Lab: Loops/Strings\n",
        "* have the user enter a string, then loop through the string to generate (or print) a new string in which every character is duplicated, e.g., \"Python\" => \"PPyytthhoonn\""
      ]
    },
    {
      "cell_type": "markdown",
      "source": [
        "## Quick Lab: Loops/Numbers\n",
        "* write Python code to generate a 6-digit access/security code, like you get when your try to log in to a website and it sends a code to your phone...e.g., 031728"
      ],
      "metadata": {
        "id": "5q9k5xNdUs6d"
      }
    },
    {
      "cell_type": "markdown",
      "metadata": {
        "id": "UJ22Z3N-5_ff"
      },
      "source": [
        "## Lab: Fibonacci\n",
        "* write code to print out the Fibonacci sequence up to a number of the user's choosing\n",
        "* user will enter either number of Fibonacci numbers they want to see or the maximum Fibonacci number they want to see (either a for loop or while loop)\n",
        "* first Fibonacci is 1, second Fibonacci is also 1, and every subsequent Fibonacci number is the sum of the previous two (1, 1, 2, 3, 5, 8, 13, 21, 34, ...)"
      ]
    },
    {
      "cell_type": "markdown",
      "metadata": {
        "jp-MarkdownHeadingCollapsed": true,
        "id": "grlwxT2D5_ff"
      },
      "source": [
        "## Lab: Prime Numbers\n",
        "* write code to print out the numbers from 2 to 25 inclusive and indicate whether the number is prime and if it's not prime, write the number as a product of two factors, e.g.,\n",
        "* a prime number is a number that has no divisors other than itself and 1\n",
        "<pre>\n",
        "2 is prime\n",
        "3 is prime\n",
        "4 equals 2 * 2\n",
        "5 is prime\n",
        "6 equals 2 * 3\n",
        "7 is prime\n",
        "8 equals 2 * 4\n",
        "9 equals 3 * 3\n",
        "10 equals 2 * 5\n",
        "11 is prime\n",
        "12 equals 2 * 6\n",
        "13 is prime\n",
        "14 equals 2 * 7\n",
        "15 equals 3 * 5\n",
        "16 equals 2 * 8\n",
        "17 is prime\n",
        "18 equals 2 * 9\n",
        "19 is prime\n",
        "20 equals 2 * 10\n",
        "21 equals 3 * 7\n",
        "22 equals 2 * 11\n",
        "23 is prime\n",
        "24 equals 2 * 12\n",
        "25 equals 5 * 5\n",
        "</pre>"
      ]
    },
    {
      "cell_type": "markdown",
      "metadata": {
        "id": "EZQgau7k5_fg"
      },
      "source": [
        "## Loops: Recap\n",
        "* __`for`__ loop is more common\n",
        "* __`break`__ exits loop immediately\n",
        "* __`continue`__ skips remainder of loop and starts next iteration"
      ]
    },
    {
      "cell_type": "markdown",
      "metadata": {
        "id": "Q3Wvy8Ru5_fg"
      },
      "source": [
        "## Revisiting Strings"
      ]
    },
    {
      "cell_type": "markdown",
      "metadata": {
        "id": "RVqMAxFY5_fg"
      },
      "source": [
        "## Slices\n",
        "* __`[start:stop:step]`__\n",
        "* extracts the substring from __`start`__ to __`stop`__ _minus 1_, skipping __`step`__ characters at a time\n",
        "* each of the st... are optional"
      ]
    },
    {
      "cell_type": "code",
      "execution_count": null,
      "metadata": {
        "id": "-DvSKzI_5_fg"
      },
      "outputs": [],
      "source": [
        "alphabet = 'abcdefghijklmnopqrstuvwxyz'\n",
        "         #  01234567890123456789012345\n",
        "         #                         321-"
      ]
    },
    {
      "cell_type": "code",
      "execution_count": null,
      "metadata": {
        "id": "Ek0NrjeH5_fg"
      },
      "outputs": [],
      "source": [
        "alphabet[10:15]"
      ]
    },
    {
      "cell_type": "code",
      "execution_count": null,
      "metadata": {
        "id": "HxS3UTt35_fg"
      },
      "outputs": [],
      "source": [
        "alphabet[:5] # first 5 chars"
      ]
    },
    {
      "cell_type": "code",
      "execution_count": null,
      "metadata": {
        "id": "XgWuKItU5_fg"
      },
      "outputs": [],
      "source": [
        "alphabet[23:]"
      ]
    },
    {
      "cell_type": "code",
      "execution_count": null,
      "metadata": {
        "id": "Uldse7u75_fg"
      },
      "outputs": [],
      "source": [
        "alphabet[3:23:3]"
      ]
    },
    {
      "cell_type": "code",
      "execution_count": null,
      "metadata": {
        "id": "Zs3-PEF65_fg"
      },
      "outputs": [],
      "source": [
        "alphabet[10:2:-1]"
      ]
    },
    {
      "cell_type": "code",
      "execution_count": null,
      "metadata": {
        "id": "Y1F5VlVm5_fg"
      },
      "outputs": [],
      "source": [
        "alphabet[-3:]"
      ]
    },
    {
      "cell_type": "code",
      "execution_count": null,
      "metadata": {
        "id": "aEQqV8l85_fg"
      },
      "outputs": [],
      "source": [
        "alphabet[::-1] # idiomatic"
      ]
    },
    {
      "cell_type": "markdown",
      "metadata": {
        "id": "rp6dFn2y5_fg"
      },
      "source": [
        "## More String Functions (Methods)\n",
        "* \"methods\" are functions which are specific to a given datatype (e.g., string functions)\n",
        "* methods are called using a new syntax"
      ]
    },
    {
      "cell_type": "code",
      "execution_count": null,
      "metadata": {
        "id": "Q9GnnNr65_fg"
      },
      "outputs": [],
      "source": [
        "poem = '''TWO roads diverged in a yellow wood,\n",
        "And sorry I could not travel both\n",
        "And be one traveler, long I stood\n",
        "And looked down one as far as I could\n",
        "To where it bent in the undergrowth;\n",
        "\n",
        "Then took the other, as just as fair,\n",
        "And having perhaps the better claim,\n",
        "Because it was grassy and wanted wear;\n",
        "Though as for that the passing there\n",
        "Had worn them really about the same,\n",
        "\n",
        "And both that morning equally lay\n",
        "In leaves no step had trodden black.\n",
        "Oh, I kept the first for another day!\n",
        "Yet knowing how way leads on to way,\n",
        "I doubted if I should ever come back.\n",
        "\n",
        "I shall be telling this with a sigh\n",
        "Somewhere ages and ages hence:\n",
        "Two roads diverged in a wood, and I—\n",
        "I took the one less traveled by,\n",
        "And that has made all the difference.'''"
      ]
    },
    {
      "cell_type": "code",
      "execution_count": null,
      "metadata": {
        "id": "BUpfAIz55_fg"
      },
      "outputs": [],
      "source": [
        "len(poem) # built-in function"
      ]
    },
    {
      "cell_type": "code",
      "execution_count": null,
      "metadata": {
        "id": "HSdO6_775_fg"
      },
      "outputs": [],
      "source": [
        "poem[:17]"
      ]
    },
    {
      "cell_type": "code",
      "execution_count": null,
      "metadata": {
        "id": "p-6WjSOe5_fg"
      },
      "outputs": [],
      "source": [
        "poem.startswith('TWO') # startswith is a function...a \"method\"\n",
        "# NOT startswith(poem, 'TWO')"
      ]
    },
    {
      "cell_type": "code",
      "execution_count": null,
      "metadata": {
        "id": "4qKDWIa25_fg"
      },
      "outputs": [],
      "source": [
        "poem.endswith('And miles to go before I sleep.')"
      ]
    },
    {
      "cell_type": "code",
      "execution_count": null,
      "metadata": {
        "id": "X9RMQtD75_fg"
      },
      "outputs": [],
      "source": [
        "poem.find('the')"
      ]
    },
    {
      "cell_type": "code",
      "execution_count": null,
      "metadata": {
        "id": "YLQrSxHG5_fh"
      },
      "outputs": [],
      "source": [
        "poem[163:178] # how long is this slice?"
      ]
    },
    {
      "cell_type": "code",
      "execution_count": null,
      "metadata": {
        "id": "-OQ603zZ5_fh"
      },
      "outputs": [],
      "source": [
        "poem.rfind('the')"
      ]
    },
    {
      "cell_type": "code",
      "execution_count": null,
      "metadata": {
        "id": "IE4eVki65_fh"
      },
      "outputs": [],
      "source": [
        "poem.count('the')"
      ]
    },
    {
      "cell_type": "markdown",
      "metadata": {
        "id": "BFQc9tNs5_fh"
      },
      "source": [
        "## __`strip()`__"
      ]
    },
    {
      "cell_type": "code",
      "execution_count": null,
      "metadata": {
        "id": "rR09gl015_fh"
      },
      "outputs": [],
      "source": [
        "s = '\\t\\t\\t \\n\\n Now is the time  \\t\\t\\t \\n  '\n",
        "s.strip() # generates a new string in which leading/trailing..."
      ]
    },
    {
      "cell_type": "code",
      "execution_count": null,
      "metadata": {
        "id": "Pua9ahRa5_fh"
      },
      "outputs": [],
      "source": [
        "s"
      ]
    },
    {
      "cell_type": "code",
      "execution_count": null,
      "metadata": {
        "id": "VTukbHIn5_fh"
      },
      "outputs": [],
      "source": [
        "s = s.strip()"
      ]
    },
    {
      "cell_type": "code",
      "execution_count": null,
      "metadata": {
        "id": "QR7ipjnh5_fh"
      },
      "outputs": [],
      "source": [
        "s"
      ]
    },
    {
      "cell_type": "code",
      "execution_count": null,
      "metadata": {
        "id": "Gdf_aosx5_fh"
      },
      "outputs": [],
      "source": [
        "s = '.' + s + '...'\n",
        "s"
      ]
    },
    {
      "cell_type": "code",
      "execution_count": null,
      "metadata": {
        "id": "ZAF4fAjY5_fh"
      },
      "outputs": [],
      "source": [
        "s.strip('.')"
      ]
    },
    {
      "cell_type": "markdown",
      "metadata": {
        "id": "TcUaGkfl5_fh"
      },
      "source": [
        "## Even More String Functions (Methods)..."
      ]
    },
    {
      "cell_type": "code",
      "execution_count": null,
      "metadata": {
        "id": "ocZm_Woj5_fh"
      },
      "outputs": [],
      "source": [
        "s = 'now IS the time'\n",
        "s.capitalize()"
      ]
    },
    {
      "cell_type": "code",
      "execution_count": null,
      "metadata": {
        "id": "ttSz9aKj5_fh"
      },
      "outputs": [],
      "source": [
        "s.title()"
      ]
    },
    {
      "cell_type": "code",
      "execution_count": null,
      "metadata": {
        "id": "EYBs1ldu5_fh"
      },
      "outputs": [],
      "source": [
        "s.upper()"
      ]
    },
    {
      "cell_type": "code",
      "execution_count": null,
      "metadata": {
        "id": "DpesNOjt5_fh"
      },
      "outputs": [],
      "source": [
        "s.lower()"
      ]
    },
    {
      "cell_type": "code",
      "execution_count": null,
      "metadata": {
        "id": "e3N23lYe5_fh"
      },
      "outputs": [],
      "source": [
        "s.swapcase()"
      ]
    },
    {
      "cell_type": "code",
      "execution_count": null,
      "metadata": {
        "id": "YIPLYaeX5_fh"
      },
      "outputs": [],
      "source": [
        "s.replace('the', 'not the') # be careful of the naming"
      ]
    },
    {
      "cell_type": "code",
      "execution_count": null,
      "metadata": {
        "id": "BbDxuN9M5_fh"
      },
      "outputs": [],
      "source": [
        "s.replace('t', 'T')"
      ]
    },
    {
      "cell_type": "code",
      "source": [
        "# Ask the user for a sentence and an integer n\n",
        "sentence = input(\"Enter a sentence: \")\n",
        "n = int(input(\"Enter an integer (n): \"))\n",
        "\n",
        "# Initialize variables to store the result\n",
        "result = \"\"\n",
        "upper = True  # Flag to toggle between uppercase and lowercase\n",
        "\n",
        "# Iterate through the sentence in chunks of n characters\n",
        "for i in range(0, len(sentence), n):\n",
        "    chunk = sentence[i:i+n]\n",
        "\n",
        "    if upper:\n",
        "        result += chunk.upper()  # Convert chunk to uppercase\n",
        "    else:\n",
        "        result += chunk.lower()  # Convert chunk to lowercase\n",
        "\n",
        "    upper = not upper  # Toggle the case for the next chunk\n",
        "\n",
        "# Print the result\n",
        "print(\"Formatted sentence:\", result)"
      ],
      "metadata": {
        "id": "kBqNHW_KbrCd"
      },
      "execution_count": null,
      "outputs": []
    },
    {
      "cell_type": "markdown",
      "metadata": {
        "id": "e1ZZuuTo5_fi"
      },
      "source": [
        "## Quick Lab: String Functions\n",
        "* write a Python program to read in a sentences and tell the user how many vowels are in that sentence\n",
        "* so if the user entered \"Apples are my favorite fruit\", your program would respond with 10 (or 11 if you count 'y' as a vowel)"
      ]
    },
    {
      "cell_type": "markdown",
      "metadata": {
        "id": "8L7SrhfA5_fi"
      },
      "source": [
        "## Lab: String Functions\n",
        "* write a Python program to read in a string/sentence and then read in a number __`n`__ (give it a better name, but we'll use __`n`__ for this explanation)\n",
        "* your program will print out the sentence such that the first __`n`__ characters (including any spaces) are upper case, then the next __`n`__ characters (including any spaces) are lower case, and so on\n",
        "  * so if the user entered __`Now is the time`__ followed by __`4`__, your program would output __`NOW is tHE Time`__\n",
        "  * notice that spaces are characters, so in the above example, __`Now `__ are the first 4 characters and they are printed as upper case (the space will of course not be printed any differently, it will just be a space)"
      ]
    },
    {
      "cell_type": "markdown",
      "metadata": {
        "id": "hlJEE7Wz5_fi"
      },
      "source": [
        "## __`split()/join()`__\n",
        "* important string methods which are inverses of one another\n",
        "* __`.split()`__ splits a string into a __`list`__, a new datatype\n",
        "* __`.join()`__ takes a list of words and joins them back together into a string"
      ]
    },
    {
      "cell_type": "code",
      "execution_count": null,
      "metadata": {
        "id": "9Q1zH_n35_fi"
      },
      "outputs": [],
      "source": [
        "'Now is the time'.split() # this is a string method"
      ]
    },
    {
      "cell_type": "code",
      "execution_count": null,
      "metadata": {
        "id": "6rcJz-Uv5_fi"
      },
      "outputs": [],
      "source": [
        "'eggs, bread, milk, yogurt'.split(', ')"
      ]
    },
    {
      "cell_type": "markdown",
      "metadata": {
        "id": "Ta6CLHgq5_fi"
      },
      "source": [
        "* Now we want to demonstrate that we can put back together a \"splitted\" string\n",
        "  * it would be nice if we could write __`['eggs', 'bread', 'milk', 'yogurt'].join(', ')`__\n",
        "  * but we can't because __`.join()`__ is actually a string method...WHY?"
      ]
    },
    {
      "cell_type": "code",
      "execution_count": null,
      "metadata": {
        "id": "y_RWOgJ-5_fi"
      },
      "outputs": [],
      "source": [
        "''.join(['anti', 'dis', 'establish', 'men', 'tarian', 'ism'])"
      ]
    },
    {
      "cell_type": "code",
      "execution_count": null,
      "metadata": {
        "id": "C2U4FpiV5_fi"
      },
      "outputs": [],
      "source": [
        "', '.join(['Anne', 'Robert', 'Nancy'])"
      ]
    },
    {
      "cell_type": "markdown",
      "metadata": {
        "id": "GwDTSRJj5_fi"
      },
      "source": [
        "## Lists\n",
        "* usually homogeneous, but may contain any objects\n",
        "* unbounded / not a fixed size\n",
        "* duplicates allowed\n",
        "* __`list()`__ function creates a list from another sequence or container"
      ]
    },
    {
      "cell_type": "code",
      "execution_count": null,
      "metadata": {
        "id": "jZ6zn6ug5_fi"
      },
      "outputs": [],
      "source": [
        "mylist = [1, 3, 5, 7, 5, 3, 1]\n",
        "mylist"
      ]
    },
    {
      "cell_type": "code",
      "execution_count": null,
      "metadata": {
        "id": "mZCAlABR5_fi"
      },
      "outputs": [],
      "source": [
        "days = ['Mon', 'Tue', 'Wed', 'Thu', 'Fri', 'Sat', 'Sun']\n",
        "days"
      ]
    },
    {
      "cell_type": "code",
      "execution_count": null,
      "metadata": {
        "id": "e97j4AZF5_fi"
      },
      "outputs": [],
      "source": [
        "list('hello')"
      ]
    },
    {
      "cell_type": "code",
      "execution_count": null,
      "metadata": {
        "id": "u7rJ4xw25_fi"
      },
      "outputs": [],
      "source": [
        "stuff = input('Enter something: ')\n",
        "stuff.split()"
      ]
    },
    {
      "cell_type": "code",
      "execution_count": null,
      "metadata": {
        "id": "XMkYH8Zq5_fi"
      },
      "outputs": [],
      "source": [
        "cars = ['Tesla', 'Rivian', 'Lucid', 'Polestar', 'Aptera']"
      ]
    },
    {
      "cell_type": "code",
      "execution_count": null,
      "metadata": {
        "id": "cU_GQz5c5_fk"
      },
      "outputs": [],
      "source": [
        "cars[0]"
      ]
    },
    {
      "cell_type": "code",
      "execution_count": null,
      "metadata": {
        "id": "r3-OpTxs5_fk"
      },
      "outputs": [],
      "source": [
        "cars[-1] # always the last element of the list"
      ]
    },
    {
      "cell_type": "code",
      "execution_count": null,
      "metadata": {
        "id": "bs8DIxQy5_fk"
      },
      "outputs": [],
      "source": [
        "vehicles = [cars, 'bus']\n",
        "vehicles"
      ]
    },
    {
      "cell_type": "code",
      "execution_count": null,
      "metadata": {
        "id": "kvHsfYau5_fk"
      },
      "outputs": [],
      "source": [
        "vehicles[0]"
      ]
    },
    {
      "cell_type": "code",
      "execution_count": null,
      "metadata": {
        "id": "0sqCIjqu5_fk"
      },
      "outputs": [],
      "source": [
        "vehicles[0][-1]"
      ]
    },
    {
      "cell_type": "code",
      "execution_count": null,
      "metadata": {
        "id": "lpU2usAW5_fk"
      },
      "outputs": [],
      "source": [
        "cars[-1] = 'Aptera Motors'\n",
        "cars"
      ]
    },
    {
      "cell_type": "code",
      "execution_count": null,
      "metadata": {
        "id": "qeBnBTQk5_fl"
      },
      "outputs": [],
      "source": [
        "cars[:2] # first 2 items in a container"
      ]
    },
    {
      "cell_type": "code",
      "execution_count": null,
      "metadata": {
        "id": "9By3Iiuf5_fl"
      },
      "outputs": [],
      "source": [
        "cars[::2] # the \"evens\", every other item"
      ]
    },
    {
      "cell_type": "code",
      "execution_count": null,
      "metadata": {
        "id": "GKqIjk7d5_fl"
      },
      "outputs": [],
      "source": [
        "cars[1::2] # the \"odds\", every other item"
      ]
    },
    {
      "cell_type": "code",
      "execution_count": null,
      "metadata": {
        "id": "sJyZ2vDE5_fl"
      },
      "outputs": [],
      "source": [
        "cars[::-1] # also idiomatic"
      ]
    },
    {
      "cell_type": "markdown",
      "metadata": {
        "id": "vRSZzXQx5_fl"
      },
      "source": [
        "## Looping Through a List"
      ]
    },
    {
      "cell_type": "code",
      "execution_count": null,
      "metadata": {
        "id": "bFO5Fad05_fl"
      },
      "outputs": [],
      "source": [
        "index = 0\n",
        "while index < len(cars):\n",
        "    print(cars[index])\n",
        "    index += 1 # index = index + 1"
      ]
    },
    {
      "cell_type": "code",
      "execution_count": null,
      "metadata": {
        "id": "2UghPG6_5_fl"
      },
      "outputs": [],
      "source": [
        "for index in range(len(cars)):\n",
        "    print(cars[index])"
      ]
    },
    {
      "cell_type": "markdown",
      "metadata": {
        "id": "f6_-aabY5_fl"
      },
      "source": [
        "* that works, but it's not the way we'd write it in Python...it's not _Pythonic_"
      ]
    },
    {
      "cell_type": "code",
      "execution_count": null,
      "metadata": {
        "id": "qdnHOnWz5_fl"
      },
      "outputs": [],
      "source": [
        "for car in cars: # for \"thing in container\"\n",
        "    print(car)"
      ]
    },
    {
      "cell_type": "markdown",
      "metadata": {
        "id": "yVAGLAKK5_fl"
      },
      "source": [
        "## Adding to a List (\"mutator\" methods)\n",
        "* __`append()`__: add an item the end of a list\n",
        "* __`insert()`__: add an item to a particular place in the list\n",
        "* __`extend()`__ (also __`+=`__): add a list to a list"
      ]
    },
    {
      "cell_type": "code",
      "execution_count": null,
      "metadata": {
        "id": "NCRX0EBn5_fl"
      },
      "outputs": [],
      "source": [
        "cars.append('BYD')\n",
        "cars"
      ]
    },
    {
      "cell_type": "code",
      "execution_count": null,
      "metadata": {
        "id": "Spl93NEg5_fl"
      },
      "outputs": [],
      "source": [
        "cars.insert(2, 'Faraday')\n",
        "cars"
      ]
    },
    {
      "cell_type": "code",
      "execution_count": null,
      "metadata": {
        "id": "Mncpm-wX5_fl"
      },
      "outputs": [],
      "source": [
        "others = ['VinFast', 'Nikola']\n",
        "cars += others # .extend()\n",
        "cars"
      ]
    },
    {
      "cell_type": "code",
      "execution_count": null,
      "metadata": {
        "id": "dEWAVREu5_fl"
      },
      "outputs": [],
      "source": [
        "cars.append(others)\n",
        "cars"
      ]
    },
    {
      "cell_type": "code",
      "execution_count": null,
      "metadata": {
        "id": "GAGywvjN5_fl"
      },
      "outputs": [],
      "source": [
        "print(cars)"
      ]
    },
    {
      "cell_type": "markdown",
      "metadata": {
        "id": "-HViMCog5_fl"
      },
      "source": [
        "## Removing from a List\n",
        "* __`del`__: delete by position\n",
        "* __`remove(item)`__: remove by value\n",
        "* __`pop()`__: remove last item (or specified item)"
      ]
    },
    {
      "cell_type": "code",
      "execution_count": null,
      "metadata": {
        "id": "HxQmN4pI5_fl"
      },
      "outputs": [],
      "source": [
        "cars"
      ]
    },
    {
      "cell_type": "code",
      "execution_count": null,
      "metadata": {
        "id": "iHstrbsF5_fl"
      },
      "outputs": [],
      "source": [
        "del cars[-1]\n",
        "cars"
      ]
    },
    {
      "cell_type": "code",
      "execution_count": null,
      "metadata": {
        "scrolled": true,
        "id": "58Vem0Gf5_fl"
      },
      "outputs": [],
      "source": [
        "cars.remove('Lucid')"
      ]
    },
    {
      "cell_type": "code",
      "execution_count": null,
      "metadata": {
        "id": "KqbEE9L85_fm"
      },
      "outputs": [],
      "source": [
        "cars"
      ]
    },
    {
      "cell_type": "code",
      "execution_count": null,
      "metadata": {
        "id": "T5bRpHZ95_fm"
      },
      "outputs": [],
      "source": [
        "cars.pop() # last item by default"
      ]
    },
    {
      "cell_type": "code",
      "execution_count": null,
      "metadata": {
        "id": "r5hLy_Jk5_fm"
      },
      "outputs": [],
      "source": [
        "cars"
      ]
    },
    {
      "cell_type": "code",
      "execution_count": null,
      "metadata": {
        "id": "OTxnv7UJ5_fm"
      },
      "outputs": [],
      "source": [
        "cars.pop(1) # pop() or remove the second item"
      ]
    },
    {
      "cell_type": "code",
      "execution_count": null,
      "metadata": {
        "id": "3IFl9Iem5_fm"
      },
      "outputs": [],
      "source": [
        "cars"
      ]
    },
    {
      "cell_type": "markdown",
      "metadata": {
        "id": "pHCFWaxC5_fm"
      },
      "source": [
        "## Examining Lists (inspectors)\n",
        "* __`index(item)`__: return position of item\n",
        "* __`count(item)`__: count occurrences of item\n",
        "* __`in`__: test for membership"
      ]
    },
    {
      "cell_type": "code",
      "execution_count": null,
      "metadata": {
        "id": "OvBy-WdI5_fm"
      },
      "outputs": [],
      "source": [
        "cars"
      ]
    },
    {
      "cell_type": "code",
      "execution_count": null,
      "metadata": {
        "id": "EgAJwVWO5_fm"
      },
      "outputs": [],
      "source": [
        "cars.index('Polestar')"
      ]
    },
    {
      "cell_type": "code",
      "execution_count": null,
      "metadata": {
        "id": "aQifqOoZ5_fm"
      },
      "outputs": [],
      "source": [
        "'Nikola' in cars"
      ]
    },
    {
      "cell_type": "code",
      "execution_count": null,
      "metadata": {
        "id": "ULxJPsQq5_fm"
      },
      "outputs": [],
      "source": [
        "for _ in range(10): # do something 10 times\n",
        "    cars.append('Nikola')"
      ]
    },
    {
      "cell_type": "code",
      "execution_count": null,
      "metadata": {
        "id": "5SqPoh7I5_fm"
      },
      "outputs": [],
      "source": [
        "cars"
      ]
    },
    {
      "cell_type": "code",
      "execution_count": null,
      "metadata": {
        "id": "fv_gt1f85_fm"
      },
      "outputs": [],
      "source": [
        "cars.count('Nikola')"
      ]
    },
    {
      "cell_type": "code",
      "execution_count": null,
      "metadata": {
        "id": "v2cy0wVT5_fm"
      },
      "outputs": [],
      "source": [
        "while 'Nikola' in cars:\n",
        "    cars.remove('Nikola') # each call only removes one\n",
        "cars"
      ]
    },
    {
      "cell_type": "code",
      "execution_count": null,
      "metadata": {
        "id": "furtdP_x5_fm"
      },
      "outputs": [],
      "source": [
        "for _ in range(cars.count('Nikola')): # do this 10 times\n",
        "    cars.remove('Nikola')\n",
        "cars"
      ]
    },
    {
      "cell_type": "markdown",
      "metadata": {
        "id": "cC6CzZZn5_fm"
      },
      "source": [
        "## __`join()/split()`__ ... redux"
      ]
    },
    {
      "cell_type": "code",
      "execution_count": null,
      "metadata": {
        "id": "4F9-Jug_5_fn"
      },
      "outputs": [],
      "source": [
        "joined = ', '.join(cars)\n",
        "joined # string which represents the \"joined\" items in the list"
      ]
    },
    {
      "cell_type": "code",
      "execution_count": null,
      "metadata": {
        "id": "XEPimwF05_fn"
      },
      "outputs": [],
      "source": [
        "unjoined = joined.split(', ')\n",
        "unjoined # split into a new list"
      ]
    },
    {
      "cell_type": "code",
      "execution_count": null,
      "metadata": {
        "id": "nJ5qbwVO5_fn"
      },
      "outputs": [],
      "source": [
        "cars == unjoined # are they the same? (They should be...)"
      ]
    },
    {
      "cell_type": "markdown",
      "metadata": {
        "id": "wrSmt5L55_fn"
      },
      "source": [
        "## Sorting Lists\n",
        "* __`sorted()`__: _built-in function_ which returns a sorted list created\n",
        "from an iterable/sequence\n",
        "* __`sort()`__: _method_ to sort a list in place\n",
        "* __`len()`__: _built-in function_ which returns length of a list"
      ]
    },
    {
      "cell_type": "code",
      "execution_count": null,
      "metadata": {
        "id": "1Q554Xv95_fn"
      },
      "outputs": [],
      "source": [
        "sorted(cars) # let's explain what this does"
      ]
    },
    {
      "cell_type": "code",
      "execution_count": null,
      "metadata": {
        "id": "uz98dYeM5_fn"
      },
      "outputs": [],
      "source": [
        "cars.sort() # vs. this\n",
        "cars"
      ]
    },
    {
      "cell_type": "code",
      "execution_count": null,
      "metadata": {
        "id": "hzVpil8J5_fn"
      },
      "outputs": [],
      "source": [
        "cars.sort(reverse=True)\n",
        "cars"
      ]
    },
    {
      "cell_type": "code",
      "execution_count": null,
      "metadata": {
        "scrolled": true,
        "id": "FUu_pu5z5_fn"
      },
      "outputs": [],
      "source": [
        "# Is this correct?\n",
        "cars = sorted(cars) # cars.sort()\n",
        "print(cars)"
      ]
    },
    {
      "cell_type": "code",
      "execution_count": null,
      "metadata": {
        "id": "TRLqrsvT5_fn"
      },
      "outputs": [],
      "source": [
        "cars"
      ]
    },
    {
      "cell_type": "code",
      "execution_count": null,
      "metadata": {
        "id": "WBteym6w5_fn"
      },
      "outputs": [],
      "source": [
        "# What about this?\n",
        "cars = cars.sort() # cars.sort()\n",
        "print(cars)"
      ]
    },
    {
      "cell_type": "markdown",
      "metadata": {
        "id": "d9r98AIb5_fn"
      },
      "source": [
        "## Quick Lab: Lists\n",
        "* Write a program that asks the user to input two lists and then finds and prints the common elements between them\n",
        "<pre>\n",
        "Enter a list of items: <b>apple cherry banana lemon</b>\n",
        "Enter a second list of items: <b>apple guava banana lime</b>\n",
        "Common elements: apple banana"
      ]
    },
    {
      "cell_type": "markdown",
      "metadata": {
        "id": "IrwVH76l5_fn"
      },
      "source": [
        "## Group Lab: Lists\n",
        "* Write a Python program to maintain a list\n",
        "  * Read input until the user enters 'quit'\n",
        "  * Words that the user enters should be added to the list\n",
        "  * If a word begins with '-' (e.g., '-foo') it should be removed from the list\n",
        "  * If the user enters only a '-', the list should be reversed\n",
        "  * After each operation, print the list\n",
        "  * Extras:\n",
        "      * If user enters more than one word (e.g, __foo bar__), add \"foo\" and \"bar\" to the list, rather than \"foo bar\"\n",
        "      * Same for \"-\", i.e., __-foo bar__ would remove \"foo\" and \"bar\" from the  list"
      ]
    },
    {
      "cell_type": "code",
      "execution_count": null,
      "metadata": {
        "id": "xK5s5wRt5_fn"
      },
      "outputs": [],
      "source": []
    }
  ],
  "metadata": {
    "celltoolbar": "Slideshow",
    "kernelspec": {
      "display_name": "Python 3 (ipykernel)",
      "language": "python",
      "name": "python3"
    },
    "language_info": {
      "codemirror_mode": {
        "name": "ipython",
        "version": 3
      },
      "file_extension": ".py",
      "mimetype": "text/x-python",
      "name": "python",
      "nbconvert_exporter": "python",
      "pygments_lexer": "ipython3",
      "version": "3.12.5"
    },
    "colab": {
      "provenance": []
    }
  },
  "nbformat": 4,
  "nbformat_minor": 0
}