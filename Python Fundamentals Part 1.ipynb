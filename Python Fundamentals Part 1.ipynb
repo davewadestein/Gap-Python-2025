{
  "cells": [
    {
      "cell_type": "markdown",
      "source": [
        "# Recurring Themes\n",
        "* Programming \"Pythonically\"\n",
        " * What does this mean?\n",
        "* Using AI to be more efficient\n",
        " * We're going to leverage AI to\n",
        "   * write code for us (but this only makes sense if we understand it writes\n",
        "   * ...explain code we don't understand (but again, we need to have a solid foundation or we won't understand the explanation)\n",
        "   * critique our code\n",
        "* How to get help\n",
        "* Testing and debugging\n",
        "* Best practices"
      ],
      "metadata": {
        "id": "f-3Regf5CBnD"
      }
    },
    {
      "cell_type": "markdown",
      "metadata": {
        "id": "QFUSSDx95_fW"
      },
      "source": [
        "# What is Python?\n",
        "* a scripting language\n",
        "* a programming language\n",
        "* a command interpreter\n",
        "* a dynamically typed language\n",
        "* an object-oriented language"
      ]
    },
    {
      "cell_type": "code",
      "execution_count": null,
      "metadata": {
        "id": "BfqQaedG5_fX",
        "outputId": "74f828c6-07b4-435c-d35e-8bfc6874478c"
      },
      "outputs": [
        {
          "name": "stdout",
          "output_type": "stream",
          "text": [
            "Hello, World!!!!\n"
          ]
        }
      ],
      "source": [
        "print('Hello, World!!!!')"
      ]
    },
    {
      "cell_type": "markdown",
      "metadata": {
        "id": "I5YccdET5_fY"
      },
      "source": [
        "## How to get around in Jupyter:\n",
        "* Each place for you to enter text is called a _cell_\n",
        "* Usually you enter __`Python`__ code, but you can also enter text in a _markup_ language called __`Markdown`__ (that's what's going on in _this_ cell)\n",
        "* To \"run\" the code in the cell, hit __Shift-Return__ (i.e., hold down __Shift__ key, then hit __Return__)\n",
        "* Try it with the cell below..."
      ]
    },
    {
      "cell_type": "code",
      "execution_count": 15,
      "metadata": {
        "id": "vxORAlkA5_fY",
        "outputId": "c0721016-882a-43b2-a3e8-f06ea16add12",
        "colab": {
          "base_uri": "https://localhost:8080/"
        }
      },
      "outputs": [
        {
          "output_type": "execute_result",
          "data": {
            "text/plain": [
              "12"
            ]
          },
          "metadata": {},
          "execution_count": 15
        }
      ],
      "source": [
        "count = 12\n",
        "count"
      ]
    },
    {
      "cell_type": "markdown",
      "metadata": {
        "id": "_i18JaG35_fY"
      },
      "source": [
        "* we'll work inside the Jupyter notebook and you'll be able to take it with you as a living, breathing document of your work in this class\n",
        "* the __Insert__ menu will allow you to add a cell above or below the current cell\n",
        "* the __Kernel__ menu will allow you to \"talk\" to the Python interpreter on your machine\n",
        "  * (when you type into a cell, you are \"talking\" to the web browser, and the web browser sends the text to the __`Python`__ interpreter to be \"run\")\n",
        "  * the __Kernel__ menu will allow you to _restart_ your __`Python`__ interpreter in case something goes wrong and it stops responding to you\n",
        "  "
      ]
    },
    {
      "cell_type": "markdown",
      "metadata": {
        "id": "DA5iRGzh5_fY"
      },
      "source": [
        "## Who/What\n",
        "* created by Guido van Rossum\n",
        "* \"pythonic\""
      ]
    },
    {
      "cell_type": "markdown",
      "metadata": {
        "id": "nnSCkQIp5_fZ"
      },
      "source": [
        "## Variables/Types\n",
        "* what are variables?\n",
        "  * what makes a good/bad variable name?\n",
        "* no declarations–Python is dynamically typed\n",
        "* basic data types are __int, float, string, boolean__\n",
        "* everything is an object (this is a difficult concept we will understand over time)"
      ]
    },
    {
      "cell_type": "code",
      "execution_count": null,
      "metadata": {
        "id": "Oic4mOLo5_fZ",
        "outputId": "12966a32-b0db-474f-d93b-5eee3434833e"
      },
      "outputs": [
        {
          "name": "stdout",
          "output_type": "stream",
          "text": [
            "3 24.99 0\n"
          ]
        }
      ],
      "source": [
        "first = 3 # \"assignment statement\"\n",
        "second = 24.99\n",
        "third = 0\n",
        "print(first, second, third)"
      ]
    },
    {
      "cell_type": "code",
      "execution_count": null,
      "metadata": {
        "id": "ssWWy41f5_fZ",
        "outputId": "dc9f92c8-958d-49d5-8bca-23317471a567"
      },
      "outputs": [
        {
          "data": {
            "text/plain": [
              "24.99"
            ]
          },
          "execution_count": 5,
          "metadata": {},
          "output_type": "execute_result"
        }
      ],
      "source": [
        "second # asking Python to evaluate the value, i.e., tell us the value"
      ]
    },
    {
      "cell_type": "code",
      "execution_count": null,
      "metadata": {
        "id": "5qffIDtS5_fZ",
        "outputId": "0776ab37-df64-4246-d381-320fa6eb4524"
      },
      "outputs": [
        {
          "data": {
            "text/plain": [
              "3"
            ]
          },
          "execution_count": 6,
          "metadata": {},
          "output_type": "execute_result"
        }
      ],
      "source": [
        "first # tell us the value"
      ]
    },
    {
      "cell_type": "markdown",
      "metadata": {
        "id": "zixGG3l85_fZ"
      },
      "source": [
        "## ...but strongly typed!"
      ]
    },
    {
      "cell_type": "code",
      "execution_count": null,
      "metadata": {
        "id": "NUwOWVBA5_fZ"
      },
      "outputs": [],
      "source": [
        "prince = 'Prince'"
      ]
    },
    {
      "cell_type": "code",
      "execution_count": null,
      "metadata": {
        "id": "p2Rks8jw5_fZ",
        "outputId": "042ccfa7-0126-46a4-9ecb-1fc048644444"
      },
      "outputs": [
        {
          "ename": "TypeError",
          "evalue": "can only concatenate str (not \"int\") to str",
          "output_type": "error",
          "traceback": [
            "\u001b[0;31m---------------------------------------------------------------------------\u001b[0m",
            "\u001b[0;31mTypeError\u001b[0m                                 Traceback (most recent call last)",
            "Cell \u001b[0;32mIn[8], line 1\u001b[0m\n\u001b[0;32m----> 1\u001b[0m \u001b[43mprince\u001b[49m\u001b[43m \u001b[49m\u001b[38;5;241;43m+\u001b[39;49m\u001b[43m \u001b[49m\u001b[38;5;241;43m1999\u001b[39;49m\n",
            "\u001b[0;31mTypeError\u001b[0m: can only concatenate str (not \"int\") to str"
          ]
        }
      ],
      "source": [
        "prince + 1999"
      ]
    },
    {
      "cell_type": "code",
      "execution_count": null,
      "metadata": {
        "id": "GvIMO5WX5_fZ",
        "outputId": "6659e308-c998-4b2b-b083-b5fb66827d28"
      },
      "outputs": [
        {
          "data": {
            "text/plain": [
              "'Prince1999'"
            ]
          },
          "execution_count": 9,
          "metadata": {},
          "output_type": "execute_result"
        }
      ],
      "source": [
        "prince + str(1999) # 'Prince' + '1999'"
      ]
    },
    {
      "cell_type": "code",
      "execution_count": 1,
      "metadata": {
        "id": "wdZ7r1u-5_fa",
        "outputId": "d0869811-389f-4853-fc87-be31f0c0de05",
        "colab": {
          "base_uri": "https://localhost:8080/"
        }
      },
      "outputs": [
        {
          "output_type": "stream",
          "name": "stdout",
          "text": [
            "12 14.95 True Guido\n"
          ]
        }
      ],
      "source": [
        "# Basic datatypes in Python\n",
        "count = 12\n",
        "price = 14.95\n",
        "is_done = True\n",
        "name = 'Guido'\n",
        "print(count, price, is_done, name)"
      ]
    },
    {
      "cell_type": "code",
      "execution_count": 2,
      "metadata": {
        "id": "YCgiVObD5_fa",
        "outputId": "b3b647eb-28b4-4e1d-86b0-d9d0390f20fe",
        "colab": {
          "base_uri": "https://localhost:8080/",
          "height": 35
        }
      },
      "outputs": [
        {
          "output_type": "execute_result",
          "data": {
            "text/plain": [
              "'Guido'"
            ],
            "application/vnd.google.colaboratory.intrinsic+json": {
              "type": "string"
            }
          },
          "metadata": {},
          "execution_count": 2
        }
      ],
      "source": [
        "name"
      ]
    },
    {
      "cell_type": "code",
      "execution_count": 3,
      "metadata": {
        "id": "y7hSscQc5_fa",
        "outputId": "e22ae5f4-4867-468d-d02f-735f92764881",
        "colab": {
          "base_uri": "https://localhost:8080/"
        }
      },
      "outputs": [
        {
          "output_type": "execute_result",
          "data": {
            "text/plain": [
              "True"
            ]
          },
          "metadata": {},
          "execution_count": 3
        }
      ],
      "source": [
        "is_done"
      ]
    },
    {
      "cell_type": "markdown",
      "metadata": {
        "id": "vb9FaTkE5_fa"
      },
      "source": [
        "# Some [Builtin Python Functions](https://docs.python.org/3/library/functions.html)"
      ]
    },
    {
      "cell_type": "markdown",
      "metadata": {
        "id": "CqLuyqe65_fa"
      },
      "source": [
        "## __`str()`__\n",
        "* \"string-ifies\" whatever is passed as an argument, i.e., returns a string verson\n",
        "* important to understand that the str() function does not alter the object that was passed to it\n",
        "* any object can be string-ified–that is, you can pass any object to the __`str()`__ function and it will work"
      ]
    },
    {
      "cell_type": "code",
      "execution_count": null,
      "metadata": {
        "id": "wd2OF-wW5_fa",
        "outputId": "aef64188-7574-4c2a-f892-157f01e29503"
      },
      "outputs": [
        {
          "data": {
            "text/plain": [
              "'1999'"
            ]
          },
          "execution_count": 17,
          "metadata": {},
          "output_type": "execute_result"
        }
      ],
      "source": [
        "str(1999)"
      ]
    },
    {
      "cell_type": "code",
      "source": [
        "str(1.33)"
      ],
      "metadata": {
        "id": "I_vYfqGz60y2",
        "outputId": "4be7411d-2273-4db6-dc8c-cdbc23e236fe",
        "colab": {
          "base_uri": "https://localhost:8080/",
          "height": 35
        }
      },
      "execution_count": 4,
      "outputs": [
        {
          "output_type": "execute_result",
          "data": {
            "text/plain": [
              "'1.33'"
            ],
            "application/vnd.google.colaboratory.intrinsic+json": {
              "type": "string"
            }
          },
          "metadata": {},
          "execution_count": 4
        }
      ]
    },
    {
      "cell_type": "code",
      "execution_count": 5,
      "metadata": {
        "id": "Ms3Q1d3G5_fa",
        "outputId": "b590ab3d-6a17-412c-8bd6-87aae688521f",
        "colab": {
          "base_uri": "https://localhost:8080/",
          "height": 35
        }
      },
      "outputs": [
        {
          "output_type": "execute_result",
          "data": {
            "text/plain": [
              "'133000000000000.0'"
            ],
            "application/vnd.google.colaboratory.intrinsic+json": {
              "type": "string"
            }
          },
          "metadata": {},
          "execution_count": 5
        }
      ],
      "source": [
        "str(1.33e14) # 1.33e14 is \"scienfic notation\" ... 1.33 x 10^14"
      ]
    },
    {
      "cell_type": "code",
      "execution_count": 6,
      "metadata": {
        "id": "UMpt34Sk5_fa",
        "outputId": "6a73cbb8-57c0-42e5-e9c7-6c6ca462da51",
        "colab": {
          "base_uri": "https://localhost:8080/",
          "height": 35
        }
      },
      "outputs": [
        {
          "output_type": "execute_result",
          "data": {
            "text/plain": [
              "'a string'"
            ],
            "application/vnd.google.colaboratory.intrinsic+json": {
              "type": "string"
            }
          },
          "metadata": {},
          "execution_count": 6
        }
      ],
      "source": [
        "str('a string')"
      ]
    },
    {
      "cell_type": "markdown",
      "metadata": {
        "id": "oMN8Sk3o5_fa"
      },
      "source": [
        "## __`int()`__\n",
        "* __int__-ifies whatever is passed as an argument, i.e., returns an int verson\n",
        "* will not always work, cf. __`str()`__"
      ]
    },
    {
      "cell_type": "code",
      "execution_count": null,
      "metadata": {
        "id": "mVdPewZD5_fa",
        "outputId": "18f8b384-3fbe-4981-e7d7-889756cb55b0"
      },
      "outputs": [
        {
          "data": {
            "text/plain": [
              "503"
            ]
          },
          "execution_count": 21,
          "metadata": {},
          "output_type": "execute_result"
        }
      ],
      "source": [
        "value = '503'\n",
        "int(value)"
      ]
    },
    {
      "cell_type": "code",
      "execution_count": 7,
      "metadata": {
        "id": "0oTLEaMn5_fa",
        "outputId": "5923566c-55ad-41d1-a3b5-b487ec01bfc1",
        "colab": {
          "base_uri": "https://localhost:8080/",
          "height": 158
        }
      },
      "outputs": [
        {
          "output_type": "error",
          "ename": "ValueError",
          "evalue": "invalid literal for int() with base 10: '503a'",
          "traceback": [
            "\u001b[0;31m---------------------------------------------------------------------------\u001b[0m",
            "\u001b[0;31mValueError\u001b[0m                                Traceback (most recent call last)",
            "\u001b[0;32m<ipython-input-7-192f0466dec1>\u001b[0m in \u001b[0;36m<cell line: 2>\u001b[0;34m()\u001b[0m\n\u001b[1;32m      1\u001b[0m \u001b[0mvalue\u001b[0m \u001b[0;34m=\u001b[0m \u001b[0;34m'503a'\u001b[0m\u001b[0;34m\u001b[0m\u001b[0;34m\u001b[0m\u001b[0m\n\u001b[0;32m----> 2\u001b[0;31m \u001b[0mint\u001b[0m\u001b[0;34m(\u001b[0m\u001b[0mvalue\u001b[0m\u001b[0;34m)\u001b[0m \u001b[0;31m# will this work?\u001b[0m\u001b[0;34m\u001b[0m\u001b[0;34m\u001b[0m\u001b[0m\n\u001b[0m",
            "\u001b[0;31mValueError\u001b[0m: invalid literal for int() with base 10: '503a'"
          ]
        }
      ],
      "source": [
        "value = '503a'\n",
        "int(value) # will this work?"
      ]
    },
    {
      "cell_type": "markdown",
      "metadata": {
        "id": "-4_mY9ew5_fa"
      },
      "source": [
        "## __`type()`__\n",
        "* returns the type of the object you pass to it"
      ]
    },
    {
      "cell_type": "code",
      "execution_count": 16,
      "metadata": {
        "id": "6AXb-Nd65_fa",
        "outputId": "1058ea75-df87-47c8-f228-a950eec680bf",
        "colab": {
          "base_uri": "https://localhost:8080/"
        }
      },
      "outputs": [
        {
          "output_type": "execute_result",
          "data": {
            "text/plain": [
              "(1, int)"
            ]
          },
          "metadata": {},
          "execution_count": 16
        }
      ],
      "source": [
        "value = 1\n",
        "value, type(value) # ok to ask for Python to evaluate *mutiple* values in a single response"
      ]
    },
    {
      "cell_type": "code",
      "execution_count": null,
      "metadata": {
        "id": "_dq4bMk05_fb",
        "outputId": "4c497801-93fd-4cff-e699-86ec40599a24"
      },
      "outputs": [
        {
          "data": {
            "text/plain": [
              "(1.33, float)"
            ]
          },
          "execution_count": 27,
          "metadata": {},
          "output_type": "execute_result"
        }
      ],
      "source": [
        "value = value + 0.33 # val += 0.33\n",
        "value, type(value)"
      ]
    },
    {
      "cell_type": "code",
      "execution_count": 8,
      "metadata": {
        "id": "cNtHoJJQ5_fb",
        "outputId": "76b57980-0365-4b7f-ed0e-ded6a2557aa8",
        "colab": {
          "base_uri": "https://localhost:8080/"
        }
      },
      "outputs": [
        {
          "output_type": "execute_result",
          "data": {
            "text/plain": [
              "bool"
            ]
          },
          "metadata": {},
          "execution_count": 8
        }
      ],
      "source": [
        "type(is_done)"
      ]
    },
    {
      "cell_type": "markdown",
      "metadata": {
        "id": "6TybDRk25_fb"
      },
      "source": [
        "## __`print()`__"
      ]
    },
    {
      "cell_type": "code",
      "execution_count": 33,
      "metadata": {
        "id": "NrNz99oz5_fb",
        "outputId": "38a48697-d22a-4bb4-86a7-6eaeb553b4e0",
        "colab": {
          "base_uri": "https://localhost:8080/"
        }
      },
      "outputs": [
        {
          "output_type": "stream",
          "name": "stdout",
          "text": [
            "Bruce Lee\n"
          ]
        }
      ],
      "source": [
        "name = 'Bruce Lee'\n",
        "print(name)"
      ]
    },
    {
      "cell_type": "code",
      "execution_count": 35,
      "metadata": {
        "id": "usI47Az15_fb",
        "outputId": "bf80d890-64d7-4f57-a186-5d386222f534",
        "colab": {
          "base_uri": "https://localhost:8080/"
        }
      },
      "outputs": [
        {
          "output_type": "stream",
          "name": "stdout",
          "text": [
            "Taylor Alison Swift\n"
          ]
        }
      ],
      "source": [
        "first_name, middle_name, last_name = 'Taylor', 'Alison', 'Swift'\n",
        "print(first_name, middle_name, last_name)"
      ]
    },
    {
      "cell_type": "code",
      "execution_count": 36,
      "metadata": {
        "id": "2CMPn95O5_fb",
        "outputId": "5355234f-38dc-40db-ae9e-cc04eadb4877",
        "colab": {
          "base_uri": "https://localhost:8080/"
        }
      },
      "outputs": [
        {
          "output_type": "stream",
          "name": "stdout",
          "text": [
            "Taylor...Alison...Swift\n"
          ]
        }
      ],
      "source": [
        "print(first_name, middle_name, last_name, sep='...') # sep is called a \"keyword argument\""
      ]
    },
    {
      "cell_type": "code",
      "execution_count": 39,
      "metadata": {
        "scrolled": true,
        "id": "pkBElPyY5_fb",
        "outputId": "06371f7a-75e4-4f35-ff06-93af54a13a29",
        "colab": {
          "base_uri": "https://localhost:8080/"
        }
      },
      "outputs": [
        {
          "output_type": "stream",
          "name": "stdout",
          "text": [
            "Swift, Taylor Alison\n"
          ]
        }
      ],
      "source": [
        "print(last_name, first_name, sep=', ', end=' ')\n",
        "# ... intervening code ...\n",
        "print(middle_name)"
      ]
    },
    {
      "cell_type": "markdown",
      "metadata": {
        "id": "gf8uDYUc5_fb"
      },
      "source": [
        "## Exercise: _str/int/type_\n",
        "* copy/paste each of the following expressions into a cell\n",
        " * before running the cell, think about what you expect the result to be\n",
        " * if result is not what you expect, that's an opportunity for learning\n",
        "<pre><b>str(53.3)\n",
        "str(False)\n",
        "str(false)\n",
        "int('300')\n",
        "int('30x')\n",
        "type(False)\n",
        "type('False')\n",
        "type(3.5)\n",
        "</b></pre>"
      ]
    },
    {
      "cell_type": "markdown",
      "metadata": {
        "id": "ldGfwnCn5_fb"
      },
      "source": [
        "# Python Arithmetic\n",
        "* the Python interpreter can perform arithmetic"
      ]
    },
    {
      "cell_type": "code",
      "execution_count": null,
      "metadata": {
        "id": "1vzP1FBi5_fb",
        "outputId": "6842c147-4581-45c1-f8a4-6ce163d4d9ab"
      },
      "outputs": [
        {
          "data": {
            "text/plain": [
              "2.6666666666666665"
            ]
          },
          "execution_count": 37,
          "metadata": {},
          "output_type": "execute_result"
        }
      ],
      "source": [
        "8 / 3"
      ]
    },
    {
      "cell_type": "code",
      "execution_count": null,
      "metadata": {
        "id": "u7wZerWN5_fb",
        "outputId": "df47d258-1b6c-4815-e67d-c46fa6977985"
      },
      "outputs": [
        {
          "data": {
            "text/plain": [
              "2"
            ]
          },
          "execution_count": 38,
          "metadata": {},
          "output_type": "execute_result"
        }
      ],
      "source": [
        "8 // 3 # \"int\" division"
      ]
    },
    {
      "cell_type": "markdown",
      "metadata": {
        "id": "fALeN5JT5_fb"
      },
      "source": [
        "# div/mod/divmod"
      ]
    },
    {
      "cell_type": "code",
      "execution_count": null,
      "metadata": {
        "id": "WP3IC-OZ5_fc",
        "outputId": "d97b2a32-d721-407b-d340-39526a3211c7"
      },
      "outputs": [
        {
          "data": {
            "text/plain": [
              "2"
            ]
          },
          "execution_count": 51,
          "metadata": {},
          "output_type": "execute_result"
        }
      ],
      "source": [
        "9 // 4 # \"quotient\""
      ]
    },
    {
      "cell_type": "code",
      "execution_count": 24,
      "metadata": {
        "id": "VM2xlJBr5_fc",
        "outputId": "b277ac34-eb0b-4af0-c5b8-cd20d002a183",
        "colab": {
          "base_uri": "https://localhost:8080/"
        }
      },
      "outputs": [
        {
          "output_type": "execute_result",
          "data": {
            "text/plain": [
              "3"
            ]
          },
          "metadata": {},
          "execution_count": 24
        }
      ],
      "source": [
        "23 % 4 # remainder (modulus) when dividing 19 by 4"
      ]
    },
    {
      "cell_type": "code",
      "execution_count": 25,
      "metadata": {
        "id": "KyEf1B0I5_fc",
        "outputId": "8d8a790e-d869-4ce3-f62c-3accb4a7a761",
        "colab": {
          "base_uri": "https://localhost:8080/"
        }
      },
      "outputs": [
        {
          "output_type": "execute_result",
          "data": {
            "text/plain": [
              "(5, 3)"
            ]
          },
          "metadata": {},
          "execution_count": 25
        }
      ],
      "source": [
        "divmod(23, 4) # Python functions can and often do return multiple values"
      ]
    },
    {
      "cell_type": "code",
      "execution_count": 26,
      "metadata": {
        "id": "baFB1pE65_fc",
        "outputId": "2bdebbf8-7df3-499d-e9ef-433fa5071d50",
        "colab": {
          "base_uri": "https://localhost:8080/"
        }
      },
      "outputs": [
        {
          "output_type": "stream",
          "name": "stdout",
          "text": [
            "5\n",
            "3\n"
          ]
        }
      ],
      "source": [
        "quotient, remainder = divmod(23, 4) # how many things does divmod() return?\n",
        "print(quotient)\n",
        "print(remainder)"
      ]
    },
    {
      "cell_type": "code",
      "execution_count": null,
      "metadata": {
        "id": "Rg3r4gtN5_fc",
        "outputId": "ece4ee54-f716-4fbc-8466-8a7d3b75a173"
      },
      "outputs": [
        {
          "data": {
            "text/plain": [
              "1.0"
            ]
          },
          "execution_count": 62,
          "metadata": {},
          "output_type": "execute_result"
        }
      ],
      "source": [
        "number = 1\n",
        "float(number)"
      ]
    },
    {
      "cell_type": "code",
      "execution_count": 9,
      "metadata": {
        "id": "XN-I04LB5_fc",
        "outputId": "6c0b085f-ef59-4616-fde2-9281d5bb9bcb",
        "colab": {
          "base_uri": "https://localhost:8080/"
        }
      },
      "outputs": [
        {
          "output_type": "execute_result",
          "data": {
            "text/plain": [
              "-1.23"
            ]
          },
          "metadata": {},
          "execution_count": 9
        }
      ],
      "source": [
        "float('-1.23')"
      ]
    },
    {
      "cell_type": "code",
      "source": [
        "float('-1.23x') # will this work?"
      ],
      "metadata": {
        "id": "5SgFet_uQ2np"
      },
      "execution_count": null,
      "outputs": []
    },
    {
      "cell_type": "markdown",
      "metadata": {
        "id": "N_QzLEXu5_fc"
      },
      "source": [
        "# Strings"
      ]
    },
    {
      "cell_type": "markdown",
      "metadata": {
        "id": "qn-zYsy-5_fd"
      },
      "source": [
        "## Strings\n",
        "* \"strings\" are nothing more than some text surrounded by quotes\n",
        "* you may use single or double quotes\n",
        "* you rarely need it, but `\\` lets you escape the next character, i.e., avoid its usual meaning\n",
        "* string operators: __`+, *`__"
      ]
    },
    {
      "cell_type": "code",
      "execution_count": null,
      "metadata": {
        "id": "QAEGzprh5_fd",
        "outputId": "2d9c2e1c-1164-46c3-e414-5d69ab3292ca"
      },
      "outputs": [
        {
          "data": {
            "text/plain": [
              "\"This string isn't a problem\""
            ]
          },
          "execution_count": 70,
          "metadata": {},
          "output_type": "execute_result"
        }
      ],
      "source": [
        "string1 = \"This string isn't a problem\"\n",
        "string1"
      ]
    },
    {
      "cell_type": "code",
      "execution_count": null,
      "metadata": {
        "id": "A1Sc__-B5_fd",
        "outputId": "89c69828-67b6-4d9e-ee8b-d9744419d34e"
      },
      "outputs": [
        {
          "data": {
            "text/plain": [
              "'This string is a \"good\" example'"
            ]
          },
          "execution_count": 71,
          "metadata": {},
          "output_type": "execute_result"
        }
      ],
      "source": [
        "string2 = 'This string is a \"good\" example'\n",
        "string2"
      ]
    },
    {
      "cell_type": "code",
      "execution_count": null,
      "metadata": {
        "id": "9CR2sRWd5_fd"
      },
      "outputs": [],
      "source": [
        "string3 = 'This string isn\\'t \"more difficult\" to read'\n",
        "print(string3)"
      ]
    },
    {
      "cell_type": "markdown",
      "metadata": {
        "id": "l7F9EwJe5_fd"
      },
      "source": [
        "* __`+`__ = concatenation operator\n",
        "* __`*`__ = duplication operator"
      ]
    },
    {
      "cell_type": "code",
      "execution_count": null,
      "metadata": {
        "id": "aRT01wTK5_fd",
        "outputId": "3a6923f4-744a-435c-8cbc-4960ac840c48"
      },
      "outputs": [
        {
          "name": "stdout",
          "output_type": "stream",
          "text": [
            "hellobye\n"
          ]
        }
      ],
      "source": [
        "s, t = \"hello\", 'bye' # bad practice in THREE ways\n",
        "print(s + t)"
      ]
    },
    {
      "cell_type": "code",
      "execution_count": null,
      "metadata": {
        "id": "CJKSQZ8R5_fd",
        "outputId": "4c768e79-d9c3-4fc1-f9d4-5b8a063d867f"
      },
      "outputs": [
        {
          "name": "stdout",
          "output_type": "stream",
          "text": [
            "hello bye\n"
          ]
        }
      ],
      "source": [
        "print(s, t)"
      ]
    },
    {
      "cell_type": "code",
      "execution_count": null,
      "metadata": {
        "id": "cu0Brs0o5_fd",
        "outputId": "190287d8-7434-4ebf-e1de-b22e3341df92"
      },
      "outputs": [
        {
          "data": {
            "text/plain": [
              "'hellohellohellohello'"
            ]
          },
          "execution_count": 76,
          "metadata": {},
          "output_type": "execute_result"
        }
      ],
      "source": [
        "s * 4"
      ]
    },
    {
      "cell_type": "code",
      "execution_count": null,
      "metadata": {
        "id": "J6z7U-au5_fd",
        "outputId": "8e0d76a1-839b-40dc-b418-21b95d59fffe"
      },
      "outputs": [
        {
          "name": "stdout",
          "output_type": "stream",
          "text": [
            "01234567890123456789012345678901234567890123456789012345678901234567890123456789\n",
            "--------------------------------------------------------------------------------\n"
          ]
        }
      ],
      "source": [
        "print('0123456789' * 8)\n",
        "print('-' * 80)"
      ]
    },
    {
      "cell_type": "markdown",
      "metadata": {
        "id": "zrEDku-Y5_fd"
      },
      "source": [
        "## Multi-Line Strings\n",
        "* triple quotes allow for easy multi-line strings (i.e., strings that span multiple lines"
      ]
    },
    {
      "cell_type": "code",
      "execution_count": null,
      "metadata": {
        "id": "wkOOcfRo5_fd",
        "outputId": "37a767dc-63d0-41ad-ad9e-29af38563c5c"
      },
      "outputs": [
        {
          "name": "stdout",
          "output_type": "stream",
          "text": [
            "\n",
            "isn't this a\n",
            "multi-line string\n",
            "?\n",
            "\n"
          ]
        }
      ],
      "source": [
        "s = \"\"\"\n",
        "isn't this a\n",
        "multi-line string\n",
        "?\n",
        "\"\"\"\n",
        "\n",
        "print(s)"
      ]
    },
    {
      "cell_type": "markdown",
      "metadata": {
        "id": "SZZ8NKmg5_fd"
      },
      "source": [
        "## Exercise: Strings\n",
        "* after typing this in...\n",
        "\n",
        "<pre><b>a, b, o, p = 'b', 'a', 'p', 'o'\n",
        "</pre>\n",
        "\n",
        "<pre><b>What will be the result of these expressions?\n",
        "\n",
        "(Type them in and see, but first, think about what you expect the result to be)\n",
        "o + p + o\n",
        "a * 3 + b\n",
        "a + p * 2 + 'k' * 2 + 'e' * 2 + o + 'er'\n"
      ]
    },
    {
      "cell_type": "markdown",
      "metadata": {
        "id": "Y3OrerQK5_fd"
      },
      "source": [
        "## __`len()`__\n",
        "* returns the length of a string\n",
        "  * (or more correctly returns the length/size of any \"container\")"
      ]
    },
    {
      "cell_type": "code",
      "execution_count": null,
      "metadata": {
        "id": "6Flk024_5_fd",
        "outputId": "c0d04a56-a0c7-4f01-ea3a-a0031b7bc2a3"
      },
      "outputs": [
        {
          "data": {
            "text/plain": [
              "6"
            ]
          },
          "execution_count": 79,
          "metadata": {},
          "output_type": "execute_result"
        }
      ],
      "source": [
        "name = 'Prince'\n",
        "len(name)"
      ]
    },
    {
      "cell_type": "code",
      "execution_count": null,
      "metadata": {
        "id": "h_uGrC0x5_fd",
        "outputId": "9cd98c54-800e-4766-af3a-4bfc8f97935e"
      },
      "outputs": [
        {
          "data": {
            "text/plain": [
              "0"
            ]
          },
          "execution_count": 80,
          "metadata": {},
          "output_type": "execute_result"
        }
      ],
      "source": [
        "len('')"
      ]
    },
    {
      "cell_type": "code",
      "execution_count": null,
      "metadata": {
        "id": "u1hDG7qb5_fe",
        "outputId": "6c6245b3-e6f1-489a-c685-ba6f86739c9c"
      },
      "outputs": [
        {
          "data": {
            "text/plain": [
              "30"
            ]
          },
          "execution_count": 81,
          "metadata": {},
          "output_type": "execute_result"
        }
      ],
      "source": [
        "len(name * 5)"
      ]
    },
    {
      "cell_type": "markdown",
      "metadata": {
        "id": "9jKkcMwS5_fe"
      },
      "source": [
        "## Indexing Strings with __`[]`__\n",
        "* access a single character via its offset\n",
        "* easier to think of offset as opposed to index\n",
        "* negative offsets count from end of string"
      ]
    },
    {
      "cell_type": "code",
      "execution_count": 11,
      "metadata": {
        "id": "0td3D-Kg5_fe"
      },
      "outputs": [],
      "source": [
        "alphabet = 'abcdefghijklmnopqrstuvwxyz'\n",
        "         #  01234567890123456789012345\n",
        "         #                         321-"
      ]
    },
    {
      "cell_type": "code",
      "execution_count": null,
      "metadata": {
        "id": "W344MnXB5_fe",
        "outputId": "53b98926-f270-4f38-831a-bd8d07dfe811"
      },
      "outputs": [
        {
          "data": {
            "text/plain": [
              "'a'"
            ]
          },
          "execution_count": 37,
          "metadata": {},
          "output_type": "execute_result"
        }
      ],
      "source": [
        "alphabet[0] # \"alphabet of 0\""
      ]
    },
    {
      "cell_type": "code",
      "execution_count": null,
      "metadata": {
        "id": "F6l8LRHC5_fe",
        "outputId": "49c6d955-ba77-472c-8d89-e52360f5f8bb"
      },
      "outputs": [
        {
          "data": {
            "text/plain": [
              "'x'"
            ]
          },
          "execution_count": 86,
          "metadata": {},
          "output_type": "execute_result"
        }
      ],
      "source": [
        "alphabet[23] # len(alphabet)-3"
      ]
    },
    {
      "cell_type": "code",
      "execution_count": null,
      "metadata": {
        "id": "qMHPYn7k5_fe",
        "outputId": "d517d318-18ce-401f-973c-c86915660f48"
      },
      "outputs": [
        {
          "data": {
            "text/plain": [
              "'x'"
            ]
          },
          "execution_count": 91,
          "metadata": {},
          "output_type": "execute_result"
        }
      ],
      "source": [
        "alphabet[-1] # idiomatic"
      ]
    },
    {
      "cell_type": "code",
      "execution_count": 12,
      "metadata": {
        "id": "uoUeDtBH5_fe",
        "outputId": "71f78b8b-b27a-4ece-c9e3-a8f477ba3cb6",
        "colab": {
          "base_uri": "https://localhost:8080/",
          "height": 35
        }
      },
      "outputs": [
        {
          "output_type": "execute_result",
          "data": {
            "text/plain": [
              "'x'"
            ],
            "application/vnd.google.colaboratory.intrinsic+json": {
              "type": "string"
            }
          },
          "metadata": {},
          "execution_count": 12
        }
      ],
      "source": [
        "alphabet[-3]"
      ]
    },
    {
      "cell_type": "markdown",
      "metadata": {
        "id": "-NbV0nag5_fe"
      },
      "source": [
        "# Let's run a small program in the notebook...and then run it outside of the notebook"
      ]
    },
    {
      "cell_type": "code",
      "execution_count": 13,
      "metadata": {
        "id": "wq1-czN55_fe",
        "outputId": "3a858a8d-710a-494e-9b37-f0095e3b5ac5",
        "colab": {
          "base_uri": "https://localhost:8080/"
        }
      },
      "outputs": [
        {
          "output_type": "stream",
          "name": "stdout",
          "text": [
            "Enter your name: Dave\n",
            "You entered Dave\n"
          ]
        }
      ],
      "source": [
        "name = input('Enter your name: ')\n",
        "print('You entered', name)"
      ]
    },
    {
      "cell_type": "markdown",
      "metadata": {
        "id": "d3fFuj8N5_fe"
      },
      "source": [
        "## Lab: putting our Python code in a file\n",
        "* it's important to understand how to create Python code outside of a notebook\n",
        "  * unfortunately Google Colaboratory doesn't allow us to do that easily at the free tier\n",
        "  * if you've got Python and a code editor installed...?\n",
        "  * or, let's try http://pythonanywhere.com using an editor, put the above two lines in the file __`name.py`__\n",
        "\n",
        "\n",
        ""
      ]
    },
    {
      "cell_type": "markdown",
      "metadata": {
        "id": "hCu5CBH95_fe"
      },
      "source": [
        "## Indentation\n",
        "* colons and indentation delineate blocks in Python\n",
        "* no braces {...} like you will find in other languages\n",
        "* this will trip you up at first but once you're used to it, you'll love it"
      ]
    },
    {
      "cell_type": "code",
      "execution_count": 40,
      "metadata": {
        "id": "JqXBR4dT5_fe",
        "outputId": "5d0dfd62-5856-408c-ea91-3d5fc5bbe012",
        "colab": {
          "base_uri": "https://localhost:8080/"
        }
      },
      "outputs": [
        {
          "output_type": "stream",
          "name": "stdout",
          "text": [
            "Hey, number is 1!\n",
            "This is part of the if block\n",
            "this is not part of the if block and is printed regardless\n"
          ]
        }
      ],
      "source": [
        "number = 1\n",
        "\n",
        "if number == 1: # is number equal to 1?\n",
        "    print('Hey, number is 1!')\n",
        "    print('This is part of the if block')\n",
        "\n",
        "print('this is not part of the if block and is printed regardless')\n"
      ]
    },
    {
      "cell_type": "markdown",
      "metadata": {
        "id": "3yhLYgUu5_fe"
      },
      "source": [
        "## Indentation (continued)\n",
        "*  indentation must be consistent throughout the block"
      ]
    },
    {
      "cell_type": "code",
      "execution_count": null,
      "metadata": {
        "id": "ggHbJ5F35_fe"
      },
      "outputs": [],
      "source": [
        "if number == 1:\n",
        "    print('number is 1')\n",
        "    print('something else')"
      ]
    },
    {
      "cell_type": "markdown",
      "metadata": {
        "id": "t8wnUev35_fe"
      },
      "source": [
        "*  you can use any indentation you want as long as it's 4 spaces (PEP-8\n",
        "https://www.python.org/dev/peps/pep-0008/)"
      ]
    },
    {
      "cell_type": "markdown",
      "metadata": {
        "id": "IO9hLBvX5_fe"
      },
      "source": [
        "# __`if`__ statements\n",
        "* enable us to ask a question\n",
        "* no parens needed as they are in some other languages\n",
        "* __`elif`__ = else if"
      ]
    },
    {
      "cell_type": "code",
      "execution_count": null,
      "metadata": {
        "id": "UqAs7qJ35_fe",
        "outputId": "9cc4d5b5-c412-4ea0-e53a-f4613254a883"
      },
      "outputs": [
        {
          "name": "stdin",
          "output_type": "stream",
          "text": [
            "Enter your guess:  37\n"
          ]
        },
        {
          "name": "stdout",
          "output_type": "stream",
          "text": [
            "You got it!\n"
          ]
        }
      ],
      "source": [
        "my_number = 37\n",
        "guess = int(input('Enter your guess: '))\n",
        "\n",
        "if guess > my_number:\n",
        "    print('Guess was too high')\n",
        "elif guess < my_number:\n",
        "    print('Guess was too low')\n",
        "else:\n",
        "    print('You got it!')"
      ]
    },
    {
      "cell_type": "markdown",
      "metadata": {
        "id": "JwLcBjta5_fe"
      },
      "source": [
        "# Comparison Operators\n",
        "\n",
        "| operator | meaning |\n",
        "|---|---|\n",
        "| == | equality  |\n",
        "| != | inequality|\n",
        "| < | less than |\n",
        "| <= | less than or equals |\n",
        "| > | greater than |\n",
        "| >= | greater than or equals |\n",
        "| in | membership"
      ]
    },
    {
      "cell_type": "code",
      "execution_count": null,
      "metadata": {
        "id": "-YrTmlx15_ff"
      },
      "outputs": [],
      "source": [
        "x = 7"
      ]
    },
    {
      "cell_type": "code",
      "execution_count": null,
      "metadata": {
        "id": "RVE44Geb5_ff",
        "outputId": "71f44604-2e57-4923-d057-3b92146ba86d"
      },
      "outputs": [
        {
          "data": {
            "text/plain": [
              "True"
            ]
          },
          "execution_count": 125,
          "metadata": {},
          "output_type": "execute_result"
        }
      ],
      "source": [
        "5 < x"
      ]
    },
    {
      "cell_type": "code",
      "execution_count": null,
      "metadata": {
        "id": "stcknKzW5_ff",
        "outputId": "8ee32392-ecbd-4535-eb28-533a8cb37f51"
      },
      "outputs": [
        {
          "data": {
            "text/plain": [
              "True"
            ]
          },
          "execution_count": 126,
          "metadata": {},
          "output_type": "execute_result"
        }
      ],
      "source": [
        "x < 9"
      ]
    },
    {
      "cell_type": "code",
      "execution_count": null,
      "metadata": {
        "id": "iWPYuIeB5_ff",
        "outputId": "eb82b951-9121-4361-c24b-1763357cea50"
      },
      "outputs": [
        {
          "data": {
            "text/plain": [
              "True"
            ]
          },
          "execution_count": 127,
          "metadata": {},
          "output_type": "execute_result"
        }
      ],
      "source": [
        "5 < x and x < 9 # many programming languages use &&"
      ]
    },
    {
      "cell_type": "code",
      "execution_count": null,
      "metadata": {
        "id": "fybvz3Ou5_ff",
        "outputId": "1b5f9c2f-2983-46fc-8aa6-37f36f3744c3"
      },
      "outputs": [
        {
          "data": {
            "text/plain": [
              "True"
            ]
          },
          "execution_count": 128,
          "metadata": {},
          "output_type": "execute_result"
        }
      ],
      "source": [
        "(5 < x) and (x < 9)"
      ]
    },
    {
      "cell_type": "code",
      "execution_count": null,
      "metadata": {
        "id": "X57y6-4I5_ff"
      },
      "outputs": [],
      "source": [
        "5 < x < 9 # only language I know of that does this right"
      ]
    },
    {
      "cell_type": "markdown",
      "metadata": {
        "id": "njH9wj755_ff"
      },
      "source": [
        "## Loops\n",
        "* enable us to repeat an action\n",
        "* two kinds of loops in Python\n",
        " * __`while`__ loops (\"do something until a condition becomes false\")\n",
        " * __`for`__ loops (\"do something a certain number of times\")"
      ]
    },
    {
      "cell_type": "markdown",
      "metadata": {
        "id": "7_3TtB9l5_ff"
      },
      "source": [
        "## __`while`__ loop example"
      ]
    },
    {
      "cell_type": "code",
      "execution_count": 45,
      "metadata": {
        "id": "WnDewh8j5_ff",
        "outputId": "9efefcee-e6d1-43b3-f2f7-0a5266ce16b8",
        "colab": {
          "base_uri": "https://localhost:8080/"
        }
      },
      "outputs": [
        {
          "output_type": "stream",
          "name": "stdout",
          "text": [
            "Enter your guess (enter 0 to give up): 50\n",
            "Guess was too low\n",
            "Enter your guess (enter 0 to give up): 75\n",
            "Guess was too low\n",
            "Enter your guess (enter 0 to give up): 87\n",
            "You got it!\n"
          ]
        }
      ],
      "source": [
        "import random # \"batteries included\"\n",
        "\n",
        "my_number = random.randint(1, 100)\n",
        "guess = 0\n",
        "\n",
        "while guess != my_number: # loop until...?\n",
        "    guess = int(input('Enter your guess (enter 0 to give up): '))\n",
        "    if guess == 0:\n",
        "        print(\"Sorry that you're giving up!\")\n",
        "        break # leave the loop immediatey (abnormal termination)\n",
        "    elif guess > my_number:\n",
        "        print(\"Guess was too high\")\n",
        "    elif guess < my_number:\n",
        "        print(\"Guess was too low\")\n",
        "    else:\n",
        "        print(\"You got it!\")"
      ]
    },
    {
      "cell_type": "markdown",
      "metadata": {
        "id": "2i1rIggX5_ff"
      },
      "source": [
        "## __`for`__ loop example\n",
        "* typically used to iterate through an _container_ (string and others we haven't learned yet) one element at a time\n",
        "* _\"for thing in container\"_"
      ]
    },
    {
      "cell_type": "code",
      "execution_count": null,
      "metadata": {
        "scrolled": true,
        "id": "vk881_Fj5_ff",
        "outputId": "4532998f-6568-4441-b4b0-6132ba50d661"
      },
      "outputs": [
        {
          "name": "stdout",
          "output_type": "stream",
          "text": [
            "P\n",
            "y\n",
            "t\n",
            "h\n",
            "o\n",
            "n\n"
          ]
        }
      ],
      "source": [
        "for letter in 'Python': # for each element in the container\n",
        "    print(letter)"
      ]
    },
    {
      "cell_type": "markdown",
      "metadata": {
        "id": "aC65bPk-5_ff"
      },
      "source": [
        "## Sequences are also iterable\n"
      ]
    },
    {
      "cell_type": "code",
      "execution_count": null,
      "metadata": {
        "id": "RLepP8cY5_ff",
        "outputId": "ec21c76a-beba-45c2-e14d-1a5828362b45"
      },
      "outputs": [
        {
          "name": "stdout",
          "output_type": "stream",
          "text": [
            "1\n",
            "2\n",
            "3\n",
            "4\n",
            "5\n",
            "6\n",
            "7\n",
            "8\n",
            "9\n"
          ]
        }
      ],
      "source": [
        "for number in range(1, 10): # \"for thing in container\"\n",
        "    print(number)"
      ]
    },
    {
      "cell_type": "code",
      "source": [
        "for number in range(1, 10, 2): # \"for thing in container\"\n",
        "    print(number)"
      ],
      "metadata": {
        "id": "EXCLbEBDUYZz",
        "outputId": "7ba02d3c-1425-4ffa-d959-2979d9fa9aaa",
        "colab": {
          "base_uri": "https://localhost:8080/"
        }
      },
      "execution_count": 41,
      "outputs": [
        {
          "output_type": "stream",
          "name": "stdout",
          "text": [
            "1\n",
            "3\n",
            "5\n",
            "7\n",
            "9\n"
          ]
        }
      ]
    },
    {
      "cell_type": "code",
      "execution_count": null,
      "metadata": {
        "scrolled": true,
        "id": "a0S6VRo15_ff",
        "outputId": "de9f4672-6646-4073-bfa0-11c40018e005"
      },
      "outputs": [
        {
          "name": "stdout",
          "output_type": "stream",
          "text": [
            "10\n",
            "8\n",
            "6\n",
            "4\n",
            "2\n",
            "blast off!\n"
          ]
        }
      ],
      "source": [
        "for num in range(10, 0, -1):\n",
        "    print(num)\n",
        "print('blast off!')"
      ]
    },
    {
      "cell_type": "code",
      "execution_count": null,
      "metadata": {
        "scrolled": true,
        "id": "fB4cdPsP5_ff",
        "outputId": "3c35b9aa-5a81-4e79-ee08-a05d7d8d961a"
      },
      "outputs": [
        {
          "name": "stdout",
          "output_type": "stream",
          "text": [
            "-0.2 -0.25 -0.3333333333333333 -0.5 -1.0 1.0 0.5 0.3333333333333333 0.25 0.2 "
          ]
        }
      ],
      "source": [
        "for num in range(-5, 6): # -5 ... 5\n",
        "    if num == 0:\n",
        "        continue # \"syntactic sugar\"\n",
        "    print(1 / num, end=' ')"
      ]
    },
    {
      "cell_type": "markdown",
      "metadata": {
        "id": "HZah9Su45_ff"
      },
      "source": [
        "## Quick Lab: Loops/Strings\n",
        "* have the user enter a string, then loop through the string to generate (or print) a new string in which every character is duplicated, e.g., \"Python\" => \"PPyytthhoonn\""
      ]
    },
    {
      "cell_type": "markdown",
      "source": [
        "## Quick Lab: Loops/Numbers\n",
        "* write Python code to generate a 6-digit access/security code, like you get when your try to log in to a website and it sends a code to your phone...e.g., 031728"
      ],
      "metadata": {
        "id": "5q9k5xNdUs6d"
      }
    },
    {
      "cell_type": "markdown",
      "metadata": {
        "id": "UJ22Z3N-5_ff"
      },
      "source": [
        "## Lab: Fibonacci\n",
        "* write code to print out the Fibonacci sequence up to a number of the user's choosing\n",
        "* user will enter either number of Fibonacci numbers they want to see or the maximum Fibonacci number they want to see (either a for loop or while loop)\n",
        "* first Fibonacci is 1, second Fibonacci is also 1, and every subsequent Fibonacci number is the sum of the previous two (1, 1, 2, 3, 5, 8, 13, 21, 34, ...)"
      ]
    },
    {
      "cell_type": "markdown",
      "metadata": {
        "jp-MarkdownHeadingCollapsed": true,
        "id": "grlwxT2D5_ff"
      },
      "source": [
        "## Lab: Prime Numbers\n",
        "* write code to print out the numbers from 2 to 25 inclusive and indicate whether the number is prime and if it's not prime, write the number as a product of two factors, e.g.,\n",
        "* a prime number is a number that has no divisors other than itself and 1\n",
        "<pre>\n",
        "2 is prime\n",
        "3 is prime\n",
        "4 equals 2 * 2\n",
        "5 is prime\n",
        "6 equals 2 * 3\n",
        "7 is prime\n",
        "8 equals 2 * 4\n",
        "9 equals 3 * 3\n",
        "10 equals 2 * 5\n",
        "11 is prime\n",
        "12 equals 2 * 6\n",
        "13 is prime\n",
        "14 equals 2 * 7\n",
        "15 equals 3 * 5\n",
        "16 equals 2 * 8\n",
        "17 is prime\n",
        "18 equals 2 * 9\n",
        "19 is prime\n",
        "20 equals 2 * 10\n",
        "21 equals 3 * 7\n",
        "22 equals 2 * 11\n",
        "23 is prime\n",
        "24 equals 2 * 12\n",
        "25 equals 5 * 5\n",
        "</pre>"
      ]
    },
    {
      "cell_type": "markdown",
      "metadata": {
        "id": "EZQgau7k5_fg"
      },
      "source": [
        "## Loops: Recap\n",
        "* __`for`__ loop is more common\n",
        "* __`break`__ exits loop immediately\n",
        "* __`continue`__ skips remainder of loop and starts next iteration"
      ]
    },
    {
      "cell_type": "markdown",
      "metadata": {
        "id": "Q3Wvy8Ru5_fg"
      },
      "source": [
        "## Revisiting Strings"
      ]
    },
    {
      "cell_type": "markdown",
      "metadata": {
        "id": "RVqMAxFY5_fg"
      },
      "source": [
        "## Slices\n",
        "* __`[start:stop:step]`__\n",
        "* extracts the substring from __`start`__ to __`stop`__ _minus 1_, skipping __`step`__ characters at a time\n",
        "* each of the st... are optional"
      ]
    },
    {
      "cell_type": "code",
      "execution_count": null,
      "metadata": {
        "id": "-DvSKzI_5_fg"
      },
      "outputs": [],
      "source": [
        "alphabet = 'abcdefghijklmnopqrstuvwxyz'\n",
        "         #  01234567890123456789012345\n",
        "         #                         321-"
      ]
    },
    {
      "cell_type": "code",
      "execution_count": null,
      "metadata": {
        "id": "Ek0NrjeH5_fg",
        "outputId": "df1da06d-920f-42bf-945d-203d0f9e5d5b"
      },
      "outputs": [
        {
          "data": {
            "text/plain": [
              "'klmno'"
            ]
          },
          "execution_count": 38,
          "metadata": {},
          "output_type": "execute_result"
        }
      ],
      "source": [
        "alphabet[10:15]"
      ]
    },
    {
      "cell_type": "code",
      "execution_count": null,
      "metadata": {
        "id": "HxS3UTt35_fg",
        "outputId": "e2335caf-07ff-439b-d4a5-0fea10ebfdee"
      },
      "outputs": [
        {
          "data": {
            "text/plain": [
              "'abcde'"
            ]
          },
          "execution_count": 40,
          "metadata": {},
          "output_type": "execute_result"
        }
      ],
      "source": [
        "alphabet[:5] # first 5 chars"
      ]
    },
    {
      "cell_type": "code",
      "execution_count": null,
      "metadata": {
        "id": "XgWuKItU5_fg",
        "outputId": "9fe66b6c-2181-4716-d4cd-ee9da25f1b8e"
      },
      "outputs": [
        {
          "data": {
            "text/plain": [
              "'xyz'"
            ]
          },
          "execution_count": 47,
          "metadata": {},
          "output_type": "execute_result"
        }
      ],
      "source": [
        "alphabet[23:]"
      ]
    },
    {
      "cell_type": "code",
      "execution_count": null,
      "metadata": {
        "id": "Uldse7u75_fg",
        "outputId": "1afe4c1a-e9a4-4d09-87fe-7d372c1122dc"
      },
      "outputs": [
        {
          "data": {
            "text/plain": [
              "'dgjmpsv'"
            ]
          },
          "execution_count": 44,
          "metadata": {},
          "output_type": "execute_result"
        }
      ],
      "source": [
        "alphabet[3:23:3]"
      ]
    },
    {
      "cell_type": "code",
      "execution_count": null,
      "metadata": {
        "id": "Zs3-PEF65_fg",
        "outputId": "7d805aac-44c2-44c2-d3c6-7f2b661e5ec2"
      },
      "outputs": [
        {
          "data": {
            "text/plain": [
              "'kjihgfed'"
            ]
          },
          "execution_count": 54,
          "metadata": {},
          "output_type": "execute_result"
        }
      ],
      "source": [
        "alphabet[10:2:-1]"
      ]
    },
    {
      "cell_type": "code",
      "execution_count": null,
      "metadata": {
        "id": "Y1F5VlVm5_fg",
        "outputId": "16cf1c99-ce8c-4115-a509-58aeecf9e0dd"
      },
      "outputs": [
        {
          "data": {
            "text/plain": [
              "'xyz'"
            ]
          },
          "execution_count": 48,
          "metadata": {},
          "output_type": "execute_result"
        }
      ],
      "source": [
        "alphabet[-3:]"
      ]
    },
    {
      "cell_type": "code",
      "execution_count": null,
      "metadata": {
        "id": "aEQqV8l85_fg",
        "outputId": "f1e4c800-6963-49a5-94cd-8bbf92b016d4"
      },
      "outputs": [
        {
          "data": {
            "text/plain": [
              "'zyxwvutsrqponmlkjihgfedcba'"
            ]
          },
          "execution_count": 57,
          "metadata": {},
          "output_type": "execute_result"
        }
      ],
      "source": [
        "alphabet[::-1] # idiomatic"
      ]
    },
    {
      "cell_type": "markdown",
      "metadata": {
        "id": "rp6dFn2y5_fg"
      },
      "source": [
        "## More String Functions (Methods)\n",
        "* \"methods\" are functions which are specific to a given datatype (e.g., string functions)\n",
        "* methods are called using a new syntax"
      ]
    },
    {
      "cell_type": "code",
      "execution_count": null,
      "metadata": {
        "id": "Q9GnnNr65_fg"
      },
      "outputs": [],
      "source": [
        "poem = '''TWO roads diverged in a yellow wood,\n",
        "And sorry I could not travel both\n",
        "And be one traveler, long I stood\n",
        "And looked down one as far as I could\n",
        "To where it bent in the undergrowth;\n",
        "\n",
        "Then took the other, as just as fair,\n",
        "And having perhaps the better claim,\n",
        "Because it was grassy and wanted wear;\n",
        "Though as for that the passing there\n",
        "Had worn them really about the same,\n",
        "\n",
        "And both that morning equally lay\n",
        "In leaves no step had trodden black.\n",
        "Oh, I kept the first for another day!\n",
        "Yet knowing how way leads on to way,\n",
        "I doubted if I should ever come back.\n",
        "\n",
        "I shall be telling this with a sigh\n",
        "Somewhere ages and ages hence:\n",
        "Two roads diverged in a wood, and I—\n",
        "I took the one less traveled by,\n",
        "And that has made all the difference.'''"
      ]
    },
    {
      "cell_type": "code",
      "execution_count": null,
      "metadata": {
        "id": "BUpfAIz55_fg",
        "outputId": "0a70d335-1c71-4644-c2b7-45481a032bb4"
      },
      "outputs": [
        {
          "data": {
            "text/plain": [
              "729"
            ]
          },
          "execution_count": 59,
          "metadata": {},
          "output_type": "execute_result"
        }
      ],
      "source": [
        "len(poem) # built-in function"
      ]
    },
    {
      "cell_type": "code",
      "execution_count": null,
      "metadata": {
        "id": "HSdO6_775_fg",
        "outputId": "94d309fc-f110-41cc-af57-6dd12d22604c"
      },
      "outputs": [
        {
          "data": {
            "text/plain": [
              "'TWO roads diverge'"
            ]
          },
          "execution_count": 60,
          "metadata": {},
          "output_type": "execute_result"
        }
      ],
      "source": [
        "poem[:17]"
      ]
    },
    {
      "cell_type": "code",
      "execution_count": null,
      "metadata": {
        "id": "p-6WjSOe5_fg",
        "outputId": "34f94bb8-4c7c-41aa-d10d-2c6dee1df68e"
      },
      "outputs": [
        {
          "data": {
            "text/plain": [
              "True"
            ]
          },
          "execution_count": 61,
          "metadata": {},
          "output_type": "execute_result"
        }
      ],
      "source": [
        "poem.startswith('TWO') # startswith is a function...a \"method\"\n",
        "# NOT startswith(poem, 'TWO')"
      ]
    },
    {
      "cell_type": "code",
      "execution_count": null,
      "metadata": {
        "id": "4qKDWIa25_fg",
        "outputId": "75ff3ac2-51ac-4d15-b451-87c132f752a5"
      },
      "outputs": [
        {
          "data": {
            "text/plain": [
              "False"
            ]
          },
          "execution_count": 62,
          "metadata": {},
          "output_type": "execute_result"
        }
      ],
      "source": [
        "poem.endswith('And miles to go before I sleep.')"
      ]
    },
    {
      "cell_type": "code",
      "execution_count": null,
      "metadata": {
        "id": "X9RMQtD75_fg",
        "outputId": "d442077b-4bbc-4d38-c033-99934a5fdcd4"
      },
      "outputs": [
        {
          "data": {
            "text/plain": [
              "163"
            ]
          },
          "execution_count": 67,
          "metadata": {},
          "output_type": "execute_result"
        }
      ],
      "source": [
        "poem.find('the')"
      ]
    },
    {
      "cell_type": "code",
      "execution_count": null,
      "metadata": {
        "id": "YLQrSxHG5_fh",
        "outputId": "d1ed168b-e399-42d0-8f25-bb7889a5714f"
      },
      "outputs": [
        {
          "data": {
            "text/plain": [
              "'the undergrowth'"
            ]
          },
          "execution_count": 68,
          "metadata": {},
          "output_type": "execute_result"
        }
      ],
      "source": [
        "poem[163:178] # how long is this slice?"
      ]
    },
    {
      "cell_type": "code",
      "execution_count": null,
      "metadata": {
        "id": "-OQ603zZ5_fh",
        "outputId": "038aad71-4b64-40c7-d2b2-fae3c0bd6787"
      },
      "outputs": [
        {
          "data": {
            "text/plain": [
              "714"
            ]
          },
          "execution_count": 69,
          "metadata": {},
          "output_type": "execute_result"
        }
      ],
      "source": [
        "poem.rfind('the')"
      ]
    },
    {
      "cell_type": "code",
      "execution_count": null,
      "metadata": {
        "id": "IE4eVki65_fh",
        "outputId": "2c40e449-50f7-40b9-cd44-b77e6a5d7306"
      },
      "outputs": [
        {
          "data": {
            "text/plain": [
              "12"
            ]
          },
          "execution_count": 70,
          "metadata": {},
          "output_type": "execute_result"
        }
      ],
      "source": [
        "poem.count('the')"
      ]
    },
    {
      "cell_type": "markdown",
      "metadata": {
        "id": "BFQc9tNs5_fh"
      },
      "source": [
        "## __`strip()`__"
      ]
    },
    {
      "cell_type": "code",
      "execution_count": null,
      "metadata": {
        "id": "rR09gl015_fh",
        "outputId": "856cc94f-6eda-4d0c-c64e-a99955966de3"
      },
      "outputs": [
        {
          "data": {
            "text/plain": [
              "'Now is the time'"
            ]
          },
          "execution_count": 76,
          "metadata": {},
          "output_type": "execute_result"
        }
      ],
      "source": [
        "s = '\\t\\t\\t \\n\\n Now is the time  \\t\\t\\t \\n  '\n",
        "s.strip() # generates a new string in which leading/trailing..."
      ]
    },
    {
      "cell_type": "code",
      "execution_count": null,
      "metadata": {
        "id": "Pua9ahRa5_fh",
        "outputId": "08c0b068-0e79-4fc2-bcb1-ec22d476fac2"
      },
      "outputs": [
        {
          "data": {
            "text/plain": [
              "'\\t\\t\\t \\n\\n Now is the time  \\t\\t\\t \\n  '"
            ]
          },
          "execution_count": 77,
          "metadata": {},
          "output_type": "execute_result"
        }
      ],
      "source": [
        "s"
      ]
    },
    {
      "cell_type": "code",
      "execution_count": null,
      "metadata": {
        "id": "VTukbHIn5_fh"
      },
      "outputs": [],
      "source": [
        "s = s.strip()"
      ]
    },
    {
      "cell_type": "code",
      "execution_count": null,
      "metadata": {
        "id": "QR7ipjnh5_fh",
        "outputId": "2dc6daf7-3cc1-49e6-bd25-5d5177228620"
      },
      "outputs": [
        {
          "data": {
            "text/plain": [
              "'Now is the time'"
            ]
          },
          "execution_count": 81,
          "metadata": {},
          "output_type": "execute_result"
        }
      ],
      "source": [
        "s"
      ]
    },
    {
      "cell_type": "code",
      "execution_count": null,
      "metadata": {
        "id": "Gdf_aosx5_fh",
        "outputId": "1e119d47-2de9-4788-af52-ea4dfdda2b8c"
      },
      "outputs": [
        {
          "data": {
            "text/plain": [
              "'.Now is the time...'"
            ]
          },
          "execution_count": 82,
          "metadata": {},
          "output_type": "execute_result"
        }
      ],
      "source": [
        "s = '.' + s + '...'\n",
        "s"
      ]
    },
    {
      "cell_type": "code",
      "execution_count": null,
      "metadata": {
        "id": "ZAF4fAjY5_fh",
        "outputId": "c4e7a75f-8f68-4ddf-c9ad-13cd54226d75"
      },
      "outputs": [
        {
          "data": {
            "text/plain": [
              "'Now is the time'"
            ]
          },
          "execution_count": 83,
          "metadata": {},
          "output_type": "execute_result"
        }
      ],
      "source": [
        "s.strip('.')"
      ]
    },
    {
      "cell_type": "markdown",
      "metadata": {
        "id": "TcUaGkfl5_fh"
      },
      "source": [
        "## Even More String Functions (Methods)..."
      ]
    },
    {
      "cell_type": "code",
      "execution_count": null,
      "metadata": {
        "id": "ocZm_Woj5_fh",
        "outputId": "0962d956-7a06-4f03-aef0-8f195f8b6dd6"
      },
      "outputs": [
        {
          "data": {
            "text/plain": [
              "'Now is the time'"
            ]
          },
          "execution_count": 84,
          "metadata": {},
          "output_type": "execute_result"
        }
      ],
      "source": [
        "s = 'now IS the time'\n",
        "s.capitalize()"
      ]
    },
    {
      "cell_type": "code",
      "execution_count": null,
      "metadata": {
        "id": "ttSz9aKj5_fh",
        "outputId": "d8b156b9-f9e7-4e57-a378-75c1d8b75bca"
      },
      "outputs": [
        {
          "data": {
            "text/plain": [
              "'Now Is The Time'"
            ]
          },
          "execution_count": 85,
          "metadata": {},
          "output_type": "execute_result"
        }
      ],
      "source": [
        "s.title()"
      ]
    },
    {
      "cell_type": "code",
      "execution_count": null,
      "metadata": {
        "id": "EYBs1ldu5_fh",
        "outputId": "ca6bd5f0-bb28-4cb0-fa00-1830a198b639"
      },
      "outputs": [
        {
          "data": {
            "text/plain": [
              "'NOW IS THE TIME'"
            ]
          },
          "execution_count": 86,
          "metadata": {},
          "output_type": "execute_result"
        }
      ],
      "source": [
        "s.upper()"
      ]
    },
    {
      "cell_type": "code",
      "execution_count": null,
      "metadata": {
        "id": "DpesNOjt5_fh",
        "outputId": "ee4dbae2-778f-455e-b191-bd0600aab057"
      },
      "outputs": [
        {
          "data": {
            "text/plain": [
              "'now is the time'"
            ]
          },
          "execution_count": 87,
          "metadata": {},
          "output_type": "execute_result"
        }
      ],
      "source": [
        "s.lower()"
      ]
    },
    {
      "cell_type": "code",
      "execution_count": null,
      "metadata": {
        "id": "e3N23lYe5_fh",
        "outputId": "8b809d12-46f6-456f-bb64-15e47177166f"
      },
      "outputs": [
        {
          "data": {
            "text/plain": [
              "'NOW is THE TIME'"
            ]
          },
          "execution_count": 88,
          "metadata": {},
          "output_type": "execute_result"
        }
      ],
      "source": [
        "s.swapcase()"
      ]
    },
    {
      "cell_type": "code",
      "execution_count": null,
      "metadata": {
        "id": "YIPLYaeX5_fh",
        "outputId": "7e323df2-4db3-4c6b-bf14-928d60edb426"
      },
      "outputs": [
        {
          "data": {
            "text/plain": [
              "'now IS not the time'"
            ]
          },
          "execution_count": 89,
          "metadata": {},
          "output_type": "execute_result"
        }
      ],
      "source": [
        "s.replace('the', 'not the') # be careful of the naming"
      ]
    },
    {
      "cell_type": "code",
      "execution_count": null,
      "metadata": {
        "id": "BbDxuN9M5_fh",
        "outputId": "c9a12ee2-8308-4b98-f564-4c4f24f98ad2"
      },
      "outputs": [
        {
          "data": {
            "text/plain": [
              "'now IS The Time'"
            ]
          },
          "execution_count": 91,
          "metadata": {},
          "output_type": "execute_result"
        }
      ],
      "source": [
        "s.replace('t', 'T')"
      ]
    },
    {
      "cell_type": "code",
      "source": [
        "# Ask the user for a sentence and an integer n\n",
        "sentence = input(\"Enter a sentence: \")\n",
        "n = int(input(\"Enter an integer (n): \"))\n",
        "\n",
        "# Initialize variables to store the result\n",
        "result = \"\"\n",
        "upper = True  # Flag to toggle between uppercase and lowercase\n",
        "\n",
        "# Iterate through the sentence in chunks of n characters\n",
        "for i in range(0, len(sentence), n):\n",
        "    chunk = sentence[i:i+n]\n",
        "\n",
        "    if upper:\n",
        "        result += chunk.upper()  # Convert chunk to uppercase\n",
        "    else:\n",
        "        result += chunk.lower()  # Convert chunk to lowercase\n",
        "\n",
        "    upper = not upper  # Toggle the case for the next chunk\n",
        "\n",
        "# Print the result\n",
        "print(\"Formatted sentence:\", result)"
      ],
      "metadata": {
        "id": "kBqNHW_KbrCd",
        "outputId": "e9c84a98-ff3e-452a-920c-22129383a3c1",
        "colab": {
          "base_uri": "https://localhost:8080/"
        }
      },
      "execution_count": 58,
      "outputs": [
        {
          "output_type": "stream",
          "name": "stdout",
          "text": [
            "Enter a sentence: Now is the time\n",
            "Enter an integer (n): 3\n",
            "Formatted sentence: NOW is THe tIME\n"
          ]
        }
      ]
    },
    {
      "cell_type": "markdown",
      "metadata": {
        "id": "e1ZZuuTo5_fi"
      },
      "source": [
        "## Quick Lab: String Functions\n",
        "* write a Python program to read in a sentences and tell the user how many vowels are in that sentence\n",
        "* so if the user entered \"Apples are my favorite fruit\", your program would respond with 10 (or 11 if you count 'y' as a vowel)"
      ]
    },
    {
      "cell_type": "markdown",
      "metadata": {
        "id": "8L7SrhfA5_fi"
      },
      "source": [
        "## Lab: String Functions\n",
        "* write a Python program to read in a string/sentence and then read in a number __`n`__ (give it a better name, but we'll use __`n`__ for this explanation)\n",
        "* your program will print out the sentence such that the first __`n`__ characters (including any spaces) are upper case, then the next __`n`__ characters (including any spaces) are lower case, and so on\n",
        "  * so if the user entered __`Now is the time`__ followed by __`4`__, your program would output __`NOW is tHE Time`__\n",
        "  * notice that spaces are characters, so in the above example, __`Now `__ are the first 4 characters and they are printed as upper case (the space will of course not be printed any differently, it will just be a space)"
      ]
    },
    {
      "cell_type": "markdown",
      "metadata": {
        "id": "hlJEE7Wz5_fi"
      },
      "source": [
        "## __`split()/join()`__\n",
        "* important string methods which are inverses of one another\n",
        "* __`.split()`__ splits a string into a __`list`__, a new datatype\n",
        "* __`.join()`__ takes a list of words and joins them back together into a string"
      ]
    },
    {
      "cell_type": "code",
      "execution_count": null,
      "metadata": {
        "id": "9Q1zH_n35_fi",
        "outputId": "81d4698e-e211-4d6c-c54d-805c43330798"
      },
      "outputs": [
        {
          "data": {
            "text/plain": [
              "['Now', 'is', 'the', 'time']"
            ]
          },
          "execution_count": 93,
          "metadata": {},
          "output_type": "execute_result"
        }
      ],
      "source": [
        "'Now is the time'.split() # this is a string method"
      ]
    },
    {
      "cell_type": "code",
      "execution_count": null,
      "metadata": {
        "id": "6rcJz-Uv5_fi",
        "outputId": "7294c001-5a27-4cd9-8c6c-7a8c253bb9aa"
      },
      "outputs": [
        {
          "data": {
            "text/plain": [
              "['eggs', 'bread', 'milk', 'yogurt']"
            ]
          },
          "execution_count": 96,
          "metadata": {},
          "output_type": "execute_result"
        }
      ],
      "source": [
        "'eggs, bread, milk, yogurt'.split(', ')"
      ]
    },
    {
      "cell_type": "markdown",
      "metadata": {
        "id": "Ta6CLHgq5_fi"
      },
      "source": [
        "* Now we want to demonstrate that we can put back together a \"splitted\" string\n",
        "  * it would be nice if we could write __`['eggs', 'bread', 'milk', 'yogurt'].join(', ')`__\n",
        "  * but we can't because __`.join()`__ is actually a string method...WHY?"
      ]
    },
    {
      "cell_type": "code",
      "execution_count": null,
      "metadata": {
        "id": "y_RWOgJ-5_fi",
        "outputId": "cf83d442-3802-44cc-cf8f-285f591c315d"
      },
      "outputs": [
        {
          "data": {
            "text/plain": [
              "'antidisestablishmentarianism'"
            ]
          },
          "execution_count": 97,
          "metadata": {},
          "output_type": "execute_result"
        }
      ],
      "source": [
        "''.join(['anti', 'dis', 'establish', 'men', 'tarian', 'ism'])"
      ]
    },
    {
      "cell_type": "code",
      "execution_count": null,
      "metadata": {
        "id": "C2U4FpiV5_fi",
        "outputId": "23a1f995-9c96-4c8e-e7e9-2fdcf9758e95"
      },
      "outputs": [
        {
          "data": {
            "text/plain": [
              "'Anne, Robert, Nancy'"
            ]
          },
          "execution_count": 98,
          "metadata": {},
          "output_type": "execute_result"
        }
      ],
      "source": [
        "', '.join(['Anne', 'Robert', 'Nancy'])"
      ]
    },
    {
      "cell_type": "markdown",
      "metadata": {
        "id": "GwDTSRJj5_fi"
      },
      "source": [
        "## Lists\n",
        "* usually homogeneous, but may contain any objects\n",
        "* unbounded / not a fixed size\n",
        "* duplicates allowed\n",
        "* __`list()`__ function creates a list from another sequence or container"
      ]
    },
    {
      "cell_type": "code",
      "execution_count": null,
      "metadata": {
        "id": "jZ6zn6ug5_fi",
        "outputId": "bee762b6-a3f3-43e4-8337-2e6387bf608b"
      },
      "outputs": [
        {
          "data": {
            "text/plain": [
              "[1, 3, 5, 7, 5, 3, 1]"
            ]
          },
          "execution_count": 99,
          "metadata": {},
          "output_type": "execute_result"
        }
      ],
      "source": [
        "mylist = [1, 3, 5, 7, 5, 3, 1]\n",
        "mylist"
      ]
    },
    {
      "cell_type": "code",
      "execution_count": null,
      "metadata": {
        "id": "mZCAlABR5_fi",
        "outputId": "8f2638fe-af28-4c7b-dc1f-a70ca7810d40"
      },
      "outputs": [
        {
          "data": {
            "text/plain": [
              "['Mon', 'Tue', 'Wed', 'Thu', 'Fri', 'Sat', 'Sun']"
            ]
          },
          "execution_count": 100,
          "metadata": {},
          "output_type": "execute_result"
        }
      ],
      "source": [
        "days = ['Mon', 'Tue', 'Wed', 'Thu', 'Fri', 'Sat', 'Sun']\n",
        "days"
      ]
    },
    {
      "cell_type": "code",
      "execution_count": null,
      "metadata": {
        "id": "e97j4AZF5_fi",
        "outputId": "5da4a978-c233-4fcf-fdca-20ec08d496e2"
      },
      "outputs": [
        {
          "data": {
            "text/plain": [
              "['h', 'e', 'l', 'l', 'o']"
            ]
          },
          "execution_count": 101,
          "metadata": {},
          "output_type": "execute_result"
        }
      ],
      "source": [
        "list('hello')"
      ]
    },
    {
      "cell_type": "code",
      "execution_count": null,
      "metadata": {
        "id": "u7rJ4xw25_fi",
        "outputId": "eb7c5335-2242-424d-b1bd-11e2b0c16ca1"
      },
      "outputs": [
        {
          "name": "stdin",
          "output_type": "stream",
          "text": [
            "Enter something:  apple fig pear lemon\n"
          ]
        },
        {
          "data": {
            "text/plain": [
              "['apple', 'fig', 'pear', 'lemon']"
            ]
          },
          "execution_count": 103,
          "metadata": {},
          "output_type": "execute_result"
        }
      ],
      "source": [
        "stuff = input('Enter something: ')\n",
        "stuff.split()"
      ]
    },
    {
      "cell_type": "code",
      "execution_count": 79,
      "metadata": {
        "id": "XMkYH8Zq5_fi"
      },
      "outputs": [],
      "source": [
        "cars = ['Tesla', 'Rivian', 'Lucid', 'Polestar', 'Aptera']"
      ]
    },
    {
      "cell_type": "code",
      "execution_count": 61,
      "metadata": {
        "id": "cU_GQz5c5_fk",
        "outputId": "ccd8291f-6eb3-4477-dc23-a40ff7092c0a",
        "colab": {
          "base_uri": "https://localhost:8080/",
          "height": 35
        }
      },
      "outputs": [
        {
          "output_type": "execute_result",
          "data": {
            "text/plain": [
              "'Tesla'"
            ],
            "application/vnd.google.colaboratory.intrinsic+json": {
              "type": "string"
            }
          },
          "metadata": {},
          "execution_count": 61
        }
      ],
      "source": [
        "cars[0]"
      ]
    },
    {
      "cell_type": "code",
      "execution_count": 70,
      "metadata": {
        "id": "r3-OpTxs5_fk",
        "outputId": "309c2d17-2697-4ff7-8922-d1f4b2f3ea11",
        "colab": {
          "base_uri": "https://localhost:8080/",
          "height": 35
        }
      },
      "outputs": [
        {
          "output_type": "execute_result",
          "data": {
            "text/plain": [
              "'Aptera'"
            ],
            "application/vnd.google.colaboratory.intrinsic+json": {
              "type": "string"
            }
          },
          "metadata": {},
          "execution_count": 70
        }
      ],
      "source": [
        "cars[-1] # always the last element of the list"
      ]
    },
    {
      "cell_type": "code",
      "execution_count": 71,
      "metadata": {
        "id": "bs8DIxQy5_fk",
        "outputId": "f02ea008-848f-40a9-f041-a46a251b50e8",
        "colab": {
          "base_uri": "https://localhost:8080/"
        }
      },
      "outputs": [
        {
          "output_type": "execute_result",
          "data": {
            "text/plain": [
              "[['Tesla', 'Rivian', 'Lucid', 'Polestar', 'Aptera'], 'bus']"
            ]
          },
          "metadata": {},
          "execution_count": 71
        }
      ],
      "source": [
        "vehicles = [cars, 'bus']\n",
        "vehicles"
      ]
    },
    {
      "cell_type": "code",
      "execution_count": 72,
      "metadata": {
        "id": "kvHsfYau5_fk",
        "outputId": "2f36b039-317b-410d-b6fa-54cca0ec20ee",
        "colab": {
          "base_uri": "https://localhost:8080/"
        }
      },
      "outputs": [
        {
          "output_type": "execute_result",
          "data": {
            "text/plain": [
              "['Tesla', 'Rivian', 'Lucid', 'Polestar', 'Aptera']"
            ]
          },
          "metadata": {},
          "execution_count": 72
        }
      ],
      "source": [
        "vehicles[0]"
      ]
    },
    {
      "cell_type": "code",
      "execution_count": 65,
      "metadata": {
        "id": "0sqCIjqu5_fk",
        "outputId": "5f7bab7e-52ca-4cc0-825c-b34073692324",
        "colab": {
          "base_uri": "https://localhost:8080/",
          "height": 35
        }
      },
      "outputs": [
        {
          "output_type": "execute_result",
          "data": {
            "text/plain": [
              "'Aptera'"
            ],
            "application/vnd.google.colaboratory.intrinsic+json": {
              "type": "string"
            }
          },
          "metadata": {},
          "execution_count": 65
        }
      ],
      "source": [
        "vehicles[0][-1]"
      ]
    },
    {
      "cell_type": "code",
      "execution_count": 80,
      "metadata": {
        "id": "lpU2usAW5_fk",
        "outputId": "d63f6976-86c8-44be-e748-6658d11de17a",
        "colab": {
          "base_uri": "https://localhost:8080/"
        }
      },
      "outputs": [
        {
          "output_type": "execute_result",
          "data": {
            "text/plain": [
              "['Tesla', 'Rivian', 'Lucid', 'Polestar', 'Aptera Motors']"
            ]
          },
          "metadata": {},
          "execution_count": 80
        }
      ],
      "source": [
        "cars[-1] = 'Aptera Motors'\n",
        "cars"
      ]
    },
    {
      "cell_type": "code",
      "execution_count": 74,
      "metadata": {
        "id": "qeBnBTQk5_fl",
        "outputId": "3a9ad290-0b05-4caf-fb0c-c060e0d6b34a",
        "colab": {
          "base_uri": "https://localhost:8080/"
        }
      },
      "outputs": [
        {
          "output_type": "execute_result",
          "data": {
            "text/plain": [
              "['Tesla', 'Rivian']"
            ]
          },
          "metadata": {},
          "execution_count": 74
        }
      ],
      "source": [
        "cars[:2] # first 2 items in a container"
      ]
    },
    {
      "cell_type": "code",
      "execution_count": 75,
      "metadata": {
        "id": "9By3Iiuf5_fl",
        "outputId": "9ac7b4a5-f25c-4aab-9447-e650a0971bd1",
        "colab": {
          "base_uri": "https://localhost:8080/"
        }
      },
      "outputs": [
        {
          "output_type": "execute_result",
          "data": {
            "text/plain": [
              "['Tesla', 'Lucid', 'Aptera Motors']"
            ]
          },
          "metadata": {},
          "execution_count": 75
        }
      ],
      "source": [
        "cars[::2] # the \"evens\", every other item"
      ]
    },
    {
      "cell_type": "code",
      "execution_count": 76,
      "metadata": {
        "id": "GKqIjk7d5_fl",
        "outputId": "0213ff90-f50b-49fa-b5ef-8f50ba13d5c6",
        "colab": {
          "base_uri": "https://localhost:8080/"
        }
      },
      "outputs": [
        {
          "output_type": "execute_result",
          "data": {
            "text/plain": [
              "['Rivian', 'Polestar']"
            ]
          },
          "metadata": {},
          "execution_count": 76
        }
      ],
      "source": [
        "cars[1::2] # the \"odds\", every other item"
      ]
    },
    {
      "cell_type": "code",
      "execution_count": 77,
      "metadata": {
        "id": "sJyZ2vDE5_fl",
        "outputId": "3f78e702-09ef-4b5d-eabf-18f4054ed821",
        "colab": {
          "base_uri": "https://localhost:8080/"
        }
      },
      "outputs": [
        {
          "output_type": "execute_result",
          "data": {
            "text/plain": [
              "['Aptera Motors', 'Polestar', 'Lucid', 'Rivian', 'Tesla']"
            ]
          },
          "metadata": {},
          "execution_count": 77
        }
      ],
      "source": [
        "cars[::-1] # also idiomatic"
      ]
    },
    {
      "cell_type": "markdown",
      "metadata": {
        "id": "vRSZzXQx5_fl"
      },
      "source": [
        "## Looping Through a List"
      ]
    },
    {
      "cell_type": "code",
      "execution_count": null,
      "metadata": {
        "id": "bFO5Fad05_fl",
        "outputId": "439d599e-f062-431f-e797-8b384909a91b"
      },
      "outputs": [
        {
          "name": "stdout",
          "output_type": "stream",
          "text": [
            "Tesla\n",
            "Fisker\n",
            "Rivian\n",
            "Lordstown Motors\n"
          ]
        }
      ],
      "source": [
        "index = 0\n",
        "while index < len(cars):\n",
        "    print(cars[index])\n",
        "    index += 1 # index = index + 1"
      ]
    },
    {
      "cell_type": "code",
      "execution_count": null,
      "metadata": {
        "id": "2UghPG6_5_fl",
        "outputId": "9aa54f78-d171-4926-8fd2-2fea7ca344aa"
      },
      "outputs": [
        {
          "name": "stdout",
          "output_type": "stream",
          "text": [
            "Tesla\n",
            "Fisker\n",
            "Rivian\n",
            "Lordstown Motors\n"
          ]
        }
      ],
      "source": [
        "for index in range(len(cars)):\n",
        "    print(cars[index])"
      ]
    },
    {
      "cell_type": "markdown",
      "metadata": {
        "id": "f6_-aabY5_fl"
      },
      "source": [
        "* that works, but it's not the way we'd write it in Python...it's not _Pythonic_"
      ]
    },
    {
      "cell_type": "code",
      "execution_count": null,
      "metadata": {
        "id": "qdnHOnWz5_fl",
        "outputId": "a38fb003-a490-4441-bf50-a2fc0f266022"
      },
      "outputs": [
        {
          "name": "stdout",
          "output_type": "stream",
          "text": [
            "Tesla\n",
            "Fisker\n",
            "Rivian\n",
            "Lordstown\n"
          ]
        }
      ],
      "source": [
        "for car in cars: # for \"thing in container\"\n",
        "    print(car)"
      ]
    },
    {
      "cell_type": "markdown",
      "metadata": {
        "id": "yVAGLAKK5_fl"
      },
      "source": [
        "## Adding to a List (\"mutator\" methods)\n",
        "* __`append()`__: add an item the end of a list\n",
        "* __`insert()`__: add an item to a particular place in the list\n",
        "* __`extend()`__ (also __`+=`__): add a list to a list"
      ]
    },
    {
      "cell_type": "code",
      "execution_count": 81,
      "metadata": {
        "id": "NCRX0EBn5_fl",
        "outputId": "d6093f25-ce94-4d05-9795-016607e61c21",
        "colab": {
          "base_uri": "https://localhost:8080/"
        }
      },
      "outputs": [
        {
          "output_type": "execute_result",
          "data": {
            "text/plain": [
              "['Tesla', 'Rivian', 'Lucid', 'Polestar', 'Aptera Motors', 'BYD']"
            ]
          },
          "metadata": {},
          "execution_count": 81
        }
      ],
      "source": [
        "cars.append('BYD')\n",
        "cars"
      ]
    },
    {
      "cell_type": "code",
      "execution_count": 82,
      "metadata": {
        "id": "Spl93NEg5_fl",
        "outputId": "861c3ff7-28fe-4b1d-ddad-a291ce384f03",
        "colab": {
          "base_uri": "https://localhost:8080/"
        }
      },
      "outputs": [
        {
          "output_type": "execute_result",
          "data": {
            "text/plain": [
              "['Tesla', 'Rivian', 'Faraday', 'Lucid', 'Polestar', 'Aptera Motors', 'BYD']"
            ]
          },
          "metadata": {},
          "execution_count": 82
        }
      ],
      "source": [
        "cars.insert(2, 'Faraday')\n",
        "cars"
      ]
    },
    {
      "cell_type": "code",
      "execution_count": 83,
      "metadata": {
        "id": "Mncpm-wX5_fl",
        "outputId": "07a28b4d-0d27-43b5-8d3d-76761454d2cd",
        "colab": {
          "base_uri": "https://localhost:8080/"
        }
      },
      "outputs": [
        {
          "output_type": "execute_result",
          "data": {
            "text/plain": [
              "['Tesla',\n",
              " 'Rivian',\n",
              " 'Faraday',\n",
              " 'Lucid',\n",
              " 'Polestar',\n",
              " 'Aptera Motors',\n",
              " 'BYD',\n",
              " 'VinFast',\n",
              " 'Nikola']"
            ]
          },
          "metadata": {},
          "execution_count": 83
        }
      ],
      "source": [
        "others = ['VinFast', 'Nikola']\n",
        "cars += others # .extend()\n",
        "cars"
      ]
    },
    {
      "cell_type": "code",
      "execution_count": 84,
      "metadata": {
        "id": "dEWAVREu5_fl",
        "outputId": "a648edd8-cb58-46a0-ee44-d949c8c0b77a",
        "colab": {
          "base_uri": "https://localhost:8080/"
        }
      },
      "outputs": [
        {
          "output_type": "execute_result",
          "data": {
            "text/plain": [
              "['Tesla',\n",
              " 'Rivian',\n",
              " 'Faraday',\n",
              " 'Lucid',\n",
              " 'Polestar',\n",
              " 'Aptera Motors',\n",
              " 'BYD',\n",
              " 'VinFast',\n",
              " 'Nikola',\n",
              " ['VinFast', 'Nikola']]"
            ]
          },
          "metadata": {},
          "execution_count": 84
        }
      ],
      "source": [
        "cars.append(others)\n",
        "cars"
      ]
    },
    {
      "cell_type": "code",
      "execution_count": 85,
      "metadata": {
        "id": "GAGywvjN5_fl",
        "outputId": "5ffe4696-eab7-4c0c-e30d-3038acfc6434",
        "colab": {
          "base_uri": "https://localhost:8080/"
        }
      },
      "outputs": [
        {
          "output_type": "stream",
          "name": "stdout",
          "text": [
            "['Tesla', 'Rivian', 'Faraday', 'Lucid', 'Polestar', 'Aptera Motors', 'BYD', 'VinFast', 'Nikola', ['VinFast', 'Nikola']]\n"
          ]
        }
      ],
      "source": [
        "print(cars)"
      ]
    },
    {
      "cell_type": "markdown",
      "metadata": {
        "id": "-HViMCog5_fl"
      },
      "source": [
        "## Removing from a List\n",
        "* __`del`__: delete by position\n",
        "* __`remove(item)`__: remove by value\n",
        "* __`pop()`__: remove last item (or specified item)"
      ]
    },
    {
      "cell_type": "code",
      "execution_count": 87,
      "metadata": {
        "id": "HxQmN4pI5_fl",
        "outputId": "40b319ae-fedf-425a-cf1d-0dcc282b439c",
        "colab": {
          "base_uri": "https://localhost:8080/"
        }
      },
      "outputs": [
        {
          "output_type": "execute_result",
          "data": {
            "text/plain": [
              "['Tesla',\n",
              " 'Rivian',\n",
              " 'Faraday',\n",
              " 'Lucid',\n",
              " 'Polestar',\n",
              " 'Aptera Motors',\n",
              " 'BYD',\n",
              " 'VinFast',\n",
              " 'Nikola',\n",
              " ['VinFast', 'Nikola']]"
            ]
          },
          "metadata": {},
          "execution_count": 87
        }
      ],
      "source": [
        "cars"
      ]
    },
    {
      "cell_type": "code",
      "execution_count": 88,
      "metadata": {
        "id": "iHstrbsF5_fl",
        "outputId": "de59a1e7-258b-4aa3-e580-ccff4067fc6e",
        "colab": {
          "base_uri": "https://localhost:8080/"
        }
      },
      "outputs": [
        {
          "output_type": "execute_result",
          "data": {
            "text/plain": [
              "['Tesla',\n",
              " 'Rivian',\n",
              " 'Faraday',\n",
              " 'Lucid',\n",
              " 'Polestar',\n",
              " 'Aptera Motors',\n",
              " 'BYD',\n",
              " 'VinFast',\n",
              " 'Nikola']"
            ]
          },
          "metadata": {},
          "execution_count": 88
        }
      ],
      "source": [
        "del cars[-1]\n",
        "cars"
      ]
    },
    {
      "cell_type": "code",
      "execution_count": 89,
      "metadata": {
        "scrolled": true,
        "id": "58Vem0Gf5_fl"
      },
      "outputs": [],
      "source": [
        "cars.remove('Lucid')"
      ]
    },
    {
      "cell_type": "code",
      "execution_count": 90,
      "metadata": {
        "id": "KqbEE9L85_fm",
        "outputId": "9299b934-7620-48cb-e2dc-1f7ec0a9ffeb",
        "colab": {
          "base_uri": "https://localhost:8080/"
        }
      },
      "outputs": [
        {
          "output_type": "execute_result",
          "data": {
            "text/plain": [
              "['Tesla',\n",
              " 'Rivian',\n",
              " 'Faraday',\n",
              " 'Polestar',\n",
              " 'Aptera Motors',\n",
              " 'BYD',\n",
              " 'VinFast',\n",
              " 'Nikola']"
            ]
          },
          "metadata": {},
          "execution_count": 90
        }
      ],
      "source": [
        "cars"
      ]
    },
    {
      "cell_type": "code",
      "execution_count": 91,
      "metadata": {
        "id": "T5bRpHZ95_fm",
        "outputId": "421a346c-9bf7-47a5-e294-47a235559605",
        "colab": {
          "base_uri": "https://localhost:8080/",
          "height": 35
        }
      },
      "outputs": [
        {
          "output_type": "execute_result",
          "data": {
            "text/plain": [
              "'Nikola'"
            ],
            "application/vnd.google.colaboratory.intrinsic+json": {
              "type": "string"
            }
          },
          "metadata": {},
          "execution_count": 91
        }
      ],
      "source": [
        "cars.pop() # last item by default"
      ]
    },
    {
      "cell_type": "code",
      "execution_count": 92,
      "metadata": {
        "id": "r5hLy_Jk5_fm",
        "outputId": "5402bb6b-4004-4e5d-9ee7-13e4fe9727cc",
        "colab": {
          "base_uri": "https://localhost:8080/"
        }
      },
      "outputs": [
        {
          "output_type": "execute_result",
          "data": {
            "text/plain": [
              "['Tesla', 'Rivian', 'Faraday', 'Polestar', 'Aptera Motors', 'BYD', 'VinFast']"
            ]
          },
          "metadata": {},
          "execution_count": 92
        }
      ],
      "source": [
        "cars"
      ]
    },
    {
      "cell_type": "code",
      "execution_count": 93,
      "metadata": {
        "id": "OTxnv7UJ5_fm",
        "outputId": "082d37aa-088e-4708-cf48-adf8bdbe59ee",
        "colab": {
          "base_uri": "https://localhost:8080/",
          "height": 35
        }
      },
      "outputs": [
        {
          "output_type": "execute_result",
          "data": {
            "text/plain": [
              "'Rivian'"
            ],
            "application/vnd.google.colaboratory.intrinsic+json": {
              "type": "string"
            }
          },
          "metadata": {},
          "execution_count": 93
        }
      ],
      "source": [
        "cars.pop(1) # pop() or remove the second item"
      ]
    },
    {
      "cell_type": "code",
      "execution_count": 94,
      "metadata": {
        "id": "3IFl9Iem5_fm",
        "outputId": "25d41dd0-6078-488b-af10-fa5bc873513b",
        "colab": {
          "base_uri": "https://localhost:8080/"
        }
      },
      "outputs": [
        {
          "output_type": "execute_result",
          "data": {
            "text/plain": [
              "['Tesla', 'Faraday', 'Polestar', 'Aptera Motors', 'BYD', 'VinFast']"
            ]
          },
          "metadata": {},
          "execution_count": 94
        }
      ],
      "source": [
        "cars"
      ]
    },
    {
      "cell_type": "markdown",
      "metadata": {
        "id": "pHCFWaxC5_fm"
      },
      "source": [
        "## Examining Lists (inspectors)\n",
        "* __`index(item)`__: return position of item\n",
        "* __`count(item)`__: count occurrences of item\n",
        "* __`in`__: test for membership"
      ]
    },
    {
      "cell_type": "code",
      "execution_count": 95,
      "metadata": {
        "id": "OvBy-WdI5_fm",
        "outputId": "1c0b1ade-a0dc-48f7-be2b-7300dd6f0f6b",
        "colab": {
          "base_uri": "https://localhost:8080/"
        }
      },
      "outputs": [
        {
          "output_type": "execute_result",
          "data": {
            "text/plain": [
              "['Tesla', 'Faraday', 'Polestar', 'Aptera Motors', 'BYD', 'VinFast']"
            ]
          },
          "metadata": {},
          "execution_count": 95
        }
      ],
      "source": [
        "cars"
      ]
    },
    {
      "cell_type": "code",
      "execution_count": 96,
      "metadata": {
        "id": "EgAJwVWO5_fm",
        "outputId": "8bf818e6-8212-405b-c22b-b01c46151ddd",
        "colab": {
          "base_uri": "https://localhost:8080/"
        }
      },
      "outputs": [
        {
          "output_type": "execute_result",
          "data": {
            "text/plain": [
              "2"
            ]
          },
          "metadata": {},
          "execution_count": 96
        }
      ],
      "source": [
        "cars.index('Polestar')"
      ]
    },
    {
      "cell_type": "code",
      "execution_count": 98,
      "metadata": {
        "id": "aQifqOoZ5_fm",
        "outputId": "5a676dbf-ab9d-420a-b233-670b707beaf6",
        "colab": {
          "base_uri": "https://localhost:8080/"
        }
      },
      "outputs": [
        {
          "output_type": "execute_result",
          "data": {
            "text/plain": [
              "False"
            ]
          },
          "metadata": {},
          "execution_count": 98
        }
      ],
      "source": [
        "'Nikola' in cars"
      ]
    },
    {
      "cell_type": "code",
      "execution_count": 99,
      "metadata": {
        "id": "ULxJPsQq5_fm"
      },
      "outputs": [],
      "source": [
        "for _ in range(10): # do something 10 times\n",
        "    cars.append('Nikola')"
      ]
    },
    {
      "cell_type": "code",
      "execution_count": 100,
      "metadata": {
        "id": "5SqPoh7I5_fm",
        "outputId": "138a9dcb-54de-41e8-d761-f6adca3cf983",
        "colab": {
          "base_uri": "https://localhost:8080/"
        }
      },
      "outputs": [
        {
          "output_type": "execute_result",
          "data": {
            "text/plain": [
              "['Tesla',\n",
              " 'Faraday',\n",
              " 'Polestar',\n",
              " 'Aptera Motors',\n",
              " 'BYD',\n",
              " 'VinFast',\n",
              " 'Nikola',\n",
              " 'Nikola',\n",
              " 'Nikola',\n",
              " 'Nikola',\n",
              " 'Nikola',\n",
              " 'Nikola',\n",
              " 'Nikola',\n",
              " 'Nikola',\n",
              " 'Nikola',\n",
              " 'Nikola']"
            ]
          },
          "metadata": {},
          "execution_count": 100
        }
      ],
      "source": [
        "cars"
      ]
    },
    {
      "cell_type": "code",
      "execution_count": 101,
      "metadata": {
        "id": "fv_gt1f85_fm",
        "outputId": "42464113-15b6-4740-e7c9-750154449d8b",
        "colab": {
          "base_uri": "https://localhost:8080/"
        }
      },
      "outputs": [
        {
          "output_type": "execute_result",
          "data": {
            "text/plain": [
              "10"
            ]
          },
          "metadata": {},
          "execution_count": 101
        }
      ],
      "source": [
        "cars.count('Nikola')"
      ]
    },
    {
      "cell_type": "code",
      "execution_count": 102,
      "metadata": {
        "id": "v2cy0wVT5_fm",
        "outputId": "43caa6cf-b6d8-4eb0-a83a-818f73de9981",
        "colab": {
          "base_uri": "https://localhost:8080/"
        }
      },
      "outputs": [
        {
          "output_type": "execute_result",
          "data": {
            "text/plain": [
              "['Tesla', 'Faraday', 'Polestar', 'Aptera Motors', 'BYD', 'VinFast']"
            ]
          },
          "metadata": {},
          "execution_count": 102
        }
      ],
      "source": [
        "while 'Nikola' in cars:\n",
        "    cars.remove('Nikola') # each call only removes one\n",
        "cars"
      ]
    },
    {
      "cell_type": "code",
      "execution_count": 103,
      "metadata": {
        "id": "furtdP_x5_fm",
        "outputId": "3675d32b-f59c-4214-85c2-d529f6e2be3d",
        "colab": {
          "base_uri": "https://localhost:8080/"
        }
      },
      "outputs": [
        {
          "output_type": "execute_result",
          "data": {
            "text/plain": [
              "['Tesla', 'Faraday', 'Polestar', 'Aptera Motors', 'BYD', 'VinFast']"
            ]
          },
          "metadata": {},
          "execution_count": 103
        }
      ],
      "source": [
        "for _ in range(cars.count('Nikola')): # do this 10 times\n",
        "    cars.remove('Nikola')\n",
        "cars"
      ]
    },
    {
      "cell_type": "markdown",
      "metadata": {
        "id": "cC6CzZZn5_fm"
      },
      "source": [
        "## __`join()/split()`__ ... redux"
      ]
    },
    {
      "cell_type": "code",
      "execution_count": 104,
      "metadata": {
        "id": "4F9-Jug_5_fn",
        "outputId": "092f86df-8f26-4a0b-d52f-5c915201c31b",
        "colab": {
          "base_uri": "https://localhost:8080/",
          "height": 35
        }
      },
      "outputs": [
        {
          "output_type": "execute_result",
          "data": {
            "text/plain": [
              "'Tesla, Faraday, Polestar, Aptera Motors, BYD, VinFast'"
            ],
            "application/vnd.google.colaboratory.intrinsic+json": {
              "type": "string"
            }
          },
          "metadata": {},
          "execution_count": 104
        }
      ],
      "source": [
        "joined = ', '.join(cars)\n",
        "joined # string which represents the \"joined\" items in the list"
      ]
    },
    {
      "cell_type": "code",
      "execution_count": 105,
      "metadata": {
        "id": "XEPimwF05_fn",
        "outputId": "fb2dc82c-ff0f-4724-faec-03cf8d026efc",
        "colab": {
          "base_uri": "https://localhost:8080/"
        }
      },
      "outputs": [
        {
          "output_type": "execute_result",
          "data": {
            "text/plain": [
              "['Tesla', 'Faraday', 'Polestar', 'Aptera Motors', 'BYD', 'VinFast']"
            ]
          },
          "metadata": {},
          "execution_count": 105
        }
      ],
      "source": [
        "unjoined = joined.split(', ')\n",
        "unjoined # split into a new list"
      ]
    },
    {
      "cell_type": "code",
      "execution_count": null,
      "metadata": {
        "id": "nJ5qbwVO5_fn",
        "outputId": "177ca435-f23f-4207-b1ef-448e2f7f4a3a"
      },
      "outputs": [
        {
          "data": {
            "text/plain": [
              "True"
            ]
          },
          "execution_count": 172,
          "metadata": {},
          "output_type": "execute_result"
        }
      ],
      "source": [
        "cars == unjoined # are they the same? (They should be...)"
      ]
    },
    {
      "cell_type": "markdown",
      "metadata": {
        "id": "wrSmt5L55_fn"
      },
      "source": [
        "## Sorting Lists\n",
        "* __`sorted()`__: _built-in function_ which returns a sorted list created\n",
        "from an iterable/sequence\n",
        "* __`sort()`__: _method_ to sort a list in place\n",
        "* __`len()`__: _built-in function_ which returns length of a list"
      ]
    },
    {
      "cell_type": "code",
      "execution_count": 106,
      "metadata": {
        "id": "1Q554Xv95_fn",
        "outputId": "a4d8ea6a-dcb2-49f1-9792-ee31b916002c",
        "colab": {
          "base_uri": "https://localhost:8080/"
        }
      },
      "outputs": [
        {
          "output_type": "execute_result",
          "data": {
            "text/plain": [
              "['Aptera Motors', 'BYD', 'Faraday', 'Polestar', 'Tesla', 'VinFast']"
            ]
          },
          "metadata": {},
          "execution_count": 106
        }
      ],
      "source": [
        "sorted(cars) # let's explain what this does"
      ]
    },
    {
      "cell_type": "code",
      "execution_count": 107,
      "metadata": {
        "id": "uz98dYeM5_fn",
        "outputId": "8bbaef5d-629e-445d-9ad5-c2d4ad07ef79",
        "colab": {
          "base_uri": "https://localhost:8080/"
        }
      },
      "outputs": [
        {
          "output_type": "execute_result",
          "data": {
            "text/plain": [
              "['Aptera Motors', 'BYD', 'Faraday', 'Polestar', 'Tesla', 'VinFast']"
            ]
          },
          "metadata": {},
          "execution_count": 107
        }
      ],
      "source": [
        "cars.sort() # vs. this\n",
        "cars"
      ]
    },
    {
      "cell_type": "code",
      "execution_count": 108,
      "metadata": {
        "id": "hzVpil8J5_fn",
        "outputId": "6eda9b15-7c41-4280-9c92-88651cba87b0",
        "colab": {
          "base_uri": "https://localhost:8080/"
        }
      },
      "outputs": [
        {
          "output_type": "execute_result",
          "data": {
            "text/plain": [
              "['VinFast', 'Tesla', 'Polestar', 'Faraday', 'BYD', 'Aptera Motors']"
            ]
          },
          "metadata": {},
          "execution_count": 108
        }
      ],
      "source": [
        "cars.sort(reverse=True)\n",
        "cars"
      ]
    },
    {
      "cell_type": "code",
      "execution_count": null,
      "metadata": {
        "scrolled": true,
        "id": "FUu_pu5z5_fn",
        "outputId": "f09e541a-a38d-4833-b570-ef373caa44f3"
      },
      "outputs": [
        {
          "name": "stdout",
          "output_type": "stream",
          "text": [
            "['Bollinger', 'Faraday', 'Lordstown', 'Rivian', 'Tesla']\n"
          ]
        }
      ],
      "source": [
        "# Is this correct?\n",
        "cars = sorted(cars) # cars.sort()\n",
        "print(cars)"
      ]
    },
    {
      "cell_type": "code",
      "execution_count": null,
      "metadata": {
        "id": "TRLqrsvT5_fn",
        "outputId": "7f905987-fae0-44e3-d033-e14ed9154961"
      },
      "outputs": [
        {
          "data": {
            "text/plain": [
              "['Bollinger', 'Faraday', 'Lordstown', 'Rivian', 'Tesla']"
            ]
          },
          "execution_count": 177,
          "metadata": {},
          "output_type": "execute_result"
        }
      ],
      "source": [
        "cars"
      ]
    },
    {
      "cell_type": "code",
      "execution_count": null,
      "metadata": {
        "id": "WBteym6w5_fn",
        "outputId": "89cd772e-4e6c-4cb2-ad10-95bdfc91e098"
      },
      "outputs": [
        {
          "name": "stdout",
          "output_type": "stream",
          "text": [
            "None\n"
          ]
        }
      ],
      "source": [
        "# What about this?\n",
        "cars = cars.sort() # cars.sort()\n",
        "print(cars)"
      ]
    },
    {
      "cell_type": "markdown",
      "metadata": {
        "id": "d9r98AIb5_fn"
      },
      "source": [
        "## Quick Lab: Lists\n",
        "* Write a program that asks the user to input two lists and then finds and prints the common elements between them\n",
        "<pre>\n",
        "Enter a list of items: <b>apple cherry banana lemon</b>\n",
        "Enter a second list of items: <b>apple guava banana lime</b>\n",
        "Common elements: apple banana"
      ]
    },
    {
      "cell_type": "markdown",
      "metadata": {
        "id": "IrwVH76l5_fn"
      },
      "source": [
        "## Group Lab: Lists\n",
        "* Write a Python program to maintain a list\n",
        "  * Read input until the user enters 'quit'\n",
        "  * Words that the user enters should be added to the list\n",
        "  * If a word begins with '-' (e.g., '-foo') it should be removed from the list\n",
        "  * If the user enters only a '-', the list should be reversed\n",
        "  * After each operation, print the list\n",
        "  * Extras:\n",
        "      * If user enters more than one word (e.g, __foo bar__), add \"foo\" and \"bar\" to the list, rather than \"foo bar\"\n",
        "      * Same for \"-\", i.e., __-foo bar__ would remove \"foo\" and \"bar\" from the  list"
      ]
    },
    {
      "cell_type": "code",
      "execution_count": null,
      "metadata": {
        "id": "xK5s5wRt5_fn"
      },
      "outputs": [],
      "source": []
    }
  ],
  "metadata": {
    "celltoolbar": "Slideshow",
    "kernelspec": {
      "display_name": "Python 3 (ipykernel)",
      "language": "python",
      "name": "python3"
    },
    "language_info": {
      "codemirror_mode": {
        "name": "ipython",
        "version": 3
      },
      "file_extension": ".py",
      "mimetype": "text/x-python",
      "name": "python",
      "nbconvert_exporter": "python",
      "pygments_lexer": "ipython3",
      "version": "3.12.5"
    },
    "colab": {
      "provenance": []
    }
  },
  "nbformat": 4,
  "nbformat_minor": 0
}